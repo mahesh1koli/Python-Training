{
 "cells": [
  {
   "cell_type": "code",
   "execution_count": 1,
   "id": "83fb077e-be6f-4d7a-99a6-3b6cf72189df",
   "metadata": {},
   "outputs": [],
   "source": [
    "a = 4"
   ]
  },
  {
   "cell_type": "code",
   "execution_count": 4,
   "id": "2fa8cc68-84a4-4b7d-b64e-acc0531b1842",
   "metadata": {},
   "outputs": [
    {
     "name": "stdout",
     "output_type": "stream",
     "text": [
      "4\n"
     ]
    }
   ],
   "source": [
    "print(a)"
   ]
  },
  {
   "cell_type": "code",
   "execution_count": 5,
   "id": "a6d479a8-dc08-4836-83ca-ca1d27bbbf8b",
   "metadata": {},
   "outputs": [
    {
     "data": {
      "text/plain": [
       "4"
      ]
     },
     "execution_count": 5,
     "metadata": {},
     "output_type": "execute_result"
    }
   ],
   "source": [
    "a"
   ]
  },
  {
   "cell_type": "code",
   "execution_count": 6,
   "id": "7cdadf25-0fc8-46ed-a282-d816968f0582",
   "metadata": {},
   "outputs": [
    {
     "data": {
      "text/plain": [
       "int"
      ]
     },
     "execution_count": 6,
     "metadata": {},
     "output_type": "execute_result"
    }
   ],
   "source": [
    "type(a)"
   ]
  },
  {
   "cell_type": "code",
   "execution_count": 7,
   "id": "0b55e062-386f-4630-ad8a-a080ccd14360",
   "metadata": {},
   "outputs": [],
   "source": [
    "b = 5.6677"
   ]
  },
  {
   "cell_type": "code",
   "execution_count": 8,
   "id": "95e33425-f590-4c2c-924f-7b34f8fe935b",
   "metadata": {},
   "outputs": [
    {
     "name": "stdout",
     "output_type": "stream",
     "text": [
      "5.6677\n"
     ]
    }
   ],
   "source": [
    "print(b)"
   ]
  },
  {
   "cell_type": "code",
   "execution_count": 9,
   "id": "a1706e20-7185-43e8-8e7a-98a8ae70d657",
   "metadata": {},
   "outputs": [
    {
     "data": {
      "text/plain": [
       "float"
      ]
     },
     "execution_count": 9,
     "metadata": {},
     "output_type": "execute_result"
    }
   ],
   "source": [
    "type(b)"
   ]
  },
  {
   "cell_type": "code",
   "execution_count": 10,
   "id": "0983591d-5ba3-4cdd-a31a-d763af12f184",
   "metadata": {},
   "outputs": [],
   "source": [
    "c = 2+3j"
   ]
  },
  {
   "cell_type": "code",
   "execution_count": 11,
   "id": "13990499-fb77-43be-86f9-aa69290876e1",
   "metadata": {},
   "outputs": [
    {
     "data": {
      "text/plain": [
       "complex"
      ]
     },
     "execution_count": 11,
     "metadata": {},
     "output_type": "execute_result"
    }
   ],
   "source": [
    "type(c)"
   ]
  },
  {
   "cell_type": "markdown",
   "id": "e5fdfcbb-91a6-4c5e-b838-248149b5f45e",
   "metadata": {},
   "source": [
    "### Python is dynamically typed which means it detects the data type automatically"
   ]
  },
  {
   "cell_type": "code",
   "execution_count": 12,
   "id": "8a0fc6d9-be90-4a67-84f2-048c90f28eba",
   "metadata": {},
   "outputs": [
    {
     "data": {
      "text/plain": [
       "4"
      ]
     },
     "execution_count": 12,
     "metadata": {},
     "output_type": "execute_result"
    }
   ],
   "source": [
    "a"
   ]
  },
  {
   "cell_type": "code",
   "execution_count": 13,
   "id": "ddcc285a-3654-4b5c-97c5-b18de817f1bb",
   "metadata": {},
   "outputs": [],
   "source": [
    "a = 3"
   ]
  },
  {
   "cell_type": "code",
   "execution_count": 14,
   "id": "29c01bde-a9e8-4293-bbce-04ce8f84e8ed",
   "metadata": {},
   "outputs": [
    {
     "data": {
      "text/plain": [
       "3"
      ]
     },
     "execution_count": 14,
     "metadata": {},
     "output_type": "execute_result"
    }
   ],
   "source": [
    "a"
   ]
  },
  {
   "cell_type": "markdown",
   "id": "f7f98367-ab7a-460b-8ad7-3854c83d37b6",
   "metadata": {},
   "source": [
    "### Type casting (Type conversion)"
   ]
  },
  {
   "cell_type": "markdown",
   "id": "ebc9d200-fd4a-45c2-8808-9ff329a576c8",
   "metadata": {},
   "source": [
    "##### int -> float\n",
    "##### float -> int\n",
    "##### complex -> int or float - not works\n"
   ]
  },
  {
   "cell_type": "code",
   "execution_count": 15,
   "id": "5f41e302-075a-446d-9eb5-11a224d760f2",
   "metadata": {},
   "outputs": [
    {
     "data": {
      "text/plain": [
       "int"
      ]
     },
     "execution_count": 15,
     "metadata": {},
     "output_type": "execute_result"
    }
   ],
   "source": [
    "type(5)"
   ]
  },
  {
   "cell_type": "code",
   "execution_count": 16,
   "id": "d795c656-58ba-4ed0-aaa9-a083faea5b75",
   "metadata": {},
   "outputs": [
    {
     "data": {
      "text/plain": [
       "float"
      ]
     },
     "execution_count": 16,
     "metadata": {},
     "output_type": "execute_result"
    }
   ],
   "source": [
    "type(24.433)"
   ]
  },
  {
   "cell_type": "code",
   "execution_count": 18,
   "id": "551bd819-a2df-45da-a94f-5d3525449dd8",
   "metadata": {},
   "outputs": [
    {
     "data": {
      "text/plain": [
       "complex"
      ]
     },
     "execution_count": 18,
     "metadata": {},
     "output_type": "execute_result"
    }
   ],
   "source": [
    "type(2+3j)"
   ]
  },
  {
   "cell_type": "code",
   "execution_count": 19,
   "id": "a12033e9-98e7-4b58-a085-59343da037a2",
   "metadata": {},
   "outputs": [
    {
     "data": {
      "text/plain": [
       "4"
      ]
     },
     "execution_count": 19,
     "metadata": {},
     "output_type": "execute_result"
    }
   ],
   "source": [
    "int(4.334)  # convert float to integer"
   ]
  },
  {
   "cell_type": "code",
   "execution_count": 20,
   "id": "ff5bd93f-0935-4646-9f88-3902495a8377",
   "metadata": {},
   "outputs": [
    {
     "data": {
      "text/plain": [
       "64.0"
      ]
     },
     "execution_count": 20,
     "metadata": {},
     "output_type": "execute_result"
    }
   ],
   "source": [
    "float(64)  # convert int to float"
   ]
  },
  {
   "cell_type": "code",
   "execution_count": 21,
   "id": "21c3dcec-c882-4dbf-b819-d07c1bda3224",
   "metadata": {},
   "outputs": [
    {
     "ename": "TypeError",
     "evalue": "int() argument must be a string, a bytes-like object or a real number, not 'complex'",
     "output_type": "error",
     "traceback": [
      "\u001b[31m---------------------------------------------------------------------------\u001b[39m",
      "\u001b[31mTypeError\u001b[39m                                 Traceback (most recent call last)",
      "\u001b[36mCell\u001b[39m\u001b[36m \u001b[39m\u001b[32mIn[21]\u001b[39m\u001b[32m, line 1\u001b[39m\n\u001b[32m----> \u001b[39m\u001b[32m1\u001b[39m \u001b[38;5;28;43mint\u001b[39;49m\u001b[43m(\u001b[49m\u001b[32;43m2\u001b[39;49m\u001b[43m+\u001b[49m\u001b[32;43m3\u001b[39;49m\u001b[43mj\u001b[49m\u001b[43m)\u001b[49m\n",
      "\u001b[31mTypeError\u001b[39m: int() argument must be a string, a bytes-like object or a real number, not 'complex'"
     ]
    }
   ],
   "source": [
    "int(2+3j)"
   ]
  },
  {
   "cell_type": "code",
   "execution_count": 22,
   "id": "0699c4a6-6bd5-47a5-96e6-fca741e5494b",
   "metadata": {},
   "outputs": [
    {
     "ename": "TypeError",
     "evalue": "float() argument must be a string or a real number, not 'complex'",
     "output_type": "error",
     "traceback": [
      "\u001b[31m---------------------------------------------------------------------------\u001b[39m",
      "\u001b[31mTypeError\u001b[39m                                 Traceback (most recent call last)",
      "\u001b[36mCell\u001b[39m\u001b[36m \u001b[39m\u001b[32mIn[22]\u001b[39m\u001b[32m, line 1\u001b[39m\n\u001b[32m----> \u001b[39m\u001b[32m1\u001b[39m \u001b[38;5;28;43mfloat\u001b[39;49m\u001b[43m(\u001b[49m\u001b[32;43m2\u001b[39;49m\u001b[43m+\u001b[49m\u001b[32;43m3\u001b[39;49m\u001b[43mj\u001b[49m\u001b[43m)\u001b[49m\n",
      "\u001b[31mTypeError\u001b[39m: float() argument must be a string or a real number, not 'complex'"
     ]
    }
   ],
   "source": [
    "float(2+3j)"
   ]
  },
  {
   "cell_type": "markdown",
   "id": "f057e862-dd64-4dd0-af61-1c6d3f8ee17f",
   "metadata": {},
   "source": [
    "##### Absolute - abs - ? always return positive numbers"
   ]
  },
  {
   "cell_type": "code",
   "execution_count": 23,
   "id": "5166cdc7-27ed-436e-8f84-2a246392fe92",
   "metadata": {},
   "outputs": [
    {
     "data": {
      "text/plain": [
       "224"
      ]
     },
     "execution_count": 23,
     "metadata": {},
     "output_type": "execute_result"
    }
   ],
   "source": [
    "abs(-224)"
   ]
  },
  {
   "cell_type": "markdown",
   "id": "2426d322-8022-4fc9-8351-f47e520115c3",
   "metadata": {},
   "source": [
    "#### Division"
   ]
  },
  {
   "cell_type": "code",
   "execution_count": 25,
   "id": "9c15f6d1-3e09-4891-aeac-5042eac4b79d",
   "metadata": {},
   "outputs": [
    {
     "data": {
      "text/plain": [
       "2.0"
      ]
     },
     "execution_count": 25,
     "metadata": {},
     "output_type": "execute_result"
    }
   ],
   "source": [
    "6 / 3  # / used to get quotient"
   ]
  },
  {
   "cell_type": "code",
   "execution_count": 28,
   "id": "a0371cc9-93e5-4d97-8f18-4cb0f6d9f558",
   "metadata": {},
   "outputs": [
    {
     "data": {
      "text/plain": [
       "0"
      ]
     },
     "execution_count": 28,
     "metadata": {},
     "output_type": "execute_result"
    }
   ],
   "source": [
    "6 % 3  # % used to get reminder"
   ]
  },
  {
   "cell_type": "code",
   "execution_count": 29,
   "id": "4a6f24cd-03c0-4dcd-9f03-906175be59a2",
   "metadata": {},
   "outputs": [
    {
     "data": {
      "text/plain": [
       "2"
      ]
     },
     "execution_count": 29,
     "metadata": {},
     "output_type": "execute_result"
    }
   ],
   "source": [
    "6 // 3 # used to get integer quotient"
   ]
  },
  {
   "cell_type": "markdown",
   "id": "162f1e09-4958-4dc0-a198-e33f58679516",
   "metadata": {},
   "source": [
    "### Memory management in python"
   ]
  },
  {
   "cell_type": "code",
   "execution_count": 30,
   "id": "abf8ec39-b3f6-4ceb-b7e6-3a42b544fe36",
   "metadata": {},
   "outputs": [],
   "source": [
    "a = 10"
   ]
  },
  {
   "cell_type": "code",
   "execution_count": 31,
   "id": "7db02a8d-9989-476f-a0bb-6296014d7928",
   "metadata": {},
   "outputs": [
    {
     "name": "stdout",
     "output_type": "stream",
     "text": [
      "10\n"
     ]
    }
   ],
   "source": [
    "print(a)"
   ]
  },
  {
   "cell_type": "code",
   "execution_count": 32,
   "id": "dd5ad7e9-9ad9-440e-bd69-551a07ed978a",
   "metadata": {},
   "outputs": [],
   "source": [
    "b = a"
   ]
  },
  {
   "cell_type": "code",
   "execution_count": 33,
   "id": "ff48acb8-6392-438c-95b4-a27729c4e470",
   "metadata": {},
   "outputs": [
    {
     "name": "stdout",
     "output_type": "stream",
     "text": [
      "10\n"
     ]
    }
   ],
   "source": [
    "print(b)"
   ]
  },
  {
   "cell_type": "code",
   "execution_count": 34,
   "id": "eaf9600c-6234-4764-9933-a3ae5069be65",
   "metadata": {},
   "outputs": [],
   "source": [
    "a = 56"
   ]
  },
  {
   "cell_type": "code",
   "execution_count": 35,
   "id": "396307bd-90f4-4a6b-afba-f7083a32dce1",
   "metadata": {},
   "outputs": [
    {
     "name": "stdout",
     "output_type": "stream",
     "text": [
      "56\n"
     ]
    }
   ],
   "source": [
    "print(a)"
   ]
  },
  {
   "cell_type": "code",
   "execution_count": 36,
   "id": "cd23c198-0165-48b9-8c9c-1e5beeb42231",
   "metadata": {},
   "outputs": [
    {
     "name": "stdout",
     "output_type": "stream",
     "text": [
      "10\n"
     ]
    }
   ],
   "source": [
    "print(b)"
   ]
  },
  {
   "cell_type": "code",
   "execution_count": 37,
   "id": "a9cf66f3-8be9-445f-9248-3ebad94eef8e",
   "metadata": {},
   "outputs": [],
   "source": [
    "b = a"
   ]
  },
  {
   "cell_type": "code",
   "execution_count": 38,
   "id": "efe4c22b-3f21-4df9-ae64-4ec50c16f067",
   "metadata": {},
   "outputs": [
    {
     "name": "stdout",
     "output_type": "stream",
     "text": [
      "56\n"
     ]
    }
   ],
   "source": [
    "print(b)"
   ]
  },
  {
   "cell_type": "markdown",
   "id": "007823cd-61d1-4dae-be7e-afd98ea4b57a",
   "metadata": {},
   "source": [
    "##### a and b refers to the same object"
   ]
  },
  {
   "cell_type": "markdown",
   "id": "69b99bba-1caf-4b0a-97eb-532c10ca985d",
   "metadata": {},
   "source": [
    "square root\n",
    "exponential \n",
    "log\n",
    "power (x ^ y)"
   ]
  },
  {
   "cell_type": "raw",
   "id": "490aaf3f-b664-41b1-adc5-513d1939d736",
   "metadata": {},
   "source": [
    "we have a module called 'math' in python\n",
    "To import any module, we use import command"
   ]
  },
  {
   "cell_type": "code",
   "execution_count": 39,
   "id": "f3db4c69-37c5-421d-8cee-4ebab6e57dc3",
   "metadata": {},
   "outputs": [
    {
     "ename": "NameError",
     "evalue": "name 'log' is not defined",
     "output_type": "error",
     "traceback": [
      "\u001b[31m---------------------------------------------------------------------------\u001b[39m",
      "\u001b[31mNameError\u001b[39m                                 Traceback (most recent call last)",
      "\u001b[36mCell\u001b[39m\u001b[36m \u001b[39m\u001b[32mIn[39]\u001b[39m\u001b[32m, line 1\u001b[39m\n\u001b[32m----> \u001b[39m\u001b[32m1\u001b[39m \u001b[43mlog\u001b[49m(\u001b[32m1\u001b[39m)\n",
      "\u001b[31mNameError\u001b[39m: name 'log' is not defined"
     ]
    }
   ],
   "source": [
    "log(1)"
   ]
  },
  {
   "cell_type": "code",
   "execution_count": 41,
   "id": "17304694-274e-4e5b-836b-4d917f0fb8d8",
   "metadata": {},
   "outputs": [],
   "source": [
    "import math"
   ]
  },
  {
   "cell_type": "raw",
   "id": "82165e1c-aabb-4b37-9bc0-88625d2a0e8b",
   "metadata": {},
   "source": [
    "Module is a collection of functions/methods"
   ]
  },
  {
   "cell_type": "code",
   "execution_count": 42,
   "id": "24fcd585-f411-4337-8421-e657902ea714",
   "metadata": {},
   "outputs": [
    {
     "data": {
      "text/plain": [
       "0.0"
      ]
     },
     "execution_count": 42,
     "metadata": {},
     "output_type": "execute_result"
    }
   ],
   "source": [
    "math.log(1)"
   ]
  },
  {
   "cell_type": "code",
   "execution_count": 43,
   "id": "38c22a07-65be-4c97-a078-e90bedd7b92a",
   "metadata": {},
   "outputs": [
    {
     "data": {
      "text/plain": [
       "2.0"
      ]
     },
     "execution_count": 43,
     "metadata": {},
     "output_type": "execute_result"
    }
   ],
   "source": [
    "math.sqrt(4)"
   ]
  },
  {
   "cell_type": "code",
   "execution_count": 44,
   "id": "9288e00e-bde6-478e-b7dd-c167bf48677b",
   "metadata": {},
   "outputs": [
    {
     "data": {
      "text/plain": [
       "9.9498743710662"
      ]
     },
     "execution_count": 44,
     "metadata": {},
     "output_type": "execute_result"
    }
   ],
   "source": [
    "math.sqrt(99)"
   ]
  },
  {
   "cell_type": "code",
   "execution_count": 45,
   "id": "7d5a87d9-df57-4bc7-aa60-1725ad2e98d5",
   "metadata": {},
   "outputs": [
    {
     "data": {
      "text/plain": [
       "22026.465794806718"
      ]
     },
     "execution_count": 45,
     "metadata": {},
     "output_type": "execute_result"
    }
   ],
   "source": [
    "math.exp(10)"
   ]
  },
  {
   "cell_type": "code",
   "execution_count": 46,
   "id": "58a6ea77-ac3c-42ae-a876-dc8986dc5a5b",
   "metadata": {},
   "outputs": [
    {
     "data": {
      "text/plain": [
       "8.0"
      ]
     },
     "execution_count": 46,
     "metadata": {},
     "output_type": "execute_result"
    }
   ],
   "source": [
    "math.pow(2,3)"
   ]
  },
  {
   "cell_type": "markdown",
   "id": "320d0b59-1d78-444d-baa6-fbf96a0d25d6",
   "metadata": {},
   "source": [
    "### Variables"
   ]
  },
  {
   "cell_type": "markdown",
   "id": "b3a90eff-a866-446d-94fd-fd6b6dd9e798",
   "metadata": {},
   "source": [
    "Rules:\n",
    "1. Start with letter or _ character\n",
    "2. Case Sensitive\n",
    "3. Should not start with numbers\n",
    "4. A-z, 0-9 and _ characters are allowed\n",
    "5. Python default keywords not allowed as a character - Standard Rule\n"
   ]
  },
  {
   "cell_type": "code",
   "execution_count": 1,
   "id": "6a7b50c6-e233-4dc3-8c8d-787672effe59",
   "metadata": {},
   "outputs": [
    {
     "ename": "SyntaxError",
     "evalue": "invalid decimal literal (1590746202.py, line 1)",
     "output_type": "error",
     "traceback": [
      "  \u001b[36mCell\u001b[39m\u001b[36m \u001b[39m\u001b[32mIn[1]\u001b[39m\u001b[32m, line 1\u001b[39m\n\u001b[31m    \u001b[39m\u001b[31m1a = 5\u001b[39m\n    ^\n\u001b[31mSyntaxError\u001b[39m\u001b[31m:\u001b[39m invalid decimal literal\n"
     ]
    }
   ],
   "source": [
    "1a = 5"
   ]
  },
  {
   "cell_type": "code",
   "execution_count": 2,
   "id": "a2e8bcdf-a2dc-461f-bea6-bc3ebc83e583",
   "metadata": {},
   "outputs": [
    {
     "name": "stderr",
     "output_type": "stream",
     "text": [
      "UsageError: Line magic function `%ad` not found.\n"
     ]
    }
   ],
   "source": [
    "%ad = \"hello\""
   ]
  },
  {
   "cell_type": "code",
   "execution_count": 3,
   "id": "ffdc4818-ad63-4368-811f-db1ed16516e0",
   "metadata": {},
   "outputs": [],
   "source": [
    "_abc = 134"
   ]
  },
  {
   "cell_type": "code",
   "execution_count": 4,
   "id": "33979832-bafa-4282-b2b4-898ae4ffc5bb",
   "metadata": {},
   "outputs": [
    {
     "data": {
      "text/plain": [
       "134"
      ]
     },
     "execution_count": 4,
     "metadata": {},
     "output_type": "execute_result"
    }
   ],
   "source": [
    "_abc"
   ]
  },
  {
   "cell_type": "code",
   "execution_count": 5,
   "id": "6497ecb5-a1d1-439f-a4d5-9049091fcda9",
   "metadata": {},
   "outputs": [],
   "source": [
    "a = 56"
   ]
  },
  {
   "cell_type": "code",
   "execution_count": 6,
   "id": "4496dd61-3dec-4d4b-b372-2e30d393a69b",
   "metadata": {},
   "outputs": [],
   "source": [
    "A = 135"
   ]
  },
  {
   "cell_type": "code",
   "execution_count": 7,
   "id": "48e9c6a5-3416-4e4b-92d7-2eeed5a3aebd",
   "metadata": {},
   "outputs": [
    {
     "name": "stdout",
     "output_type": "stream",
     "text": [
      "56\n"
     ]
    }
   ],
   "source": [
    "print(a)"
   ]
  },
  {
   "cell_type": "code",
   "execution_count": 8,
   "id": "89ec20d0-8269-4043-b495-5fb92e2009f7",
   "metadata": {},
   "outputs": [
    {
     "name": "stdout",
     "output_type": "stream",
     "text": [
      "135\n"
     ]
    }
   ],
   "source": [
    "print(A)"
   ]
  },
  {
   "cell_type": "markdown",
   "id": "9539aae1-6aac-45f0-9430-64ec1efe37c9",
   "metadata": {},
   "source": [
    "Global Varibles - the variables are available across the program\n",
    "Local variables - are availble inside the function (_a)"
   ]
  },
  {
   "cell_type": "markdown",
   "id": "fea7bd54-1cdc-4f2c-8293-433f1308f195",
   "metadata": {},
   "source": [
    "### Strings"
   ]
  },
  {
   "cell_type": "code",
   "execution_count": 9,
   "id": "73a06ae3-5ccc-4571-8f90-c843b7446259",
   "metadata": {},
   "outputs": [],
   "source": [
    "# String ? Alpha numeric characters considered as a string\n",
    "# String will be declared always either in \" \" or ' '"
   ]
  },
  {
   "cell_type": "code",
   "execution_count": 10,
   "id": "4bd765e8-b9c8-4dcb-9363-a807c058f6e7",
   "metadata": {},
   "outputs": [],
   "source": [
    "x = 5"
   ]
  },
  {
   "cell_type": "code",
   "execution_count": 11,
   "id": "1c948892-67d9-482a-919f-5bbc166677b2",
   "metadata": {},
   "outputs": [
    {
     "data": {
      "text/plain": [
       "int"
      ]
     },
     "execution_count": 11,
     "metadata": {},
     "output_type": "execute_result"
    }
   ],
   "source": [
    "type(x)"
   ]
  },
  {
   "cell_type": "code",
   "execution_count": 12,
   "id": "0e38e659-484a-427c-95cd-ef0ca2bc436e",
   "metadata": {},
   "outputs": [],
   "source": [
    "x = \"hello\""
   ]
  },
  {
   "cell_type": "code",
   "execution_count": 13,
   "id": "cd9b6b92-d66d-4db2-81ec-3a4585326f94",
   "metadata": {},
   "outputs": [
    {
     "data": {
      "text/plain": [
       "str"
      ]
     },
     "execution_count": 13,
     "metadata": {},
     "output_type": "execute_result"
    }
   ],
   "source": [
    "type(x)"
   ]
  },
  {
   "cell_type": "code",
   "execution_count": 14,
   "id": "77139f4a-563a-4fb6-8b7d-6d097fc29ce2",
   "metadata": {},
   "outputs": [],
   "source": [
    "y = 'hello'"
   ]
  },
  {
   "cell_type": "code",
   "execution_count": 15,
   "id": "eeef979a-53b5-44b6-a724-4aec2f8ab24b",
   "metadata": {},
   "outputs": [
    {
     "data": {
      "text/plain": [
       "str"
      ]
     },
     "execution_count": 15,
     "metadata": {},
     "output_type": "execute_result"
    }
   ],
   "source": [
    "type(y)"
   ]
  },
  {
   "cell_type": "code",
   "execution_count": 16,
   "id": "b58192b5-0318-4c90-bb35-2f2b4203e5be",
   "metadata": {},
   "outputs": [],
   "source": [
    "z = '5'"
   ]
  },
  {
   "cell_type": "code",
   "execution_count": 17,
   "id": "7af63a66-6261-4011-ac2f-c7d7636becc2",
   "metadata": {},
   "outputs": [
    {
     "data": {
      "text/plain": [
       "str"
      ]
     },
     "execution_count": 17,
     "metadata": {},
     "output_type": "execute_result"
    }
   ],
   "source": [
    "type(z)"
   ]
  },
  {
   "cell_type": "code",
   "execution_count": 18,
   "id": "e8ad1c40-7e9b-4f15-bf38-1c7146dec166",
   "metadata": {},
   "outputs": [],
   "source": [
    "alpha = \"5.666\""
   ]
  },
  {
   "cell_type": "code",
   "execution_count": 19,
   "id": "7de139ce-4c90-4002-8167-d96fbb1cf768",
   "metadata": {},
   "outputs": [
    {
     "data": {
      "text/plain": [
       "str"
      ]
     },
     "execution_count": 19,
     "metadata": {},
     "output_type": "execute_result"
    }
   ],
   "source": [
    "type(alpha)"
   ]
  },
  {
   "cell_type": "markdown",
   "id": "6028f331-a6c7-4482-ab54-9e987ec51d02",
   "metadata": {},
   "source": [
    "### String Methods"
   ]
  },
  {
   "cell_type": "code",
   "execution_count": 20,
   "id": "d86ba6e7-4ea6-4d9d-bbd9-89a629c1aa05",
   "metadata": {},
   "outputs": [],
   "source": [
    "# Concatenation (+)"
   ]
  },
  {
   "cell_type": "code",
   "execution_count": 21,
   "id": "0abb5133-8518-47f6-b12f-962d2ff69e83",
   "metadata": {},
   "outputs": [
    {
     "data": {
      "text/plain": [
       "'hihow are you'"
      ]
     },
     "execution_count": 21,
     "metadata": {},
     "output_type": "execute_result"
    }
   ],
   "source": [
    "\"hi\" + \"how are you\""
   ]
  },
  {
   "cell_type": "code",
   "execution_count": 22,
   "id": "487f32cd-8e73-48de-84e0-f33582db5167",
   "metadata": {},
   "outputs": [
    {
     "data": {
      "text/plain": [
       "'abcd'"
      ]
     },
     "execution_count": 22,
     "metadata": {},
     "output_type": "execute_result"
    }
   ],
   "source": [
    "\"ab\" + \"cd\""
   ]
  },
  {
   "cell_type": "code",
   "execution_count": 23,
   "id": "f1012328-6939-4a16-a0e2-86723db5a012",
   "metadata": {},
   "outputs": [],
   "source": [
    "# Repetition (*)"
   ]
  },
  {
   "cell_type": "code",
   "execution_count": 24,
   "id": "05e82260-5b97-435f-a3ad-ad6dddeb9cdb",
   "metadata": {},
   "outputs": [
    {
     "data": {
      "text/plain": [
       "'srisrisrisrisrisrisrisrisrisri'"
      ]
     },
     "execution_count": 24,
     "metadata": {},
     "output_type": "execute_result"
    }
   ],
   "source": [
    "\"sri\"*10"
   ]
  },
  {
   "cell_type": "code",
   "execution_count": 25,
   "id": "e03c15fd-3361-498a-af36-dd8da1058cfb",
   "metadata": {},
   "outputs": [],
   "source": [
    "# Indexing ( +ve ) and ( -ve )"
   ]
  },
  {
   "cell_type": "code",
   "execution_count": 26,
   "id": "e803e0b8-a411-482b-adf7-55502eca9003",
   "metadata": {},
   "outputs": [],
   "source": [
    "# Positive Index starts with 0"
   ]
  },
  {
   "cell_type": "code",
   "execution_count": 27,
   "id": "190ae1c2-8e7e-49d1-b153-af27fe10a5d6",
   "metadata": {},
   "outputs": [
    {
     "data": {
      "text/plain": [
       "'s'"
      ]
     },
     "execution_count": 27,
     "metadata": {},
     "output_type": "execute_result"
    }
   ],
   "source": [
    "\"suryam\"[0]"
   ]
  },
  {
   "cell_type": "code",
   "execution_count": 28,
   "id": "bc896228-397d-4bf3-8b0a-887704877a20",
   "metadata": {},
   "outputs": [
    {
     "data": {
      "text/plain": [
       "'m'"
      ]
     },
     "execution_count": 28,
     "metadata": {},
     "output_type": "execute_result"
    }
   ],
   "source": [
    "\"suryam\"[5]"
   ]
  },
  {
   "cell_type": "code",
   "execution_count": 29,
   "id": "ceff31df-0b6c-41b1-a1d7-6191f8b7b368",
   "metadata": {},
   "outputs": [
    {
     "data": {
      "text/plain": [
       "'y'"
      ]
     },
     "execution_count": 29,
     "metadata": {},
     "output_type": "execute_result"
    }
   ],
   "source": [
    "\"extraordinary\"[12]"
   ]
  },
  {
   "cell_type": "code",
   "execution_count": 30,
   "id": "fc5d4cb0-cff6-4628-b873-3fba1c4b482c",
   "metadata": {},
   "outputs": [
    {
     "data": {
      "text/plain": [
       "'o'"
      ]
     },
     "execution_count": 30,
     "metadata": {},
     "output_type": "execute_result"
    }
   ],
   "source": [
    "\"extraordinary\"[5]"
   ]
  },
  {
   "cell_type": "code",
   "execution_count": 31,
   "id": "923d5ed3-059f-492f-b369-cbdb9521ef7c",
   "metadata": {},
   "outputs": [],
   "source": [
    "# -ve index starts with -1 at the end"
   ]
  },
  {
   "cell_type": "code",
   "execution_count": 32,
   "id": "a53292e6-91cb-46ea-b716-fccebc9fa0b5",
   "metadata": {},
   "outputs": [
    {
     "data": {
      "text/plain": [
       "'l'"
      ]
     },
     "execution_count": 32,
     "metadata": {},
     "output_type": "execute_result"
    }
   ],
   "source": [
    "\"critical\"[-1]"
   ]
  },
  {
   "cell_type": "code",
   "execution_count": 35,
   "id": "df703078-b88e-48ee-a26c-5ecb37a05add",
   "metadata": {},
   "outputs": [
    {
     "name": "stderr",
     "output_type": "stream",
     "text": [
      "<>:1: SyntaxWarning: 'str' object is not callable; perhaps you missed a comma?\n",
      "<>:1: SyntaxWarning: 'str' object is not callable; perhaps you missed a comma?\n",
      "C:\\Users\\mahes\\AppData\\Local\\Temp\\ipykernel_22108\\1963580000.py:1: SyntaxWarning: 'str' object is not callable; perhaps you missed a comma?\n",
      "  \"critical\"(-1)\n"
     ]
    },
    {
     "ename": "TypeError",
     "evalue": "'str' object is not callable",
     "output_type": "error",
     "traceback": [
      "\u001b[31m---------------------------------------------------------------------------\u001b[39m",
      "\u001b[31mTypeError\u001b[39m                                 Traceback (most recent call last)",
      "\u001b[36mCell\u001b[39m\u001b[36m \u001b[39m\u001b[32mIn[35]\u001b[39m\u001b[32m, line 1\u001b[39m\n\u001b[32m----> \u001b[39m\u001b[32m1\u001b[39m \u001b[33;43m\"\u001b[39;49m\u001b[33;43mcritical\u001b[39;49m\u001b[33;43m\"\u001b[39;49m\u001b[43m(\u001b[49m\u001b[43m-\u001b[49m\u001b[32;43m1\u001b[39;49m\u001b[43m)\u001b[49m\n",
      "\u001b[31mTypeError\u001b[39m: 'str' object is not callable"
     ]
    }
   ],
   "source": [
    "\"critical\"(-1)"
   ]
  },
  {
   "cell_type": "code",
   "execution_count": 36,
   "id": "b9a6309f-c010-4058-99a4-a6b24274a7e7",
   "metadata": {},
   "outputs": [
    {
     "data": {
      "text/plain": [
       "'i'"
      ]
     },
     "execution_count": 36,
     "metadata": {},
     "output_type": "execute_result"
    }
   ],
   "source": [
    "\"critical\"[-4]"
   ]
  },
  {
   "cell_type": "code",
   "execution_count": 37,
   "id": "780e8156-cc04-484e-91a0-85e828c76b61",
   "metadata": {},
   "outputs": [
    {
     "data": {
      "text/plain": [
       "'i'"
      ]
     },
     "execution_count": 37,
     "metadata": {},
     "output_type": "execute_result"
    }
   ],
   "source": [
    "\"critical\"[-6]"
   ]
  },
  {
   "cell_type": "code",
   "execution_count": 38,
   "id": "97b1261f-b17c-417f-b1b4-2bb27f2a5c21",
   "metadata": {},
   "outputs": [
    {
     "data": {
      "text/plain": [
       "'r'"
      ]
     },
     "execution_count": 38,
     "metadata": {},
     "output_type": "execute_result"
    }
   ],
   "source": [
    "\"critical\"[-7]"
   ]
  },
  {
   "cell_type": "code",
   "execution_count": 40,
   "id": "65d68623-b384-4bae-bcb1-e1712d499a6e",
   "metadata": {},
   "outputs": [],
   "source": [
    "# Slicing - start index : end index - 1 : step_size"
   ]
  },
  {
   "cell_type": "code",
   "execution_count": 41,
   "id": "73153a39-2578-4266-8b3f-01ee1477b7b4",
   "metadata": {},
   "outputs": [
    {
     "data": {
      "text/plain": [
       "'think'"
      ]
     },
     "execution_count": 41,
     "metadata": {},
     "output_type": "execute_result"
    }
   ],
   "source": [
    "\"thinking\"[0:5]"
   ]
  },
  {
   "cell_type": "code",
   "execution_count": 42,
   "id": "c0007915-0055-469c-a900-66ecdc47f5f1",
   "metadata": {},
   "outputs": [
    {
     "data": {
      "text/plain": [
       "'thin'"
      ]
     },
     "execution_count": 42,
     "metadata": {},
     "output_type": "execute_result"
    }
   ],
   "source": [
    "\"thinking\"[0:4]"
   ]
  },
  {
   "cell_type": "code",
   "execution_count": 43,
   "id": "94d894ca-a63b-4f77-8ce3-1275e4a5581e",
   "metadata": {},
   "outputs": [
    {
     "data": {
      "text/plain": [
       "'think'"
      ]
     },
     "execution_count": 43,
     "metadata": {},
     "output_type": "execute_result"
    }
   ],
   "source": [
    "\"thinking\"[-8:-3]"
   ]
  },
  {
   "cell_type": "code",
   "execution_count": 44,
   "id": "7cfceeed-74b1-441a-817f-ccbac9ffef73",
   "metadata": {},
   "outputs": [
    {
     "data": {
      "text/plain": [
       "'thinki'"
      ]
     },
     "execution_count": 44,
     "metadata": {},
     "output_type": "execute_result"
    }
   ],
   "source": [
    "\"thinking\"[-8:-2]"
   ]
  },
  {
   "cell_type": "code",
   "execution_count": 45,
   "id": "c5ecf82a-6525-49f3-9944-137406387a08",
   "metadata": {},
   "outputs": [
    {
     "data": {
      "text/plain": [
       "'k'"
      ]
     },
     "execution_count": 45,
     "metadata": {},
     "output_type": "execute_result"
    }
   ],
   "source": [
    "\"thinking\"[-4]"
   ]
  },
  {
   "cell_type": "code",
   "execution_count": 46,
   "id": "e7ead35b-9838-4d54-96bd-cbc892e6ce47",
   "metadata": {},
   "outputs": [
    {
     "data": {
      "text/plain": [
       "''"
      ]
     },
     "execution_count": 46,
     "metadata": {},
     "output_type": "execute_result"
    }
   ],
   "source": [
    "\"thinking\"[-4:0]"
   ]
  },
  {
   "cell_type": "code",
   "execution_count": 47,
   "id": "1f8f1431-a6a3-43a7-939b-b92ddd09766e",
   "metadata": {},
   "outputs": [
    {
     "data": {
      "text/plain": [
       "'king'"
      ]
     },
     "execution_count": 47,
     "metadata": {},
     "output_type": "execute_result"
    }
   ],
   "source": [
    "\"thinking\"[-4:]"
   ]
  },
  {
   "cell_type": "code",
   "execution_count": 48,
   "id": "345c9366-9ccb-47ae-a396-40cbe8e77f02",
   "metadata": {},
   "outputs": [
    {
     "data": {
      "text/plain": [
       "'kin'"
      ]
     },
     "execution_count": 48,
     "metadata": {},
     "output_type": "execute_result"
    }
   ],
   "source": [
    "\"thinking\"[-4:-1]"
   ]
  },
  {
   "cell_type": "code",
   "execution_count": 52,
   "id": "4a8e5713-bede-443f-830f-2b0910cd4269",
   "metadata": {},
   "outputs": [
    {
     "data": {
      "text/plain": [
       "'think'"
      ]
     },
     "execution_count": 52,
     "metadata": {},
     "output_type": "execute_result"
    }
   ],
   "source": [
    "\"thinking\"[:-3]"
   ]
  },
  {
   "cell_type": "code",
   "execution_count": 53,
   "id": "affd2071-d9a0-453d-a8c8-fb39742f098f",
   "metadata": {},
   "outputs": [
    {
     "data": {
      "text/plain": [
       "'thinking'"
      ]
     },
     "execution_count": 53,
     "metadata": {},
     "output_type": "execute_result"
    }
   ],
   "source": [
    "\"thinking\"[:]"
   ]
  },
  {
   "cell_type": "code",
   "execution_count": 55,
   "id": "a048a23c-c66e-4049-84ed-71c8dfb5442c",
   "metadata": {},
   "outputs": [
    {
     "data": {
      "text/plain": [
       "'tikn'"
      ]
     },
     "execution_count": 55,
     "metadata": {},
     "output_type": "execute_result"
    }
   ],
   "source": [
    "\"thinking\"[::2]\n",
    "# t i k n\""
   ]
  },
  {
   "cell_type": "code",
   "execution_count": 56,
   "id": "f2e161fa-f4c5-4409-a43f-36b48b4ab53c",
   "metadata": {},
   "outputs": [
    {
     "data": {
      "text/plain": [
       "'tnn'"
      ]
     },
     "execution_count": 56,
     "metadata": {},
     "output_type": "execute_result"
    }
   ],
   "source": [
    "\"thinking\"[::3]"
   ]
  },
  {
   "cell_type": "code",
   "execution_count": 57,
   "id": "156a52db-a743-40fc-950f-81c45d41cb14",
   "metadata": {},
   "outputs": [
    {
     "data": {
      "text/plain": [
       "8"
      ]
     },
     "execution_count": 57,
     "metadata": {},
     "output_type": "execute_result"
    }
   ],
   "source": [
    "len(\"thinking\")"
   ]
  },
  {
   "cell_type": "code",
   "execution_count": 58,
   "id": "d2bd978b-f738-43dc-8be0-30ccf4d2bd21",
   "metadata": {},
   "outputs": [
    {
     "data": {
      "text/plain": [
       "True"
      ]
     },
     "execution_count": 58,
     "metadata": {},
     "output_type": "execute_result"
    }
   ],
   "source": [
    "\"h\" < \"i\" # Not used mostly"
   ]
  },
  {
   "cell_type": "code",
   "execution_count": 59,
   "id": "70ee682e-bb0f-49af-9c84-f7021fbcd921",
   "metadata": {},
   "outputs": [
    {
     "data": {
      "text/plain": [
       "True"
      ]
     },
     "execution_count": 59,
     "metadata": {},
     "output_type": "execute_result"
    }
   ],
   "source": [
    "\"i\" in \"thinking\"  # search"
   ]
  },
  {
   "cell_type": "code",
   "execution_count": 60,
   "id": "fca08a19-6974-4478-9e94-83f2b976ef64",
   "metadata": {},
   "outputs": [
    {
     "data": {
      "text/plain": [
       "False"
      ]
     },
     "execution_count": 60,
     "metadata": {},
     "output_type": "execute_result"
    }
   ],
   "source": [
    "\"x\" in \"thinking\"  # search"
   ]
  },
  {
   "cell_type": "code",
   "execution_count": 63,
   "id": "447acb13-f9e4-4a03-b634-48e185667bf4",
   "metadata": {},
   "outputs": [
    {
     "data": {
      "text/plain": [
       "''"
      ]
     },
     "execution_count": 63,
     "metadata": {},
     "output_type": "execute_result"
    }
   ],
   "source": [
    "# Reverse a string\n",
    "\"cucumber\"[8:]\n",
    "#rebmucuc\""
   ]
  },
  {
   "cell_type": "code",
   "execution_count": 64,
   "id": "5758c72f-516c-404b-82e6-57e49cfc3703",
   "metadata": {},
   "outputs": [
    {
     "data": {
      "text/plain": [
       "'rebmucuc'"
      ]
     },
     "execution_count": 64,
     "metadata": {},
     "output_type": "execute_result"
    }
   ],
   "source": [
    "\"cucumber\"[::-1]"
   ]
  },
  {
   "cell_type": "code",
   "execution_count": 65,
   "id": "706f92ff-b295-4bac-b00d-f8b948856a99",
   "metadata": {},
   "outputs": [
    {
     "data": {
      "text/plain": [
       "'aibmoz'"
      ]
     },
     "execution_count": 65,
     "metadata": {},
     "output_type": "execute_result"
    }
   ],
   "source": [
    "\"zombia\"[::-1]"
   ]
  },
  {
   "cell_type": "markdown",
   "id": "8a00e06d-f470-4bcc-9908-cefb5ad5fa2a",
   "metadata": {},
   "source": [
    "### String Methods"
   ]
  },
  {
   "cell_type": "code",
   "execution_count": 1,
   "id": "e572972a-c306-4581-8221-ef72d843f12f",
   "metadata": {},
   "outputs": [],
   "source": [
    "# Syntax\n",
    "# Lower case\n",
    "# \"any_string\".lower()"
   ]
  },
  {
   "cell_type": "code",
   "execution_count": 2,
   "id": "23a3d5bf-5ae1-4dff-82db-8588ccd8b723",
   "metadata": {},
   "outputs": [
    {
     "data": {
      "text/plain": [
       "'python'"
      ]
     },
     "execution_count": 2,
     "metadata": {},
     "output_type": "execute_result"
    }
   ],
   "source": [
    "\"PYTHON\".lower()"
   ]
  },
  {
   "cell_type": "code",
   "execution_count": 3,
   "id": "6ddcd4ba-44df-42df-b7f1-2ba0911c3c6e",
   "metadata": {},
   "outputs": [
    {
     "data": {
      "text/plain": [
       "'python'"
      ]
     },
     "execution_count": 3,
     "metadata": {},
     "output_type": "execute_result"
    }
   ],
   "source": [
    "\"python\".lower()"
   ]
  },
  {
   "cell_type": "code",
   "execution_count": 4,
   "id": "8d0cf1e1-2ca9-45bb-a5a0-28ad973c0b3a",
   "metadata": {},
   "outputs": [
    {
     "data": {
      "text/plain": [
       "'python'"
      ]
     },
     "execution_count": 4,
     "metadata": {},
     "output_type": "execute_result"
    }
   ],
   "source": [
    "\"PyThon\".lower()"
   ]
  },
  {
   "cell_type": "code",
   "execution_count": 5,
   "id": "da61230a-3172-4d36-9572-59e788ca705a",
   "metadata": {},
   "outputs": [],
   "source": [
    "# Syntax\n",
    "# Upper case\n",
    "# \"any_string\".upper()"
   ]
  },
  {
   "cell_type": "code",
   "execution_count": 6,
   "id": "cae267bd-e0c0-425c-8a47-d52fb56efd90",
   "metadata": {},
   "outputs": [
    {
     "data": {
      "text/plain": [
       "'WELCOME'"
      ]
     },
     "execution_count": 6,
     "metadata": {},
     "output_type": "execute_result"
    }
   ],
   "source": [
    "\"WELCOME\".upper()"
   ]
  },
  {
   "cell_type": "code",
   "execution_count": 7,
   "id": "dfea1e8a-b7aa-49af-b421-687439e0e3c2",
   "metadata": {},
   "outputs": [
    {
     "data": {
      "text/plain": [
       "'WELCOME'"
      ]
     },
     "execution_count": 7,
     "metadata": {},
     "output_type": "execute_result"
    }
   ],
   "source": [
    "\"welcome\".upper()"
   ]
  },
  {
   "cell_type": "code",
   "execution_count": 8,
   "id": "84455957-a7bc-4794-9a6d-1c82a0a4ad4b",
   "metadata": {},
   "outputs": [
    {
     "data": {
      "text/plain": [
       "'WELCOME'"
      ]
     },
     "execution_count": 8,
     "metadata": {},
     "output_type": "execute_result"
    }
   ],
   "source": [
    "\"WeLCoME\".upper()"
   ]
  },
  {
   "cell_type": "code",
   "execution_count": 13,
   "id": "afb90229-2a2b-4eaf-bee6-9655b31259a7",
   "metadata": {},
   "outputs": [
    {
     "data": {
      "text/plain": [
       "0"
      ]
     },
     "execution_count": 13,
     "metadata": {},
     "output_type": "execute_result"
    }
   ],
   "source": [
    "\"welcome\".count('5')"
   ]
  },
  {
   "cell_type": "code",
   "execution_count": 14,
   "id": "3f6eeb54-be6b-48c0-a795-8ae3608362ea",
   "metadata": {},
   "outputs": [
    {
     "data": {
      "text/plain": [
       "3"
      ]
     },
     "execution_count": 14,
     "metadata": {},
     "output_type": "execute_result"
    }
   ],
   "source": [
    "\"Welcome to python class\".count('o')"
   ]
  },
  {
   "cell_type": "code",
   "execution_count": 15,
   "id": "c66d8d3e-6104-40e3-bbb2-3da6dd9c9b93",
   "metadata": {},
   "outputs": [
    {
     "data": {
      "text/plain": [
       "'Hello, welcome'"
      ]
     },
     "execution_count": 15,
     "metadata": {},
     "output_type": "execute_result"
    }
   ],
   "source": [
    "\"hello, welcome\".capitalize()"
   ]
  },
  {
   "cell_type": "code",
   "execution_count": 16,
   "id": "e39a1866-6e31-4d7f-98e3-7005eb6f4543",
   "metadata": {},
   "outputs": [
    {
     "data": {
      "text/plain": [
       "'Hello, welcome'"
      ]
     },
     "execution_count": 16,
     "metadata": {},
     "output_type": "execute_result"
    }
   ],
   "source": [
    "\"Hello, welcome\".capitalize()"
   ]
  },
  {
   "cell_type": "code",
   "execution_count": 17,
   "id": "0b5a061b-c4f4-468d-be1c-e78617738d19",
   "metadata": {},
   "outputs": [
    {
     "data": {
      "text/plain": [
       "'Hello all. welcome to the python class. today is 3rd session'"
      ]
     },
     "execution_count": 17,
     "metadata": {},
     "output_type": "execute_result"
    }
   ],
   "source": [
    "\"Hello all. welcome to the python class. today is 3rd session\".capitalize()"
   ]
  },
  {
   "cell_type": "code",
   "execution_count": 18,
   "id": "cbeafe8b-8b52-4356-a4d1-bb3d2348e617",
   "metadata": {},
   "outputs": [
    {
     "name": "stdout",
     "output_type": "stream",
     "text": [
      "No Python documentation found for 'Hello all. welcome to the python class. today is 3rd session'.\n",
      "Use help() to get the interactive help utility.\n",
      "Use help(str) for help on the str class.\n",
      "\n"
     ]
    }
   ],
   "source": [
    "help(\"Hello all. welcome to the python class. today is 3rd session\".capitalize())"
   ]
  },
  {
   "cell_type": "code",
   "execution_count": 31,
   "id": "4a33aff6-6a7a-4540-8b7f-03167cf39525",
   "metadata": {},
   "outputs": [
    {
     "name": "stdout",
     "output_type": "stream",
     "text": [
      "Help on class str in module builtins:\n",
      "\n",
      "class str(object)\n",
      " |  str(object='') -> str\n",
      " |  str(bytes_or_buffer[, encoding[, errors]]) -> str\n",
      " |\n",
      " |  Create a new string object from the given object. If encoding or\n",
      " |  errors is specified, then the object must expose a data buffer\n",
      " |  that will be decoded using the given encoding and error handler.\n",
      " |  Otherwise, returns the result of object.__str__() (if defined)\n",
      " |  or repr(object).\n",
      " |  encoding defaults to 'utf-8'.\n",
      " |  errors defaults to 'strict'.\n",
      " |\n",
      " |  Methods defined here:\n",
      " |\n",
      " |  __add__(self, value, /)\n",
      " |      Return self+value.\n",
      " |\n",
      " |  __contains__(self, key, /)\n",
      " |      Return bool(key in self).\n",
      " |\n",
      " |  __eq__(self, value, /)\n",
      " |      Return self==value.\n",
      " |\n",
      " |  __format__(self, format_spec, /)\n",
      " |      Return a formatted version of the string as described by format_spec.\n",
      " |\n",
      " |  __ge__(self, value, /)\n",
      " |      Return self>=value.\n",
      " |\n",
      " |  __getitem__(self, key, /)\n",
      " |      Return self[key].\n",
      " |\n",
      " |  __getnewargs__(self, /)\n",
      " |\n",
      " |  __gt__(self, value, /)\n",
      " |      Return self>value.\n",
      " |\n",
      " |  __hash__(self, /)\n",
      " |      Return hash(self).\n",
      " |\n",
      " |  __iter__(self, /)\n",
      " |      Implement iter(self).\n",
      " |\n",
      " |  __le__(self, value, /)\n",
      " |      Return self<=value.\n",
      " |\n",
      " |  __len__(self, /)\n",
      " |      Return len(self).\n",
      " |\n",
      " |  __lt__(self, value, /)\n",
      " |      Return self<value.\n",
      " |\n",
      " |  __mod__(self, value, /)\n",
      " |      Return self%value.\n",
      " |\n",
      " |  __mul__(self, value, /)\n",
      " |      Return self*value.\n",
      " |\n",
      " |  __ne__(self, value, /)\n",
      " |      Return self!=value.\n",
      " |\n",
      " |  __repr__(self, /)\n",
      " |      Return repr(self).\n",
      " |\n",
      " |  __rmod__(self, value, /)\n",
      " |      Return value%self.\n",
      " |\n",
      " |  __rmul__(self, value, /)\n",
      " |      Return value*self.\n",
      " |\n",
      " |  __sizeof__(self, /)\n",
      " |      Return the size of the string in memory, in bytes.\n",
      " |\n",
      " |  __str__(self, /)\n",
      " |      Return str(self).\n",
      " |\n",
      " |  capitalize(self, /)\n",
      " |      Return a capitalized version of the string.\n",
      " |\n",
      " |      More specifically, make the first character have upper case and the rest lower\n",
      " |      case.\n",
      " |\n",
      " |  casefold(self, /)\n",
      " |      Return a version of the string suitable for caseless comparisons.\n",
      " |\n",
      " |  center(self, width, fillchar=' ', /)\n",
      " |      Return a centered string of length width.\n",
      " |\n",
      " |      Padding is done using the specified fill character (default is a space).\n",
      " |\n",
      " |  count(self, sub[, start[, end]], /)\n",
      " |      Return the number of non-overlapping occurrences of substring sub in string S[start:end].\n",
      " |\n",
      " |      Optional arguments start and end are interpreted as in slice notation.\n",
      " |\n",
      " |  encode(self, /, encoding='utf-8', errors='strict')\n",
      " |      Encode the string using the codec registered for encoding.\n",
      " |\n",
      " |      encoding\n",
      " |        The encoding in which to encode the string.\n",
      " |      errors\n",
      " |        The error handling scheme to use for encoding errors.\n",
      " |        The default is 'strict' meaning that encoding errors raise a\n",
      " |        UnicodeEncodeError.  Other possible values are 'ignore', 'replace' and\n",
      " |        'xmlcharrefreplace' as well as any other name registered with\n",
      " |        codecs.register_error that can handle UnicodeEncodeErrors.\n",
      " |\n",
      " |  endswith(self, suffix[, start[, end]], /)\n",
      " |      Return True if the string ends with the specified suffix, False otherwise.\n",
      " |\n",
      " |      suffix\n",
      " |        A string or a tuple of strings to try.\n",
      " |      start\n",
      " |        Optional start position. Default: start of the string.\n",
      " |      end\n",
      " |        Optional stop position. Default: end of the string.\n",
      " |\n",
      " |  expandtabs(self, /, tabsize=8)\n",
      " |      Return a copy where all tab characters are expanded using spaces.\n",
      " |\n",
      " |      If tabsize is not given, a tab size of 8 characters is assumed.\n",
      " |\n",
      " |  find(self, sub[, start[, end]], /)\n",
      " |      Return the lowest index in S where substring sub is found, such that sub is contained within S[start:end].\n",
      " |\n",
      " |      Optional arguments start and end are interpreted as in slice notation.\n",
      " |      Return -1 on failure.\n",
      " |\n",
      " |  format(self, /, *args, **kwargs)\n",
      " |      Return a formatted version of the string, using substitutions from args and kwargs.\n",
      " |      The substitutions are identified by braces ('{' and '}').\n",
      " |\n",
      " |  format_map(self, mapping, /)\n",
      " |      Return a formatted version of the string, using substitutions from mapping.\n",
      " |      The substitutions are identified by braces ('{' and '}').\n",
      " |\n",
      " |  index(self, sub[, start[, end]], /)\n",
      " |      Return the lowest index in S where substring sub is found, such that sub is contained within S[start:end].\n",
      " |\n",
      " |      Optional arguments start and end are interpreted as in slice notation.\n",
      " |      Raises ValueError when the substring is not found.\n",
      " |\n",
      " |  isalnum(self, /)\n",
      " |      Return True if the string is an alpha-numeric string, False otherwise.\n",
      " |\n",
      " |      A string is alpha-numeric if all characters in the string are alpha-numeric and\n",
      " |      there is at least one character in the string.\n",
      " |\n",
      " |  isalpha(self, /)\n",
      " |      Return True if the string is an alphabetic string, False otherwise.\n",
      " |\n",
      " |      A string is alphabetic if all characters in the string are alphabetic and there\n",
      " |      is at least one character in the string.\n",
      " |\n",
      " |  isascii(self, /)\n",
      " |      Return True if all characters in the string are ASCII, False otherwise.\n",
      " |\n",
      " |      ASCII characters have code points in the range U+0000-U+007F.\n",
      " |      Empty string is ASCII too.\n",
      " |\n",
      " |  isdecimal(self, /)\n",
      " |      Return True if the string is a decimal string, False otherwise.\n",
      " |\n",
      " |      A string is a decimal string if all characters in the string are decimal and\n",
      " |      there is at least one character in the string.\n",
      " |\n",
      " |  isdigit(self, /)\n",
      " |      Return True if the string is a digit string, False otherwise.\n",
      " |\n",
      " |      A string is a digit string if all characters in the string are digits and there\n",
      " |      is at least one character in the string.\n",
      " |\n",
      " |  isidentifier(self, /)\n",
      " |      Return True if the string is a valid Python identifier, False otherwise.\n",
      " |\n",
      " |      Call keyword.iskeyword(s) to test whether string s is a reserved identifier,\n",
      " |      such as \"def\" or \"class\".\n",
      " |\n",
      " |  islower(self, /)\n",
      " |      Return True if the string is a lowercase string, False otherwise.\n",
      " |\n",
      " |      A string is lowercase if all cased characters in the string are lowercase and\n",
      " |      there is at least one cased character in the string.\n",
      " |\n",
      " |  isnumeric(self, /)\n",
      " |      Return True if the string is a numeric string, False otherwise.\n",
      " |\n",
      " |      A string is numeric if all characters in the string are numeric and there is at\n",
      " |      least one character in the string.\n",
      " |\n",
      " |  isprintable(self, /)\n",
      " |      Return True if the string is printable, False otherwise.\n",
      " |\n",
      " |      A string is printable if all of its characters are considered printable in\n",
      " |      repr() or if it is empty.\n",
      " |\n",
      " |  isspace(self, /)\n",
      " |      Return True if the string is a whitespace string, False otherwise.\n",
      " |\n",
      " |      A string is whitespace if all characters in the string are whitespace and there\n",
      " |      is at least one character in the string.\n",
      " |\n",
      " |  istitle(self, /)\n",
      " |      Return True if the string is a title-cased string, False otherwise.\n",
      " |\n",
      " |      In a title-cased string, upper- and title-case characters may only\n",
      " |      follow uncased characters and lowercase characters only cased ones.\n",
      " |\n",
      " |  isupper(self, /)\n",
      " |      Return True if the string is an uppercase string, False otherwise.\n",
      " |\n",
      " |      A string is uppercase if all cased characters in the string are uppercase and\n",
      " |      there is at least one cased character in the string.\n",
      " |\n",
      " |  join(self, iterable, /)\n",
      " |      Concatenate any number of strings.\n",
      " |\n",
      " |      The string whose method is called is inserted in between each given string.\n",
      " |      The result is returned as a new string.\n",
      " |\n",
      " |      Example: '.'.join(['ab', 'pq', 'rs']) -> 'ab.pq.rs'\n",
      " |\n",
      " |  ljust(self, width, fillchar=' ', /)\n",
      " |      Return a left-justified string of length width.\n",
      " |\n",
      " |      Padding is done using the specified fill character (default is a space).\n",
      " |\n",
      " |  lower(self, /)\n",
      " |      Return a copy of the string converted to lowercase.\n",
      " |\n",
      " |  lstrip(self, chars=None, /)\n",
      " |      Return a copy of the string with leading whitespace removed.\n",
      " |\n",
      " |      If chars is given and not None, remove characters in chars instead.\n",
      " |\n",
      " |  partition(self, sep, /)\n",
      " |      Partition the string into three parts using the given separator.\n",
      " |\n",
      " |      This will search for the separator in the string.  If the separator is found,\n",
      " |      returns a 3-tuple containing the part before the separator, the separator\n",
      " |      itself, and the part after it.\n",
      " |\n",
      " |      If the separator is not found, returns a 3-tuple containing the original string\n",
      " |      and two empty strings.\n",
      " |\n",
      " |  removeprefix(self, prefix, /)\n",
      " |      Return a str with the given prefix string removed if present.\n",
      " |\n",
      " |      If the string starts with the prefix string, return string[len(prefix):].\n",
      " |      Otherwise, return a copy of the original string.\n",
      " |\n",
      " |  removesuffix(self, suffix, /)\n",
      " |      Return a str with the given suffix string removed if present.\n",
      " |\n",
      " |      If the string ends with the suffix string and that suffix is not empty,\n",
      " |      return string[:-len(suffix)]. Otherwise, return a copy of the original\n",
      " |      string.\n",
      " |\n",
      " |  replace(self, old, new, /, count=-1)\n",
      " |      Return a copy with all occurrences of substring old replaced by new.\n",
      " |\n",
      " |        count\n",
      " |          Maximum number of occurrences to replace.\n",
      " |          -1 (the default value) means replace all occurrences.\n",
      " |\n",
      " |      If the optional argument count is given, only the first count occurrences are\n",
      " |      replaced.\n",
      " |\n",
      " |  rfind(self, sub[, start[, end]], /)\n",
      " |      Return the highest index in S where substring sub is found, such that sub is contained within S[start:end].\n",
      " |\n",
      " |      Optional arguments start and end are interpreted as in slice notation.\n",
      " |      Return -1 on failure.\n",
      " |\n",
      " |  rindex(self, sub[, start[, end]], /)\n",
      " |      Return the highest index in S where substring sub is found, such that sub is contained within S[start:end].\n",
      " |\n",
      " |      Optional arguments start and end are interpreted as in slice notation.\n",
      " |      Raises ValueError when the substring is not found.\n",
      " |\n",
      " |  rjust(self, width, fillchar=' ', /)\n",
      " |      Return a right-justified string of length width.\n",
      " |\n",
      " |      Padding is done using the specified fill character (default is a space).\n",
      " |\n",
      " |  rpartition(self, sep, /)\n",
      " |      Partition the string into three parts using the given separator.\n",
      " |\n",
      " |      This will search for the separator in the string, starting at the end. If\n",
      " |      the separator is found, returns a 3-tuple containing the part before the\n",
      " |      separator, the separator itself, and the part after it.\n",
      " |\n",
      " |      If the separator is not found, returns a 3-tuple containing two empty strings\n",
      " |      and the original string.\n",
      " |\n",
      " |  rsplit(self, /, sep=None, maxsplit=-1)\n",
      " |      Return a list of the substrings in the string, using sep as the separator string.\n",
      " |\n",
      " |        sep\n",
      " |          The separator used to split the string.\n",
      " |\n",
      " |          When set to None (the default value), will split on any whitespace\n",
      " |          character (including \\n \\r \\t \\f and spaces) and will discard\n",
      " |          empty strings from the result.\n",
      " |        maxsplit\n",
      " |          Maximum number of splits.\n",
      " |          -1 (the default value) means no limit.\n",
      " |\n",
      " |      Splitting starts at the end of the string and works to the front.\n",
      " |\n",
      " |  rstrip(self, chars=None, /)\n",
      " |      Return a copy of the string with trailing whitespace removed.\n",
      " |\n",
      " |      If chars is given and not None, remove characters in chars instead.\n",
      " |\n",
      " |  split(self, /, sep=None, maxsplit=-1)\n",
      " |      Return a list of the substrings in the string, using sep as the separator string.\n",
      " |\n",
      " |        sep\n",
      " |          The separator used to split the string.\n",
      " |\n",
      " |          When set to None (the default value), will split on any whitespace\n",
      " |          character (including \\n \\r \\t \\f and spaces) and will discard\n",
      " |          empty strings from the result.\n",
      " |        maxsplit\n",
      " |          Maximum number of splits.\n",
      " |          -1 (the default value) means no limit.\n",
      " |\n",
      " |      Splitting starts at the front of the string and works to the end.\n",
      " |\n",
      " |      Note, str.split() is mainly useful for data that has been intentionally\n",
      " |      delimited.  With natural text that includes punctuation, consider using\n",
      " |      the regular expression module.\n",
      " |\n",
      " |  splitlines(self, /, keepends=False)\n",
      " |      Return a list of the lines in the string, breaking at line boundaries.\n",
      " |\n",
      " |      Line breaks are not included in the resulting list unless keepends is given and\n",
      " |      true.\n",
      " |\n",
      " |  startswith(self, prefix[, start[, end]], /)\n",
      " |      Return True if the string starts with the specified prefix, False otherwise.\n",
      " |\n",
      " |      prefix\n",
      " |        A string or a tuple of strings to try.\n",
      " |      start\n",
      " |        Optional start position. Default: start of the string.\n",
      " |      end\n",
      " |        Optional stop position. Default: end of the string.\n",
      " |\n",
      " |  strip(self, chars=None, /)\n",
      " |      Return a copy of the string with leading and trailing whitespace removed.\n",
      " |\n",
      " |      If chars is given and not None, remove characters in chars instead.\n",
      " |\n",
      " |  swapcase(self, /)\n",
      " |      Convert uppercase characters to lowercase and lowercase characters to uppercase.\n",
      " |\n",
      " |  title(self, /)\n",
      " |      Return a version of the string where each word is titlecased.\n",
      " |\n",
      " |      More specifically, words start with uppercased characters and all remaining\n",
      " |      cased characters have lower case.\n",
      " |\n",
      " |  translate(self, table, /)\n",
      " |      Replace each character in the string using the given translation table.\n",
      " |\n",
      " |        table\n",
      " |          Translation table, which must be a mapping of Unicode ordinals to\n",
      " |          Unicode ordinals, strings, or None.\n",
      " |\n",
      " |      The table must implement lookup/indexing via __getitem__, for instance a\n",
      " |      dictionary or list.  If this operation raises LookupError, the character is\n",
      " |      left untouched.  Characters mapped to None are deleted.\n",
      " |\n",
      " |  upper(self, /)\n",
      " |      Return a copy of the string converted to uppercase.\n",
      " |\n",
      " |  zfill(self, width, /)\n",
      " |      Pad a numeric string with zeros on the left, to fill a field of the given width.\n",
      " |\n",
      " |      The string is never truncated.\n",
      " |\n",
      " |  ----------------------------------------------------------------------\n",
      " |  Static methods defined here:\n",
      " |\n",
      " |  __new__(*args, **kwargs)\n",
      " |      Create and return a new object.  See help(type) for accurate signature.\n",
      " |\n",
      " |  maketrans(x, y=<unrepresentable>, z=<unrepresentable>, /)\n",
      " |      Return a translation table usable for str.translate().\n",
      " |\n",
      " |      If there is only one argument, it must be a dictionary mapping Unicode\n",
      " |      ordinals (integers) or characters to Unicode ordinals, strings or None.\n",
      " |      Character keys will be then converted to ordinals.\n",
      " |      If there are two arguments, they must be strings of equal length, and\n",
      " |      in the resulting dictionary, each character in x will be mapped to the\n",
      " |      character at the same position in y. If there is a third argument, it\n",
      " |      must be a string, whose characters will be mapped to None in the result.\n",
      "\n"
     ]
    }
   ],
   "source": [
    "help(str)"
   ]
  },
  {
   "cell_type": "code",
   "execution_count": 20,
   "id": "ffca57fd-9188-409f-8837-7d305a568780",
   "metadata": {},
   "outputs": [
    {
     "data": {
      "text/plain": [
       "'jupyter notebook is flexible to me'"
      ]
     },
     "execution_count": 20,
     "metadata": {},
     "output_type": "execute_result"
    }
   ],
   "source": [
    "\"Jupyter notebook is flexible to me\".casefold()"
   ]
  },
  {
   "cell_type": "code",
   "execution_count": 21,
   "id": "5204fa67-6c8f-4b5a-adf6-23e00d955e8e",
   "metadata": {},
   "outputs": [
    {
     "data": {
      "text/plain": [
       "'jupyter notebook is flexible to me'"
      ]
     },
     "execution_count": 21,
     "metadata": {},
     "output_type": "execute_result"
    }
   ],
   "source": [
    "\"Jupyter NOTEBOOK IS FLEXIBLE TO me\".casefold()"
   ]
  },
  {
   "cell_type": "code",
   "execution_count": 22,
   "id": "c482cfb3-0fcd-43e7-af74-e197c7384a97",
   "metadata": {},
   "outputs": [
    {
     "data": {
      "text/plain": [
       "'jupyter notebook is flexible to me'"
      ]
     },
     "execution_count": 22,
     "metadata": {},
     "output_type": "execute_result"
    }
   ],
   "source": [
    "\"Jupyter NOTEBOOK IS FLEXIBLE TO me\".lower()"
   ]
  },
  {
   "cell_type": "code",
   "execution_count": 23,
   "id": "aaf1dc73-166c-49cc-9f6c-1acf3a5ac756",
   "metadata": {},
   "outputs": [
    {
     "ename": "TypeError",
     "evalue": "endswith expected at least 1 argument, got 0",
     "output_type": "error",
     "traceback": [
      "\u001b[31m---------------------------------------------------------------------------\u001b[39m",
      "\u001b[31mTypeError\u001b[39m                                 Traceback (most recent call last)",
      "\u001b[36mCell\u001b[39m\u001b[36m \u001b[39m\u001b[32mIn[23]\u001b[39m\u001b[32m, line 1\u001b[39m\n\u001b[32m----> \u001b[39m\u001b[32m1\u001b[39m \u001b[33;43m\"\u001b[39;49m\u001b[33;43mnotebook\u001b[39;49m\u001b[33;43m\"\u001b[39;49m\u001b[43m.\u001b[49m\u001b[43mendswith\u001b[49m\u001b[43m(\u001b[49m\u001b[43m)\u001b[49m\n",
      "\u001b[31mTypeError\u001b[39m: endswith expected at least 1 argument, got 0"
     ]
    }
   ],
   "source": [
    "\"notebook\".endswith()"
   ]
  },
  {
   "cell_type": "code",
   "execution_count": 24,
   "id": "2421338e-ac3b-44d2-95f6-87306d62a19c",
   "metadata": {},
   "outputs": [
    {
     "data": {
      "text/plain": [
       "False"
      ]
     },
     "execution_count": 24,
     "metadata": {},
     "output_type": "execute_result"
    }
   ],
   "source": [
    "\"notebook\".endswith('x')"
   ]
  },
  {
   "cell_type": "code",
   "execution_count": 25,
   "id": "f84bb258-fb5d-402d-bd44-c794c48abceb",
   "metadata": {},
   "outputs": [
    {
     "data": {
      "text/plain": [
       "True"
      ]
     },
     "execution_count": 25,
     "metadata": {},
     "output_type": "execute_result"
    }
   ],
   "source": [
    "\"notebook\".endswith('k')"
   ]
  },
  {
   "cell_type": "code",
   "execution_count": 26,
   "id": "e37d9e82-5113-45d1-8ec5-d466755fd4ff",
   "metadata": {},
   "outputs": [
    {
     "data": {
      "text/plain": [
       "True"
      ]
     },
     "execution_count": 26,
     "metadata": {},
     "output_type": "execute_result"
    }
   ],
   "source": [
    "\"notebook\".startswith('n')"
   ]
  },
  {
   "cell_type": "code",
   "execution_count": 27,
   "id": "78ae2c3d-1444-4875-aacb-a49bab3cf707",
   "metadata": {},
   "outputs": [
    {
     "data": {
      "text/plain": [
       "False"
      ]
     },
     "execution_count": 27,
     "metadata": {},
     "output_type": "execute_result"
    }
   ],
   "source": [
    "\"notebook\".startswith('7')"
   ]
  },
  {
   "cell_type": "code",
   "execution_count": 28,
   "id": "f4a66621-83c9-4d3e-92d2-eaa4547c3e0e",
   "metadata": {},
   "outputs": [
    {
     "data": {
      "text/plain": [
       "['jupyter notebook is flexible to me']"
      ]
     },
     "execution_count": 28,
     "metadata": {},
     "output_type": "execute_result"
    }
   ],
   "source": [
    "\"jupyter notebook is flexible to me\".splitlines()"
   ]
  },
  {
   "cell_type": "code",
   "execution_count": 29,
   "id": "3b0268bc-5828-4c17-b132-9fa0c99c0aa7",
   "metadata": {},
   "outputs": [
    {
     "data": {
      "text/plain": [
       "['jupyter', 'notebook', 'is', 'flexible', 'to', 'me']"
      ]
     },
     "execution_count": 29,
     "metadata": {},
     "output_type": "execute_result"
    }
   ],
   "source": [
    "\"jupyter notebook is flexible to me\".split()"
   ]
  },
  {
   "cell_type": "code",
   "execution_count": 30,
   "id": "06636ad9-e366-4ee2-a53c-13947c2ba56f",
   "metadata": {},
   "outputs": [
    {
     "data": {
      "text/plain": [
       "False"
      ]
     },
     "execution_count": 30,
     "metadata": {},
     "output_type": "execute_result"
    }
   ],
   "source": [
    "\"jupyter notebook is flexible to me\".isalpha()"
   ]
  },
  {
   "cell_type": "code",
   "execution_count": 34,
   "id": "988f3efc-ee23-4c27-bf61-1673bfef8eeb",
   "metadata": {},
   "outputs": [
    {
     "data": {
      "text/plain": [
       "True"
      ]
     },
     "execution_count": 34,
     "metadata": {},
     "output_type": "execute_result"
    }
   ],
   "source": [
    "\"jupyternotebookisflexibletome\".isalpha()"
   ]
  },
  {
   "cell_type": "code",
   "execution_count": 33,
   "id": "18533886-fb52-4eed-84d5-f9ed36513fd7",
   "metadata": {},
   "outputs": [
    {
     "name": "stdout",
     "output_type": "stream",
     "text": [
      "Help on class str in module builtins:\n",
      "\n",
      "class str(object)\n",
      " |  str(object='') -> str\n",
      " |  str(bytes_or_buffer[, encoding[, errors]]) -> str\n",
      " |\n",
      " |  Create a new string object from the given object. If encoding or\n",
      " |  errors is specified, then the object must expose a data buffer\n",
      " |  that will be decoded using the given encoding and error handler.\n",
      " |  Otherwise, returns the result of object.__str__() (if defined)\n",
      " |  or repr(object).\n",
      " |  encoding defaults to 'utf-8'.\n",
      " |  errors defaults to 'strict'.\n",
      " |\n",
      " |  Methods defined here:\n",
      " |\n",
      " |  __add__(self, value, /)\n",
      " |      Return self+value.\n",
      " |\n",
      " |  __contains__(self, key, /)\n",
      " |      Return bool(key in self).\n",
      " |\n",
      " |  __eq__(self, value, /)\n",
      " |      Return self==value.\n",
      " |\n",
      " |  __format__(self, format_spec, /)\n",
      " |      Return a formatted version of the string as described by format_spec.\n",
      " |\n",
      " |  __ge__(self, value, /)\n",
      " |      Return self>=value.\n",
      " |\n",
      " |  __getitem__(self, key, /)\n",
      " |      Return self[key].\n",
      " |\n",
      " |  __getnewargs__(self, /)\n",
      " |\n",
      " |  __gt__(self, value, /)\n",
      " |      Return self>value.\n",
      " |\n",
      " |  __hash__(self, /)\n",
      " |      Return hash(self).\n",
      " |\n",
      " |  __iter__(self, /)\n",
      " |      Implement iter(self).\n",
      " |\n",
      " |  __le__(self, value, /)\n",
      " |      Return self<=value.\n",
      " |\n",
      " |  __len__(self, /)\n",
      " |      Return len(self).\n",
      " |\n",
      " |  __lt__(self, value, /)\n",
      " |      Return self<value.\n",
      " |\n",
      " |  __mod__(self, value, /)\n",
      " |      Return self%value.\n",
      " |\n",
      " |  __mul__(self, value, /)\n",
      " |      Return self*value.\n",
      " |\n",
      " |  __ne__(self, value, /)\n",
      " |      Return self!=value.\n",
      " |\n",
      " |  __repr__(self, /)\n",
      " |      Return repr(self).\n",
      " |\n",
      " |  __rmod__(self, value, /)\n",
      " |      Return value%self.\n",
      " |\n",
      " |  __rmul__(self, value, /)\n",
      " |      Return value*self.\n",
      " |\n",
      " |  __sizeof__(self, /)\n",
      " |      Return the size of the string in memory, in bytes.\n",
      " |\n",
      " |  __str__(self, /)\n",
      " |      Return str(self).\n",
      " |\n",
      " |  capitalize(self, /)\n",
      " |      Return a capitalized version of the string.\n",
      " |\n",
      " |      More specifically, make the first character have upper case and the rest lower\n",
      " |      case.\n",
      " |\n",
      " |  casefold(self, /)\n",
      " |      Return a version of the string suitable for caseless comparisons.\n",
      " |\n",
      " |  center(self, width, fillchar=' ', /)\n",
      " |      Return a centered string of length width.\n",
      " |\n",
      " |      Padding is done using the specified fill character (default is a space).\n",
      " |\n",
      " |  count(self, sub[, start[, end]], /)\n",
      " |      Return the number of non-overlapping occurrences of substring sub in string S[start:end].\n",
      " |\n",
      " |      Optional arguments start and end are interpreted as in slice notation.\n",
      " |\n",
      " |  encode(self, /, encoding='utf-8', errors='strict')\n",
      " |      Encode the string using the codec registered for encoding.\n",
      " |\n",
      " |      encoding\n",
      " |        The encoding in which to encode the string.\n",
      " |      errors\n",
      " |        The error handling scheme to use for encoding errors.\n",
      " |        The default is 'strict' meaning that encoding errors raise a\n",
      " |        UnicodeEncodeError.  Other possible values are 'ignore', 'replace' and\n",
      " |        'xmlcharrefreplace' as well as any other name registered with\n",
      " |        codecs.register_error that can handle UnicodeEncodeErrors.\n",
      " |\n",
      " |  endswith(self, suffix[, start[, end]], /)\n",
      " |      Return True if the string ends with the specified suffix, False otherwise.\n",
      " |\n",
      " |      suffix\n",
      " |        A string or a tuple of strings to try.\n",
      " |      start\n",
      " |        Optional start position. Default: start of the string.\n",
      " |      end\n",
      " |        Optional stop position. Default: end of the string.\n",
      " |\n",
      " |  expandtabs(self, /, tabsize=8)\n",
      " |      Return a copy where all tab characters are expanded using spaces.\n",
      " |\n",
      " |      If tabsize is not given, a tab size of 8 characters is assumed.\n",
      " |\n",
      " |  find(self, sub[, start[, end]], /)\n",
      " |      Return the lowest index in S where substring sub is found, such that sub is contained within S[start:end].\n",
      " |\n",
      " |      Optional arguments start and end are interpreted as in slice notation.\n",
      " |      Return -1 on failure.\n",
      " |\n",
      " |  format(self, /, *args, **kwargs)\n",
      " |      Return a formatted version of the string, using substitutions from args and kwargs.\n",
      " |      The substitutions are identified by braces ('{' and '}').\n",
      " |\n",
      " |  format_map(self, mapping, /)\n",
      " |      Return a formatted version of the string, using substitutions from mapping.\n",
      " |      The substitutions are identified by braces ('{' and '}').\n",
      " |\n",
      " |  index(self, sub[, start[, end]], /)\n",
      " |      Return the lowest index in S where substring sub is found, such that sub is contained within S[start:end].\n",
      " |\n",
      " |      Optional arguments start and end are interpreted as in slice notation.\n",
      " |      Raises ValueError when the substring is not found.\n",
      " |\n",
      " |  isalnum(self, /)\n",
      " |      Return True if the string is an alpha-numeric string, False otherwise.\n",
      " |\n",
      " |      A string is alpha-numeric if all characters in the string are alpha-numeric and\n",
      " |      there is at least one character in the string.\n",
      " |\n",
      " |  isalpha(self, /)\n",
      " |      Return True if the string is an alphabetic string, False otherwise.\n",
      " |\n",
      " |      A string is alphabetic if all characters in the string are alphabetic and there\n",
      " |      is at least one character in the string.\n",
      " |\n",
      " |  isascii(self, /)\n",
      " |      Return True if all characters in the string are ASCII, False otherwise.\n",
      " |\n",
      " |      ASCII characters have code points in the range U+0000-U+007F.\n",
      " |      Empty string is ASCII too.\n",
      " |\n",
      " |  isdecimal(self, /)\n",
      " |      Return True if the string is a decimal string, False otherwise.\n",
      " |\n",
      " |      A string is a decimal string if all characters in the string are decimal and\n",
      " |      there is at least one character in the string.\n",
      " |\n",
      " |  isdigit(self, /)\n",
      " |      Return True if the string is a digit string, False otherwise.\n",
      " |\n",
      " |      A string is a digit string if all characters in the string are digits and there\n",
      " |      is at least one character in the string.\n",
      " |\n",
      " |  isidentifier(self, /)\n",
      " |      Return True if the string is a valid Python identifier, False otherwise.\n",
      " |\n",
      " |      Call keyword.iskeyword(s) to test whether string s is a reserved identifier,\n",
      " |      such as \"def\" or \"class\".\n",
      " |\n",
      " |  islower(self, /)\n",
      " |      Return True if the string is a lowercase string, False otherwise.\n",
      " |\n",
      " |      A string is lowercase if all cased characters in the string are lowercase and\n",
      " |      there is at least one cased character in the string.\n",
      " |\n",
      " |  isnumeric(self, /)\n",
      " |      Return True if the string is a numeric string, False otherwise.\n",
      " |\n",
      " |      A string is numeric if all characters in the string are numeric and there is at\n",
      " |      least one character in the string.\n",
      " |\n",
      " |  isprintable(self, /)\n",
      " |      Return True if the string is printable, False otherwise.\n",
      " |\n",
      " |      A string is printable if all of its characters are considered printable in\n",
      " |      repr() or if it is empty.\n",
      " |\n",
      " |  isspace(self, /)\n",
      " |      Return True if the string is a whitespace string, False otherwise.\n",
      " |\n",
      " |      A string is whitespace if all characters in the string are whitespace and there\n",
      " |      is at least one character in the string.\n",
      " |\n",
      " |  istitle(self, /)\n",
      " |      Return True if the string is a title-cased string, False otherwise.\n",
      " |\n",
      " |      In a title-cased string, upper- and title-case characters may only\n",
      " |      follow uncased characters and lowercase characters only cased ones.\n",
      " |\n",
      " |  isupper(self, /)\n",
      " |      Return True if the string is an uppercase string, False otherwise.\n",
      " |\n",
      " |      A string is uppercase if all cased characters in the string are uppercase and\n",
      " |      there is at least one cased character in the string.\n",
      " |\n",
      " |  join(self, iterable, /)\n",
      " |      Concatenate any number of strings.\n",
      " |\n",
      " |      The string whose method is called is inserted in between each given string.\n",
      " |      The result is returned as a new string.\n",
      " |\n",
      " |      Example: '.'.join(['ab', 'pq', 'rs']) -> 'ab.pq.rs'\n",
      " |\n",
      " |  ljust(self, width, fillchar=' ', /)\n",
      " |      Return a left-justified string of length width.\n",
      " |\n",
      " |      Padding is done using the specified fill character (default is a space).\n",
      " |\n",
      " |  lower(self, /)\n",
      " |      Return a copy of the string converted to lowercase.\n",
      " |\n",
      " |  lstrip(self, chars=None, /)\n",
      " |      Return a copy of the string with leading whitespace removed.\n",
      " |\n",
      " |      If chars is given and not None, remove characters in chars instead.\n",
      " |\n",
      " |  partition(self, sep, /)\n",
      " |      Partition the string into three parts using the given separator.\n",
      " |\n",
      " |      This will search for the separator in the string.  If the separator is found,\n",
      " |      returns a 3-tuple containing the part before the separator, the separator\n",
      " |      itself, and the part after it.\n",
      " |\n",
      " |      If the separator is not found, returns a 3-tuple containing the original string\n",
      " |      and two empty strings.\n",
      " |\n",
      " |  removeprefix(self, prefix, /)\n",
      " |      Return a str with the given prefix string removed if present.\n",
      " |\n",
      " |      If the string starts with the prefix string, return string[len(prefix):].\n",
      " |      Otherwise, return a copy of the original string.\n",
      " |\n",
      " |  removesuffix(self, suffix, /)\n",
      " |      Return a str with the given suffix string removed if present.\n",
      " |\n",
      " |      If the string ends with the suffix string and that suffix is not empty,\n",
      " |      return string[:-len(suffix)]. Otherwise, return a copy of the original\n",
      " |      string.\n",
      " |\n",
      " |  replace(self, old, new, /, count=-1)\n",
      " |      Return a copy with all occurrences of substring old replaced by new.\n",
      " |\n",
      " |        count\n",
      " |          Maximum number of occurrences to replace.\n",
      " |          -1 (the default value) means replace all occurrences.\n",
      " |\n",
      " |      If the optional argument count is given, only the first count occurrences are\n",
      " |      replaced.\n",
      " |\n",
      " |  rfind(self, sub[, start[, end]], /)\n",
      " |      Return the highest index in S where substring sub is found, such that sub is contained within S[start:end].\n",
      " |\n",
      " |      Optional arguments start and end are interpreted as in slice notation.\n",
      " |      Return -1 on failure.\n",
      " |\n",
      " |  rindex(self, sub[, start[, end]], /)\n",
      " |      Return the highest index in S where substring sub is found, such that sub is contained within S[start:end].\n",
      " |\n",
      " |      Optional arguments start and end are interpreted as in slice notation.\n",
      " |      Raises ValueError when the substring is not found.\n",
      " |\n",
      " |  rjust(self, width, fillchar=' ', /)\n",
      " |      Return a right-justified string of length width.\n",
      " |\n",
      " |      Padding is done using the specified fill character (default is a space).\n",
      " |\n",
      " |  rpartition(self, sep, /)\n",
      " |      Partition the string into three parts using the given separator.\n",
      " |\n",
      " |      This will search for the separator in the string, starting at the end. If\n",
      " |      the separator is found, returns a 3-tuple containing the part before the\n",
      " |      separator, the separator itself, and the part after it.\n",
      " |\n",
      " |      If the separator is not found, returns a 3-tuple containing two empty strings\n",
      " |      and the original string.\n",
      " |\n",
      " |  rsplit(self, /, sep=None, maxsplit=-1)\n",
      " |      Return a list of the substrings in the string, using sep as the separator string.\n",
      " |\n",
      " |        sep\n",
      " |          The separator used to split the string.\n",
      " |\n",
      " |          When set to None (the default value), will split on any whitespace\n",
      " |          character (including \\n \\r \\t \\f and spaces) and will discard\n",
      " |          empty strings from the result.\n",
      " |        maxsplit\n",
      " |          Maximum number of splits.\n",
      " |          -1 (the default value) means no limit.\n",
      " |\n",
      " |      Splitting starts at the end of the string and works to the front.\n",
      " |\n",
      " |  rstrip(self, chars=None, /)\n",
      " |      Return a copy of the string with trailing whitespace removed.\n",
      " |\n",
      " |      If chars is given and not None, remove characters in chars instead.\n",
      " |\n",
      " |  split(self, /, sep=None, maxsplit=-1)\n",
      " |      Return a list of the substrings in the string, using sep as the separator string.\n",
      " |\n",
      " |        sep\n",
      " |          The separator used to split the string.\n",
      " |\n",
      " |          When set to None (the default value), will split on any whitespace\n",
      " |          character (including \\n \\r \\t \\f and spaces) and will discard\n",
      " |          empty strings from the result.\n",
      " |        maxsplit\n",
      " |          Maximum number of splits.\n",
      " |          -1 (the default value) means no limit.\n",
      " |\n",
      " |      Splitting starts at the front of the string and works to the end.\n",
      " |\n",
      " |      Note, str.split() is mainly useful for data that has been intentionally\n",
      " |      delimited.  With natural text that includes punctuation, consider using\n",
      " |      the regular expression module.\n",
      " |\n",
      " |  splitlines(self, /, keepends=False)\n",
      " |      Return a list of the lines in the string, breaking at line boundaries.\n",
      " |\n",
      " |      Line breaks are not included in the resulting list unless keepends is given and\n",
      " |      true.\n",
      " |\n",
      " |  startswith(self, prefix[, start[, end]], /)\n",
      " |      Return True if the string starts with the specified prefix, False otherwise.\n",
      " |\n",
      " |      prefix\n",
      " |        A string or a tuple of strings to try.\n",
      " |      start\n",
      " |        Optional start position. Default: start of the string.\n",
      " |      end\n",
      " |        Optional stop position. Default: end of the string.\n",
      " |\n",
      " |  strip(self, chars=None, /)\n",
      " |      Return a copy of the string with leading and trailing whitespace removed.\n",
      " |\n",
      " |      If chars is given and not None, remove characters in chars instead.\n",
      " |\n",
      " |  swapcase(self, /)\n",
      " |      Convert uppercase characters to lowercase and lowercase characters to uppercase.\n",
      " |\n",
      " |  title(self, /)\n",
      " |      Return a version of the string where each word is titlecased.\n",
      " |\n",
      " |      More specifically, words start with uppercased characters and all remaining\n",
      " |      cased characters have lower case.\n",
      " |\n",
      " |  translate(self, table, /)\n",
      " |      Replace each character in the string using the given translation table.\n",
      " |\n",
      " |        table\n",
      " |          Translation table, which must be a mapping of Unicode ordinals to\n",
      " |          Unicode ordinals, strings, or None.\n",
      " |\n",
      " |      The table must implement lookup/indexing via __getitem__, for instance a\n",
      " |      dictionary or list.  If this operation raises LookupError, the character is\n",
      " |      left untouched.  Characters mapped to None are deleted.\n",
      " |\n",
      " |  upper(self, /)\n",
      " |      Return a copy of the string converted to uppercase.\n",
      " |\n",
      " |  zfill(self, width, /)\n",
      " |      Pad a numeric string with zeros on the left, to fill a field of the given width.\n",
      " |\n",
      " |      The string is never truncated.\n",
      " |\n",
      " |  ----------------------------------------------------------------------\n",
      " |  Static methods defined here:\n",
      " |\n",
      " |  __new__(*args, **kwargs)\n",
      " |      Create and return a new object.  See help(type) for accurate signature.\n",
      " |\n",
      " |  maketrans(x, y=<unrepresentable>, z=<unrepresentable>, /)\n",
      " |      Return a translation table usable for str.translate().\n",
      " |\n",
      " |      If there is only one argument, it must be a dictionary mapping Unicode\n",
      " |      ordinals (integers) or characters to Unicode ordinals, strings or None.\n",
      " |      Character keys will be then converted to ordinals.\n",
      " |      If there are two arguments, they must be strings of equal length, and\n",
      " |      in the resulting dictionary, each character in x will be mapped to the\n",
      " |      character at the same position in y. If there is a third argument, it\n",
      " |      must be a string, whose characters will be mapped to None in the result.\n",
      "\n"
     ]
    }
   ],
   "source": [
    "help(str)"
   ]
  },
  {
   "cell_type": "code",
   "execution_count": 35,
   "id": "91196d6d-47fc-4e5e-a09a-ded5c9a6c855",
   "metadata": {},
   "outputs": [
    {
     "data": {
      "text/plain": [
       "False"
      ]
     },
     "execution_count": 35,
     "metadata": {},
     "output_type": "execute_result"
    }
   ],
   "source": [
    "\"jupyter notebook is flexible to me\".isalnum()"
   ]
  },
  {
   "cell_type": "code",
   "execution_count": 36,
   "id": "16c8afd1-4515-4e6e-9d2d-2ee2f991318e",
   "metadata": {},
   "outputs": [
    {
     "data": {
      "text/plain": [
       "True"
      ]
     },
     "execution_count": 36,
     "metadata": {},
     "output_type": "execute_result"
    }
   ],
   "source": [
    "\"jupyternotebookisflexibletome\".isalnum()"
   ]
  },
  {
   "cell_type": "code",
   "execution_count": 37,
   "id": "e493403a-24d9-4c7d-9a52-d8686b4782b4",
   "metadata": {},
   "outputs": [
    {
     "data": {
      "text/plain": [
       "False"
      ]
     },
     "execution_count": 37,
     "metadata": {},
     "output_type": "execute_result"
    }
   ],
   "source": [
    "\"jupyter notebook is flexible to me233434\".isalnum()"
   ]
  },
  {
   "cell_type": "code",
   "execution_count": 38,
   "id": "eea92336-d2d3-4bee-ad9f-75372d2988db",
   "metadata": {},
   "outputs": [
    {
     "data": {
      "text/plain": [
       "True"
      ]
     },
     "execution_count": 38,
     "metadata": {},
     "output_type": "execute_result"
    }
   ],
   "source": [
    "\"jupyternotebookisflexibletome233434\".isalnum()"
   ]
  },
  {
   "cell_type": "code",
   "execution_count": 39,
   "id": "8ed3a2df-1332-4a87-bb20-e844f90f2e78",
   "metadata": {},
   "outputs": [
    {
     "data": {
      "text/plain": [
       "'jupyter notebook is flexible'"
      ]
     },
     "execution_count": 39,
     "metadata": {},
     "output_type": "execute_result"
    }
   ],
   "source": [
    "\"%%%%%%%%%%%%%jupyter notebook is flexible%%%%%%%%%\".strip('%')"
   ]
  },
  {
   "cell_type": "code",
   "execution_count": 43,
   "id": "ee529a03-0602-498a-8758-debc3f7cb92a",
   "metadata": {},
   "outputs": [
    {
     "data": {
      "text/plain": [
       "'jupyter notebook is flexible%%%%%%%%%'"
      ]
     },
     "execution_count": 43,
     "metadata": {},
     "output_type": "execute_result"
    }
   ],
   "source": [
    "\"        jupyter notebook is flexible%%%%%%%%%\".lstrip(' ')"
   ]
  },
  {
   "cell_type": "code",
   "execution_count": 44,
   "id": "a75b8d77-06ab-4429-827f-009ea82ecbd8",
   "metadata": {},
   "outputs": [
    {
     "data": {
      "text/plain": [
       "'%%%%%%%%%%%%% jupyter notebook is flexible'"
      ]
     },
     "execution_count": 44,
     "metadata": {},
     "output_type": "execute_result"
    }
   ],
   "source": [
    "\"%%%%%%%%%%%%% jupyter notebook is flexible%%%%%%%%%\".rstrip('%')"
   ]
  },
  {
   "cell_type": "markdown",
   "id": "26630ccc-a586-4028-a13e-46d6f4714c2b",
   "metadata": {},
   "source": [
    "********************************************\n",
    "            PYTHON AUTOMATION\n",
    "********************************************"
   ]
  },
  {
   "cell_type": "code",
   "execution_count": 45,
   "id": "d37c88cc-0032-4e57-8f02-a67448ebd996",
   "metadata": {},
   "outputs": [
    {
     "data": {
      "text/plain": [
       "'*******************PYTHON AUTOMATION*****************'"
      ]
     },
     "execution_count": 45,
     "metadata": {},
     "output_type": "execute_result"
    }
   ],
   "source": [
    "\"*******************\"+\"PYTHON AUTOMATION\"+\"*****************\""
   ]
  },
  {
   "cell_type": "code",
   "execution_count": 46,
   "id": "0edab026-5b1d-4d56-ab32-ce941fd030af",
   "metadata": {},
   "outputs": [
    {
     "name": "stdout",
     "output_type": "stream",
     "text": [
      "********************************************\n",
      "PYTHON AUTOMATION\n",
      "********************************************\n"
     ]
    }
   ],
   "source": [
    "print(\"********************************************\")\n",
    "print(\"PYTHON AUTOMATION\")\n",
    "print(\"********************************************\")"
   ]
  },
  {
   "cell_type": "code",
   "execution_count": 50,
   "id": "a4c1154b-27f1-4aa4-8fef-d0c2234fac60",
   "metadata": {},
   "outputs": [
    {
     "name": "stdout",
     "output_type": "stream",
     "text": [
      "********************************************************************************\n",
      "                            PYTHON AUTOMATION CODING                            \n",
      "********************************************************************************\n"
     ]
    }
   ],
   "source": [
    "print(\"*\"*80)\n",
    "print(\"PYTHON AUTOMATION CODING\".center(80))\n",
    "print(\"*\"*80)  "
   ]
  },
  {
   "cell_type": "code",
   "execution_count": 2,
   "id": "8fc42e27-4669-4384-9b9d-294cc04788e3",
   "metadata": {},
   "outputs": [
    {
     "name": "stdout",
     "output_type": "stream",
     "text": [
      "Help on method_descriptor:\n",
      "\n",
      "startswith(self, prefix[, start[, end]], /) unbound builtins.str method\n",
      "    Return True if the string starts with the specified prefix, False otherwise.\n",
      "\n",
      "    prefix\n",
      "      A string or a tuple of strings to try.\n",
      "    start\n",
      "      Optional start position. Default: start of the string.\n",
      "    end\n",
      "      Optional stop position. Default: end of the string.\n",
      "\n"
     ]
    }
   ],
   "source": [
    "help(str.startswith)"
   ]
  },
  {
   "cell_type": "code",
   "execution_count": 3,
   "id": "a41603a6-57bf-4ddc-9c4a-a7a73df03671",
   "metadata": {},
   "outputs": [
    {
     "name": "stdout",
     "output_type": "stream",
     "text": [
      "Help on method_descriptor:\n",
      "\n",
      "isalpha(self, /) unbound builtins.str method\n",
      "    Return True if the string is an alphabetic string, False otherwise.\n",
      "\n",
      "    A string is alphabetic if all characters in the string are alphabetic and there\n",
      "    is at least one character in the string.\n",
      "\n"
     ]
    }
   ],
   "source": [
    "help(str.isalpha)"
   ]
  },
  {
   "cell_type": "code",
   "execution_count": 2,
   "id": "ec4466c3-e901-4bba-ac52-92b8e546d49e",
   "metadata": {},
   "outputs": [],
   "source": [
    "word = \"PYTHON AUTOMATION CODING\""
   ]
  },
  {
   "cell_type": "code",
   "execution_count": 18,
   "id": "6794e4ce-5f09-4729-9b0f-cbed9e0a9ba4",
   "metadata": {},
   "outputs": [
    {
     "name": "stdout",
     "output_type": "stream",
     "text": [
      "PYTHON AUTOMATION CODING\n"
     ]
    }
   ],
   "source": [
    "print(word)"
   ]
  },
  {
   "cell_type": "code",
   "execution_count": 19,
   "id": "b666b10c-ae41-42b7-8e67-2819f741ee29",
   "metadata": {},
   "outputs": [
    {
     "name": "stdout",
     "output_type": "stream",
     "text": [
      "********************************************************************************\n",
      "                            PYTHON AUTOMATION CODING                            \n",
      "********************************************************************************\n"
     ]
    }
   ],
   "source": [
    "print(\"*\"*80)\n",
    "print(word.center(80))  #preferable way\n",
    "print(\"*\"*80)"
   ]
  },
  {
   "cell_type": "code",
   "execution_count": 13,
   "id": "7bd27cac-547a-4504-8c8d-d284d3afcb7f",
   "metadata": {},
   "outputs": [
    {
     "name": "stdout",
     "output_type": "stream",
     "text": [
      "^^^^^^^^^^^^^^^^PYTHON AUTOMATION CODINGPYTHON AUTOMATION CODING^^^^^^^^^^^^^^^^\n"
     ]
    }
   ],
   "source": [
    "print(word.center(80,'^'))"
   ]
  },
  {
   "cell_type": "code",
   "execution_count": 15,
   "id": "13c79800-dc77-43e4-9ce3-2217c6795114",
   "metadata": {},
   "outputs": [
    {
     "name": "stdout",
     "output_type": "stream",
     "text": [
      "Help on method_descriptor:\n",
      "\n",
      "center(self, width, fillchar=' ', /) unbound builtins.str method\n",
      "    Return a centered string of length width.\n",
      "\n",
      "    Padding is done using the specified fill character (default is a space).\n",
      "\n"
     ]
    }
   ],
   "source": [
    "help(str.center)"
   ]
  },
  {
   "cell_type": "code",
   "execution_count": 26,
   "id": "d23e5bb8-83a8-4112-b9e7-397c1aa0b3fd",
   "metadata": {},
   "outputs": [
    {
     "name": "stdout",
     "output_type": "stream",
     "text": [
      "$$$$$$$$$$$$$$$$$$$$$$$$$$$$PYTHON AUTOMATION CODING$$$$$$$$$$$$$$$$$$$$$$$$$$$$&&&&&\n"
     ]
    }
   ],
   "source": [
    "print(word.center(80,'$')+'&'*5)"
   ]
  },
  {
   "cell_type": "code",
   "execution_count": 27,
   "id": "d87df90c-6b14-4619-8732-59cdb24d1963",
   "metadata": {},
   "outputs": [
    {
     "data": {
      "text/plain": [
       "'PYTHON AUTOMATION CODING'"
      ]
     },
     "execution_count": 27,
     "metadata": {},
     "output_type": "execute_result"
    }
   ],
   "source": [
    "word"
   ]
  },
  {
   "cell_type": "code",
   "execution_count": 29,
   "id": "2bb6df81-2c3a-4789-818c-0ff3297dc183",
   "metadata": {},
   "outputs": [
    {
     "name": "stdout",
     "output_type": "stream",
     "text": [
      "Help on method_descriptor:\n",
      "\n",
      "index(self, sub[, start[, end]], /) unbound builtins.str method\n",
      "    Return the lowest index in S where substring sub is found, such that sub is contained within S[start:end].\n",
      "\n",
      "    Optional arguments start and end are interpreted as in slice notation.\n",
      "    Raises ValueError when the substring is not found.\n",
      "\n"
     ]
    }
   ],
   "source": [
    "help(str.index)"
   ]
  },
  {
   "cell_type": "code",
   "execution_count": 14,
   "id": "e2bb3138-ab91-4078-8fc8-9dbe953ebb7f",
   "metadata": {},
   "outputs": [
    {
     "data": {
      "text/plain": [
       "5"
      ]
     },
     "execution_count": 14,
     "metadata": {},
     "output_type": "execute_result"
    }
   ],
   "source": [
    "word.index('N'[0:2])"
   ]
  },
  {
   "cell_type": "code",
   "execution_count": 15,
   "id": "96ac7ab8-9e47-4e56-a44f-fc10436b3fea",
   "metadata": {},
   "outputs": [],
   "source": [
    "# ASCII"
   ]
  },
  {
   "cell_type": "code",
   "execution_count": 16,
   "id": "61af9c97-ffb9-43ca-98f7-ff47b68e7481",
   "metadata": {},
   "outputs": [
    {
     "data": {
      "text/plain": [
       "65"
      ]
     },
     "execution_count": 16,
     "metadata": {},
     "output_type": "execute_result"
    }
   ],
   "source": [
    "ord('A')"
   ]
  },
  {
   "cell_type": "code",
   "execution_count": 17,
   "id": "a02ee0cc-714c-4e99-bba3-eaef7d4c9ad2",
   "metadata": {},
   "outputs": [
    {
     "data": {
      "text/plain": [
       "97"
      ]
     },
     "execution_count": 17,
     "metadata": {},
     "output_type": "execute_result"
    }
   ],
   "source": [
    "ord('a')"
   ]
  },
  {
   "cell_type": "code",
   "execution_count": 18,
   "id": "63f8bd81-c365-4f1c-a6bf-04860183cfad",
   "metadata": {},
   "outputs": [
    {
     "data": {
      "text/plain": [
       "'A'"
      ]
     },
     "execution_count": 18,
     "metadata": {},
     "output_type": "execute_result"
    }
   ],
   "source": [
    "chr(65)"
   ]
  },
  {
   "cell_type": "code",
   "execution_count": 19,
   "id": "c91164df-cad9-4157-b825-10926e54bd25",
   "metadata": {},
   "outputs": [
    {
     "data": {
      "text/plain": [
       "'a'"
      ]
     },
     "execution_count": 19,
     "metadata": {},
     "output_type": "execute_result"
    }
   ],
   "source": [
    "chr(97)"
   ]
  },
  {
   "cell_type": "markdown",
   "id": "54221db1-2be8-4562-86b2-c4592c42163f",
   "metadata": {},
   "source": [
    "### Data Structures"
   ]
  },
  {
   "cell_type": "code",
   "execution_count": 20,
   "id": "3f45a950-81c5-40a0-bd0b-181c7d9bbf41",
   "metadata": {},
   "outputs": [],
   "source": [
    "# 4 Data Structures\n",
    "# Lists\n",
    "# Tuples\n",
    "# Dictionaries\n",
    "# Sets"
   ]
  },
  {
   "cell_type": "code",
   "execution_count": 22,
   "id": "e94f9b7d-7fcc-4982-ae63-d5fce83aa10f",
   "metadata": {},
   "outputs": [],
   "source": [
    "# Lists properties\n",
    "# Lists - are represented either in [] or list() function\n",
    "# Lists are ordered (follow the index (positive or negative),range)\n",
    "# Lists are mutable (changable - update, add, remove)\n",
    "# List methods"
   ]
  },
  {
   "cell_type": "code",
   "execution_count": 23,
   "id": "ac640949-facd-4ba1-ba05-c0b7a1f516bf",
   "metadata": {},
   "outputs": [],
   "source": [
    "a = []"
   ]
  },
  {
   "cell_type": "code",
   "execution_count": 24,
   "id": "d7990c9d-963d-4458-b6d7-d476f2e893c2",
   "metadata": {},
   "outputs": [
    {
     "data": {
      "text/plain": [
       "list"
      ]
     },
     "execution_count": 24,
     "metadata": {},
     "output_type": "execute_result"
    }
   ],
   "source": [
    "type(a)"
   ]
  },
  {
   "cell_type": "code",
   "execution_count": 25,
   "id": "407fb5e5-41ae-4f3f-906d-75ae29e1bab8",
   "metadata": {},
   "outputs": [],
   "source": [
    "b = list()"
   ]
  },
  {
   "cell_type": "code",
   "execution_count": 26,
   "id": "50c9895a-92e6-42a3-b897-e895c9346bb0",
   "metadata": {},
   "outputs": [
    {
     "data": {
      "text/plain": [
       "list"
      ]
     },
     "execution_count": 26,
     "metadata": {},
     "output_type": "execute_result"
    }
   ],
   "source": [
    "type(b)"
   ]
  },
  {
   "cell_type": "code",
   "execution_count": 27,
   "id": "82d24e4f-d9e9-4b18-b18c-45cbe0edcbe4",
   "metadata": {},
   "outputs": [],
   "source": [
    "x = [1,2,3,4,5]"
   ]
  },
  {
   "cell_type": "code",
   "execution_count": 28,
   "id": "92dafc79-3382-4a0f-ad51-c0f55fb20867",
   "metadata": {},
   "outputs": [
    {
     "data": {
      "text/plain": [
       "list"
      ]
     },
     "execution_count": 28,
     "metadata": {},
     "output_type": "execute_result"
    }
   ],
   "source": [
    "type(x)"
   ]
  },
  {
   "cell_type": "code",
   "execution_count": 29,
   "id": "5339f550-49c2-45f0-ae59-d77d717c00da",
   "metadata": {},
   "outputs": [
    {
     "data": {
      "text/plain": [
       "2"
      ]
     },
     "execution_count": 29,
     "metadata": {},
     "output_type": "execute_result"
    }
   ],
   "source": [
    "x[1]"
   ]
  },
  {
   "cell_type": "code",
   "execution_count": 30,
   "id": "9563c66f-2009-44f5-84f2-c3deba98a58f",
   "metadata": {},
   "outputs": [
    {
     "data": {
      "text/plain": [
       "5"
      ]
     },
     "execution_count": 30,
     "metadata": {},
     "output_type": "execute_result"
    }
   ],
   "source": [
    "x[4]"
   ]
  },
  {
   "cell_type": "code",
   "execution_count": 31,
   "id": "8b002e53-3290-4b63-a803-fcb6f67e5724",
   "metadata": {},
   "outputs": [
    {
     "data": {
      "text/plain": [
       "5"
      ]
     },
     "execution_count": 31,
     "metadata": {},
     "output_type": "execute_result"
    }
   ],
   "source": [
    "x[-1]"
   ]
  },
  {
   "cell_type": "code",
   "execution_count": 32,
   "id": "2a177ddd-936e-43db-baac-78928bb75629",
   "metadata": {},
   "outputs": [
    {
     "data": {
      "text/plain": [
       "[1, 2]"
      ]
     },
     "execution_count": 32,
     "metadata": {},
     "output_type": "execute_result"
    }
   ],
   "source": [
    "x[0:2]"
   ]
  },
  {
   "cell_type": "code",
   "execution_count": 33,
   "id": "50e94d1d-bfed-454a-9b7c-1673728b85f5",
   "metadata": {},
   "outputs": [
    {
     "data": {
      "text/plain": [
       "[1, 2, 3, 4, 5]"
      ]
     },
     "execution_count": 33,
     "metadata": {},
     "output_type": "execute_result"
    }
   ],
   "source": [
    "x"
   ]
  },
  {
   "cell_type": "code",
   "execution_count": 34,
   "id": "6c28637a-0b28-475a-8f54-ce063513520d",
   "metadata": {},
   "outputs": [],
   "source": [
    "x[1] = 9"
   ]
  },
  {
   "cell_type": "code",
   "execution_count": 35,
   "id": "43a4c9d4-cea8-4ad0-9c2e-dea4d18139fe",
   "metadata": {},
   "outputs": [
    {
     "data": {
      "text/plain": [
       "[1, 9, 3, 4, 5]"
      ]
     },
     "execution_count": 35,
     "metadata": {},
     "output_type": "execute_result"
    }
   ],
   "source": [
    "x"
   ]
  },
  {
   "cell_type": "code",
   "execution_count": 36,
   "id": "6b37ff35-3a19-499b-a305-9667d08981ea",
   "metadata": {},
   "outputs": [
    {
     "ename": "IndexError",
     "evalue": "list assignment index out of range",
     "output_type": "error",
     "traceback": [
      "\u001b[31m---------------------------------------------------------------------------\u001b[39m",
      "\u001b[31mIndexError\u001b[39m                                Traceback (most recent call last)",
      "\u001b[36mCell\u001b[39m\u001b[36m \u001b[39m\u001b[32mIn[36]\u001b[39m\u001b[32m, line 1\u001b[39m\n\u001b[32m----> \u001b[39m\u001b[32m1\u001b[39m \u001b[43mx\u001b[49m\u001b[43m[\u001b[49m\u001b[32;43m5\u001b[39;49m\u001b[43m]\u001b[49m = \u001b[32m6\u001b[39m\n",
      "\u001b[31mIndexError\u001b[39m: list assignment index out of range"
     ]
    }
   ],
   "source": [
    "x[5] = 6"
   ]
  },
  {
   "cell_type": "code",
   "execution_count": 37,
   "id": "bcf90899-17da-41b2-8e5c-4090d2795b93",
   "metadata": {},
   "outputs": [],
   "source": [
    "x.append(6)"
   ]
  },
  {
   "cell_type": "code",
   "execution_count": 38,
   "id": "f2da8f90-8a6f-4d2d-b87a-590996121d64",
   "metadata": {},
   "outputs": [
    {
     "data": {
      "text/plain": [
       "[1, 9, 3, 4, 5, 6]"
      ]
     },
     "execution_count": 38,
     "metadata": {},
     "output_type": "execute_result"
    }
   ],
   "source": [
    "x"
   ]
  },
  {
   "cell_type": "code",
   "execution_count": 39,
   "id": "975d3828-22ae-4cc9-bcd7-1461f7c77471",
   "metadata": {},
   "outputs": [],
   "source": [
    "x.remove(6)"
   ]
  },
  {
   "cell_type": "code",
   "execution_count": 40,
   "id": "4c433f7c-39b4-458a-b8dd-22cd17e25fb9",
   "metadata": {},
   "outputs": [
    {
     "data": {
      "text/plain": [
       "[1, 9, 3, 4, 5]"
      ]
     },
     "execution_count": 40,
     "metadata": {},
     "output_type": "execute_result"
    }
   ],
   "source": [
    "x"
   ]
  },
  {
   "cell_type": "code",
   "execution_count": 41,
   "id": "8cbf1e20-b7aa-4d90-9662-2968db984c30",
   "metadata": {},
   "outputs": [],
   "source": [
    "x.insert(0,8)"
   ]
  },
  {
   "cell_type": "code",
   "execution_count": 42,
   "id": "de596992-4698-43ca-a1f3-bbc55bc08fa1",
   "metadata": {},
   "outputs": [
    {
     "data": {
      "text/plain": [
       "[8, 1, 9, 3, 4, 5]"
      ]
     },
     "execution_count": 42,
     "metadata": {},
     "output_type": "execute_result"
    }
   ],
   "source": [
    "x"
   ]
  },
  {
   "cell_type": "code",
   "execution_count": 43,
   "id": "7ade08b7-f80e-4ed2-abc6-7c60d8967585",
   "metadata": {},
   "outputs": [],
   "source": [
    "x.insert(2,7)"
   ]
  },
  {
   "cell_type": "code",
   "execution_count": 44,
   "id": "e81b6277-7c57-42c2-919f-cf10621b0306",
   "metadata": {},
   "outputs": [
    {
     "data": {
      "text/plain": [
       "[8, 1, 7, 9, 3, 4, 5]"
      ]
     },
     "execution_count": 44,
     "metadata": {},
     "output_type": "execute_result"
    }
   ],
   "source": [
    "x"
   ]
  },
  {
   "cell_type": "code",
   "execution_count": 47,
   "id": "fafd1a6a-e03b-466b-84e8-7f83b6242f43",
   "metadata": {},
   "outputs": [
    {
     "data": {
      "text/plain": [
       "4"
      ]
     },
     "execution_count": 47,
     "metadata": {},
     "output_type": "execute_result"
    }
   ],
   "source": [
    "x.pop()"
   ]
  },
  {
   "cell_type": "code",
   "execution_count": 48,
   "id": "91483227-6c7f-4ea7-901b-4621ca8c705a",
   "metadata": {},
   "outputs": [
    {
     "data": {
      "text/plain": [
       "[8, 1, 7, 9, 3]"
      ]
     },
     "execution_count": 48,
     "metadata": {},
     "output_type": "execute_result"
    }
   ],
   "source": [
    "x"
   ]
  },
  {
   "cell_type": "code",
   "execution_count": 49,
   "id": "8833b171-5b31-46bd-972f-6d8068c938c9",
   "metadata": {},
   "outputs": [
    {
     "data": {
      "text/plain": [
       "1"
      ]
     },
     "execution_count": 49,
     "metadata": {},
     "output_type": "execute_result"
    }
   ],
   "source": [
    "x.pop(1)"
   ]
  },
  {
   "cell_type": "code",
   "execution_count": 50,
   "id": "6d7829ae-688a-4ae6-96ba-67d14d21a557",
   "metadata": {},
   "outputs": [
    {
     "data": {
      "text/plain": [
       "[8, 7, 9, 3]"
      ]
     },
     "execution_count": 50,
     "metadata": {},
     "output_type": "execute_result"
    }
   ],
   "source": [
    "x"
   ]
  },
  {
   "cell_type": "code",
   "execution_count": 52,
   "id": "7f043259-4dd2-4360-b529-1d45585fa0ae",
   "metadata": {},
   "outputs": [
    {
     "data": {
      "text/plain": [
       "1"
      ]
     },
     "execution_count": 52,
     "metadata": {},
     "output_type": "execute_result"
    }
   ],
   "source": [
    "x.count(9)"
   ]
  },
  {
   "cell_type": "code",
   "execution_count": 53,
   "id": "1d5139ae-08c6-4fc0-8e45-797677274b5d",
   "metadata": {},
   "outputs": [],
   "source": [
    "y = [1,1,1,1,2,2,22,3,33,4,4,4,4]"
   ]
  },
  {
   "cell_type": "code",
   "execution_count": 54,
   "id": "579681be-e8b1-458a-adac-79b9c041a9e1",
   "metadata": {},
   "outputs": [
    {
     "data": {
      "text/plain": [
       "4"
      ]
     },
     "execution_count": 54,
     "metadata": {},
     "output_type": "execute_result"
    }
   ],
   "source": [
    "y.count(1)"
   ]
  },
  {
   "cell_type": "code",
   "execution_count": 55,
   "id": "c956d05e-b5ab-49cf-89a8-ca295eea729f",
   "metadata": {},
   "outputs": [
    {
     "data": {
      "text/plain": [
       "[8, 7, 9, 3]"
      ]
     },
     "execution_count": 55,
     "metadata": {},
     "output_type": "execute_result"
    }
   ],
   "source": [
    "x"
   ]
  },
  {
   "cell_type": "code",
   "execution_count": 56,
   "id": "04d80b3b-aac8-4fa9-b22b-4f66c6234450",
   "metadata": {},
   "outputs": [],
   "source": [
    "x.reverse()"
   ]
  },
  {
   "cell_type": "code",
   "execution_count": 57,
   "id": "54864021-36e0-42ca-877f-7a776743b631",
   "metadata": {},
   "outputs": [
    {
     "data": {
      "text/plain": [
       "[3, 9, 7, 8]"
      ]
     },
     "execution_count": 57,
     "metadata": {},
     "output_type": "execute_result"
    }
   ],
   "source": [
    "x"
   ]
  },
  {
   "cell_type": "code",
   "execution_count": 58,
   "id": "268399af-2526-48eb-8119-826142336205",
   "metadata": {},
   "outputs": [],
   "source": [
    "# will concatenation (+) works on the lists ?"
   ]
  },
  {
   "cell_type": "code",
   "execution_count": 59,
   "id": "341e6d82-3320-4d31-ba4a-6b272cfaad3d",
   "metadata": {},
   "outputs": [
    {
     "data": {
      "text/plain": [
       "[3, 9, 7, 8]"
      ]
     },
     "execution_count": 59,
     "metadata": {},
     "output_type": "execute_result"
    }
   ],
   "source": [
    "x"
   ]
  },
  {
   "cell_type": "code",
   "execution_count": 60,
   "id": "443c56fd-f7e8-4a8d-a326-1d75ef090683",
   "metadata": {},
   "outputs": [],
   "source": [
    "y = [1,2,4,5]"
   ]
  },
  {
   "cell_type": "code",
   "execution_count": 61,
   "id": "6ee5901d-467b-4586-988a-8ee1352c00b3",
   "metadata": {},
   "outputs": [
    {
     "data": {
      "text/plain": [
       "[3, 9, 7, 8, 1, 2, 4, 5]"
      ]
     },
     "execution_count": 61,
     "metadata": {},
     "output_type": "execute_result"
    }
   ],
   "source": [
    "x+y"
   ]
  },
  {
   "cell_type": "code",
   "execution_count": 62,
   "id": "d012d33b-40c1-4b6a-b601-3d19d2f4891e",
   "metadata": {},
   "outputs": [],
   "source": [
    "# [3, 9, 7, 8][1,2,4,5]?\n",
    "# [3, 9, 7, 8,1,2,4,5] ?"
   ]
  },
  {
   "cell_type": "code",
   "execution_count": 63,
   "id": "a3fd08ae-8abf-42c7-aab5-e934d32029c3",
   "metadata": {},
   "outputs": [
    {
     "data": {
      "text/plain": [
       "[1, 2, 4, 5, 3, 9, 7, 8]"
      ]
     },
     "execution_count": 63,
     "metadata": {},
     "output_type": "execute_result"
    }
   ],
   "source": [
    "y+x"
   ]
  },
  {
   "cell_type": "code",
   "execution_count": 68,
   "id": "eedbf02c-8a9a-4316-b1d6-d4a47a73012f",
   "metadata": {},
   "outputs": [],
   "source": [
    "z = y+x"
   ]
  },
  {
   "cell_type": "code",
   "execution_count": 72,
   "id": "4e8654c9-6f2c-4f44-b0ea-de96cf428f7a",
   "metadata": {},
   "outputs": [
    {
     "data": {
      "text/plain": [
       "list"
      ]
     },
     "execution_count": 72,
     "metadata": {},
     "output_type": "execute_result"
    }
   ],
   "source": [
    "type(z)"
   ]
  },
  {
   "cell_type": "code",
   "execution_count": 70,
   "id": "df67a310-0d9a-4c6e-9174-186a49aa5903",
   "metadata": {},
   "outputs": [],
   "source": [
    "z.sort()"
   ]
  },
  {
   "cell_type": "code",
   "execution_count": 71,
   "id": "0275c242-820f-42f8-a5dc-36f95d05fb6d",
   "metadata": {},
   "outputs": [
    {
     "data": {
      "text/plain": [
       "[1, 2, 3, 4, 5, 7, 8, 9]"
      ]
     },
     "execution_count": 71,
     "metadata": {},
     "output_type": "execute_result"
    }
   ],
   "source": [
    "z"
   ]
  },
  {
   "cell_type": "code",
   "execution_count": 65,
   "id": "2b3d2d07-c166-4057-8a6a-2231b1d44842",
   "metadata": {},
   "outputs": [
    {
     "data": {
      "text/plain": [
       "[3, 9, 7, 8]"
      ]
     },
     "execution_count": 65,
     "metadata": {},
     "output_type": "execute_result"
    }
   ],
   "source": [
    "x"
   ]
  },
  {
   "cell_type": "code",
   "execution_count": 66,
   "id": "d69830ec-128e-434b-a205-f65ba0eae4e0",
   "metadata": {},
   "outputs": [
    {
     "data": {
      "text/plain": [
       "[1, 2, 4, 5]"
      ]
     },
     "execution_count": 66,
     "metadata": {},
     "output_type": "execute_result"
    }
   ],
   "source": [
    "y"
   ]
  },
  {
   "cell_type": "code",
   "execution_count": 67,
   "id": "a0445e6e-1a2a-4ca4-b587-7e517b889568",
   "metadata": {},
   "outputs": [
    {
     "data": {
      "text/plain": [
       "[1, 2, 4, 5, 3, 9, 7, 8]"
      ]
     },
     "execution_count": 67,
     "metadata": {},
     "output_type": "execute_result"
    }
   ],
   "source": [
    "(y+x)"
   ]
  },
  {
   "cell_type": "code",
   "execution_count": 73,
   "id": "733a6433-7dd0-4d65-81f9-8ea06fd6eaec",
   "metadata": {},
   "outputs": [
    {
     "data": {
      "text/plain": [
       "[3, 9, 7, 8]"
      ]
     },
     "execution_count": 73,
     "metadata": {},
     "output_type": "execute_result"
    }
   ],
   "source": [
    "x"
   ]
  },
  {
   "cell_type": "code",
   "execution_count": 74,
   "id": "6b25d599-b940-4ddc-8fcc-49f69eda444a",
   "metadata": {},
   "outputs": [
    {
     "data": {
      "text/plain": [
       "[3, 9, 7, 8, 3, 9, 7, 8, 3, 9, 7, 8, 3, 9, 7, 8]"
      ]
     },
     "execution_count": 74,
     "metadata": {},
     "output_type": "execute_result"
    }
   ],
   "source": [
    "x*4 # repetition"
   ]
  },
  {
   "cell_type": "code",
   "execution_count": 75,
   "id": "33ffcf9e-b6a7-4d40-a609-51ee8e608e89",
   "metadata": {},
   "outputs": [
    {
     "data": {
      "text/plain": [
       "7"
      ]
     },
     "execution_count": 75,
     "metadata": {},
     "output_type": "execute_result"
    }
   ],
   "source": [
    "x[2]"
   ]
  },
  {
   "cell_type": "code",
   "execution_count": 76,
   "id": "99f8b4c6-debb-4cec-b0a7-d054e3da1783",
   "metadata": {},
   "outputs": [
    {
     "data": {
      "text/plain": [
       "8"
      ]
     },
     "execution_count": 76,
     "metadata": {},
     "output_type": "execute_result"
    }
   ],
   "source": [
    "x[-1]"
   ]
  },
  {
   "cell_type": "code",
   "execution_count": 77,
   "id": "a2069940-30c7-4e56-8bb9-522c51b6045f",
   "metadata": {},
   "outputs": [
    {
     "data": {
      "text/plain": [
       "[3, 9, 7, 8]"
      ]
     },
     "execution_count": 77,
     "metadata": {},
     "output_type": "execute_result"
    }
   ],
   "source": [
    "x[0:5]"
   ]
  },
  {
   "cell_type": "code",
   "execution_count": 78,
   "id": "2ff87348-0184-4122-954a-466700a31ce4",
   "metadata": {},
   "outputs": [
    {
     "data": {
      "text/plain": [
       "4"
      ]
     },
     "execution_count": 78,
     "metadata": {},
     "output_type": "execute_result"
    }
   ],
   "source": [
    "len(x)"
   ]
  },
  {
   "cell_type": "code",
   "execution_count": 79,
   "id": "e7b355ec-d594-44d2-bf18-f59eab3d1d89",
   "metadata": {},
   "outputs": [],
   "source": [
    "# Lists of lists (lists with in a lists)"
   ]
  },
  {
   "cell_type": "code",
   "execution_count": 80,
   "id": "699949c4-fd41-4a15-b426-9d48009234e6",
   "metadata": {},
   "outputs": [],
   "source": [
    "alpha = [1,2,[3,4],5,6]"
   ]
  },
  {
   "cell_type": "code",
   "execution_count": 83,
   "id": "1f223559-c5aa-421c-8fd4-1b7e7f974313",
   "metadata": {},
   "outputs": [
    {
     "data": {
      "text/plain": [
       "[3, 4]"
      ]
     },
     "execution_count": 83,
     "metadata": {},
     "output_type": "execute_result"
    }
   ],
   "source": [
    "alpha[2]"
   ]
  },
  {
   "cell_type": "code",
   "execution_count": 84,
   "id": "84324809-4934-4e94-ab9c-e48cd370179d",
   "metadata": {},
   "outputs": [
    {
     "data": {
      "text/plain": [
       "5"
      ]
     },
     "execution_count": 84,
     "metadata": {},
     "output_type": "execute_result"
    }
   ],
   "source": [
    "alpha[3]"
   ]
  },
  {
   "cell_type": "code",
   "execution_count": 85,
   "id": "16929e6a-7752-4981-8168-6b34faf11867",
   "metadata": {},
   "outputs": [
    {
     "name": "stderr",
     "output_type": "stream",
     "text": [
      "<>:1: SyntaxWarning: 'int' object is not subscriptable; perhaps you missed a comma?\n",
      "<>:1: SyntaxWarning: 'int' object is not subscriptable; perhaps you missed a comma?\n",
      "C:\\Users\\mahes\\AppData\\Local\\Temp\\ipykernel_27308\\4138374956.py:1: SyntaxWarning: 'int' object is not subscriptable; perhaps you missed a comma?\n",
      "  alpha[2[1]]\n"
     ]
    },
    {
     "ename": "TypeError",
     "evalue": "'int' object is not subscriptable",
     "output_type": "error",
     "traceback": [
      "\u001b[31m---------------------------------------------------------------------------\u001b[39m",
      "\u001b[31mTypeError\u001b[39m                                 Traceback (most recent call last)",
      "\u001b[36mCell\u001b[39m\u001b[36m \u001b[39m\u001b[32mIn[85]\u001b[39m\u001b[32m, line 1\u001b[39m\n\u001b[32m----> \u001b[39m\u001b[32m1\u001b[39m alpha[\u001b[32;43m2\u001b[39;49m\u001b[43m[\u001b[49m\u001b[32;43m1\u001b[39;49m\u001b[43m]\u001b[49m]\n",
      "\u001b[31mTypeError\u001b[39m: 'int' object is not subscriptable"
     ]
    }
   ],
   "source": [
    "alpha[2[1]]"
   ]
  },
  {
   "cell_type": "code",
   "execution_count": 86,
   "id": "a96a0cc1-7044-4030-b156-ba4440b4bdd3",
   "metadata": {},
   "outputs": [
    {
     "ename": "TypeError",
     "evalue": "list indices must be integers or slices, not tuple",
     "output_type": "error",
     "traceback": [
      "\u001b[31m---------------------------------------------------------------------------\u001b[39m",
      "\u001b[31mTypeError\u001b[39m                                 Traceback (most recent call last)",
      "\u001b[36mCell\u001b[39m\u001b[36m \u001b[39m\u001b[32mIn[86]\u001b[39m\u001b[32m, line 1\u001b[39m\n\u001b[32m----> \u001b[39m\u001b[32m1\u001b[39m \u001b[43malpha\u001b[49m\u001b[43m[\u001b[49m\u001b[32;43m2\u001b[39;49m\u001b[43m,\u001b[49m\u001b[32;43m1\u001b[39;49m\u001b[43m]\u001b[49m\n",
      "\u001b[31mTypeError\u001b[39m: list indices must be integers or slices, not tuple"
     ]
    }
   ],
   "source": [
    "alpha[2,1]"
   ]
  },
  {
   "cell_type": "code",
   "execution_count": 87,
   "id": "6e46f80c-8195-40f4-9d95-4e52555c1446",
   "metadata": {},
   "outputs": [
    {
     "name": "stderr",
     "output_type": "stream",
     "text": [
      "<>:1: SyntaxWarning: 'int' object is not callable; perhaps you missed a comma?\n",
      "<>:1: SyntaxWarning: 'int' object is not callable; perhaps you missed a comma?\n",
      "C:\\Users\\mahes\\AppData\\Local\\Temp\\ipykernel_27308\\1776819715.py:1: SyntaxWarning: 'int' object is not callable; perhaps you missed a comma?\n",
      "  alpha[2(1)]\n"
     ]
    },
    {
     "ename": "TypeError",
     "evalue": "'int' object is not callable",
     "output_type": "error",
     "traceback": [
      "\u001b[31m---------------------------------------------------------------------------\u001b[39m",
      "\u001b[31mTypeError\u001b[39m                                 Traceback (most recent call last)",
      "\u001b[36mCell\u001b[39m\u001b[36m \u001b[39m\u001b[32mIn[87]\u001b[39m\u001b[32m, line 1\u001b[39m\n\u001b[32m----> \u001b[39m\u001b[32m1\u001b[39m alpha[\u001b[32;43m2\u001b[39;49m\u001b[43m(\u001b[49m\u001b[32;43m1\u001b[39;49m\u001b[43m)\u001b[49m]\n",
      "\u001b[31mTypeError\u001b[39m: 'int' object is not callable"
     ]
    }
   ],
   "source": [
    "alpha[2(1)]"
   ]
  },
  {
   "cell_type": "code",
   "execution_count": 88,
   "id": "74cf5d09-754c-4b06-92cc-6e7f57637b9c",
   "metadata": {},
   "outputs": [
    {
     "data": {
      "text/plain": [
       "4"
      ]
     },
     "execution_count": 88,
     "metadata": {},
     "output_type": "execute_result"
    }
   ],
   "source": [
    "alpha[2][1]"
   ]
  },
  {
   "cell_type": "code",
   "execution_count": 2,
   "id": "085353c3-1e23-49c9-877b-49cdd455cf51",
   "metadata": {},
   "outputs": [],
   "source": [
    "zeta = [2,4,6,8]"
   ]
  },
  {
   "cell_type": "code",
   "execution_count": 90,
   "id": "657e272c-5477-4e6c-a621-53536a6e2726",
   "metadata": {},
   "outputs": [
    {
     "data": {
      "text/plain": [
       "[2, 4, 6, 8]"
      ]
     },
     "execution_count": 90,
     "metadata": {},
     "output_type": "execute_result"
    }
   ],
   "source": [
    "zeta"
   ]
  },
  {
   "cell_type": "code",
   "execution_count": 91,
   "id": "8d5e3400-d927-4d58-9cf9-836050221d19",
   "metadata": {},
   "outputs": [],
   "source": [
    "# input = [2,4,6,8]\n",
    "\n",
    "# output = [4,8,12,16]"
   ]
  },
  {
   "cell_type": "code",
   "execution_count": 95,
   "id": "14473d84-7c9e-43b4-80f2-9e5e5a352213",
   "metadata": {},
   "outputs": [
    {
     "ename": "ValueError",
     "evalue": "0 is not in list",
     "output_type": "error",
     "traceback": [
      "\u001b[31m---------------------------------------------------------------------------\u001b[39m",
      "\u001b[31mValueError\u001b[39m                                Traceback (most recent call last)",
      "\u001b[36mCell\u001b[39m\u001b[36m \u001b[39m\u001b[32mIn[95]\u001b[39m\u001b[32m, line 1\u001b[39m\n\u001b[32m----> \u001b[39m\u001b[32m1\u001b[39m \u001b[43mzeta\u001b[49m\u001b[43m.\u001b[49m\u001b[43mindex\u001b[49m\u001b[43m(\u001b[49m\u001b[32;43m0\u001b[39;49m\u001b[43m)\u001b[49m\n",
      "\u001b[31mValueError\u001b[39m: 0 is not in list"
     ]
    }
   ],
   "source": [
    "zeta.index(0)"
   ]
  },
  {
   "cell_type": "code",
   "execution_count": 96,
   "id": "056d47e4-22eb-412d-917e-005ac164f68e",
   "metadata": {},
   "outputs": [
    {
     "ename": "TypeError",
     "evalue": "index expected at least 1 argument, got 0",
     "output_type": "error",
     "traceback": [
      "\u001b[31m---------------------------------------------------------------------------\u001b[39m",
      "\u001b[31mTypeError\u001b[39m                                 Traceback (most recent call last)",
      "\u001b[36mCell\u001b[39m\u001b[36m \u001b[39m\u001b[32mIn[96]\u001b[39m\u001b[32m, line 1\u001b[39m\n\u001b[32m----> \u001b[39m\u001b[32m1\u001b[39m \u001b[43mzeta\u001b[49m\u001b[43m.\u001b[49m\u001b[43mindex\u001b[49m\u001b[43m(\u001b[49m\u001b[43m)\u001b[49m\n",
      "\u001b[31mTypeError\u001b[39m: index expected at least 1 argument, got 0"
     ]
    }
   ],
   "source": [
    "zeta.index()"
   ]
  },
  {
   "cell_type": "code",
   "execution_count": 97,
   "id": "b4473c4a-000e-4af3-8991-2fbadfcb5100",
   "metadata": {},
   "outputs": [
    {
     "data": {
      "text/plain": [
       "[2, 4, 6, 8]"
      ]
     },
     "execution_count": 97,
     "metadata": {},
     "output_type": "execute_result"
    }
   ],
   "source": [
    "zeta"
   ]
  },
  {
   "cell_type": "code",
   "execution_count": 100,
   "id": "11e1bb3d-475d-46c8-be19-1723db53626c",
   "metadata": {},
   "outputs": [
    {
     "data": {
      "text/plain": [
       "2"
      ]
     },
     "execution_count": 100,
     "metadata": {},
     "output_type": "execute_result"
    }
   ],
   "source": [
    "min(zeta)  # Python inbuilt functions"
   ]
  },
  {
   "cell_type": "code",
   "execution_count": 101,
   "id": "04b39d17-4e6c-486b-af91-921c352926dc",
   "metadata": {},
   "outputs": [
    {
     "data": {
      "text/plain": [
       "8"
      ]
     },
     "execution_count": 101,
     "metadata": {},
     "output_type": "execute_result"
    }
   ],
   "source": [
    "max(zeta) # Python inbuilt functions"
   ]
  },
  {
   "cell_type": "code",
   "execution_count": 3,
   "id": "0fe63bfb-7c7d-4a2e-aaaf-51db46f2d54a",
   "metadata": {},
   "outputs": [
    {
     "data": {
      "text/plain": [
       "[2, 4, 6, 8]"
      ]
     },
     "execution_count": 3,
     "metadata": {},
     "output_type": "execute_result"
    }
   ],
   "source": [
    "zeta"
   ]
  },
  {
   "cell_type": "code",
   "execution_count": 4,
   "id": "b39b5718-09f3-4637-bb5c-4ffaf4150c0b",
   "metadata": {},
   "outputs": [],
   "source": [
    "# double the each and every value in the given list"
   ]
  },
  {
   "cell_type": "code",
   "execution_count": 6,
   "id": "8404a855-cd8a-4fe6-a294-b4ca04a932e9",
   "metadata": {},
   "outputs": [
    {
     "data": {
      "text/plain": [
       "[4, 8, 12, 16]"
      ]
     },
     "execution_count": 6,
     "metadata": {},
     "output_type": "execute_result"
    }
   ],
   "source": [
    "[zeta[0]*2,zeta[1]*2,zeta[2]*2,zeta[3]*2]"
   ]
  },
  {
   "cell_type": "code",
   "execution_count": 7,
   "id": "cafe9898-15ed-4426-b5f8-34cc023dda7c",
   "metadata": {},
   "outputs": [
    {
     "data": {
      "text/plain": [
       "[2, 4, 6, 8, 2, 4, 6, 8]"
      ]
     },
     "execution_count": 7,
     "metadata": {},
     "output_type": "execute_result"
    }
   ],
   "source": [
    "zeta*2"
   ]
  },
  {
   "cell_type": "code",
   "execution_count": 8,
   "id": "0d6b708f-0519-45f7-980f-873b69d9f995",
   "metadata": {},
   "outputs": [
    {
     "data": {
      "text/plain": [
       "[2, 4, 6, 8]"
      ]
     },
     "execution_count": 8,
     "metadata": {},
     "output_type": "execute_result"
    }
   ],
   "source": [
    "zeta"
   ]
  },
  {
   "cell_type": "code",
   "execution_count": 9,
   "id": "a9ee7d6b-d461-4902-8e83-a4734b75edc5",
   "metadata": {},
   "outputs": [],
   "source": [
    "# Python Modules"
   ]
  },
  {
   "cell_type": "code",
   "execution_count": 10,
   "id": "c1c7c671-df1d-4909-871a-bca2cd1a4717",
   "metadata": {},
   "outputs": [],
   "source": [
    "import math"
   ]
  },
  {
   "cell_type": "code",
   "execution_count": 11,
   "id": "a23d94ca-dd57-410f-9730-32e1dedc57ae",
   "metadata": {},
   "outputs": [
    {
     "data": {
      "text/plain": [
       "2.302585092994046"
      ]
     },
     "execution_count": 11,
     "metadata": {},
     "output_type": "execute_result"
    }
   ],
   "source": [
    "math.log(10)"
   ]
  },
  {
   "cell_type": "code",
   "execution_count": 12,
   "id": "de696848-8acf-403f-871c-1eabf1a7f7c3",
   "metadata": {},
   "outputs": [
    {
     "data": {
      "text/plain": [
       "10.0"
      ]
     },
     "execution_count": 12,
     "metadata": {},
     "output_type": "execute_result"
    }
   ],
   "source": [
    "math.sqrt(100)"
   ]
  },
  {
   "cell_type": "code",
   "execution_count": 13,
   "id": "48b9a31f-0a48-40da-8611-379f3ccb1822",
   "metadata": {},
   "outputs": [],
   "source": [
    "# square root of 100"
   ]
  },
  {
   "cell_type": "code",
   "execution_count": 14,
   "id": "c6c43be2-9aa7-412a-ada9-837b4d53ee6c",
   "metadata": {},
   "outputs": [],
   "source": [
    "# Function or method - partial code where we can resue if needed"
   ]
  },
  {
   "cell_type": "code",
   "execution_count": 15,
   "id": "5b6cb441-f94c-4fc2-83c3-ae8fc91f192d",
   "metadata": {},
   "outputs": [],
   "source": [
    "# add set of numbers 100 times.\n",
    "\n",
    "# we write code for adding 100 sets - no. of lines are more - 100+ lines code\n",
    "# (OR)\n",
    "# you just write small code for addition and call this code 100 times - less than 10 lines of code"
   ]
  },
  {
   "cell_type": "code",
   "execution_count": 16,
   "id": "97b1d9a7-521d-44b0-aad9-7a270bc3873a",
   "metadata": {},
   "outputs": [],
   "source": [
    "# Module - collection of functions\n",
    "# Example - math module - collection of all mathematical related functions only.\n",
    "# access functions inside a module, by importing module and then using dot notation + tab key \n",
    "# you will access the functions inside a module"
   ]
  },
  {
   "cell_type": "code",
   "execution_count": 17,
   "id": "99615709-8528-4142-8e66-593ba7074cfe",
   "metadata": {},
   "outputs": [],
   "source": [
    "# import math"
   ]
  },
  {
   "cell_type": "code",
   "execution_count": null,
   "id": "0c5772d7-1459-4c04-ba6c-eee038fcda0e",
   "metadata": {},
   "outputs": [],
   "source": [
    "# math."
   ]
  },
  {
   "cell_type": "code",
   "execution_count": 18,
   "id": "7c5a9f3c-bb01-450f-8f45-29cc587808e5",
   "metadata": {},
   "outputs": [],
   "source": [
    "# Libray - Collection of modules\n",
    "# Package - Collection of Library - code (multiple python files) to build an application -> you convert it into an execuatble file is called package"
   ]
  },
  {
   "cell_type": "code",
   "execution_count": 19,
   "id": "b24edb42-0799-45a5-8803-ecb87f9453d3",
   "metadata": {},
   "outputs": [],
   "source": [
    "import math"
   ]
  },
  {
   "cell_type": "code",
   "execution_count": 20,
   "id": "e0db8b88-aa14-4bd5-a12c-aecdd2153df0",
   "metadata": {},
   "outputs": [],
   "source": [
    "import math as ma"
   ]
  },
  {
   "cell_type": "code",
   "execution_count": 21,
   "id": "406caf84-c532-4845-bcb1-1f52e0a75508",
   "metadata": {},
   "outputs": [
    {
     "ename": "ModuleNotFoundError",
     "evalue": "No module named 'numpy'",
     "output_type": "error",
     "traceback": [
      "\u001b[31m---------------------------------------------------------------------------\u001b[39m",
      "\u001b[31mModuleNotFoundError\u001b[39m                       Traceback (most recent call last)",
      "\u001b[36mCell\u001b[39m\u001b[36m \u001b[39m\u001b[32mIn[21]\u001b[39m\u001b[32m, line 1\u001b[39m\n\u001b[32m----> \u001b[39m\u001b[32m1\u001b[39m \u001b[38;5;28;01mimport\u001b[39;00m\u001b[38;5;250m \u001b[39m\u001b[34;01mnumpy\u001b[39;00m\u001b[38;5;250m \u001b[39m\u001b[38;5;28;01mas\u001b[39;00m\u001b[38;5;250m \u001b[39m\u001b[34;01mnp\u001b[39;00m\n",
      "\u001b[31mModuleNotFoundError\u001b[39m: No module named 'numpy'"
     ]
    }
   ],
   "source": [
    "import numpy as np"
   ]
  },
  {
   "cell_type": "code",
   "execution_count": 22,
   "id": "c162f031-0abb-4765-8000-9aa93d195284",
   "metadata": {},
   "outputs": [
    {
     "name": "stdout",
     "output_type": "stream",
     "text": [
      "Collecting numpy\n",
      "  Downloading numpy-2.2.5-cp313-cp313-win_amd64.whl.metadata (60 kB)\n",
      "Downloading numpy-2.2.5-cp313-cp313-win_amd64.whl (12.6 MB)\n",
      "   ---------------------------------------- 0.0/12.6 MB ? eta -:--:--\n",
      "   ------ --------------------------------- 2.1/12.6 MB 11.6 MB/s eta 0:00:01\n",
      "   -------------- ------------------------- 4.5/12.6 MB 11.6 MB/s eta 0:00:01\n",
      "   ---------------------- ----------------- 7.1/12.6 MB 11.7 MB/s eta 0:00:01\n",
      "   ----------------------------- ---------- 9.2/12.6 MB 11.4 MB/s eta 0:00:01\n",
      "   ------------------------------------- -- 11.8/12.6 MB 11.5 MB/s eta 0:00:01\n",
      "   ---------------------------------------- 12.6/12.6 MB 10.2 MB/s eta 0:00:00\n",
      "Installing collected packages: numpy\n",
      "Successfully installed numpy-2.2.5\n",
      "Note: you may need to restart the kernel to use updated packages.\n"
     ]
    },
    {
     "name": "stderr",
     "output_type": "stream",
     "text": [
      "\n",
      "[notice] A new release of pip is available: 24.3.1 -> 25.1.1\n",
      "[notice] To update, run: python.exe -m pip install --upgrade pip\n"
     ]
    }
   ],
   "source": [
    "pip install numpy"
   ]
  },
  {
   "cell_type": "code",
   "execution_count": 26,
   "id": "2ba75998-ecd0-48c1-a557-c160fcf7f3cc",
   "metadata": {},
   "outputs": [],
   "source": [
    "import numpy as np"
   ]
  },
  {
   "cell_type": "code",
   "execution_count": 28,
   "id": "061fbeda-42b4-49e0-b0cc-7b6bcc956afe",
   "metadata": {},
   "outputs": [
    {
     "data": {
      "text/plain": [
       "[2, 4, 6, 8]"
      ]
     },
     "execution_count": 28,
     "metadata": {},
     "output_type": "execute_result"
    }
   ],
   "source": [
    "zeta"
   ]
  },
  {
   "cell_type": "code",
   "execution_count": 29,
   "id": "710988fe-fd76-4b22-ab6c-87de5b9e7bd2",
   "metadata": {},
   "outputs": [],
   "source": [
    "lst = np.array(zeta)"
   ]
  },
  {
   "cell_type": "code",
   "execution_count": 30,
   "id": "008f1528-698a-4e4c-a32a-c47a5ce2e7d0",
   "metadata": {},
   "outputs": [
    {
     "data": {
      "text/plain": [
       "numpy.ndarray"
      ]
     },
     "execution_count": 30,
     "metadata": {},
     "output_type": "execute_result"
    }
   ],
   "source": [
    "type(lst)"
   ]
  },
  {
   "cell_type": "code",
   "execution_count": 31,
   "id": "5dc9432d-a22c-48a2-ba9b-f78709070646",
   "metadata": {},
   "outputs": [
    {
     "data": {
      "text/plain": [
       "list"
      ]
     },
     "execution_count": 31,
     "metadata": {},
     "output_type": "execute_result"
    }
   ],
   "source": [
    "type(zeta)"
   ]
  },
  {
   "cell_type": "code",
   "execution_count": 38,
   "id": "6b088157-25eb-4dbc-95e5-49f7c754316e",
   "metadata": {},
   "outputs": [],
   "source": [
    "lt = lst*2"
   ]
  },
  {
   "cell_type": "code",
   "execution_count": 39,
   "id": "d61d1ef7-5b2f-4591-b826-b8c97946dd34",
   "metadata": {},
   "outputs": [
    {
     "data": {
      "text/plain": [
       "array([ 4,  8, 12, 16])"
      ]
     },
     "execution_count": 39,
     "metadata": {},
     "output_type": "execute_result"
    }
   ],
   "source": [
    "lt"
   ]
  },
  {
   "cell_type": "code",
   "execution_count": 40,
   "id": "62572a8c-1b95-4ebb-93a4-10a6d52a7c28",
   "metadata": {},
   "outputs": [
    {
     "data": {
      "text/plain": [
       "numpy.ndarray"
      ]
     },
     "execution_count": 40,
     "metadata": {},
     "output_type": "execute_result"
    }
   ],
   "source": [
    "type(lt)"
   ]
  },
  {
   "cell_type": "code",
   "execution_count": 41,
   "id": "a458c2d5-2b8f-40f3-a811-ee806462ed97",
   "metadata": {},
   "outputs": [],
   "source": [
    "lt = lt.tolist()"
   ]
  },
  {
   "cell_type": "code",
   "execution_count": 42,
   "id": "8cb97a29-ee8f-4244-b7d5-5d36580729be",
   "metadata": {},
   "outputs": [
    {
     "data": {
      "text/plain": [
       "list"
      ]
     },
     "execution_count": 42,
     "metadata": {},
     "output_type": "execute_result"
    }
   ],
   "source": [
    "type(lt)"
   ]
  },
  {
   "cell_type": "code",
   "execution_count": 44,
   "id": "c5a806b8-7dc1-4fa4-8511-25e0cd61e546",
   "metadata": {},
   "outputs": [
    {
     "data": {
      "text/plain": [
       "[4, 8, 12, 16]"
      ]
     },
     "execution_count": 44,
     "metadata": {},
     "output_type": "execute_result"
    }
   ],
   "source": [
    "lt"
   ]
  },
  {
   "cell_type": "code",
   "execution_count": 45,
   "id": "ce50b0a0-1cc8-4312-bcd3-22ceb09a1bc6",
   "metadata": {},
   "outputs": [],
   "source": [
    "# list -> array -> apply changes -> list"
   ]
  },
  {
   "cell_type": "code",
   "execution_count": 46,
   "id": "5d29a83a-8885-475a-9385-e8160c42a719",
   "metadata": {},
   "outputs": [],
   "source": [
    "# Realtime application of python lists - My special things"
   ]
  },
  {
   "cell_type": "code",
   "execution_count": 47,
   "id": "30e30fc8-3dba-4225-a1a5-502924284d82",
   "metadata": {},
   "outputs": [],
   "source": [
    "b = ['one', 'two', 'three', 'four']"
   ]
  },
  {
   "cell_type": "code",
   "execution_count": 48,
   "id": "e8e07966-a528-4753-886f-9f5ac29afd3e",
   "metadata": {},
   "outputs": [
    {
     "data": {
      "text/plain": [
       "list"
      ]
     },
     "execution_count": 48,
     "metadata": {},
     "output_type": "execute_result"
    }
   ],
   "source": [
    "type(b)"
   ]
  },
  {
   "cell_type": "code",
   "execution_count": 49,
   "id": "cd150885-2315-4ab3-bcac-ce960e2b22e2",
   "metadata": {},
   "outputs": [],
   "source": [
    "c = ['one', 'two', 'three', 'four', 2, 3, [2+3j], 1.34]"
   ]
  },
  {
   "cell_type": "code",
   "execution_count": 50,
   "id": "aac5f16d-f484-474e-a136-4455943536c7",
   "metadata": {},
   "outputs": [
    {
     "data": {
      "text/plain": [
       "list"
      ]
     },
     "execution_count": 50,
     "metadata": {},
     "output_type": "execute_result"
    }
   ],
   "source": [
    "type(c)"
   ]
  },
  {
   "cell_type": "code",
   "execution_count": 51,
   "id": "40fa3adc-ea04-4a6d-b141-5f6113c6e342",
   "metadata": {},
   "outputs": [],
   "source": [
    "d = ['one', 'two', 'three', 'four',[1,2,3], [4,5,6]]"
   ]
  },
  {
   "cell_type": "code",
   "execution_count": 52,
   "id": "f59d2f8a-d98e-486d-a53f-05cccf6efb39",
   "metadata": {},
   "outputs": [
    {
     "data": {
      "text/plain": [
       "list"
      ]
     },
     "execution_count": 52,
     "metadata": {},
     "output_type": "execute_result"
    }
   ],
   "source": [
    "type(d)"
   ]
  },
  {
   "cell_type": "code",
   "execution_count": null,
   "id": "ba2d19cb-3f29-465d-9a58-f10d977949eb",
   "metadata": {},
   "outputs": [],
   "source": [
    "# Realtime application of python lists \n",
    "# whatsapp group with list of contacts\n",
    "# Finding a score on the marks achieved by student - sum(marks)/no. of sub - %age\n",
    "# Average building temperature - ?? 24 degrees an average\n",
    "# for every 30 min or 15 min, he come measure temp and noted \n",
    "# [24.6, 24.3, 21.2, 26.2] = ? sum(list)/no. of times = avg temp\n",
    "# webserver handling user requests - Amazon\n",
    "# Order processer run backend - inventory 100 shoes\n",
    "# sequence or parallel \n",
    "# list of orders sequentially - [order1, order2, order3.., ordern]\n",
    "# list.pop ?? "
   ]
  },
  {
   "cell_type": "code",
   "execution_count": 53,
   "id": "0b0b7df1-b162-4957-a3d6-9a8d5fd52ff8",
   "metadata": {},
   "outputs": [],
   "source": [
    "list2 = [2,3,4,5,6]"
   ]
  },
  {
   "cell_type": "code",
   "execution_count": 55,
   "id": "1789f184-092d-4602-bdad-4a7360aef514",
   "metadata": {},
   "outputs": [
    {
     "data": {
      "text/plain": [
       "6"
      ]
     },
     "execution_count": 55,
     "metadata": {},
     "output_type": "execute_result"
    }
   ],
   "source": [
    "list2.pop()"
   ]
  },
  {
   "cell_type": "code",
   "execution_count": 57,
   "id": "de94d104-31ab-4da0-bccc-d077005a8754",
   "metadata": {},
   "outputs": [
    {
     "data": {
      "text/plain": [
       "5"
      ]
     },
     "execution_count": 57,
     "metadata": {},
     "output_type": "execute_result"
    }
   ],
   "source": [
    "list2.pop()"
   ]
  },
  {
   "cell_type": "code",
   "execution_count": 1,
   "id": "386f8a45-eb62-4fa8-b3ca-6774a9143ede",
   "metadata": {},
   "outputs": [],
   "source": [
    "temperatures = [24.56, 23.32, 22.58, 21.87, 25.01, 26.06]"
   ]
  },
  {
   "cell_type": "code",
   "execution_count": 6,
   "id": "40bf3005-dce9-4848-80e0-42027b5ad5fb",
   "metadata": {},
   "outputs": [],
   "source": [
    "average_temp = sum(temperatures)/len(temperatures)"
   ]
  },
  {
   "cell_type": "code",
   "execution_count": 23,
   "id": "62519055-9e68-4384-b9d8-a71c2bfd6883",
   "metadata": {},
   "outputs": [
    {
     "name": "stdout",
     "output_type": "stream",
     "text": [
      "Average temperature: 24 deg\n"
     ]
    }
   ],
   "source": [
    "print(f\"Average temperature:\",round(average_temp),\"deg\")"
   ]
  },
  {
   "cell_type": "code",
   "execution_count": 15,
   "id": "5a2bedac-fbf3-4266-bc69-45c35ac59851",
   "metadata": {},
   "outputs": [
    {
     "data": {
      "text/plain": [
       "'1223'"
      ]
     },
     "execution_count": 15,
     "metadata": {},
     "output_type": "execute_result"
    }
   ],
   "source": [
    "\"12\"+\"23\""
   ]
  },
  {
   "cell_type": "code",
   "execution_count": 16,
   "id": "061c7e6e-9350-4c9a-a233-1e735cc1de6e",
   "metadata": {},
   "outputs": [
    {
     "ename": "TypeError",
     "evalue": "can only concatenate str (not \"int\") to str",
     "output_type": "error",
     "traceback": [
      "\u001b[31m---------------------------------------------------------------------------\u001b[39m",
      "\u001b[31mTypeError\u001b[39m                                 Traceback (most recent call last)",
      "\u001b[36mCell\u001b[39m\u001b[36m \u001b[39m\u001b[32mIn[16]\u001b[39m\u001b[32m, line 1\u001b[39m\n\u001b[32m----> \u001b[39m\u001b[32m1\u001b[39m \u001b[33;43m\"\u001b[39;49m\u001b[33;43m12\u001b[39;49m\u001b[33;43m\"\u001b[39;49m\u001b[43m+\u001b[49m\u001b[32;43m13\u001b[39;49m\n",
      "\u001b[31mTypeError\u001b[39m: can only concatenate str (not \"int\") to str"
     ]
    }
   ],
   "source": [
    "\"12\"+13"
   ]
  },
  {
   "cell_type": "code",
   "execution_count": 24,
   "id": "8509d970-034a-4692-b314-7d6d665b25ed",
   "metadata": {},
   "outputs": [
    {
     "name": "stdin",
     "output_type": "stream",
     "text": [
      "Enter the temp1 reading 34\n"
     ]
    },
    {
     "data": {
      "text/plain": [
       "'34'"
      ]
     },
     "execution_count": 24,
     "metadata": {},
     "output_type": "execute_result"
    }
   ],
   "source": [
    "input(\"Enter the temp1 reading\")"
   ]
  },
  {
   "cell_type": "code",
   "execution_count": 27,
   "id": "2a3ca345-6961-4b8d-9941-0c5f3f1a5b6f",
   "metadata": {},
   "outputs": [
    {
     "name": "stdin",
     "output_type": "stream",
     "text": [
      "Enter the temp1 reading: 25.67\n"
     ]
    }
   ],
   "source": [
    "temp1 = input(\"Enter the temp1 reading:\")  # always take the given input as str only"
   ]
  },
  {
   "cell_type": "code",
   "execution_count": 28,
   "id": "8fc618b4-f0d5-48e5-a3eb-1260825e8b0a",
   "metadata": {},
   "outputs": [
    {
     "name": "stdout",
     "output_type": "stream",
     "text": [
      "25.67\n"
     ]
    }
   ],
   "source": [
    "print(temp1)"
   ]
  },
  {
   "cell_type": "code",
   "execution_count": 29,
   "id": "e9437d85-fc27-45b3-bd31-94265b480f00",
   "metadata": {},
   "outputs": [
    {
     "data": {
      "text/plain": [
       "str"
      ]
     },
     "execution_count": 29,
     "metadata": {},
     "output_type": "execute_result"
    }
   ],
   "source": [
    "type(temp1)"
   ]
  },
  {
   "cell_type": "code",
   "execution_count": 30,
   "id": "adcfafd2-c793-4ebf-94af-20d204e6fa7a",
   "metadata": {},
   "outputs": [],
   "source": [
    "# Typecasting"
   ]
  },
  {
   "cell_type": "code",
   "execution_count": 35,
   "id": "c7abc501-2959-4209-9f81-a96df503b3a0",
   "metadata": {},
   "outputs": [],
   "source": [
    "temp1 = float(temp1)"
   ]
  },
  {
   "cell_type": "code",
   "execution_count": 36,
   "id": "00cc2a78-5cfe-42ae-a615-59c9024d05ec",
   "metadata": {},
   "outputs": [
    {
     "data": {
      "text/plain": [
       "float"
      ]
     },
     "execution_count": 36,
     "metadata": {},
     "output_type": "execute_result"
    }
   ],
   "source": [
    "type(temp1)"
   ]
  },
  {
   "cell_type": "code",
   "execution_count": 37,
   "id": "ea440e23-faa7-4c0c-8bbd-7212f115da2b",
   "metadata": {},
   "outputs": [
    {
     "data": {
      "text/plain": [
       "25.67"
      ]
     },
     "execution_count": 37,
     "metadata": {},
     "output_type": "execute_result"
    }
   ],
   "source": [
    "temp1"
   ]
  },
  {
   "cell_type": "code",
   "execution_count": 40,
   "id": "d06deb8b-098f-46ce-afcd-ba8f37ba3d61",
   "metadata": {},
   "outputs": [
    {
     "name": "stdin",
     "output_type": "stream",
     "text": [
      "Enter the temp1 reading: 34\n",
      "Enter the temp2 reading: 22.34\n",
      "Enter the temp3 reading: 42.34\n",
      "Enter the temp4 reading: 40.2\n",
      "Enter the temp5 reading: 26.32\n"
     ]
    },
    {
     "name": "stdout",
     "output_type": "stream",
     "text": [
      "[34.0, 22.34, 42.34, 40.2, 26.32]\n",
      "33.040000000000006\n",
      "Average temperature is: 33 deg\n"
     ]
    }
   ],
   "source": [
    "# Take the temp values from user\n",
    "temp1 = float(input(\"Enter the temp1 reading:\"))\n",
    "temp2 = float(input(\"Enter the temp2 reading:\"))\n",
    "temp3 = float(input(\"Enter the temp3 reading:\"))\n",
    "temp4 = float(input(\"Enter the temp4 reading:\"))\n",
    "temp5 = float(input(\"Enter the temp5 reading:\"))\n",
    "\n",
    "# create list of temp readings\n",
    "temp_list = [temp1,temp2,temp3,temp4,temp5]\n",
    "print(temp_list)\n",
    "\n",
    "# calculate average temp\n",
    "avg_temp = sum(temp_list)/len(temp_list)\n",
    "print(avg_temp)\n",
    "\n",
    "# print average temp rounded value\n",
    "print(\"Average temperature is:\", round(avg_temp),\"deg\")"
   ]
  },
  {
   "cell_type": "code",
   "execution_count": 41,
   "id": "8ba690cf-aa1a-43dd-ab3f-13f6368d0e2d",
   "metadata": {},
   "outputs": [],
   "source": [
    "# Calculate % age of marks for the student from the given 5 subjects\n",
    "# maths, english, science, social, hindi"
   ]
  },
  {
   "cell_type": "code",
   "execution_count": 44,
   "id": "cdddd30e-a951-429b-8d33-1327bd7ed554",
   "metadata": {},
   "outputs": [
    {
     "name": "stdin",
     "output_type": "stream",
     "text": [
      "Enter the Marks for Mathematics: 95\n",
      "Enter the Marks for English: 90\n",
      "Enter the Marks for Science: 89\n",
      "Enter the Marks for Social: 85\n",
      "Enter the Marks for Hindi: 85\n"
     ]
    },
    {
     "name": "stdout",
     "output_type": "stream",
     "text": [
      "Percentage of marks 88.8 %\n"
     ]
    }
   ],
   "source": [
    "# Take the marks from student\n",
    "maths = float(input(\"Enter the Marks for Mathematics:\"))\n",
    "eng = float(input(\"Enter the Marks for English:\"))\n",
    "science = float(input(\"Enter the Marks for Science:\"))\n",
    "social = float(input(\"Enter the Marks for Social:\"))\n",
    "hindi = float(input(\"Enter the Marks for Hindi:\"))\n",
    "\n",
    "# create a list of marks\n",
    "marks = [maths, eng, science, social, hindi]\n",
    "\n",
    "# Calculate percentage of marks\n",
    "percentage_marks = (sum(marks)/500)*100\n",
    "\n",
    "# print the % age of marks\n",
    "print(\"Percentage of marks\", percentage_marks,\"%\")"
   ]
  },
  {
   "cell_type": "markdown",
   "id": "20ff294c-1623-416c-98c7-d91fb44defa8",
   "metadata": {},
   "source": [
    "### Tuples"
   ]
  },
  {
   "cell_type": "code",
   "execution_count": 60,
   "id": "8d3fd259-ef33-452d-8bdf-1bf8d6c65388",
   "metadata": {},
   "outputs": [],
   "source": [
    "# Properties\n",
    "# Tuples are represented in () or tuple()\n",
    "# Ordered (+ve index, -ve index, slicing techqniques)\n",
    "# Immutable (not changeable)\n",
    "# Allow duplicate values"
   ]
  },
  {
   "cell_type": "code",
   "execution_count": 1,
   "id": "f453b9c1-e3e8-4000-b089-3423fb6d1a86",
   "metadata": {},
   "outputs": [],
   "source": [
    "a = (1,2,3)"
   ]
  },
  {
   "cell_type": "code",
   "execution_count": 2,
   "id": "9a16a8ed-f0a8-475d-a2dc-9eb2ff0dca26",
   "metadata": {},
   "outputs": [
    {
     "data": {
      "text/plain": [
       "tuple"
      ]
     },
     "execution_count": 2,
     "metadata": {},
     "output_type": "execute_result"
    }
   ],
   "source": [
    "type(a)"
   ]
  },
  {
   "cell_type": "code",
   "execution_count": 56,
   "id": "055be47c-15fc-4516-b8b5-0e9550e8b62c",
   "metadata": {},
   "outputs": [
    {
     "name": "stdin",
     "output_type": "stream",
     "text": [
      " 1,2,454,33,322\n"
     ]
    }
   ],
   "source": [
    "a = input()  # input type ?? By default it is a string type."
   ]
  },
  {
   "cell_type": "code",
   "execution_count": 57,
   "id": "57eee6eb-3688-4d6d-8717-cde741a42ab5",
   "metadata": {},
   "outputs": [
    {
     "data": {
      "text/plain": [
       "'1,2,454,33,322'"
      ]
     },
     "execution_count": 57,
     "metadata": {},
     "output_type": "execute_result"
    }
   ],
   "source": [
    "a"
   ]
  },
  {
   "cell_type": "code",
   "execution_count": 58,
   "id": "7cc3a1f3-7b2c-41fd-9cdd-ffdf9c50c306",
   "metadata": {},
   "outputs": [
    {
     "data": {
      "text/plain": [
       "str"
      ]
     },
     "execution_count": 58,
     "metadata": {},
     "output_type": "execute_result"
    }
   ],
   "source": [
    "type(a)"
   ]
  },
  {
   "cell_type": "code",
   "execution_count": 62,
   "id": "70ae950a-d7da-4e57-9915-8c0068d70df7",
   "metadata": {},
   "outputs": [
    {
     "data": {
      "text/plain": [
       "['1', '2', '454', '33', '322']"
      ]
     },
     "execution_count": 62,
     "metadata": {},
     "output_type": "execute_result"
    }
   ],
   "source": [
    "a.split(',')"
   ]
  },
  {
   "cell_type": "code",
   "execution_count": 3,
   "id": "092fd626-96bf-46c2-ab6c-f1c17355ab64",
   "metadata": {},
   "outputs": [
    {
     "name": "stdin",
     "output_type": "stream",
     "text": [
      "Enter the values 3,4,6,7,9\n"
     ]
    }
   ],
   "source": [
    "b = input(\"Enter the values seperated by comma\")"
   ]
  },
  {
   "cell_type": "code",
   "execution_count": 4,
   "id": "0f28405f-714a-4926-986c-f9ee0ef5d200",
   "metadata": {},
   "outputs": [
    {
     "data": {
      "text/plain": [
       "str"
      ]
     },
     "execution_count": 4,
     "metadata": {},
     "output_type": "execute_result"
    }
   ],
   "source": [
    "type(b)"
   ]
  },
  {
   "cell_type": "code",
   "execution_count": 5,
   "id": "28741b90-0459-41fe-9c20-a6e09e6ae71e",
   "metadata": {},
   "outputs": [
    {
     "data": {
      "text/plain": [
       "'3,4,6,7,9'"
      ]
     },
     "execution_count": 5,
     "metadata": {},
     "output_type": "execute_result"
    }
   ],
   "source": [
    "b"
   ]
  },
  {
   "cell_type": "code",
   "execution_count": 8,
   "id": "c4793588-8bda-4bc3-adc8-7562936a752a",
   "metadata": {},
   "outputs": [],
   "source": [
    "c = b.split(',')"
   ]
  },
  {
   "cell_type": "code",
   "execution_count": 9,
   "id": "ad262f14-5d21-4bc2-9a8a-c8e54cfd6220",
   "metadata": {},
   "outputs": [
    {
     "data": {
      "text/plain": [
       "list"
      ]
     },
     "execution_count": 9,
     "metadata": {},
     "output_type": "execute_result"
    }
   ],
   "source": [
    "type(c)"
   ]
  },
  {
   "cell_type": "code",
   "execution_count": 10,
   "id": "acf9fe59-77ac-4fbf-8f29-69871a7f9a70",
   "metadata": {},
   "outputs": [
    {
     "name": "stdout",
     "output_type": "stream",
     "text": [
      "['3', '4', '6', '7', '9']\n"
     ]
    }
   ],
   "source": [
    "print(c)"
   ]
  },
  {
   "cell_type": "code",
   "execution_count": 43,
   "id": "041afffb-e745-45f5-9192-56da0bfb3ec5",
   "metadata": {},
   "outputs": [
    {
     "data": {
      "text/plain": [
       "['3', '4', '6', '7', '9']"
      ]
     },
     "execution_count": 43,
     "metadata": {},
     "output_type": "execute_result"
    }
   ],
   "source": [
    "c"
   ]
  },
  {
   "cell_type": "code",
   "execution_count": 46,
   "id": "94f1bf13-6551-4ec0-b308-c1ad3463ce99",
   "metadata": {},
   "outputs": [
    {
     "name": "stdout",
     "output_type": "stream",
     "text": [
      "Help on class map in module builtins:\n",
      "\n",
      "class map(object)\n",
      " |  map(function, iterable, /, *iterables)\n",
      " |\n",
      " |  Make an iterator that computes the function using arguments from\n",
      " |  each of the iterables.  Stops when the shortest iterable is exhausted.\n",
      " |\n",
      " |  Methods defined here:\n",
      " |\n",
      " |  __getattribute__(self, name, /)\n",
      " |      Return getattr(self, name).\n",
      " |\n",
      " |  __iter__(self, /)\n",
      " |      Implement iter(self).\n",
      " |\n",
      " |  __next__(self, /)\n",
      " |      Implement next(self).\n",
      " |\n",
      " |  __reduce__(self, /)\n",
      " |      Return state information for pickling.\n",
      " |\n",
      " |  ----------------------------------------------------------------------\n",
      " |  Static methods defined here:\n",
      " |\n",
      " |  __new__(*args, **kwargs)\n",
      " |      Create and return a new object.  See help(type) for accurate signature.\n",
      "\n"
     ]
    }
   ],
   "source": [
    "help(map)"
   ]
  },
  {
   "cell_type": "code",
   "execution_count": 41,
   "id": "33122784-4653-4ec5-b53d-1bf325bb9cc9",
   "metadata": {},
   "outputs": [
    {
     "data": {
      "text/plain": [
       "float"
      ]
     },
     "execution_count": 41,
     "metadata": {},
     "output_type": "execute_result"
    }
   ],
   "source": [
    "type(d)"
   ]
  },
  {
   "cell_type": "code",
   "execution_count": 48,
   "id": "250d2f42-42c9-4829-b290-f8a3d519ff6b",
   "metadata": {},
   "outputs": [
    {
     "data": {
      "text/plain": [
       "['3', '4', '6', '7', '9']"
      ]
     },
     "execution_count": 48,
     "metadata": {},
     "output_type": "execute_result"
    }
   ],
   "source": [
    "c"
   ]
  },
  {
   "cell_type": "code",
   "execution_count": 51,
   "id": "9d6be7b9-dbc5-4459-bce8-00d41b71b776",
   "metadata": {},
   "outputs": [],
   "source": [
    "e = list(map(int,c))"
   ]
  },
  {
   "cell_type": "code",
   "execution_count": 42,
   "id": "8e50acae-601d-4193-ba9f-a04876abe52e",
   "metadata": {},
   "outputs": [
    {
     "data": {
      "text/plain": [
       "56.3"
      ]
     },
     "execution_count": 42,
     "metadata": {},
     "output_type": "execute_result"
    }
   ],
   "source": [
    "d"
   ]
  },
  {
   "cell_type": "code",
   "execution_count": 52,
   "id": "7e0c27e5-fe96-4ec4-a2b8-c9c5ba2e09b9",
   "metadata": {},
   "outputs": [
    {
     "data": {
      "text/plain": [
       "[3, 4, 6, 7, 9]"
      ]
     },
     "execution_count": 52,
     "metadata": {},
     "output_type": "execute_result"
    }
   ],
   "source": [
    "e"
   ]
  },
  {
   "cell_type": "code",
   "execution_count": 22,
   "id": "bd905185-3e38-4602-b66f-e0a41075e115",
   "metadata": {},
   "outputs": [],
   "source": [
    "e = d.split(',')"
   ]
  },
  {
   "cell_type": "code",
   "execution_count": 37,
   "id": "54bd3da2-9425-45a4-8f32-696a9c59500a",
   "metadata": {},
   "outputs": [
    {
     "ename": "TypeError",
     "evalue": "int() argument must be a string, a bytes-like object or a real number, not 'list'",
     "output_type": "error",
     "traceback": [
      "\u001b[31m---------------------------------------------------------------------------\u001b[39m",
      "\u001b[31mTypeError\u001b[39m                                 Traceback (most recent call last)",
      "\u001b[36mCell\u001b[39m\u001b[36m \u001b[39m\u001b[32mIn[37]\u001b[39m\u001b[32m, line 1\u001b[39m\n\u001b[32m----> \u001b[39m\u001b[32m1\u001b[39m \u001b[38;5;28;43mint\u001b[39;49m\u001b[43m(\u001b[49m\u001b[43me\u001b[49m\u001b[43m)\u001b[49m\n",
      "\u001b[31mTypeError\u001b[39m: int() argument must be a string, a bytes-like object or a real number, not 'list'"
     ]
    }
   ],
   "source": [
    "int(e)"
   ]
  },
  {
   "cell_type": "code",
   "execution_count": 25,
   "id": "29986bbc-b8a6-4dd4-ac35-65074dd3e0e5",
   "metadata": {},
   "outputs": [
    {
     "data": {
      "text/plain": [
       "list"
      ]
     },
     "execution_count": 25,
     "metadata": {},
     "output_type": "execute_result"
    }
   ],
   "source": [
    "type(e)"
   ]
  },
  {
   "cell_type": "code",
   "execution_count": 26,
   "id": "44d1b4f0-59b5-4262-a0e1-8210d7d8f685",
   "metadata": {},
   "outputs": [],
   "source": [
    "# Calculate the average temp for the given values seperated by space"
   ]
  },
  {
   "cell_type": "code",
   "execution_count": 57,
   "id": "b03c8c8b-90cd-42bf-9236-ef60682fded0",
   "metadata": {},
   "outputs": [
    {
     "name": "stdin",
     "output_type": "stream",
     "text": [
      "Enter the temp values seperated by space 24.56 21.32 27.3 29.33\n"
     ]
    },
    {
     "name": "stdout",
     "output_type": "stream",
     "text": [
      "['24.56', '21.32', '27.3', '29.33']\n",
      "[24.56, 21.32, 27.3, 29.33]\n",
      "Average temperature is: 26\n"
     ]
    }
   ],
   "source": [
    "# Take input of temp values from user\n",
    "temp = input(\"Enter the temp values seperated by space\")\n",
    "temp_list = temp.split(' ')\n",
    "print(temp_list)\n",
    "# Convert list of strings to float\n",
    "temp_list = list(map(float, temp_list))\n",
    "print(temp_list)\n",
    "\n",
    "# Calculate average temperature\n",
    "avg_temp = sum(temp_list)/len(temp_list)\n",
    "\n",
    "# print the avergage temperature rounded value\n",
    "print(f\"Average temperature is: {round(avg_temp)}\")"
   ]
  },
  {
   "cell_type": "code",
   "execution_count": 58,
   "id": "979010e3-b266-4b01-bd5a-50c72cc9a5fc",
   "metadata": {},
   "outputs": [],
   "source": [
    "tup = (4,6,7,3,3,3,2)"
   ]
  },
  {
   "cell_type": "code",
   "execution_count": 59,
   "id": "3e56ac12-2e0f-4a0f-a9ad-1b005efcdb18",
   "metadata": {},
   "outputs": [
    {
     "data": {
      "text/plain": [
       "tuple"
      ]
     },
     "execution_count": 59,
     "metadata": {},
     "output_type": "execute_result"
    }
   ],
   "source": [
    "type(tup)"
   ]
  },
  {
   "cell_type": "code",
   "execution_count": 60,
   "id": "290c905e-773a-456c-9a39-a650ed78ec0d",
   "metadata": {},
   "outputs": [
    {
     "data": {
      "text/plain": [
       "4"
      ]
     },
     "execution_count": 60,
     "metadata": {},
     "output_type": "execute_result"
    }
   ],
   "source": [
    "tup[0]"
   ]
  },
  {
   "cell_type": "code",
   "execution_count": 61,
   "id": "7c8bfa49-d184-4403-aa49-ee02f790a232",
   "metadata": {},
   "outputs": [
    {
     "data": {
      "text/plain": [
       "2"
      ]
     },
     "execution_count": 61,
     "metadata": {},
     "output_type": "execute_result"
    }
   ],
   "source": [
    "tup[-1]"
   ]
  },
  {
   "cell_type": "code",
   "execution_count": 62,
   "id": "3444fee1-08d7-48d8-a5ab-a5447e0bbac9",
   "metadata": {},
   "outputs": [
    {
     "data": {
      "text/plain": [
       "(2, 3, 3, 3, 7, 6, 4)"
      ]
     },
     "execution_count": 62,
     "metadata": {},
     "output_type": "execute_result"
    }
   ],
   "source": [
    "tup[::-1]"
   ]
  },
  {
   "cell_type": "code",
   "execution_count": 63,
   "id": "0cc5d54c-31f4-4417-aade-4163d1ab5f1f",
   "metadata": {},
   "outputs": [
    {
     "data": {
      "text/plain": [
       "(7, 3, 3)"
      ]
     },
     "execution_count": 63,
     "metadata": {},
     "output_type": "execute_result"
    }
   ],
   "source": [
    "tup[2:5]"
   ]
  },
  {
   "cell_type": "code",
   "execution_count": 64,
   "id": "09968f4c-af93-4b72-bdb4-ddba2c49641c",
   "metadata": {},
   "outputs": [],
   "source": [
    "# Tuple methods - 2 methods"
   ]
  },
  {
   "cell_type": "code",
   "execution_count": 66,
   "id": "3df324a9-5ad3-4b00-a51f-aa7b09c19e69",
   "metadata": {},
   "outputs": [
    {
     "data": {
      "text/plain": [
       "3"
      ]
     },
     "execution_count": 66,
     "metadata": {},
     "output_type": "execute_result"
    }
   ],
   "source": [
    "tup.count(3)"
   ]
  },
  {
   "cell_type": "code",
   "execution_count": 71,
   "id": "81e5eef0-5112-49b7-91f9-9ced40a23769",
   "metadata": {},
   "outputs": [
    {
     "data": {
      "text/plain": [
       "3"
      ]
     },
     "execution_count": 71,
     "metadata": {},
     "output_type": "execute_result"
    }
   ],
   "source": [
    "tup.index(3)"
   ]
  },
  {
   "cell_type": "code",
   "execution_count": 72,
   "id": "046898b5-6e4d-41be-bcc7-e8fc91a1b2d9",
   "metadata": {},
   "outputs": [
    {
     "data": {
      "text/plain": [
       "6"
      ]
     },
     "execution_count": 72,
     "metadata": {},
     "output_type": "execute_result"
    }
   ],
   "source": [
    "tup.index(2)"
   ]
  },
  {
   "cell_type": "code",
   "execution_count": 73,
   "id": "6776beb1-cb7a-4371-8921-3ebe96b5bab6",
   "metadata": {},
   "outputs": [
    {
     "data": {
      "text/plain": [
       "(4, 6, 7, 3, 3, 3, 2)"
      ]
     },
     "execution_count": 73,
     "metadata": {},
     "output_type": "execute_result"
    }
   ],
   "source": [
    "tup"
   ]
  },
  {
   "cell_type": "code",
   "execution_count": 75,
   "id": "3d257395-908c-4af3-8b26-63c0c741a3e8",
   "metadata": {},
   "outputs": [
    {
     "data": {
      "text/plain": [
       "0"
      ]
     },
     "execution_count": 75,
     "metadata": {},
     "output_type": "execute_result"
    }
   ],
   "source": [
    "tup.index(4)"
   ]
  },
  {
   "cell_type": "code",
   "execution_count": 76,
   "id": "669b7786-babf-4c29-8fdc-3d04e544d2e0",
   "metadata": {},
   "outputs": [],
   "source": [
    "tu = (1,2,3,4)"
   ]
  },
  {
   "cell_type": "code",
   "execution_count": 77,
   "id": "89ee40b4-495b-4e07-9a4a-f18f1cda0659",
   "metadata": {},
   "outputs": [
    {
     "data": {
      "text/plain": [
       "tuple"
      ]
     },
     "execution_count": 77,
     "metadata": {},
     "output_type": "execute_result"
    }
   ],
   "source": [
    "type(tu)"
   ]
  },
  {
   "cell_type": "code",
   "execution_count": 78,
   "id": "09bd306e-d3fd-4649-b2ae-7ee47894713a",
   "metadata": {},
   "outputs": [],
   "source": [
    "tupp = (1)"
   ]
  },
  {
   "cell_type": "code",
   "execution_count": 79,
   "id": "3565bd92-14c6-4767-8763-36b0d6f60e7f",
   "metadata": {},
   "outputs": [
    {
     "data": {
      "text/plain": [
       "int"
      ]
     },
     "execution_count": 79,
     "metadata": {},
     "output_type": "execute_result"
    }
   ],
   "source": [
    "type(tupp)"
   ]
  },
  {
   "cell_type": "code",
   "execution_count": 83,
   "id": "9e493c12-c412-42d3-bf64-c3b61316923f",
   "metadata": {},
   "outputs": [],
   "source": [
    "tupp = (1,)  # singleton"
   ]
  },
  {
   "cell_type": "code",
   "execution_count": 84,
   "id": "a68fd3e7-b2ce-4f69-8ec6-28d5b8db2056",
   "metadata": {},
   "outputs": [
    {
     "data": {
      "text/plain": [
       "tuple"
      ]
     },
     "execution_count": 84,
     "metadata": {},
     "output_type": "execute_result"
    }
   ],
   "source": [
    "type(tupp)"
   ]
  },
  {
   "cell_type": "code",
   "execution_count": 86,
   "id": "f3100c6e-f531-4688-8b29-1febc61bfa56",
   "metadata": {},
   "outputs": [],
   "source": [
    "# Typecasting -> convert a tuple to list\n",
    "# list -> tuple"
   ]
  },
  {
   "cell_type": "code",
   "execution_count": 87,
   "id": "b34883f3-36b7-4048-8f3c-32cfab244d6a",
   "metadata": {},
   "outputs": [
    {
     "data": {
      "text/plain": [
       "(4, 6, 7, 3, 3, 3, 2)"
      ]
     },
     "execution_count": 87,
     "metadata": {},
     "output_type": "execute_result"
    }
   ],
   "source": [
    "tup"
   ]
  },
  {
   "cell_type": "code",
   "execution_count": 88,
   "id": "3e6c4ae6-990f-4142-b551-6622cb487b14",
   "metadata": {},
   "outputs": [
    {
     "data": {
      "text/plain": [
       "list"
      ]
     },
     "execution_count": 88,
     "metadata": {},
     "output_type": "execute_result"
    }
   ],
   "source": [
    "type(list(tup))"
   ]
  },
  {
   "cell_type": "code",
   "execution_count": 89,
   "id": "a9079fce-0f57-48b3-8e3d-96eacf191ea0",
   "metadata": {},
   "outputs": [
    {
     "data": {
      "text/plain": [
       "tuple"
      ]
     },
     "execution_count": 89,
     "metadata": {},
     "output_type": "execute_result"
    }
   ],
   "source": [
    "type(tup)"
   ]
  },
  {
   "cell_type": "code",
   "execution_count": 90,
   "id": "cb388d0b-a68d-43fe-b9d8-03dbaf2544b8",
   "metadata": {},
   "outputs": [],
   "source": [
    "tup2 = list(tup)"
   ]
  },
  {
   "cell_type": "code",
   "execution_count": 91,
   "id": "8d25f46e-288b-438c-8454-38e62eab07ad",
   "metadata": {},
   "outputs": [
    {
     "data": {
      "text/plain": [
       "[4, 6, 7, 3, 3, 3, 2]"
      ]
     },
     "execution_count": 91,
     "metadata": {},
     "output_type": "execute_result"
    }
   ],
   "source": [
    "tup2"
   ]
  },
  {
   "cell_type": "code",
   "execution_count": 92,
   "id": "35888bbe-7255-4776-8c66-a7af9c05fd6a",
   "metadata": {},
   "outputs": [
    {
     "data": {
      "text/plain": [
       "list"
      ]
     },
     "execution_count": 92,
     "metadata": {},
     "output_type": "execute_result"
    }
   ],
   "source": [
    "type(tup2)"
   ]
  },
  {
   "cell_type": "code",
   "execution_count": 93,
   "id": "22fa2c66-4a3c-4da5-bcb2-c62d1e8a9774",
   "metadata": {},
   "outputs": [],
   "source": [
    "tup3 = tuple(tup2)"
   ]
  },
  {
   "cell_type": "code",
   "execution_count": 94,
   "id": "8f498e85-92f4-43c5-8d79-69be01b3b122",
   "metadata": {},
   "outputs": [
    {
     "data": {
      "text/plain": [
       "tuple"
      ]
     },
     "execution_count": 94,
     "metadata": {},
     "output_type": "execute_result"
    }
   ],
   "source": [
    "type(tup3)"
   ]
  },
  {
   "cell_type": "code",
   "execution_count": 95,
   "id": "5a40f23a-06be-487d-8ce8-02b8fbb35133",
   "metadata": {},
   "outputs": [],
   "source": [
    "# can we modify the values from the given tuple ?\n",
    "\n",
    "# tuple -> list -> apply changes -> tuple -> process"
   ]
  },
  {
   "cell_type": "code",
   "execution_count": 97,
   "id": "781810cf-149c-496a-9968-0509b6b1f0c6",
   "metadata": {},
   "outputs": [],
   "source": [
    "# packing and unpacking\n",
    "# Packing - combine all values\n",
    "# unpacking - distributes all values"
   ]
  },
  {
   "cell_type": "code",
   "execution_count": 98,
   "id": "08d1f57f-57ff-41ee-93e8-46043cfcdd51",
   "metadata": {},
   "outputs": [],
   "source": [
    "a = 10\n",
    "b = 5\n",
    "c\n",
    "d\n",
    "e\n",
    "f\n",
    "g\n"
   ]
  },
  {
   "cell_type": "code",
   "execution_count": 99,
   "id": "1ba8ecc4-5324-4ba4-9814-c91aea04b402",
   "metadata": {},
   "outputs": [
    {
     "data": {
      "text/plain": [
       "10"
      ]
     },
     "execution_count": 99,
     "metadata": {},
     "output_type": "execute_result"
    }
   ],
   "source": [
    "a"
   ]
  },
  {
   "cell_type": "code",
   "execution_count": 100,
   "id": "92a5bcb1-ef94-49aa-92b2-1c96c1af8d0d",
   "metadata": {},
   "outputs": [
    {
     "data": {
      "text/plain": [
       "5"
      ]
     },
     "execution_count": 100,
     "metadata": {},
     "output_type": "execute_result"
    }
   ],
   "source": [
    "b"
   ]
  },
  {
   "cell_type": "code",
   "execution_count": 105,
   "id": "b8d3760e-3d96-4b4e-89b1-884e98e7ba32",
   "metadata": {},
   "outputs": [],
   "source": [
    "c,d = 20,25  # should match variables and values (LHS = RHS)"
   ]
  },
  {
   "cell_type": "code",
   "execution_count": 102,
   "id": "b7740636-225c-46bf-ab2e-fd93a9abaf2d",
   "metadata": {},
   "outputs": [
    {
     "data": {
      "text/plain": [
       "20"
      ]
     },
     "execution_count": 102,
     "metadata": {},
     "output_type": "execute_result"
    }
   ],
   "source": [
    "c"
   ]
  },
  {
   "cell_type": "code",
   "execution_count": 103,
   "id": "ec9f08c9-168f-40a9-afad-669feebcb3e3",
   "metadata": {},
   "outputs": [
    {
     "data": {
      "text/plain": [
       "25"
      ]
     },
     "execution_count": 103,
     "metadata": {},
     "output_type": "execute_result"
    }
   ],
   "source": [
    "d"
   ]
  },
  {
   "cell_type": "code",
   "execution_count": 106,
   "id": "040f2cd4-6a7b-4308-bddb-a0b2d6e29c41",
   "metadata": {},
   "outputs": [],
   "source": [
    "x = (2,3,5,6) # packing"
   ]
  },
  {
   "cell_type": "code",
   "execution_count": 107,
   "id": "62188b5b-42a1-4bcc-a99b-3a771f30d7ad",
   "metadata": {},
   "outputs": [
    {
     "data": {
      "text/plain": [
       "tuple"
      ]
     },
     "execution_count": 107,
     "metadata": {},
     "output_type": "execute_result"
    }
   ],
   "source": [
    "type(x)"
   ]
  },
  {
   "cell_type": "code",
   "execution_count": 108,
   "id": "48a0b8d8-681d-43b4-b066-c6113937a016",
   "metadata": {},
   "outputs": [],
   "source": [
    "y = 4,5,6"
   ]
  },
  {
   "cell_type": "code",
   "execution_count": 109,
   "id": "078e7a20-c9cf-429e-a1d3-7c78192a0729",
   "metadata": {},
   "outputs": [
    {
     "data": {
      "text/plain": [
       "(4, 5, 6)"
      ]
     },
     "execution_count": 109,
     "metadata": {},
     "output_type": "execute_result"
    }
   ],
   "source": [
    "y"
   ]
  },
  {
   "cell_type": "code",
   "execution_count": 110,
   "id": "0a02ee1e-47dc-4818-8a76-51a5685d71db",
   "metadata": {},
   "outputs": [
    {
     "data": {
      "text/plain": [
       "tuple"
      ]
     },
     "execution_count": 110,
     "metadata": {},
     "output_type": "execute_result"
    }
   ],
   "source": [
    "type(y)"
   ]
  },
  {
   "cell_type": "code",
   "execution_count": 112,
   "id": "4f086e4e-10fb-426b-912b-be1b01444608",
   "metadata": {},
   "outputs": [],
   "source": [
    "a,b,c = y"
   ]
  },
  {
   "cell_type": "code",
   "execution_count": 113,
   "id": "d315fb97-2a34-4309-b8a3-f11332adeaf7",
   "metadata": {},
   "outputs": [
    {
     "data": {
      "text/plain": [
       "4"
      ]
     },
     "execution_count": 113,
     "metadata": {},
     "output_type": "execute_result"
    }
   ],
   "source": [
    "a"
   ]
  },
  {
   "cell_type": "code",
   "execution_count": 114,
   "id": "a3e1b080-686a-4ba4-91d2-f4d95756415d",
   "metadata": {},
   "outputs": [
    {
     "data": {
      "text/plain": [
       "5"
      ]
     },
     "execution_count": 114,
     "metadata": {},
     "output_type": "execute_result"
    }
   ],
   "source": [
    "b"
   ]
  },
  {
   "cell_type": "code",
   "execution_count": 115,
   "id": "1f8fd1fd-cfbd-4fd0-b9ea-ee0c7fa7352e",
   "metadata": {},
   "outputs": [
    {
     "data": {
      "text/plain": [
       "6"
      ]
     },
     "execution_count": 115,
     "metadata": {},
     "output_type": "execute_result"
    }
   ],
   "source": [
    "c"
   ]
  },
  {
   "cell_type": "code",
   "execution_count": null,
   "id": "472e5a77-6b30-49a3-bb9e-67b60b2c3f67",
   "metadata": {},
   "outputs": [],
   "source": [
    "# there is some text paragraph is provided, you need to replace some key words like \"the\" to \"hello\""
   ]
  },
  {
   "cell_type": "markdown",
   "id": "c439d7c1-957c-4dbb-819f-0bd178ea5cb6",
   "metadata": {},
   "source": [
    "In this article, I’d like to reacquaint you with the humble workhorse of communication that is the paragraph. \n",
    "Paragraphs are everywhere. In fact, at the high risk of stating the obvious, \n",
    "you are reading one now. Despite their ubiquity, we frequently neglect their presentation. This is a mistake."
   ]
  },
  {
   "cell_type": "code",
   "execution_count": 1,
   "id": "fb71dfcf-4c2d-4d49-8b46-6d2b28eb3c68",
   "metadata": {},
   "outputs": [],
   "source": [
    "text = \"In this article, I’d like to reacquaint you with the humble workhorse of communication that is the paragraph. Paragraphs are everywhere. In fact, at the high risk of stating the obvious, you are reading one now. Despite their ubiquity, we frequently neglect their presentation. This is a mistake.\""
   ]
  },
  {
   "cell_type": "code",
   "execution_count": 2,
   "id": "c87eece4-4df8-46b3-b35d-5adf8d9d9f5d",
   "metadata": {},
   "outputs": [
    {
     "name": "stdout",
     "output_type": "stream",
     "text": [
      "In this article, I’d like to reacquaint you with the humble workhorse of communication that is the paragraph. Paragraphs are everywhere. In fact, at the high risk of stating the obvious, you are reading one now. Despite their ubiquity, we frequently neglect their presentation. This is a mistake.\n"
     ]
    }
   ],
   "source": [
    "print(text)"
   ]
  },
  {
   "cell_type": "code",
   "execution_count": 3,
   "id": "63fa51ca-ee75-43d5-9283-cdd71d1578ec",
   "metadata": {},
   "outputs": [
    {
     "data": {
      "text/plain": [
       "True"
      ]
     },
     "execution_count": 3,
     "metadata": {},
     "output_type": "execute_result"
    }
   ],
   "source": [
    "\"the\" in text"
   ]
  },
  {
   "cell_type": "code",
   "execution_count": 4,
   "id": "e5907d51-1df3-4cd5-9af7-d3bcc62b5aca",
   "metadata": {},
   "outputs": [
    {
     "data": {
      "text/plain": [
       "'In this article, I’d like to reacquaint you with hello humble workhorse of communication that is hello paragraph. Paragraphs are everywhere. In fact, at hello high risk of stating hello obvious, you are reading one now. Despite helloir ubiquity, we frequently neglect helloir presentation. This is a mistake.'"
      ]
     },
     "execution_count": 4,
     "metadata": {},
     "output_type": "execute_result"
    }
   ],
   "source": [
    "text.replace(\"the\", \"hello\")"
   ]
  },
  {
   "cell_type": "markdown",
   "id": "067d8d6a-1790-4f47-bd40-e81954ea8d5f",
   "metadata": {},
   "source": [
    "#### Python Dictionaries"
   ]
  },
  {
   "cell_type": "code",
   "execution_count": 5,
   "id": "6b6ac45a-daca-4270-8021-0bb8b1aba0b2",
   "metadata": {},
   "outputs": [],
   "source": [
    "# meanings, synonyms of words\n",
    "# vocabulary\n",
    "# word = meaning1, meaning2, meaning3 etc., ?\n",
    "# key = value1, vaule2, value3 etc.,\n",
    "# Python dicts as a key, value (single, multiple (list,tuple, set or any another dict) pairs.\n",
    "# key is unique, values might be having duplicates\n",
    "# python dictionary is represented by either { } or dict()\n",
    "# Example:\n",
    "# dict = {\n",
    "#     key1: value1,\n",
    "#     key2: value2,\n",
    "#     key3: value3\n",
    "# }\n",
    "# Example:\n",
    "# Employee salaries, profiles\n",
    "# Student marks, subjects\n",
    "# some information related to any data in key: value format"
   ]
  },
  {
   "cell_type": "code",
   "execution_count": 8,
   "id": "3f869be8-4d11-435d-bc01-b09eac73878a",
   "metadata": {},
   "outputs": [],
   "source": [
    "student1 = {\n",
    "    \"maths\": 73,\n",
    "    \"social\": 67,\n",
    "    \"english\": 78\n",
    "}"
   ]
  },
  {
   "cell_type": "code",
   "execution_count": 9,
   "id": "add1dcb0-5f76-49c7-a0f0-c9ec2d550989",
   "metadata": {},
   "outputs": [
    {
     "data": {
      "text/plain": [
       "dict"
      ]
     },
     "execution_count": 9,
     "metadata": {},
     "output_type": "execute_result"
    }
   ],
   "source": [
    "type(student1)"
   ]
  },
  {
   "cell_type": "code",
   "execution_count": 10,
   "id": "e3598c8c-a383-40cf-8079-13f6738a4f6a",
   "metadata": {},
   "outputs": [
    {
     "data": {
      "text/plain": [
       "73"
      ]
     },
     "execution_count": 10,
     "metadata": {},
     "output_type": "execute_result"
    }
   ],
   "source": [
    "student1[\"maths\"]   # dict_name[key] to access the values of respective keys"
   ]
  },
  {
   "cell_type": "code",
   "execution_count": 11,
   "id": "ac0c53b6-877c-4816-9ca9-bdda9759ed23",
   "metadata": {},
   "outputs": [
    {
     "data": {
      "text/plain": [
       "78"
      ]
     },
     "execution_count": 11,
     "metadata": {},
     "output_type": "execute_result"
    }
   ],
   "source": [
    "student1[\"english\"]"
   ]
  },
  {
   "cell_type": "code",
   "execution_count": 12,
   "id": "21736e49-b762-445f-9eb3-c0d7caabed7f",
   "metadata": {},
   "outputs": [
    {
     "data": {
      "text/plain": [
       "67"
      ]
     },
     "execution_count": 12,
     "metadata": {},
     "output_type": "execute_result"
    }
   ],
   "source": [
    "student1[\"social\"]"
   ]
  },
  {
   "cell_type": "code",
   "execution_count": 13,
   "id": "9c648dbd-b6e6-42ad-9ab8-1962f11310a3",
   "metadata": {},
   "outputs": [
    {
     "ename": "TypeError",
     "evalue": "update expected at most 1 argument, got 2",
     "output_type": "error",
     "traceback": [
      "\u001b[31m---------------------------------------------------------------------------\u001b[39m",
      "\u001b[31mTypeError\u001b[39m                                 Traceback (most recent call last)",
      "\u001b[36mCell\u001b[39m\u001b[36m \u001b[39m\u001b[32mIn[13]\u001b[39m\u001b[32m, line 1\u001b[39m\n\u001b[32m----> \u001b[39m\u001b[32m1\u001b[39m \u001b[43mstudent1\u001b[49m\u001b[43m.\u001b[49m\u001b[43mupdate\u001b[49m\u001b[43m(\u001b[49m\u001b[32;43m67\u001b[39;49m\u001b[43m,\u001b[49m\u001b[32;43m72\u001b[39;49m\u001b[43m)\u001b[49m\n",
      "\u001b[31mTypeError\u001b[39m: update expected at most 1 argument, got 2"
     ]
    }
   ],
   "source": [
    "student1.update(67,72)"
   ]
  },
  {
   "cell_type": "code",
   "execution_count": 14,
   "id": "64552603-d6bb-410b-9810-dbf98299f1cb",
   "metadata": {},
   "outputs": [],
   "source": [
    "student1[\"social\"] = 72"
   ]
  },
  {
   "cell_type": "code",
   "execution_count": 15,
   "id": "cd981ef4-a208-49c8-8b58-bc0635e10566",
   "metadata": {},
   "outputs": [
    {
     "data": {
      "text/plain": [
       "{'maths': 73, 'social': 72, 'english': 78}"
      ]
     },
     "execution_count": 15,
     "metadata": {},
     "output_type": "execute_result"
    }
   ],
   "source": [
    "student1"
   ]
  },
  {
   "cell_type": "code",
   "execution_count": null,
   "id": "a5c3661b-03e3-421c-b712-2595e1a6c19c",
   "metadata": {},
   "outputs": [],
   "source": []
  },
  {
   "cell_type": "code",
   "execution_count": 16,
   "id": "3410c08f-7a8a-4b34-9c99-cc590692965e",
   "metadata": {},
   "outputs": [
    {
     "ename": "KeyError",
     "evalue": "slice('social', 'hindi', None)",
     "output_type": "error",
     "traceback": [
      "\u001b[31m---------------------------------------------------------------------------\u001b[39m",
      "\u001b[31mKeyError\u001b[39m                                  Traceback (most recent call last)",
      "\u001b[36mCell\u001b[39m\u001b[36m \u001b[39m\u001b[32mIn[16]\u001b[39m\u001b[32m, line 1\u001b[39m\n\u001b[32m----> \u001b[39m\u001b[32m1\u001b[39m \u001b[43mstudent1\u001b[49m\u001b[43m[\u001b[49m\u001b[33;43m\"\u001b[39;49m\u001b[33;43msocial\u001b[39;49m\u001b[33;43m\"\u001b[39;49m\u001b[43m:\u001b[49m\u001b[33;43m\"\u001b[39;49m\u001b[33;43mhindi\u001b[39;49m\u001b[33;43m\"\u001b[39;49m\u001b[43m]\u001b[49m\n",
      "\u001b[31mKeyError\u001b[39m: slice('social', 'hindi', None)"
     ]
    }
   ],
   "source": [
    "student1[\"social\"]"
   ]
  },
  {
   "cell_type": "code",
   "execution_count": null,
   "id": "d89591a3-e857-4fec-8eb2-666bbb3dcd7b",
   "metadata": {},
   "outputs": [],
   "source": [
    "# dict keys cannot be changed"
   ]
  },
  {
   "cell_type": "code",
   "execution_count": 17,
   "id": "9141ce5b-1c34-4c7c-b882-fafb047a11b9",
   "metadata": {},
   "outputs": [
    {
     "ename": "KeyError",
     "evalue": "0",
     "output_type": "error",
     "traceback": [
      "\u001b[31m---------------------------------------------------------------------------\u001b[39m",
      "\u001b[31mKeyError\u001b[39m                                  Traceback (most recent call last)",
      "\u001b[36mCell\u001b[39m\u001b[36m \u001b[39m\u001b[32mIn[17]\u001b[39m\u001b[32m, line 1\u001b[39m\n\u001b[32m----> \u001b[39m\u001b[32m1\u001b[39m \u001b[43mstudent1\u001b[49m\u001b[43m[\u001b[49m\u001b[32;43m0\u001b[39;49m\u001b[43m]\u001b[49m\n",
      "\u001b[31mKeyError\u001b[39m: 0"
     ]
    }
   ],
   "source": [
    "student1[0]"
   ]
  },
  {
   "cell_type": "code",
   "execution_count": null,
   "id": "98ef78f5-80cf-4c7f-8e02-e233ade01754",
   "metadata": {},
   "outputs": [],
   "source": [
    "[0:1,1:2,2:3,3:4]\n",
    "\n",
    "{\"key1\":1,\"key2\":2,\"key3\":3,\"key4\":4}"
   ]
  },
  {
   "cell_type": "code",
   "execution_count": 18,
   "id": "e5fbb84a-3a62-4d18-8411-5193b326eb03",
   "metadata": {},
   "outputs": [
    {
     "data": {
      "text/plain": [
       "{'maths': 73, 'social': 72, 'english': 78}"
      ]
     },
     "execution_count": 18,
     "metadata": {},
     "output_type": "execute_result"
    }
   ],
   "source": [
    "student1"
   ]
  },
  {
   "cell_type": "code",
   "execution_count": 19,
   "id": "5c569117-16de-424e-978c-06fbab34fc2e",
   "metadata": {},
   "outputs": [],
   "source": [
    "student1[\"hindi\"] = 62"
   ]
  },
  {
   "cell_type": "code",
   "execution_count": 20,
   "id": "3d96f6eb-a3d5-45c6-bd70-8b5ae0b5e1b1",
   "metadata": {},
   "outputs": [
    {
     "data": {
      "text/plain": [
       "{'maths': 73, 'social': 72, 'english': 78, 'hindi': 62}"
      ]
     },
     "execution_count": 20,
     "metadata": {},
     "output_type": "execute_result"
    }
   ],
   "source": [
    "student1"
   ]
  },
  {
   "cell_type": "code",
   "execution_count": 22,
   "id": "3652b616-3c01-4e14-9634-da5520c9f3a7",
   "metadata": {},
   "outputs": [
    {
     "data": {
      "text/plain": [
       "62"
      ]
     },
     "execution_count": 22,
     "metadata": {},
     "output_type": "execute_result"
    }
   ],
   "source": [
    "student1.pop('hindi')"
   ]
  },
  {
   "cell_type": "code",
   "execution_count": 23,
   "id": "b140c391-a50f-4940-bab4-f9ebb19366a1",
   "metadata": {},
   "outputs": [
    {
     "data": {
      "text/plain": [
       "{'maths': 73, 'social': 72, 'english': 78}"
      ]
     },
     "execution_count": 23,
     "metadata": {},
     "output_type": "execute_result"
    }
   ],
   "source": [
    "student1"
   ]
  },
  {
   "cell_type": "code",
   "execution_count": 24,
   "id": "135d960f-014a-4c41-8ccd-736644d91bab",
   "metadata": {},
   "outputs": [
    {
     "name": "stdout",
     "output_type": "stream",
     "text": [
      "Help on method_descriptor:\n",
      "\n",
      "pop(self, key, default=<unrepresentable>, /) unbound builtins.dict method\n",
      "    D.pop(k[,d]) -> v, remove specified key and return the corresponding value.\n",
      "\n",
      "    If the key is not found, return the default if given; otherwise,\n",
      "    raise a KeyError.\n",
      "\n"
     ]
    }
   ],
   "source": [
    "help(dict.pop)"
   ]
  },
  {
   "cell_type": "code",
   "execution_count": 25,
   "id": "e1350658-6e62-432a-92e9-2e077da2ed52",
   "metadata": {},
   "outputs": [
    {
     "ename": "KeyError",
     "evalue": "'sanskrit'",
     "output_type": "error",
     "traceback": [
      "\u001b[31m---------------------------------------------------------------------------\u001b[39m",
      "\u001b[31mKeyError\u001b[39m                                  Traceback (most recent call last)",
      "\u001b[36mCell\u001b[39m\u001b[36m \u001b[39m\u001b[32mIn[25]\u001b[39m\u001b[32m, line 1\u001b[39m\n\u001b[32m----> \u001b[39m\u001b[32m1\u001b[39m \u001b[43mstudent1\u001b[49m\u001b[43m.\u001b[49m\u001b[43mpop\u001b[49m\u001b[43m(\u001b[49m\u001b[33;43m'\u001b[39;49m\u001b[33;43msanskrit\u001b[39;49m\u001b[33;43m'\u001b[39;49m\u001b[43m)\u001b[49m\n",
      "\u001b[31mKeyError\u001b[39m: 'sanskrit'"
     ]
    }
   ],
   "source": [
    "student1.pop('sanskrit')"
   ]
  },
  {
   "cell_type": "code",
   "execution_count": 26,
   "id": "d0208223-7807-41df-a97f-6084c2416d62",
   "metadata": {},
   "outputs": [
    {
     "data": {
      "text/plain": [
       "{'maths': 73, 'social': 72, 'english': 78}"
      ]
     },
     "execution_count": 26,
     "metadata": {},
     "output_type": "execute_result"
    }
   ],
   "source": [
    "student1"
   ]
  },
  {
   "cell_type": "code",
   "execution_count": 27,
   "id": "6eab6a79-4886-47dc-ae13-3a243ee1f4b9",
   "metadata": {},
   "outputs": [
    {
     "data": {
      "text/plain": [
       "dict_keys(['maths', 'social', 'english'])"
      ]
     },
     "execution_count": 27,
     "metadata": {},
     "output_type": "execute_result"
    }
   ],
   "source": [
    "student1.keys()"
   ]
  },
  {
   "cell_type": "code",
   "execution_count": 28,
   "id": "fc15631b-0401-42db-94db-a60cccb5afb6",
   "metadata": {},
   "outputs": [
    {
     "data": {
      "text/plain": [
       "dict_values([73, 72, 78])"
      ]
     },
     "execution_count": 28,
     "metadata": {},
     "output_type": "execute_result"
    }
   ],
   "source": [
    "student1.values()"
   ]
  },
  {
   "cell_type": "code",
   "execution_count": 29,
   "id": "456f6bc9-1d1e-4a70-a502-ee15c183cf8f",
   "metadata": {},
   "outputs": [
    {
     "data": {
      "text/plain": [
       "{'maths': 73, 'social': 72, 'english': 78}"
      ]
     },
     "execution_count": 29,
     "metadata": {},
     "output_type": "execute_result"
    }
   ],
   "source": [
    "student1"
   ]
  },
  {
   "cell_type": "code",
   "execution_count": 31,
   "id": "140e9402-04fa-4003-a225-4eedaccfa821",
   "metadata": {},
   "outputs": [],
   "source": [
    "del[student1['english']]"
   ]
  },
  {
   "cell_type": "code",
   "execution_count": 32,
   "id": "2f197db7-7161-409b-bf05-e0c3c8315889",
   "metadata": {},
   "outputs": [
    {
     "data": {
      "text/plain": [
       "{'maths': 73, 'social': 72}"
      ]
     },
     "execution_count": 32,
     "metadata": {},
     "output_type": "execute_result"
    }
   ],
   "source": [
    "student1"
   ]
  },
  {
   "cell_type": "code",
   "execution_count": 37,
   "id": "126fa83a-053c-48f5-ace6-b33193e293a6",
   "metadata": {},
   "outputs": [],
   "source": [
    "# lambda = 5"
   ]
  },
  {
   "cell_type": "code",
   "execution_count": 38,
   "id": "5001b274-5690-426d-9662-ee2bf8adce6d",
   "metadata": {},
   "outputs": [],
   "source": [
    "import keyword"
   ]
  },
  {
   "cell_type": "code",
   "execution_count": 39,
   "id": "11f0cdb6-b50a-4393-84d6-64d99b340e26",
   "metadata": {},
   "outputs": [
    {
     "data": {
      "text/plain": [
       "['False',\n",
       " 'None',\n",
       " 'True',\n",
       " 'and',\n",
       " 'as',\n",
       " 'assert',\n",
       " 'async',\n",
       " 'await',\n",
       " 'break',\n",
       " 'class',\n",
       " 'continue',\n",
       " 'def',\n",
       " 'del',\n",
       " 'elif',\n",
       " 'else',\n",
       " 'except',\n",
       " 'finally',\n",
       " 'for',\n",
       " 'from',\n",
       " 'global',\n",
       " 'if',\n",
       " 'import',\n",
       " 'in',\n",
       " 'is',\n",
       " 'lambda',\n",
       " 'nonlocal',\n",
       " 'not',\n",
       " 'or',\n",
       " 'pass',\n",
       " 'raise',\n",
       " 'return',\n",
       " 'try',\n",
       " 'while',\n",
       " 'with',\n",
       " 'yield']"
      ]
     },
     "execution_count": 39,
     "metadata": {},
     "output_type": "execute_result"
    }
   ],
   "source": [
    "keyword.kwlist"
   ]
  },
  {
   "cell_type": "code",
   "execution_count": 40,
   "id": "bd3ccd32-a204-4a62-a108-6e8a06866e27",
   "metadata": {},
   "outputs": [
    {
     "data": {
      "text/plain": [
       "{'maths': 73, 'social': 72}"
      ]
     },
     "execution_count": 40,
     "metadata": {},
     "output_type": "execute_result"
    }
   ],
   "source": [
    "student1"
   ]
  },
  {
   "cell_type": "code",
   "execution_count": 44,
   "id": "cbe8bba5-bd26-48f6-ad9f-50fbcc30acbb",
   "metadata": {},
   "outputs": [],
   "source": [
    "student1[\"sansrit\",\"hello\"]= [1,2,4]"
   ]
  },
  {
   "cell_type": "code",
   "execution_count": 45,
   "id": "5c7d19cc-1997-45b4-a14b-29e83f6ab599",
   "metadata": {},
   "outputs": [
    {
     "data": {
      "text/plain": [
       "{'maths': 73,\n",
       " 'social': 72,\n",
       " 'sansrit': [1, 2, 4],\n",
       " ('sansrit', 'hello'): [1, 2, 4]}"
      ]
     },
     "execution_count": 45,
     "metadata": {},
     "output_type": "execute_result"
    }
   ],
   "source": [
    "student1"
   ]
  },
  {
   "cell_type": "code",
   "execution_count": 48,
   "id": "ac054352-fd75-48b1-a2df-e7086acb328e",
   "metadata": {},
   "outputs": [
    {
     "data": {
      "text/plain": [
       "[1, 2, 4]"
      ]
     },
     "execution_count": 48,
     "metadata": {},
     "output_type": "execute_result"
    }
   ],
   "source": [
    "student1['sansrit', 'hello']"
   ]
  },
  {
   "cell_type": "code",
   "execution_count": 49,
   "id": "4ee55bbb-4581-4fd9-a740-e0ce30898edb",
   "metadata": {},
   "outputs": [],
   "source": [
    "# FIFO, LILO ?? \n",
    "# First in First out\n",
    "# Last in Last out\n",
    "# LIFO - last in first out"
   ]
  },
  {
   "cell_type": "code",
   "execution_count": 52,
   "id": "9a5f41c5-d5c6-413b-b72a-a9ed9708e35f",
   "metadata": {},
   "outputs": [],
   "source": [
    "child1 = {\"name\":\"Emil\", \"year\":2004}\n",
    "child2 = {\"name\":\"Tobias\", \"year\":2007}\n",
    "child3 = {\"name\":\"Linus\", \"year\":2011}\n",
    "\n",
    "myfamily = {\"child1\":child1,\n",
    "        \"child2\":child2,\n",
    "        \"child3\":child3\n",
    "        }"
   ]
  },
  {
   "cell_type": "code",
   "execution_count": 53,
   "id": "2c5b31a1-8454-4740-9fb8-a9b9a9864b19",
   "metadata": {},
   "outputs": [
    {
     "data": {
      "text/plain": [
       "{'child1': {'name': 'Emil', 'year': 2004},\n",
       " 'child2': {'name': 'Tobias', 'year': 2007},\n",
       " 'child3': {'name': 'Linus', 'year': 2011}}"
      ]
     },
     "execution_count": 53,
     "metadata": {},
     "output_type": "execute_result"
    }
   ],
   "source": [
    "myfamily"
   ]
  },
  {
   "cell_type": "code",
   "execution_count": 54,
   "id": "d00d7018-4621-42af-8c96-afd92bb3908a",
   "metadata": {},
   "outputs": [],
   "source": [
    "# Lists, Tuples, dictionaries, sets"
   ]
  },
  {
   "cell_type": "code",
   "execution_count": 55,
   "id": "0ca61c27-9649-45ae-a073-afa5f0c87043",
   "metadata": {},
   "outputs": [
    {
     "data": {
      "text/plain": [
       "{'name': 'Emil', 'year': 2004}"
      ]
     },
     "execution_count": 55,
     "metadata": {},
     "output_type": "execute_result"
    }
   ],
   "source": [
    "child1"
   ]
  },
  {
   "cell_type": "code",
   "execution_count": 56,
   "id": "74095dd5-99fc-4469-9321-e7142903ba29",
   "metadata": {},
   "outputs": [
    {
     "data": {
      "text/plain": [
       "dict_items([('name', 'Emil'), ('year', 2004)])"
      ]
     },
     "execution_count": 56,
     "metadata": {},
     "output_type": "execute_result"
    }
   ],
   "source": [
    "child1.items() # convert dict to list of tuples"
   ]
  },
  {
   "cell_type": "code",
   "execution_count": 57,
   "id": "5aacfeff-8f6a-4cce-a9b8-cc839df74949",
   "metadata": {},
   "outputs": [],
   "source": [
    "# [('name', 'Emil'), ('year', 2004)]"
   ]
  },
  {
   "cell_type": "code",
   "execution_count": 58,
   "id": "f122e1de-1d27-4752-97b0-979da9df8ee2",
   "metadata": {},
   "outputs": [],
   "source": [
    "# Python dicts will play a key role in web development"
   ]
  },
  {
   "cell_type": "markdown",
   "id": "2ac70b7e-4c4e-4bb6-8505-84761e0138a1",
   "metadata": {},
   "source": [
    "### Sets"
   ]
  },
  {
   "cell_type": "code",
   "execution_count": 1,
   "id": "2d252e0c-d59c-4818-bdd1-b9d9f4ec7156",
   "metadata": {},
   "outputs": [],
   "source": [
    "# Sets are likely to be either lists or tuples but not exactly having the same type of properties\n",
    "# sets are represented either { } or set()\n",
    "# Sets always have unique values (duplicates not allowed)\n",
    "# Sets are unordered, unindexed and unchangable*(you can add & remove but cannot modify)\n",
    "# Sets functions like union, intersection, A-B, B-A, A, B etc.,"
   ]
  },
  {
   "cell_type": "code",
   "execution_count": 2,
   "id": "d776c64e-6334-44bc-ad5f-7cfc2edc83e5",
   "metadata": {},
   "outputs": [],
   "source": [
    "a = {'name': 'surya'}"
   ]
  },
  {
   "cell_type": "code",
   "execution_count": 3,
   "id": "b6999243-4fe6-4983-aa1f-2c5ee6837c9d",
   "metadata": {},
   "outputs": [
    {
     "data": {
      "text/plain": [
       "dict"
      ]
     },
     "execution_count": 3,
     "metadata": {},
     "output_type": "execute_result"
    }
   ],
   "source": [
    "type(a)"
   ]
  },
  {
   "cell_type": "code",
   "execution_count": 4,
   "id": "5d820acc-134a-478c-9449-abc3404c43cc",
   "metadata": {},
   "outputs": [],
   "source": [
    "b = {'hello','how are you'}"
   ]
  },
  {
   "cell_type": "code",
   "execution_count": 5,
   "id": "3f3129bc-37de-44e2-96fb-b5f71cd23789",
   "metadata": {},
   "outputs": [
    {
     "data": {
      "text/plain": [
       "set"
      ]
     },
     "execution_count": 5,
     "metadata": {},
     "output_type": "execute_result"
    }
   ],
   "source": [
    "type(b)"
   ]
  },
  {
   "cell_type": "code",
   "execution_count": 6,
   "id": "35c8c226-ba2e-4922-af57-ba3b8b8550d4",
   "metadata": {},
   "outputs": [],
   "source": [
    "A = {1,2,3,3,4,5,6,6,6,6}"
   ]
  },
  {
   "cell_type": "code",
   "execution_count": 7,
   "id": "00fde503-6278-4d46-9a98-4e9fe8c4a9ba",
   "metadata": {},
   "outputs": [
    {
     "name": "stdout",
     "output_type": "stream",
     "text": [
      "{1, 2, 3, 4, 5, 6}\n"
     ]
    }
   ],
   "source": [
    "print(A)"
   ]
  },
  {
   "cell_type": "code",
   "execution_count": 8,
   "id": "8ff0d5c9-b573-4379-bf6c-204d0141aaee",
   "metadata": {},
   "outputs": [],
   "source": [
    "B = {5,6,6,2,7,7,8,9,9}"
   ]
  },
  {
   "cell_type": "code",
   "execution_count": 9,
   "id": "5f12a64c-1522-45bf-98af-f21bc0ed07f7",
   "metadata": {},
   "outputs": [
    {
     "data": {
      "text/plain": [
       "set"
      ]
     },
     "execution_count": 9,
     "metadata": {},
     "output_type": "execute_result"
    }
   ],
   "source": [
    "type(B)"
   ]
  },
  {
   "cell_type": "code",
   "execution_count": 10,
   "id": "b38d9a75-ac67-48cf-9dc5-39d36336d12b",
   "metadata": {},
   "outputs": [
    {
     "name": "stdout",
     "output_type": "stream",
     "text": [
      "{2, 5, 6, 7, 8, 9}\n"
     ]
    }
   ],
   "source": [
    "print(B)"
   ]
  },
  {
   "cell_type": "code",
   "execution_count": 12,
   "id": "90aaa09c-b029-4eb5-bd10-4d834ad225d3",
   "metadata": {},
   "outputs": [
    {
     "data": {
      "text/plain": [
       "{1, 2, 3, 4, 5, 6, 7, 8, 9}"
      ]
     },
     "execution_count": 12,
     "metadata": {},
     "output_type": "execute_result"
    }
   ],
   "source": [
    "A.union(B)"
   ]
  },
  {
   "cell_type": "code",
   "execution_count": 13,
   "id": "b65846d6-ff70-4ab7-b5c1-7a4062f2435b",
   "metadata": {},
   "outputs": [
    {
     "data": {
      "text/plain": [
       "{1, 2, 3, 4, 5, 6}"
      ]
     },
     "execution_count": 13,
     "metadata": {},
     "output_type": "execute_result"
    }
   ],
   "source": [
    "A"
   ]
  },
  {
   "cell_type": "code",
   "execution_count": 14,
   "id": "d07d1d57-15e0-445a-bde4-95132d42c878",
   "metadata": {},
   "outputs": [
    {
     "data": {
      "text/plain": [
       "{2, 5, 6, 7, 8, 9}"
      ]
     },
     "execution_count": 14,
     "metadata": {},
     "output_type": "execute_result"
    }
   ],
   "source": [
    "B"
   ]
  },
  {
   "cell_type": "code",
   "execution_count": 15,
   "id": "01d7249c-d939-4fd2-a259-ac021e46f56c",
   "metadata": {},
   "outputs": [
    {
     "data": {
      "text/plain": [
       "{2, 5, 6}"
      ]
     },
     "execution_count": 15,
     "metadata": {},
     "output_type": "execute_result"
    }
   ],
   "source": [
    "A.intersection(B)"
   ]
  },
  {
   "cell_type": "code",
   "execution_count": 16,
   "id": "20a6965b-5dfb-4494-9695-6754cabe242e",
   "metadata": {},
   "outputs": [],
   "source": [
    "A.intersection_update(B)"
   ]
  },
  {
   "cell_type": "code",
   "execution_count": 17,
   "id": "e72b329d-72ed-4287-a583-18d9779d6edf",
   "metadata": {},
   "outputs": [
    {
     "data": {
      "text/plain": [
       "{2, 5, 6}"
      ]
     },
     "execution_count": 17,
     "metadata": {},
     "output_type": "execute_result"
    }
   ],
   "source": [
    "A"
   ]
  },
  {
   "cell_type": "code",
   "execution_count": 18,
   "id": "f49ad51d-194a-4716-bed2-c8e5acea6d16",
   "metadata": {},
   "outputs": [],
   "source": [
    "A = {1,2,3,3,4,5,6,6,6,6}"
   ]
  },
  {
   "cell_type": "code",
   "execution_count": 19,
   "id": "3a764085-a9a1-4e20-aa51-418eae433c8e",
   "metadata": {},
   "outputs": [
    {
     "data": {
      "text/plain": [
       "{1, 2, 3, 4, 5, 6}"
      ]
     },
     "execution_count": 19,
     "metadata": {},
     "output_type": "execute_result"
    }
   ],
   "source": [
    "A"
   ]
  },
  {
   "cell_type": "code",
   "execution_count": 20,
   "id": "00ae7fee-d28f-4283-8318-4d040f1718f6",
   "metadata": {},
   "outputs": [
    {
     "data": {
      "text/plain": [
       "{1, 3, 4}"
      ]
     },
     "execution_count": 20,
     "metadata": {},
     "output_type": "execute_result"
    }
   ],
   "source": [
    "A.difference(B)  # A - B"
   ]
  },
  {
   "cell_type": "code",
   "execution_count": 21,
   "id": "925f19d8-01d1-4a4a-90f7-2c5aa403865d",
   "metadata": {},
   "outputs": [
    {
     "data": {
      "text/plain": [
       "{1, 2, 3, 4, 5, 6}"
      ]
     },
     "execution_count": 21,
     "metadata": {},
     "output_type": "execute_result"
    }
   ],
   "source": [
    "A"
   ]
  },
  {
   "cell_type": "code",
   "execution_count": 22,
   "id": "3b635312-61dd-416d-a71e-ca79cb089258",
   "metadata": {},
   "outputs": [
    {
     "data": {
      "text/plain": [
       "{2, 5, 6, 7, 8, 9}"
      ]
     },
     "execution_count": 22,
     "metadata": {},
     "output_type": "execute_result"
    }
   ],
   "source": [
    "B"
   ]
  },
  {
   "cell_type": "code",
   "execution_count": 23,
   "id": "6322a7e4-d85e-485e-b720-4dbb17b1f47a",
   "metadata": {},
   "outputs": [
    {
     "data": {
      "text/plain": [
       "{7, 8, 9}"
      ]
     },
     "execution_count": 23,
     "metadata": {},
     "output_type": "execute_result"
    }
   ],
   "source": [
    "B.difference(A)  # B - A"
   ]
  },
  {
   "cell_type": "code",
   "execution_count": 24,
   "id": "24c695f3-a7da-4d63-9a5b-7e25bb02aca9",
   "metadata": {},
   "outputs": [],
   "source": [
    "A.difference_update(B) # A - B output replaced with A"
   ]
  },
  {
   "cell_type": "code",
   "execution_count": 25,
   "id": "9703a521-7957-42a4-b86c-d40df9547bce",
   "metadata": {},
   "outputs": [
    {
     "data": {
      "text/plain": [
       "{1, 3, 4}"
      ]
     },
     "execution_count": 25,
     "metadata": {},
     "output_type": "execute_result"
    }
   ],
   "source": [
    "A"
   ]
  },
  {
   "cell_type": "code",
   "execution_count": 26,
   "id": "aa9c2a09-5c73-4ac6-90f6-8833ec538d07",
   "metadata": {},
   "outputs": [
    {
     "data": {
      "text/plain": [
       "{1, 3, 4}"
      ]
     },
     "execution_count": 26,
     "metadata": {},
     "output_type": "execute_result"
    }
   ],
   "source": [
    "A"
   ]
  },
  {
   "cell_type": "code",
   "execution_count": 28,
   "id": "73870463-52ff-4ddf-b69f-d9dba4529352",
   "metadata": {},
   "outputs": [],
   "source": [
    "A.update({5,6,7})"
   ]
  },
  {
   "cell_type": "code",
   "execution_count": 29,
   "id": "31520a31-f257-4cdc-8c93-178d1fcdfc48",
   "metadata": {},
   "outputs": [
    {
     "data": {
      "text/plain": [
       "{1, 3, 4, 5, 6, 7}"
      ]
     },
     "execution_count": 29,
     "metadata": {},
     "output_type": "execute_result"
    }
   ],
   "source": [
    "A"
   ]
  },
  {
   "cell_type": "code",
   "execution_count": 31,
   "id": "38292feb-022f-4ba5-b695-e26ddccfae33",
   "metadata": {},
   "outputs": [],
   "source": [
    "X = set({\"hi\",\"hello\",\"python\"})"
   ]
  },
  {
   "cell_type": "code",
   "execution_count": 32,
   "id": "00dd5b9a-7674-4971-a0c7-d566556a19b2",
   "metadata": {},
   "outputs": [
    {
     "data": {
      "text/plain": [
       "{'hello', 'hi', 'python'}"
      ]
     },
     "execution_count": 32,
     "metadata": {},
     "output_type": "execute_result"
    }
   ],
   "source": [
    "X"
   ]
  },
  {
   "cell_type": "code",
   "execution_count": 33,
   "id": "56ae3849-11a1-4398-8869-9b3d61945de8",
   "metadata": {},
   "outputs": [
    {
     "data": {
      "text/plain": [
       "set"
      ]
     },
     "execution_count": 33,
     "metadata": {},
     "output_type": "execute_result"
    }
   ],
   "source": [
    "type(X)"
   ]
  },
  {
   "cell_type": "code",
   "execution_count": 34,
   "id": "7c3e1bca-9445-486c-8f7e-0b2393471471",
   "metadata": {},
   "outputs": [],
   "source": [
    "Y = set([1,2,3,34,3332,324455])"
   ]
  },
  {
   "cell_type": "code",
   "execution_count": 35,
   "id": "c14627fa-b762-4e7c-b99c-de2832446931",
   "metadata": {},
   "outputs": [
    {
     "data": {
      "text/plain": [
       "{1, 2, 3, 34, 3332, 324455}"
      ]
     },
     "execution_count": 35,
     "metadata": {},
     "output_type": "execute_result"
    }
   ],
   "source": [
    "Y"
   ]
  },
  {
   "cell_type": "code",
   "execution_count": 36,
   "id": "234c5505-89c2-4089-838d-21f1110fccd5",
   "metadata": {},
   "outputs": [
    {
     "data": {
      "text/plain": [
       "set"
      ]
     },
     "execution_count": 36,
     "metadata": {},
     "output_type": "execute_result"
    }
   ],
   "source": [
    "type(Y)"
   ]
  },
  {
   "cell_type": "code",
   "execution_count": 38,
   "id": "26c18cba-0880-4c99-ae88-a64268075347",
   "metadata": {},
   "outputs": [],
   "source": [
    "Z = set((5,643,33322,245,9))"
   ]
  },
  {
   "cell_type": "code",
   "execution_count": 39,
   "id": "4cf54a71-3a7c-454e-8252-892b45fa74d2",
   "metadata": {},
   "outputs": [
    {
     "data": {
      "text/plain": [
       "{5, 9, 245, 643, 33322}"
      ]
     },
     "execution_count": 39,
     "metadata": {},
     "output_type": "execute_result"
    }
   ],
   "source": [
    "Z"
   ]
  },
  {
   "cell_type": "code",
   "execution_count": 40,
   "id": "e2aacfcd-bf3d-4c50-bf25-9a0957ddddbf",
   "metadata": {},
   "outputs": [
    {
     "data": {
      "text/plain": [
       "set"
      ]
     },
     "execution_count": 40,
     "metadata": {},
     "output_type": "execute_result"
    }
   ],
   "source": [
    "type(Z)"
   ]
  },
  {
   "cell_type": "code",
   "execution_count": 41,
   "id": "29054513-ca3a-4a20-918c-3b91dd41ed68",
   "metadata": {},
   "outputs": [],
   "source": [
    "Z1 = set({'a':1,'b':2,'c':3})"
   ]
  },
  {
   "cell_type": "code",
   "execution_count": 42,
   "id": "1e9dd80f-2414-4ecb-846f-61d26a10a326",
   "metadata": {},
   "outputs": [
    {
     "data": {
      "text/plain": [
       "{'a', 'b', 'c'}"
      ]
     },
     "execution_count": 42,
     "metadata": {},
     "output_type": "execute_result"
    }
   ],
   "source": [
    "Z1"
   ]
  },
  {
   "cell_type": "code",
   "execution_count": 43,
   "id": "b85ff715-cca4-4c75-994a-dbfa7cb52280",
   "metadata": {},
   "outputs": [
    {
     "data": {
      "text/plain": [
       "set"
      ]
     },
     "execution_count": 43,
     "metadata": {},
     "output_type": "execute_result"
    }
   ],
   "source": [
    "type(Z1)"
   ]
  },
  {
   "cell_type": "code",
   "execution_count": 44,
   "id": "d4c51fc5-54b6-42c2-8473-237aee0c66f3",
   "metadata": {},
   "outputs": [],
   "source": [
    "s1 = \"quuxxy\""
   ]
  },
  {
   "cell_type": "code",
   "execution_count": 45,
   "id": "6f722eb4-da0f-453b-bc87-0478ce98b195",
   "metadata": {},
   "outputs": [
    {
     "data": {
      "text/plain": [
       "str"
      ]
     },
     "execution_count": 45,
     "metadata": {},
     "output_type": "execute_result"
    }
   ],
   "source": [
    "type(s1)"
   ]
  },
  {
   "cell_type": "code",
   "execution_count": 46,
   "id": "6b498e3c-7eb7-4b15-86fa-f1d11f80e78f",
   "metadata": {},
   "outputs": [
    {
     "data": {
      "text/plain": [
       "['q', 'u', 'u', 'x', 'x', 'y']"
      ]
     },
     "execution_count": 46,
     "metadata": {},
     "output_type": "execute_result"
    }
   ],
   "source": [
    "list(s1)"
   ]
  },
  {
   "cell_type": "code",
   "execution_count": 47,
   "id": "50adece0-abdd-4cf0-a371-d95263535417",
   "metadata": {},
   "outputs": [
    {
     "data": {
      "text/plain": [
       "{'q', 'u', 'x', 'y'}"
      ]
     },
     "execution_count": 47,
     "metadata": {},
     "output_type": "execute_result"
    }
   ],
   "source": [
    "set(list(s1))"
   ]
  },
  {
   "cell_type": "code",
   "execution_count": 48,
   "id": "bd5cea8a-7c3c-4daf-8fcf-fe77df39206d",
   "metadata": {},
   "outputs": [
    {
     "data": {
      "text/plain": [
       "{'q', 'u', 'x', 'y'}"
      ]
     },
     "execution_count": 48,
     "metadata": {},
     "output_type": "execute_result"
    }
   ],
   "source": [
    "set('quuxxy')"
   ]
  },
  {
   "cell_type": "code",
   "execution_count": 49,
   "id": "8b9fc531-29ed-4edb-bb26-0d0f8ebb8c31",
   "metadata": {},
   "outputs": [
    {
     "data": {
      "text/plain": [
       "True"
      ]
     },
     "execution_count": 49,
     "metadata": {},
     "output_type": "execute_result"
    }
   ],
   "source": [
    "'y' in set('quuxxy')  # membership testing"
   ]
  },
  {
   "cell_type": "code",
   "execution_count": 50,
   "id": "b1ef3d53-1b71-43f9-bb88-8b1e4e4f3793",
   "metadata": {},
   "outputs": [
    {
     "data": {
      "text/plain": [
       "False"
      ]
     },
     "execution_count": 50,
     "metadata": {},
     "output_type": "execute_result"
    }
   ],
   "source": [
    "'y1' in set('quuxxy')"
   ]
  },
  {
   "cell_type": "code",
   "execution_count": 51,
   "id": "9f566853-a800-4e44-a203-9aa03a175594",
   "metadata": {},
   "outputs": [
    {
     "data": {
      "text/plain": [
       "{'hello', 'hi', 'python'}"
      ]
     },
     "execution_count": 51,
     "metadata": {},
     "output_type": "execute_result"
    }
   ],
   "source": [
    "X"
   ]
  },
  {
   "cell_type": "code",
   "execution_count": 52,
   "id": "6242b3b4-bb1b-425e-bf87-6847b751ac0d",
   "metadata": {},
   "outputs": [
    {
     "data": {
      "text/plain": [
       "{1, 2, 3, 34, 3332, 324455}"
      ]
     },
     "execution_count": 52,
     "metadata": {},
     "output_type": "execute_result"
    }
   ],
   "source": [
    "Y"
   ]
  },
  {
   "cell_type": "code",
   "execution_count": 53,
   "id": "71663616-d4cd-4cd5-bc0f-2261e7e9c77e",
   "metadata": {},
   "outputs": [
    {
     "data": {
      "text/plain": [
       "{1, 2, 3, 324455, 3332, 34, 'hello', 'hi', 'python'}"
      ]
     },
     "execution_count": 53,
     "metadata": {},
     "output_type": "execute_result"
    }
   ],
   "source": [
    "X | Y # OR"
   ]
  },
  {
   "cell_type": "code",
   "execution_count": 54,
   "id": "c26bb115-cef1-4ecc-8fcc-4638038d0de4",
   "metadata": {},
   "outputs": [
    {
     "data": {
      "text/plain": [
       "set()"
      ]
     },
     "execution_count": 54,
     "metadata": {},
     "output_type": "execute_result"
    }
   ],
   "source": [
    "X & Y"
   ]
  },
  {
   "cell_type": "code",
   "execution_count": 55,
   "id": "55cead12-f2eb-44f0-87de-0f664a53e616",
   "metadata": {},
   "outputs": [
    {
     "data": {
      "text/plain": [
       "{1, 2, 3, 324455, 3332, 34, 'hello', 'hi', 'python'}"
      ]
     },
     "execution_count": 55,
     "metadata": {},
     "output_type": "execute_result"
    }
   ],
   "source": [
    "X ^ Y"
   ]
  },
  {
   "cell_type": "markdown",
   "id": "5c255585-e606-4898-a572-720695034f70",
   "metadata": {},
   "source": [
    "### Control Structures"
   ]
  },
  {
   "cell_type": "markdown",
   "id": "21b08753-55bf-435d-a7f2-b28c011e6199",
   "metadata": {},
   "source": [
    "<!-- Syntax:\n",
    "Single condition\n",
    "if <condition> :\n",
    "   <if statements>\n",
    "else:\n",
    "   <else statements>\n",
    "\n",
    "# 3 Conditions\n",
    "\n",
    "if <condition1> :\n",
    "   <if statements>\n",
    "elif <condition2> :\n",
    "   <elif statements>\n",
    "elif <condition3> :\n",
    "   <elif statements>\n",
    "else:\n",
    "   <else statements> -->"
   ]
  },
  {
   "cell_type": "code",
   "execution_count": 1,
   "id": "dd042b2c-45cd-435a-931b-c5b0d7e64edd",
   "metadata": {},
   "outputs": [],
   "source": [
    "# Syntax:\n",
    "# if <condition> :\n",
    "#    < if statements>\n",
    "# else:\n",
    "#    < else statements>\n",
    "       "
   ]
  },
  {
   "cell_type": "code",
   "execution_count": 2,
   "id": "332fb79f-7dca-421e-8fe1-d2b4e086060e",
   "metadata": {},
   "outputs": [],
   "source": [
    "# Find the largest number given by user of 3 numbers"
   ]
  },
  {
   "cell_type": "code",
   "execution_count": 9,
   "id": "8ef6b019-98dc-46e2-bd64-e0fa2b1291d6",
   "metadata": {},
   "outputs": [
    {
     "name": "stdin",
     "output_type": "stream",
     "text": [
      "Enter 1st number: 100\n",
      "Enter 2nd number: 35\n",
      "Enter 3rd number: 102\n"
     ]
    },
    {
     "name": "stdout",
     "output_type": "stream",
     "text": [
      "Max number is: 102.0\n"
     ]
    }
   ],
   "source": [
    "# 2 types - global, local\n",
    "x = float(input(\"Enter 1st number:\"))\n",
    "y = float(input(\"Enter 2nd number:\"))\n",
    "z = float(input(\"Enter 3rd number:\"))\n",
    "if x>y and x>z:\n",
    "  max = x\n",
    "elif y>z and y>x:\n",
    "  max = y\n",
    "else:\n",
    "  max = z\n",
    "print(\"Max number is:\",max)"
   ]
  },
  {
   "cell_type": "code",
   "execution_count": null,
   "id": "1369ca3f-0e77-4e1c-b8cd-0fb9c44ac322",
   "metadata": {},
   "outputs": [],
   "source": [
    "10, 23, 45\n",
    "10,23 -> x,y\n",
    "23,45\n",
    "45"
   ]
  },
  {
   "cell_type": "code",
   "execution_count": 14,
   "id": "7f06e49d-a4bd-46ba-b059-da2f5c784d51",
   "metadata": {},
   "outputs": [
    {
     "name": "stdin",
     "output_type": "stream",
     "text": [
      "Enter 1st number: 100.45\n",
      "Enter 2nd number: 34.66\n",
      "Enter 3rd number: 105.333\n"
     ]
    },
    {
     "name": "stdout",
     "output_type": "stream",
     "text": [
      "Max number is: 105.333\n"
     ]
    }
   ],
   "source": [
    "x = float(input(\"Enter 1st number:\"))\n",
    "y = float(input(\"Enter 2nd number:\"))\n",
    "z = float(input(\"Enter 3rd number:\"))\n",
    "m = [x,y,z]\n",
    "# m = list(map(int,m))\n",
    "print(\"Max number is:\",max(m))"
   ]
  },
  {
   "cell_type": "code",
   "execution_count": 4,
   "id": "c86984c9-54c5-43c9-8afb-8e1a32216c61",
   "metadata": {},
   "outputs": [],
   "source": [
    "m1 = [100.0, 34.0, 105.0]"
   ]
  },
  {
   "cell_type": "code",
   "execution_count": 5,
   "id": "a205917b-c5c3-4386-86ff-2ff0b7e65981",
   "metadata": {},
   "outputs": [],
   "source": [
    "m1 = list(map(int,m1))"
   ]
  },
  {
   "cell_type": "code",
   "execution_count": 6,
   "id": "8b0416dd-481e-449d-b184-e81700b882b7",
   "metadata": {},
   "outputs": [
    {
     "data": {
      "text/plain": [
       "[100, 34, 105]"
      ]
     },
     "execution_count": 6,
     "metadata": {},
     "output_type": "execute_result"
    }
   ],
   "source": [
    "m1"
   ]
  },
  {
   "cell_type": "code",
   "execution_count": 7,
   "id": "601e257a-c036-4d6c-abf8-9dfa08c6d1f2",
   "metadata": {},
   "outputs": [
    {
     "data": {
      "text/plain": [
       "list"
      ]
     },
     "execution_count": 7,
     "metadata": {},
     "output_type": "execute_result"
    }
   ],
   "source": [
    "type(m1)"
   ]
  },
  {
   "cell_type": "code",
   "execution_count": 8,
   "id": "33348ecc-664d-4f8e-ac10-d9f864aa0e55",
   "metadata": {},
   "outputs": [
    {
     "data": {
      "text/plain": [
       "105"
      ]
     },
     "execution_count": 8,
     "metadata": {},
     "output_type": "execute_result"
    }
   ],
   "source": [
    "max(m1)"
   ]
  },
  {
   "cell_type": "code",
   "execution_count": 1,
   "id": "dcb85123-cff9-43a6-9354-236611759ec9",
   "metadata": {},
   "outputs": [],
   "source": [
    "a = [1,2,3]"
   ]
  },
  {
   "cell_type": "code",
   "execution_count": 2,
   "id": "4ca8f834-270d-4e10-b653-25d219c6c335",
   "metadata": {},
   "outputs": [
    {
     "data": {
      "text/plain": [
       "3"
      ]
     },
     "execution_count": 2,
     "metadata": {},
     "output_type": "execute_result"
    }
   ],
   "source": [
    "max(a)"
   ]
  },
  {
   "cell_type": "code",
   "execution_count": 11,
   "id": "23371c49-e529-4895-ac79-d6ca0b2623fd",
   "metadata": {},
   "outputs": [],
   "source": [
    "m1 = [100.0, 34.0, 105.0]"
   ]
  },
  {
   "cell_type": "code",
   "execution_count": 12,
   "id": "131fca64-83f7-49f1-89f8-d1e1eef0069e",
   "metadata": {},
   "outputs": [
    {
     "data": {
      "text/plain": [
       "105.0"
      ]
     },
     "execution_count": 12,
     "metadata": {},
     "output_type": "execute_result"
    }
   ],
   "source": [
    "max(m1)"
   ]
  },
  {
   "cell_type": "code",
   "execution_count": 15,
   "id": "0bf77b30-675b-4132-8b3e-c55b8592574b",
   "metadata": {},
   "outputs": [],
   "source": [
    "# Tenary - If statements - Shorthand if statements\n",
    "# Syntax:\n",
    "# <condition> if <if code> else <else code>"
   ]
  },
  {
   "cell_type": "code",
   "execution_count": 18,
   "id": "fe984e30-76c6-4d1c-87cf-52310997403d",
   "metadata": {},
   "outputs": [
    {
     "name": "stdout",
     "output_type": "stream",
     "text": [
      "3\n"
     ]
    }
   ],
   "source": [
    "print(\"2\") if (2>3) else print(\"3\")"
   ]
  },
  {
   "cell_type": "code",
   "execution_count": null,
   "id": "b968b0fa-78fa-4cd5-839d-d83dff61189e",
   "metadata": {},
   "outputs": [],
   "source": [
    "10,23,47\n"
   ]
  },
  {
   "cell_type": "code",
   "execution_count": 20,
   "id": "6aeda062-4be6-46f5-a6f5-3fb27e1a940e",
   "metadata": {},
   "outputs": [
    {
     "name": "stdout",
     "output_type": "stream",
     "text": [
      "47\n"
     ]
    }
   ],
   "source": [
    "a = 10\n",
    "b = 23\n",
    "c = 47\n",
    "print(c) if c>a and c>b else print(b) if (b>a and b>c) else print(a)"
   ]
  },
  {
   "cell_type": "code",
   "execution_count": 19,
   "id": "80bd1e77-e2f7-483d-9e6b-d01e2f72e0ae",
   "metadata": {},
   "outputs": [
    {
     "name": "stdout",
     "output_type": "stream",
     "text": [
      "=\n"
     ]
    }
   ],
   "source": [
    "a = 330\n",
    "b = 330\n",
    "print(\"A\") if a > b else print(\"=\") if a == b else print(\"B\")"
   ]
  },
  {
   "cell_type": "code",
   "execution_count": 21,
   "id": "6735d98f-5de1-482f-879e-5e0cfa5d1fab",
   "metadata": {},
   "outputs": [
    {
     "name": "stdout",
     "output_type": "stream",
     "text": [
      "47\n"
     ]
    }
   ],
   "source": [
    "a = 47\n",
    "b = 10\n",
    "c = 23\n",
    "print(c) if c>a and c>b else print(b) if (b>a and b>c) else print(a)"
   ]
  },
  {
   "cell_type": "code",
   "execution_count": 10,
   "id": "c6e84989-0bc7-4753-92e6-6ace83c32ea5",
   "metadata": {},
   "outputs": [
    {
     "name": "stdout",
     "output_type": "stream",
     "text": [
      "A value is 199393\n"
     ]
    }
   ],
   "source": [
    "a = 199393\n",
    "b = 150\n",
    "c = 3023\n",
    "print(\"C value is\",c) if c>a and c>b else print(\"B value is\",b) if (b>a and b>c) else print(\"A value is\",a)"
   ]
  },
  {
   "cell_type": "code",
   "execution_count": 1,
   "id": "45eef5ed-0165-4f74-b097-18285bba01e5",
   "metadata": {},
   "outputs": [],
   "source": [
    "# Best practices while writing a program"
   ]
  },
  {
   "cell_type": "code",
   "execution_count": 9,
   "id": "1dd41e0f-782f-4b00-a133-a760bbab96c5",
   "metadata": {},
   "outputs": [
    {
     "name": "stdin",
     "output_type": "stream",
     "text": [
      "Enter a year: 1900\n"
     ]
    },
    {
     "name": "stdout",
     "output_type": "stream",
     "text": [
      "1900 is not a leap year\n"
     ]
    }
   ],
   "source": [
    "# Python program to check the given year is a leap year or not\n",
    "\n",
    "# To find the leap year, user need enter the year\n",
    "\n",
    "# Take the year as input and convert to integer if not\n",
    "year = int(input(\"Enter a year:\"))\n",
    "\n",
    "# year should be devided by 400 and not divided 100 (century year)\n",
    "if(year % 400 == 0) and (year % 100 != 0):\n",
    "    print(f\"{year} is a leap year\")\n",
    "# not devided by 100 and year divided by 4 is a leap year\n",
    "elif (year % 4 == 0) and (year % 100 !=0):\n",
    "    print(f\"{year} is a leap year\")\n",
    "\n",
    "# if not devided by both 400 and 4, year is not a leap year\n",
    "else:\n",
    "    print(f\"{year} is not a leap year\")"
   ]
  },
  {
   "cell_type": "code",
   "execution_count": null,
   "id": "1fae4b80-8b8b-4432-ab23-db2cf32f180b",
   "metadata": {},
   "outputs": [],
   "source": [
    "print(\"Hello,\", name, \"! Welcome!\")"
   ]
  },
  {
   "cell_type": "code",
   "execution_count": null,
   "id": "61de0d7b-f12b-4e88-9f44-5e0741cbeef8",
   "metadata": {},
   "outputs": [],
   "source": [
    "print(f\"Hello, {name} ! Welcome!\")"
   ]
  },
  {
   "cell_type": "code",
   "execution_count": 12,
   "id": "ab8dd3dc-c6f7-4497-89d5-945b3eaa7dae",
   "metadata": {},
   "outputs": [
    {
     "name": "stdout",
     "output_type": "stream",
     "text": [
      "Amount: $150.76\n"
     ]
    }
   ],
   "source": [
    "amount = 150.75977733455\n",
    "print(\"Amount: ${:.2f}\".format(amount))"
   ]
  },
  {
   "cell_type": "code",
   "execution_count": null,
   "id": "8aa502aa-38bd-4224-af6c-f7d055a3ab68",
   "metadata": {},
   "outputs": [],
   "source": [
    "quantity = 3\n",
    "itemno = 567\n",
    "price = 49\n",
    "myorder = \"I want {0} pieces of item number {1} for {2:.2f} dollars.\"\n",
    "print(myorder.format(quantity, itemno, price))"
   ]
  },
  {
   "cell_type": "code",
   "execution_count": null,
   "id": "60fa6c7c-8115-4cc7-84f6-ef7df557a263",
   "metadata": {},
   "outputs": [],
   "source": [
    "print(f\"I want {quantity} pieces of item number {itemno} for {price:.2f} dollars\")"
   ]
  },
  {
   "cell_type": "code",
   "execution_count": 13,
   "id": "3c9021ed-6cc9-4819-ac83-33cd7ee0b2c3",
   "metadata": {},
   "outputs": [],
   "source": [
    "# Print the given user input number is a odd or even number"
   ]
  },
  {
   "cell_type": "code",
   "execution_count": 19,
   "id": "bf70554e-4fe8-4e45-9e4f-6a7e78a6587a",
   "metadata": {},
   "outputs": [
    {
     "name": "stdin",
     "output_type": "stream",
     "text": [
      "Enter the number to find even or odd 4556\n"
     ]
    },
    {
     "name": "stdout",
     "output_type": "stream",
     "text": [
      "4556 is even number\n"
     ]
    }
   ],
   "source": [
    "number = int(input(\"Enter the number to find even or odd\"))\n",
    "if number%2 == 0:\n",
    "   print(f\"{number} is even number\")\n",
    "else:\n",
    "   print(f\"{number} is odd number\")"
   ]
  },
  {
   "cell_type": "code",
   "execution_count": 16,
   "id": "60da005c-dc20-4059-a3fe-f337eb82b312",
   "metadata": {},
   "outputs": [
    {
     "data": {
      "text/plain": [
       "True"
      ]
     },
     "execution_count": 16,
     "metadata": {},
     "output_type": "execute_result"
    }
   ],
   "source": [
    "3 == 3"
   ]
  },
  {
   "cell_type": "code",
   "execution_count": 20,
   "id": "5b5cb8fe-b59b-4f43-bacd-fd7b51e89b87",
   "metadata": {},
   "outputs": [],
   "source": [
    "# print even numbers from the given list"
   ]
  },
  {
   "cell_type": "code",
   "execution_count": 21,
   "id": "31b23679-039d-4946-9251-e3b75d54a016",
   "metadata": {},
   "outputs": [],
   "source": [
    "# input: a = [1,2,2,3,4,5]\n",
    "# output: [2,2,4]\n",
    "# pick each number in the given list and verify even or odd, then copy to another if it is even and print that list"
   ]
  },
  {
   "cell_type": "code",
   "execution_count": null,
   "id": "e468d3ff-21f5-40c2-9a75-c7b40ba25aa5",
   "metadata": {},
   "outputs": [],
   "source": [
    "lst = list(input(\"Enter the list\"))\n"
   ]
  },
  {
   "cell_type": "code",
   "execution_count": 22,
   "id": "8072fd07-36eb-4d66-99c2-7be5811fe901",
   "metadata": {},
   "outputs": [],
   "source": [
    "a,b,c = 1,2,3"
   ]
  },
  {
   "cell_type": "code",
   "execution_count": 23,
   "id": "0bbf4efe-5056-4448-9ee2-101b7f2772c4",
   "metadata": {},
   "outputs": [
    {
     "data": {
      "text/plain": [
       "1"
      ]
     },
     "execution_count": 23,
     "metadata": {},
     "output_type": "execute_result"
    }
   ],
   "source": [
    "a"
   ]
  },
  {
   "cell_type": "code",
   "execution_count": 24,
   "id": "d032c0e6-3bc8-492a-8d6a-998ba0598386",
   "metadata": {},
   "outputs": [
    {
     "data": {
      "text/plain": [
       "2"
      ]
     },
     "execution_count": 24,
     "metadata": {},
     "output_type": "execute_result"
    }
   ],
   "source": [
    "b"
   ]
  },
  {
   "cell_type": "code",
   "execution_count": 25,
   "id": "18070a47-af34-4df9-b26c-fa10ffe83c60",
   "metadata": {},
   "outputs": [
    {
     "data": {
      "text/plain": [
       "3"
      ]
     },
     "execution_count": 25,
     "metadata": {},
     "output_type": "execute_result"
    }
   ],
   "source": [
    "c"
   ]
  },
  {
   "cell_type": "code",
   "execution_count": 2,
   "id": "52c1baad-44f3-4ee0-bfe2-61e82f6f6b38",
   "metadata": {},
   "outputs": [
    {
     "name": "stdout",
     "output_type": "stream",
     "text": [
      "2\n",
      "4\n",
      "4\n",
      "6\n",
      "8\n",
      "10\n",
      "12\n"
     ]
    }
   ],
   "source": [
    "a = [1,2,2,3,4,5,6]\n",
    "for i in a:\n",
    "    print(i*2)"
   ]
  },
  {
   "cell_type": "code",
   "execution_count": 3,
   "id": "ad525b43-9ba2-462b-bb28-7b3e630282ba",
   "metadata": {},
   "outputs": [],
   "source": [
    "# input: a = [1,2,2,3,4,5]\n",
    "# output: [2,2,4]\n",
    "# pick each number in the given list and verify even or odd, then copy to another if it is even and print that list"
   ]
  },
  {
   "cell_type": "code",
   "execution_count": 21,
   "id": "c6bd4258-1f1d-4d16-92a0-8df99dab911e",
   "metadata": {},
   "outputs": [
    {
     "name": "stdin",
     "output_type": "stream",
     "text": [
      "Enter the list [1,2,2,3,4,5]\n"
     ]
    },
    {
     "name": "stdout",
     "output_type": "stream",
     "text": [
      "[1,2,2,3,4,5]\n",
      "<class 'str'>\n"
     ]
    }
   ],
   "source": [
    "new_lst = []\n",
    "lst = input(\"Enter the list\")\n",
    "# lst1 = list(map(int,lst))\n",
    "print(lst)\n",
    "print(type(lst))\n",
    "# for i in lst:\n",
    "#     if(i % 2 == 0):\n",
    "#         new_lst.append(i)\n",
    "# print(new_lst)"
   ]
  },
  {
   "cell_type": "code",
   "execution_count": 22,
   "id": "48bcd58d-02a6-4a49-8345-c81403f9903c",
   "metadata": {},
   "outputs": [
    {
     "data": {
      "text/plain": [
       "['[', '1', ',', '2', ',', '2', ',', '3', ',', '4', ',', '5', ']']"
      ]
     },
     "execution_count": 22,
     "metadata": {},
     "output_type": "execute_result"
    }
   ],
   "source": [
    "list(\"[1,2,2,3,4,5]\")"
   ]
  },
  {
   "cell_type": "code",
   "execution_count": 23,
   "id": "49c31d69-cc11-4945-8622-61c575d1c171",
   "metadata": {},
   "outputs": [
    {
     "data": {
      "text/plain": [
       "['[1', '2', '2', '3', '4', '5]']"
      ]
     },
     "execution_count": 23,
     "metadata": {},
     "output_type": "execute_result"
    }
   ],
   "source": [
    "list(\"[1,2,2,3,4,5]\".split(','))"
   ]
  },
  {
   "cell_type": "code",
   "execution_count": 31,
   "id": "661acc46-2834-4100-b93c-62711386b981",
   "metadata": {},
   "outputs": [
    {
     "data": {
      "text/plain": [
       "['[1', '2', '2', '3', '4', '5]']"
      ]
     },
     "execution_count": 31,
     "metadata": {},
     "output_type": "execute_result"
    }
   ],
   "source": [
    "\"[1,2,2,3,4,5]\".split(',')"
   ]
  },
  {
   "cell_type": "code",
   "execution_count": 32,
   "id": "ff727539-a8c1-4fec-9cb2-937553965aec",
   "metadata": {},
   "outputs": [
    {
     "data": {
      "text/plain": [
       "False"
      ]
     },
     "execution_count": 32,
     "metadata": {},
     "output_type": "execute_result"
    }
   ],
   "source": [
    "\"[1,2,2,3,4,5]\".split(',')[0] == 1"
   ]
  },
  {
   "cell_type": "code",
   "execution_count": 37,
   "id": "f7307515-ee05-426f-93ef-254c7ee0df1e",
   "metadata": {},
   "outputs": [],
   "source": [
    "a1 = \"[1,2,2,3,4,5]\".split(',')"
   ]
  },
  {
   "cell_type": "code",
   "execution_count": 38,
   "id": "ac414611-588d-4988-b719-2d94b6c32c35",
   "metadata": {},
   "outputs": [
    {
     "data": {
      "text/plain": [
       "['[1', '2', '2', '3', '4', '5]']"
      ]
     },
     "execution_count": 38,
     "metadata": {},
     "output_type": "execute_result"
    }
   ],
   "source": [
    "a1"
   ]
  },
  {
   "cell_type": "code",
   "execution_count": 40,
   "id": "28481113-62cd-4f87-90fa-560378c113d1",
   "metadata": {},
   "outputs": [],
   "source": [
    "a1[0] = 1"
   ]
  },
  {
   "cell_type": "code",
   "execution_count": 41,
   "id": "1ce779b3-7687-49e8-99b4-abdeb48faf07",
   "metadata": {},
   "outputs": [
    {
     "data": {
      "text/plain": [
       "[1, '2', '2', '3', '4', '5]']"
      ]
     },
     "execution_count": 41,
     "metadata": {},
     "output_type": "execute_result"
    }
   ],
   "source": [
    "a1"
   ]
  },
  {
   "cell_type": "code",
   "execution_count": 42,
   "id": "09931303-c409-466f-bd83-430e4f280bce",
   "metadata": {},
   "outputs": [],
   "source": [
    "a1[-1] = 5"
   ]
  },
  {
   "cell_type": "code",
   "execution_count": 43,
   "id": "7a2cbd98-a545-4d5b-bc7a-e88bf1d67221",
   "metadata": {},
   "outputs": [
    {
     "data": {
      "text/plain": [
       "[1, '2', '2', '3', '4', 5]"
      ]
     },
     "execution_count": 43,
     "metadata": {},
     "output_type": "execute_result"
    }
   ],
   "source": [
    "a1"
   ]
  },
  {
   "cell_type": "code",
   "execution_count": 54,
   "id": "354dc9f0-3bfa-4edd-8659-29dd3dcbef9a",
   "metadata": {},
   "outputs": [],
   "source": [
    "a12 = map(int,a1)"
   ]
  },
  {
   "cell_type": "code",
   "execution_count": 55,
   "id": "d3bbd2e7-62c4-450f-b5c4-c1b2dd92bbc1",
   "metadata": {},
   "outputs": [],
   "source": [
    "a122 = list(a12)"
   ]
  },
  {
   "cell_type": "code",
   "execution_count": 56,
   "id": "dbb83956-bc36-4dc4-8b99-6d1a8ca774ce",
   "metadata": {},
   "outputs": [
    {
     "data": {
      "text/plain": [
       "list"
      ]
     },
     "execution_count": 56,
     "metadata": {},
     "output_type": "execute_result"
    }
   ],
   "source": [
    "type(a122)"
   ]
  },
  {
   "cell_type": "code",
   "execution_count": 6,
   "id": "35ba78ac-ca9b-49c3-9c24-b6ee09edb485",
   "metadata": {},
   "outputs": [
    {
     "ename": "NameError",
     "evalue": "name 'a122' is not defined",
     "output_type": "error",
     "traceback": [
      "\u001b[31m---------------------------------------------------------------------------\u001b[39m",
      "\u001b[31mNameError\u001b[39m                                 Traceback (most recent call last)",
      "\u001b[36mCell\u001b[39m\u001b[36m \u001b[39m\u001b[32mIn[6]\u001b[39m\u001b[32m, line 1\u001b[39m\n\u001b[32m----> \u001b[39m\u001b[32m1\u001b[39m \u001b[43ma122\u001b[49m\n",
      "\u001b[31mNameError\u001b[39m: name 'a122' is not defined"
     ]
    }
   ],
   "source": [
    "a122"
   ]
  },
  {
   "cell_type": "code",
   "execution_count": 8,
   "id": "23fe6349-8ad9-4e85-8dce-7ae05957abbf",
   "metadata": {},
   "outputs": [
    {
     "name": "stdin",
     "output_type": "stream",
     "text": [
      "Enter the list [1, 2, 2, 3, 4, 5]\n"
     ]
    },
    {
     "name": "stdout",
     "output_type": "stream",
     "text": [
      "[2, 2, 4]\n"
     ]
    }
   ],
   "source": [
    "new_lst = []\n",
    "lst = input(\"Enter the list\")\n",
    "lst1 = lst.strip('[]')\n",
    "lst1 = list(lst1.split(','))\n",
    "num = list(map(int,lst1))\n",
    "for i in num:\n",
    "    if i%2 == 0:\n",
    "        new_lst.append(i)\n",
    "print(new_lst)"
   ]
  },
  {
   "cell_type": "code",
   "execution_count": 9,
   "id": "981d61d8-edb6-4929-a45c-79e14b1f4803",
   "metadata": {},
   "outputs": [],
   "source": [
    "# Find the sum of items/objects in the list"
   ]
  },
  {
   "cell_type": "code",
   "execution_count": 4,
   "id": "d81608d4-3bbe-4efb-9328-bc820f5d0484",
   "metadata": {},
   "outputs": [
    {
     "name": "stdin",
     "output_type": "stream",
     "text": [
      "Enter the list [1, 2, 2, 3, 4, 5]\n"
     ]
    },
    {
     "name": "stdout",
     "output_type": "stream",
     "text": [
      "Sum is 17\n"
     ]
    }
   ],
   "source": [
    "a = input(\"Enter the list\")\n",
    "lst1 = a.strip('[]')\n",
    "lst1 = list(lst1.split(','))\n",
    "num = list(map(int,lst1))\n",
    "sum = 0\n",
    "for i in num:\n",
    "    sum += i #sum = sum + i\n",
    "print(\"Sum is\",sum)"
   ]
  },
  {
   "cell_type": "code",
   "execution_count": 3,
   "id": "f23d72c7-fabc-4ea0-8eca-c7b3244ffd82",
   "metadata": {},
   "outputs": [],
   "source": [
    "# find the sum of even numbers and sum of odd numbers in the given list"
   ]
  },
  {
   "cell_type": "code",
   "execution_count": 7,
   "id": "cf6f9518-b90b-4cac-a6ea-e3a39bac4186",
   "metadata": {},
   "outputs": [
    {
     "name": "stdin",
     "output_type": "stream",
     "text": [
      "Enter the list [1, 2, 2, 3, 4, 5]\n"
     ]
    },
    {
     "name": "stdout",
     "output_type": "stream",
     "text": [
      "Sum of even numbers: 8\n",
      "Sum of odd numbers: 9\n"
     ]
    }
   ],
   "source": [
    "a = input(\"Enter the list\")\n",
    "lst1 = a.strip('[]')\n",
    "lst1 = list(lst1.split(','))\n",
    "num = list(map(int,lst1))\n",
    "e_sum = 0\n",
    "o_sum = 0\n",
    "for i in num:\n",
    "    if i % 2 == 0:\n",
    "        e_sum += i\n",
    "    else:\n",
    "        o_sum += i\n",
    "print(\"Sum of even numbers:\",e_sum)\n",
    "print(\"Sum of odd numbers:\",o_sum)"
   ]
  },
  {
   "cell_type": "code",
   "execution_count": null,
   "id": "ba56d79a-491a-46f3-b0b8-ae389ccfc643",
   "metadata": {},
   "outputs": [],
   "source": [
    "Problem Description\n",
    "Write a Python Program to check whether a given number is a palindrome."
   ]
  },
  {
   "cell_type": "code",
   "execution_count": 13,
   "id": "8fa2d3b1-a119-4ed9-9d2d-78420dd36396",
   "metadata": {},
   "outputs": [
    {
     "name": "stdin",
     "output_type": "stream",
     "text": [
      "Enter the number to check palindrome 12345\n"
     ]
    },
    {
     "name": "stdout",
     "output_type": "stream",
     "text": [
      "Given number is not palindrome\n"
     ]
    }
   ],
   "source": [
    "num = input(\"Enter the number to check palindrome\")\n",
    "num = list(num)\n",
    "num = list(map(int,num))\n",
    "if num == num[::-1]:\n",
    "    print(\"Given number is palindrome\")\n",
    "else:\n",
    "    print(\"Given number is not palindrome\")"
   ]
  },
  {
   "cell_type": "code",
   "execution_count": 8,
   "id": "e5078223-fa21-48d5-a462-05b94bbd216a",
   "metadata": {},
   "outputs": [
    {
     "data": {
      "text/plain": [
       "['1', '2', '1']"
      ]
     },
     "execution_count": 8,
     "metadata": {},
     "output_type": "execute_result"
    }
   ],
   "source": [
    "list(\"121\")"
   ]
  },
  {
   "cell_type": "code",
   "execution_count": 9,
   "id": "6898eebd-ab81-41c5-bd27-ef518ad5d854",
   "metadata": {},
   "outputs": [],
   "source": [
    "x = [1, 2, 2, 3, 4, 5]"
   ]
  },
  {
   "cell_type": "code",
   "execution_count": 10,
   "id": "730e322b-a850-4a5d-a035-f8a1a0762fa8",
   "metadata": {},
   "outputs": [
    {
     "data": {
      "text/plain": [
       "[5, 4, 3, 2, 2, 1]"
      ]
     },
     "execution_count": 10,
     "metadata": {},
     "output_type": "execute_result"
    }
   ],
   "source": [
    "x[::-1]"
   ]
  },
  {
   "cell_type": "code",
   "execution_count": 14,
   "id": "dc4e2534-2590-446d-8b63-e15713b07f9d",
   "metadata": {},
   "outputs": [],
   "source": [
    "# Print the vowels (a,e,i,o,u) from the given input string\n",
    "# input = hello\n",
    "# output = "
   ]
  },
  {
   "cell_type": "code",
   "execution_count": 15,
   "id": "9fe4afe1-6df7-40f8-ac3c-df0313587b84",
   "metadata": {},
   "outputs": [
    {
     "name": "stdout",
     "output_type": "stream",
     "text": [
      "h\n",
      "e\n",
      "l\n",
      "l\n",
      "o\n"
     ]
    }
   ],
   "source": [
    "for i in \"hello\":\n",
    "    print(i)"
   ]
  },
  {
   "cell_type": "code",
   "execution_count": 16,
   "id": "ea887d19-ff43-498c-b5c7-83ac12a125e3",
   "metadata": {},
   "outputs": [
    {
     "data": {
      "text/plain": [
       "False"
      ]
     },
     "execution_count": 16,
     "metadata": {},
     "output_type": "execute_result"
    }
   ],
   "source": [
    "'h' in ['a','e','i','o','u']"
   ]
  },
  {
   "cell_type": "code",
   "execution_count": 4,
   "id": "36dc59ce-9a5c-4c80-a8b1-1e5d13e282a2",
   "metadata": {},
   "outputs": [],
   "source": [
    "d = ['a','e']"
   ]
  },
  {
   "cell_type": "code",
   "execution_count": 5,
   "id": "4881ace1-780b-406c-af6c-bfd346a4d0d7",
   "metadata": {},
   "outputs": [],
   "source": [
    "d.append('e')"
   ]
  },
  {
   "cell_type": "code",
   "execution_count": 16,
   "id": "df639c8f-a467-48bd-a7fd-f967672f2160",
   "metadata": {},
   "outputs": [
    {
     "data": {
      "text/plain": [
       "'aee'"
      ]
     },
     "execution_count": 16,
     "metadata": {},
     "output_type": "execute_result"
    }
   ],
   "source": [
    "\"\".join(['a', 'e', 'e'])  # Hint"
   ]
  },
  {
   "cell_type": "code",
   "execution_count": 1,
   "id": "671b714d-5f9b-493c-b2bf-5687207a9cc4",
   "metadata": {},
   "outputs": [
    {
     "name": "stdin",
     "output_type": "stream",
     "text": [
      "Enter the string to findout vowels: experimental\n"
     ]
    },
    {
     "name": "stdout",
     "output_type": "stream",
     "text": [
      "eeiea\n"
     ]
    }
   ],
   "source": [
    "str1 = input(\"Enter the string to findout vowels:\")\n",
    "l_vowels = []\n",
    "vowels = ['a','e','i','o','u']\n",
    "for i in str1:\n",
    "    if i in vowels:\n",
    "        l_vowels.append(i)\n",
    "print(f\"{''.join(l_vowels)}\")"
   ]
  },
  {
   "cell_type": "code",
   "execution_count": 2,
   "id": "13b2e983-2fef-48a2-8b5e-d75907e00b14",
   "metadata": {},
   "outputs": [
    {
     "name": "stdin",
     "output_type": "stream",
     "text": [
      "Enter the string to findout vowels: experimental\n"
     ]
    },
    {
     "name": "stdout",
     "output_type": "stream",
     "text": [
      "eia\n"
     ]
    }
   ],
   "source": [
    "str1 = input(\"Enter the string to findout vowels:\")\n",
    "l_vowels = []\n",
    "vowels = ['a','e','i','o','u']\n",
    "for i in str1:\n",
    "    if i in vowels:\n",
    "        if i not in l_vowels:\n",
    "            l_vowels.append(i)\n",
    "print(f\"{''.join(l_vowels)}\")"
   ]
  },
  {
   "cell_type": "code",
   "execution_count": null,
   "id": "4ef03934-8732-4121-998f-8ee9de4f9e40",
   "metadata": {},
   "outputs": [],
   "source": []
  }
 ],
 "metadata": {
  "kernelspec": {
   "display_name": "Python 3 (ipykernel)",
   "language": "python",
   "name": "python3"
  },
  "language_info": {
   "codemirror_mode": {
    "name": "ipython",
    "version": 3
   },
   "file_extension": ".py",
   "mimetype": "text/x-python",
   "name": "python",
   "nbconvert_exporter": "python",
   "pygments_lexer": "ipython3",
   "version": "3.13.1"
  }
 },
 "nbformat": 4,
 "nbformat_minor": 5
}
