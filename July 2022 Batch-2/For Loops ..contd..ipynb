{
 "cells": [
  {
   "cell_type": "code",
   "execution_count": 1,
   "id": "a3807a4c",
   "metadata": {},
   "outputs": [],
   "source": [
    "# Find the vowels in a given input string\n",
    "# a,e,i,o,u\n",
    "# Example: Welcome\n",
    "# output: [e, o, e]"
   ]
  },
  {
   "cell_type": "code",
   "execution_count": 34,
   "id": "ac96756b",
   "metadata": {},
   "outputs": [],
   "source": [
    "fo = {}\n",
    "fo['ai'] = 1\n",
    "fo['ai'] += 1"
   ]
  },
  {
   "cell_type": "code",
   "execution_count": 41,
   "id": "9f552eb6",
   "metadata": {},
   "outputs": [],
   "source": [
    "fo['ai'] += 1"
   ]
  },
  {
   "cell_type": "code",
   "execution_count": 42,
   "id": "5b2fe742",
   "metadata": {},
   "outputs": [
    {
     "data": {
      "text/plain": [
       "{'ai': 6}"
      ]
     },
     "execution_count": 42,
     "metadata": {},
     "output_type": "execute_result"
    }
   ],
   "source": [
    "fo"
   ]
  },
  {
   "cell_type": "code",
   "execution_count": 6,
   "id": "6a0273a9",
   "metadata": {},
   "outputs": [
    {
     "name": "stdout",
     "output_type": "stream",
     "text": [
      "Enter the word: welcome\n",
      "a was found 0 time(s)\n",
      "e was found 2 time(s)\n",
      "i was found 0 time(s)\n",
      "o was found 1 time(s)\n",
      "u was found 0 time(s)\n"
     ]
    }
   ],
   "source": [
    "vowels = ['a','e','i','o','u']\n",
    "word = input(\"Enter the word: \")\n",
    "found = {}.fromkeys(vowels,0)\n",
    "\n",
    "for letter in word:\n",
    "    if letter in vowels:\n",
    "        found[letter] += 1\n",
    "\n",
    "for k,v in sorted(found.items()):\n",
    "    print(k, 'was found', v, 'time(s)')"
   ]
  },
  {
   "cell_type": "code",
   "execution_count": 8,
   "id": "af7bd290",
   "metadata": {},
   "outputs": [
    {
     "name": "stdout",
     "output_type": "stream",
     "text": [
      "{'a': 0, 'e': 0, 'i': 0, 'o': 0, 'u': 0}\n",
      "dict_items([('a', 0), ('e', 0), ('i', 0), ('o', 0), ('u', 0)])\n"
     ]
    }
   ],
   "source": [
    "found = {}.fromkeys(vowels,0)\n",
    "print(found)\n",
    "print(found.items())"
   ]
  },
  {
   "cell_type": "code",
   "execution_count": null,
   "id": "605d3db2",
   "metadata": {},
   "outputs": [],
   "source": []
  }
 ],
 "metadata": {
  "kernelspec": {
   "display_name": "Python 3",
   "language": "python",
   "name": "python3"
  },
  "language_info": {
   "codemirror_mode": {
    "name": "ipython",
    "version": 3
   },
   "file_extension": ".py",
   "mimetype": "text/x-python",
   "name": "python",
   "nbconvert_exporter": "python",
   "pygments_lexer": "ipython3",
   "version": "3.10.4"
  }
 },
 "nbformat": 4,
 "nbformat_minor": 5
}
