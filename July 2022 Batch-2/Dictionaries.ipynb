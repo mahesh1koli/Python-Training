{
 "cells": [
  {
   "cell_type": "code",
   "execution_count": 1,
   "id": "96a34955",
   "metadata": {},
   "outputs": [],
   "source": [
    "# Dictionaries - {} or dict()\n",
    "# Key: value pairs\n",
    "# Ordered, Mutable Values, Immutable Keys, Allow duplicate values\n",
    "# Keys are unique"
   ]
  },
  {
   "cell_type": "code",
   "execution_count": 1,
   "id": "2dbfba90",
   "metadata": {},
   "outputs": [],
   "source": [
    "emp1 = {\n",
    "    'Name':'Raj',\n",
    "    'Age': 34,\n",
    "    'Desg': 'Engineer',\n",
    "    'Dept': 'Research'\n",
    "}"
   ]
  },
  {
   "cell_type": "code",
   "execution_count": 3,
   "id": "7662e9c4",
   "metadata": {},
   "outputs": [
    {
     "data": {
      "text/plain": [
       "{'Name': 'Raj', 'Age': 34, 'Desg': 'Engineer', 'Dept': 'Research'}"
      ]
     },
     "execution_count": 3,
     "metadata": {},
     "output_type": "execute_result"
    }
   ],
   "source": [
    "emp1"
   ]
  },
  {
   "cell_type": "code",
   "execution_count": 4,
   "id": "d6599a1e",
   "metadata": {},
   "outputs": [
    {
     "data": {
      "text/plain": [
       "'Raj'"
      ]
     },
     "execution_count": 4,
     "metadata": {},
     "output_type": "execute_result"
    }
   ],
   "source": [
    "emp1['Name']"
   ]
  },
  {
   "cell_type": "code",
   "execution_count": 5,
   "id": "eee58f78",
   "metadata": {},
   "outputs": [
    {
     "data": {
      "text/plain": [
       "34"
      ]
     },
     "execution_count": 5,
     "metadata": {},
     "output_type": "execute_result"
    }
   ],
   "source": [
    "emp1['Age']"
   ]
  },
  {
   "cell_type": "code",
   "execution_count": 6,
   "id": "0ae681b4",
   "metadata": {},
   "outputs": [],
   "source": [
    "emp1['Salary'] = 67000"
   ]
  },
  {
   "cell_type": "code",
   "execution_count": 7,
   "id": "0c3f69f7",
   "metadata": {},
   "outputs": [
    {
     "data": {
      "text/plain": [
       "{'Name': 'Raj',\n",
       " 'Age': 34,\n",
       " 'Desg': 'Engineer',\n",
       " 'Dept': 'Research',\n",
       " 'Salary': 67000}"
      ]
     },
     "execution_count": 7,
     "metadata": {},
     "output_type": "execute_result"
    }
   ],
   "source": [
    "emp1"
   ]
  },
  {
   "cell_type": "code",
   "execution_count": 8,
   "id": "251c90c7",
   "metadata": {},
   "outputs": [],
   "source": [
    "emp1['B Group'] = 'B-ve'"
   ]
  },
  {
   "cell_type": "code",
   "execution_count": 2,
   "id": "a1fb0172",
   "metadata": {},
   "outputs": [
    {
     "data": {
      "text/plain": [
       "{'Name': 'Raj', 'Age': 34, 'Desg': 'Engineer', 'Dept': 'Research'}"
      ]
     },
     "execution_count": 2,
     "metadata": {},
     "output_type": "execute_result"
    }
   ],
   "source": [
    "emp1"
   ]
  },
  {
   "cell_type": "code",
   "execution_count": 10,
   "id": "60f80881",
   "metadata": {},
   "outputs": [
    {
     "data": {
      "text/plain": [
       "'B-ve'"
      ]
     },
     "execution_count": 10,
     "metadata": {},
     "output_type": "execute_result"
    }
   ],
   "source": [
    "emp1['B Group']"
   ]
  },
  {
   "cell_type": "code",
   "execution_count": 11,
   "id": "70f78ebb",
   "metadata": {},
   "outputs": [],
   "source": [
    "emp1['B Group'] = 'O +ve' "
   ]
  },
  {
   "cell_type": "code",
   "execution_count": 12,
   "id": "af8082de",
   "metadata": {},
   "outputs": [
    {
     "data": {
      "text/plain": [
       "{'Name': 'Raj',\n",
       " 'Age': 34,\n",
       " 'Desg': 'Engineer',\n",
       " 'Dept': 'Research',\n",
       " 'Salary': 67000,\n",
       " 'B Group': 'O +ve'}"
      ]
     },
     "execution_count": 12,
     "metadata": {},
     "output_type": "execute_result"
    }
   ],
   "source": [
    "emp1"
   ]
  },
  {
   "cell_type": "code",
   "execution_count": 16,
   "id": "ea014e1b",
   "metadata": {},
   "outputs": [
    {
     "data": {
      "text/plain": [
       "'O +ve'"
      ]
     },
     "execution_count": 16,
     "metadata": {},
     "output_type": "execute_result"
    }
   ],
   "source": [
    "emp1.pop('B Group')"
   ]
  },
  {
   "cell_type": "code",
   "execution_count": null,
   "id": "e1ab98a9",
   "metadata": {},
   "outputs": [],
   "source": [
    "emp1.popitem()"
   ]
  },
  {
   "cell_type": "code",
   "execution_count": 17,
   "id": "9ca3218a",
   "metadata": {},
   "outputs": [
    {
     "data": {
      "text/plain": [
       "{'Name': 'Raj',\n",
       " 'Age': 34,\n",
       " 'Desg': 'Engineer',\n",
       " 'Dept': 'Research',\n",
       " 'Salary': 67000}"
      ]
     },
     "execution_count": 17,
     "metadata": {},
     "output_type": "execute_result"
    }
   ],
   "source": [
    "emp1"
   ]
  },
  {
   "cell_type": "code",
   "execution_count": 18,
   "id": "5708f9f0",
   "metadata": {},
   "outputs": [],
   "source": [
    "del(emp1['Salary'])"
   ]
  },
  {
   "cell_type": "code",
   "execution_count": 19,
   "id": "78a24c07",
   "metadata": {},
   "outputs": [
    {
     "data": {
      "text/plain": [
       "{'Name': 'Raj', 'Age': 34, 'Desg': 'Engineer', 'Dept': 'Research'}"
      ]
     },
     "execution_count": 19,
     "metadata": {},
     "output_type": "execute_result"
    }
   ],
   "source": [
    "emp1"
   ]
  },
  {
   "cell_type": "code",
   "execution_count": 20,
   "id": "49dab560",
   "metadata": {},
   "outputs": [],
   "source": [
    "# Dict Methods - 11"
   ]
  },
  {
   "cell_type": "code",
   "execution_count": 21,
   "id": "99351c36",
   "metadata": {},
   "outputs": [
    {
     "data": {
      "text/plain": [
       "dict_keys(['Name', 'Age', 'Desg', 'Dept'])"
      ]
     },
     "execution_count": 21,
     "metadata": {},
     "output_type": "execute_result"
    }
   ],
   "source": [
    "emp1.keys()"
   ]
  },
  {
   "cell_type": "code",
   "execution_count": 22,
   "id": "b096b0e3",
   "metadata": {},
   "outputs": [
    {
     "data": {
      "text/plain": [
       "dict_values(['Raj', 34, 'Engineer', 'Research'])"
      ]
     },
     "execution_count": 22,
     "metadata": {},
     "output_type": "execute_result"
    }
   ],
   "source": [
    "emp1.values()"
   ]
  },
  {
   "cell_type": "code",
   "execution_count": 25,
   "id": "f2d3a1df",
   "metadata": {},
   "outputs": [
    {
     "name": "stdout",
     "output_type": "stream",
     "text": [
      "Help on built-in function update:\n",
      "\n",
      "update(...) method of builtins.dict instance\n",
      "    D.update([E, ]**F) -> None.  Update D from dict/iterable E and F.\n",
      "    If E is present and has a .keys() method, then does:  for k in E: D[k] = E[k]\n",
      "    If E is present and lacks a .keys() method, then does:  for k, v in E: D[k] = v\n",
      "    In either case, this is followed by: for k in F:  D[k] = F[k]\n",
      "\n"
     ]
    }
   ],
   "source": [
    "help(emp1.update)"
   ]
  },
  {
   "cell_type": "code",
   "execution_count": 31,
   "id": "5689b392",
   "metadata": {},
   "outputs": [],
   "source": [
    "emp1.update({'Name': 'Harish'})"
   ]
  },
  {
   "cell_type": "code",
   "execution_count": 32,
   "id": "f53af5fc",
   "metadata": {},
   "outputs": [
    {
     "data": {
      "text/plain": [
       "{'Name': 'Harish', 'Age': 34, 'Desg': 'Engineer', 'Dept': 'Research'}"
      ]
     },
     "execution_count": 32,
     "metadata": {},
     "output_type": "execute_result"
    }
   ],
   "source": [
    "emp1"
   ]
  },
  {
   "cell_type": "code",
   "execution_count": 33,
   "id": "1b791050",
   "metadata": {},
   "outputs": [
    {
     "data": {
      "text/plain": [
       "'Harish'"
      ]
     },
     "execution_count": 33,
     "metadata": {},
     "output_type": "execute_result"
    }
   ],
   "source": [
    "emp1.get('Name')"
   ]
  },
  {
   "cell_type": "code",
   "execution_count": 34,
   "id": "78052bf7",
   "metadata": {},
   "outputs": [
    {
     "data": {
      "text/plain": [
       "dict_items([('Name', 'Harish'), ('Age', 34), ('Desg', 'Engineer'), ('Dept', 'Research')])"
      ]
     },
     "execution_count": 34,
     "metadata": {},
     "output_type": "execute_result"
    }
   ],
   "source": [
    "emp1.items()"
   ]
  },
  {
   "cell_type": "code",
   "execution_count": 4,
   "id": "d60541c7",
   "metadata": {},
   "outputs": [],
   "source": [
    "dic1 = {'name':'Harish', 1: [2,4,9,8]}"
   ]
  },
  {
   "cell_type": "code",
   "execution_count": 5,
   "id": "b1b562d5",
   "metadata": {},
   "outputs": [
    {
     "data": {
      "text/plain": [
       "{'name': 'Harish', 1: [2, 4, 9, 8]}"
      ]
     },
     "execution_count": 5,
     "metadata": {},
     "output_type": "execute_result"
    }
   ],
   "source": [
    "dic1"
   ]
  },
  {
   "cell_type": "code",
   "execution_count": 6,
   "id": "866eb1d0",
   "metadata": {},
   "outputs": [
    {
     "data": {
      "text/plain": [
       "dict"
      ]
     },
     "execution_count": 6,
     "metadata": {},
     "output_type": "execute_result"
    }
   ],
   "source": [
    "type(dic1)"
   ]
  },
  {
   "cell_type": "code",
   "execution_count": 7,
   "id": "f3a2365c",
   "metadata": {},
   "outputs": [
    {
     "data": {
      "text/plain": [
       "'Harish'"
      ]
     },
     "execution_count": 7,
     "metadata": {},
     "output_type": "execute_result"
    }
   ],
   "source": [
    "dic1['name']"
   ]
  },
  {
   "cell_type": "code",
   "execution_count": 8,
   "id": "d0a777f8",
   "metadata": {},
   "outputs": [
    {
     "data": {
      "text/plain": [
       "[2, 4, 9, 8]"
      ]
     },
     "execution_count": 8,
     "metadata": {},
     "output_type": "execute_result"
    }
   ],
   "source": [
    "dic1[1]"
   ]
  },
  {
   "cell_type": "code",
   "execution_count": 10,
   "id": "471dc535",
   "metadata": {},
   "outputs": [
    {
     "data": {
      "text/plain": [
       "4"
      ]
     },
     "execution_count": 10,
     "metadata": {},
     "output_type": "execute_result"
    }
   ],
   "source": [
    "dic1[1][1]"
   ]
  },
  {
   "cell_type": "code",
   "execution_count": 12,
   "id": "0f19fcb9",
   "metadata": {},
   "outputs": [],
   "source": [
    "dic2 = {'name':'Harish', 2: (2,4,9,8)}"
   ]
  },
  {
   "cell_type": "code",
   "execution_count": 13,
   "id": "6c6eefa9",
   "metadata": {},
   "outputs": [
    {
     "data": {
      "text/plain": [
       "{'name': 'Harish', 2: (2, 4, 9, 8)}"
      ]
     },
     "execution_count": 13,
     "metadata": {},
     "output_type": "execute_result"
    }
   ],
   "source": [
    "dic2"
   ]
  },
  {
   "cell_type": "code",
   "execution_count": 14,
   "id": "8a0d99e0",
   "metadata": {},
   "outputs": [
    {
     "data": {
      "text/plain": [
       "(2, 4, 9, 8)"
      ]
     },
     "execution_count": 14,
     "metadata": {},
     "output_type": "execute_result"
    }
   ],
   "source": [
    "dic2[2]"
   ]
  },
  {
   "cell_type": "code",
   "execution_count": 15,
   "id": "a074d0f6",
   "metadata": {},
   "outputs": [
    {
     "data": {
      "text/plain": [
       "9"
      ]
     },
     "execution_count": 15,
     "metadata": {},
     "output_type": "execute_result"
    }
   ],
   "source": [
    "dic2[2][2]"
   ]
  },
  {
   "cell_type": "code",
   "execution_count": 16,
   "id": "d66398df",
   "metadata": {},
   "outputs": [],
   "source": [
    "var1 = [(1,'apple'),(2,'banana'),(3,'cherry')]"
   ]
  },
  {
   "cell_type": "code",
   "execution_count": 17,
   "id": "9ee070a1",
   "metadata": {},
   "outputs": [
    {
     "data": {
      "text/plain": [
       "list"
      ]
     },
     "execution_count": 17,
     "metadata": {},
     "output_type": "execute_result"
    }
   ],
   "source": [
    "type(var1)"
   ]
  },
  {
   "cell_type": "code",
   "execution_count": 18,
   "id": "03072736",
   "metadata": {},
   "outputs": [],
   "source": [
    "dic3 = dict(var1)"
   ]
  },
  {
   "cell_type": "code",
   "execution_count": 19,
   "id": "4690b375",
   "metadata": {},
   "outputs": [
    {
     "data": {
      "text/plain": [
       "{1: 'apple', 2: 'banana', 3: 'cherry'}"
      ]
     },
     "execution_count": 19,
     "metadata": {},
     "output_type": "execute_result"
    }
   ],
   "source": [
    "dic3"
   ]
  },
  {
   "cell_type": "code",
   "execution_count": 20,
   "id": "c39f0292",
   "metadata": {},
   "outputs": [
    {
     "data": {
      "text/plain": [
       "dict_items([(1, 'apple'), (2, 'banana'), (3, 'cherry')])"
      ]
     },
     "execution_count": 20,
     "metadata": {},
     "output_type": "execute_result"
    }
   ],
   "source": [
    "dic3.items()"
   ]
  },
  {
   "cell_type": "code",
   "execution_count": 33,
   "id": "63bf446c",
   "metadata": {},
   "outputs": [],
   "source": [
    "my_dict = dict({1:'straberry',2:'venila'})"
   ]
  },
  {
   "cell_type": "code",
   "execution_count": 34,
   "id": "6172c5dd",
   "metadata": {},
   "outputs": [
    {
     "data": {
      "text/plain": [
       "{1: 'straberry', 2: 'venila'}"
      ]
     },
     "execution_count": 34,
     "metadata": {},
     "output_type": "execute_result"
    }
   ],
   "source": [
    "my_dict"
   ]
  },
  {
   "cell_type": "code",
   "execution_count": 24,
   "id": "f80ac40c",
   "metadata": {},
   "outputs": [
    {
     "data": {
      "text/plain": [
       "'straberry'"
      ]
     },
     "execution_count": 24,
     "metadata": {},
     "output_type": "execute_result"
    }
   ],
   "source": [
    "my_dict[1]"
   ]
  },
  {
   "cell_type": "code",
   "execution_count": 25,
   "id": "2d45426f",
   "metadata": {},
   "outputs": [
    {
     "data": {
      "text/plain": [
       "'straberry'"
      ]
     },
     "execution_count": 25,
     "metadata": {},
     "output_type": "execute_result"
    }
   ],
   "source": [
    "my_dict.get(1)"
   ]
  },
  {
   "cell_type": "code",
   "execution_count": 26,
   "id": "363a09ca",
   "metadata": {},
   "outputs": [
    {
     "ename": "KeyError",
     "evalue": "3",
     "output_type": "error",
     "traceback": [
      "\u001b[1;31m---------------------------------------------------------------------------\u001b[0m",
      "\u001b[1;31mKeyError\u001b[0m                                  Traceback (most recent call last)",
      "Input \u001b[1;32mIn [26]\u001b[0m, in \u001b[0;36m<cell line: 1>\u001b[1;34m()\u001b[0m\n\u001b[1;32m----> 1\u001b[0m \u001b[43mmy_dict\u001b[49m\u001b[43m[\u001b[49m\u001b[38;5;241;43m3\u001b[39;49m\u001b[43m]\u001b[49m\n",
      "\u001b[1;31mKeyError\u001b[0m: 3"
     ]
    }
   ],
   "source": [
    "my_dict[3]"
   ]
  },
  {
   "cell_type": "code",
   "execution_count": 27,
   "id": "ad7b947d",
   "metadata": {},
   "outputs": [],
   "source": [
    "my_dict.get(3)"
   ]
  },
  {
   "cell_type": "code",
   "execution_count": 28,
   "id": "c2d5f59a",
   "metadata": {},
   "outputs": [
    {
     "data": {
      "text/plain": [
       "{1: 'straberry', 2: 'venila'}"
      ]
     },
     "execution_count": 28,
     "metadata": {},
     "output_type": "execute_result"
    }
   ],
   "source": [
    "my_dict"
   ]
  },
  {
   "cell_type": "code",
   "execution_count": 29,
   "id": "6b5155d4",
   "metadata": {},
   "outputs": [
    {
     "data": {
      "text/plain": [
       "{1: 'straberry', 2: 'venila'}"
      ]
     },
     "execution_count": 29,
     "metadata": {},
     "output_type": "execute_result"
    }
   ],
   "source": [
    "my_dict"
   ]
  },
  {
   "cell_type": "code",
   "execution_count": 38,
   "id": "16b5c28c",
   "metadata": {},
   "outputs": [
    {
     "data": {
      "text/plain": [
       "'venila'"
      ]
     },
     "execution_count": 38,
     "metadata": {},
     "output_type": "execute_result"
    }
   ],
   "source": [
    "my_dict.setdefault(2,\"chocalate\")"
   ]
  },
  {
   "cell_type": "code",
   "execution_count": 39,
   "id": "30c57e65",
   "metadata": {},
   "outputs": [
    {
     "data": {
      "text/plain": [
       "{1: 'straberry', 2: 'venila'}"
      ]
     },
     "execution_count": 39,
     "metadata": {},
     "output_type": "execute_result"
    }
   ],
   "source": [
    "my_dict"
   ]
  },
  {
   "cell_type": "code",
   "execution_count": 40,
   "id": "3734873a",
   "metadata": {},
   "outputs": [
    {
     "data": {
      "text/plain": [
       "(2, 'venila')"
      ]
     },
     "execution_count": 40,
     "metadata": {},
     "output_type": "execute_result"
    }
   ],
   "source": [
    "my_dict.popitem()"
   ]
  },
  {
   "cell_type": "code",
   "execution_count": 41,
   "id": "62d03fc0",
   "metadata": {},
   "outputs": [
    {
     "data": {
      "text/plain": [
       "{1: 'straberry'}"
      ]
     },
     "execution_count": 41,
     "metadata": {},
     "output_type": "execute_result"
    }
   ],
   "source": [
    "my_dict"
   ]
  },
  {
   "cell_type": "code",
   "execution_count": 42,
   "id": "867b82dc",
   "metadata": {},
   "outputs": [
    {
     "data": {
      "text/plain": [
       "'chocalate'"
      ]
     },
     "execution_count": 42,
     "metadata": {},
     "output_type": "execute_result"
    }
   ],
   "source": [
    "my_dict.setdefault(2,\"chocalate\")"
   ]
  },
  {
   "cell_type": "code",
   "execution_count": 43,
   "id": "34749a1d",
   "metadata": {},
   "outputs": [
    {
     "data": {
      "text/plain": [
       "{1: 'straberry', 2: 'chocalate'}"
      ]
     },
     "execution_count": 43,
     "metadata": {},
     "output_type": "execute_result"
    }
   ],
   "source": [
    "my_dict"
   ]
  },
  {
   "cell_type": "code",
   "execution_count": 44,
   "id": "af4f75e7",
   "metadata": {},
   "outputs": [],
   "source": [
    "a = ('key1','key2','key3')"
   ]
  },
  {
   "cell_type": "code",
   "execution_count": 45,
   "id": "0ca9293a",
   "metadata": {},
   "outputs": [],
   "source": [
    "b = 0"
   ]
  },
  {
   "cell_type": "code",
   "execution_count": 46,
   "id": "ab19a81e",
   "metadata": {},
   "outputs": [
    {
     "data": {
      "text/plain": [
       "tuple"
      ]
     },
     "execution_count": 46,
     "metadata": {},
     "output_type": "execute_result"
    }
   ],
   "source": [
    "type(a)"
   ]
  },
  {
   "cell_type": "code",
   "execution_count": 47,
   "id": "6c9ccd83",
   "metadata": {},
   "outputs": [
    {
     "data": {
      "text/plain": [
       "int"
      ]
     },
     "execution_count": 47,
     "metadata": {},
     "output_type": "execute_result"
    }
   ],
   "source": [
    "type(b)"
   ]
  },
  {
   "cell_type": "code",
   "execution_count": 48,
   "id": "7a668ff3",
   "metadata": {},
   "outputs": [],
   "source": [
    "new_dict = dict.fromkeys(a,b)"
   ]
  },
  {
   "cell_type": "code",
   "execution_count": 49,
   "id": "94d551ff",
   "metadata": {},
   "outputs": [
    {
     "data": {
      "text/plain": [
       "{'key1': 0, 'key2': 0, 'key3': 0}"
      ]
     },
     "execution_count": 49,
     "metadata": {},
     "output_type": "execute_result"
    }
   ],
   "source": [
    "new_dict"
   ]
  },
  {
   "cell_type": "code",
   "execution_count": 50,
   "id": "961a8abf",
   "metadata": {},
   "outputs": [],
   "source": [
    "c = (1,2,3)"
   ]
  },
  {
   "cell_type": "code",
   "execution_count": 51,
   "id": "31105ff9",
   "metadata": {},
   "outputs": [],
   "source": [
    "new_dict1 = dict.fromkeys(a,c)"
   ]
  },
  {
   "cell_type": "code",
   "execution_count": 52,
   "id": "51f3c33b",
   "metadata": {},
   "outputs": [
    {
     "data": {
      "text/plain": [
       "{'key1': (1, 2, 3), 'key2': (1, 2, 3), 'key3': (1, 2, 3)}"
      ]
     },
     "execution_count": 52,
     "metadata": {},
     "output_type": "execute_result"
    }
   ],
   "source": [
    "new_dict1"
   ]
  },
  {
   "cell_type": "code",
   "execution_count": null,
   "id": "1e116d30",
   "metadata": {},
   "outputs": [],
   "source": []
  }
 ],
 "metadata": {
  "kernelspec": {
   "display_name": "Python 3",
   "language": "python",
   "name": "python3"
  },
  "language_info": {
   "codemirror_mode": {
    "name": "ipython",
    "version": 3
   },
   "file_extension": ".py",
   "mimetype": "text/x-python",
   "name": "python",
   "nbconvert_exporter": "python",
   "pygments_lexer": "ipython3",
   "version": "3.10.4"
  }
 },
 "nbformat": 4,
 "nbformat_minor": 5
}
