{
 "cells": [
  {
   "cell_type": "code",
   "execution_count": 1,
   "id": "c80511e0",
   "metadata": {},
   "outputs": [],
   "source": [
    "# Conditional Statements - IF..ELSE.. or IF..ELIF..ELSE..\n",
    "# Syntax\n",
    "# if(<cond>):\n",
    "# ...<body>\n",
    "# ...<body>"
   ]
  },
  {
   "cell_type": "code",
   "execution_count": 2,
   "id": "1371fab1",
   "metadata": {},
   "outputs": [
    {
     "data": {
      "text/plain": [
       "False"
      ]
     },
     "execution_count": 2,
     "metadata": {},
     "output_type": "execute_result"
    }
   ],
   "source": [
    "# Equality\n",
    "2 == 3"
   ]
  },
  {
   "cell_type": "code",
   "execution_count": 3,
   "id": "78fa4dac",
   "metadata": {},
   "outputs": [
    {
     "data": {
      "text/plain": [
       "True"
      ]
     },
     "execution_count": 3,
     "metadata": {},
     "output_type": "execute_result"
    }
   ],
   "source": [
    "# Equality\n",
    "3 == 3"
   ]
  },
  {
   "cell_type": "code",
   "execution_count": 5,
   "id": "7ead8254",
   "metadata": {},
   "outputs": [
    {
     "data": {
      "text/plain": [
       "False"
      ]
     },
     "execution_count": 5,
     "metadata": {},
     "output_type": "execute_result"
    }
   ],
   "source": [
    "2 > 3"
   ]
  },
  {
   "cell_type": "code",
   "execution_count": 6,
   "id": "90715ac0",
   "metadata": {},
   "outputs": [
    {
     "data": {
      "text/plain": [
       "True"
      ]
     },
     "execution_count": 6,
     "metadata": {},
     "output_type": "execute_result"
    }
   ],
   "source": [
    "2 < 3"
   ]
  },
  {
   "cell_type": "code",
   "execution_count": 7,
   "id": "659d950a",
   "metadata": {},
   "outputs": [
    {
     "data": {
      "text/plain": [
       "False"
      ]
     },
     "execution_count": 7,
     "metadata": {},
     "output_type": "execute_result"
    }
   ],
   "source": [
    "2 >= 3"
   ]
  },
  {
   "cell_type": "code",
   "execution_count": 8,
   "id": "7e4ece45",
   "metadata": {},
   "outputs": [
    {
     "data": {
      "text/plain": [
       "False"
      ]
     },
     "execution_count": 8,
     "metadata": {},
     "output_type": "execute_result"
    }
   ],
   "source": [
    "4 >= 10"
   ]
  },
  {
   "cell_type": "code",
   "execution_count": 9,
   "id": "e23ac392",
   "metadata": {},
   "outputs": [
    {
     "data": {
      "text/plain": [
       "False"
      ]
     },
     "execution_count": 9,
     "metadata": {},
     "output_type": "execute_result"
    }
   ],
   "source": [
    "5 <= 2"
   ]
  },
  {
   "cell_type": "code",
   "execution_count": 14,
   "id": "63ebfe33",
   "metadata": {},
   "outputs": [
    {
     "name": "stdout",
     "output_type": "stream",
     "text": [
      "a is defined\n"
     ]
    }
   ],
   "source": [
    "a=6\n",
    "if(a):\n",
    "    print(\"a is defined\")\n",
    "else:\n",
    "    print(\"a is not defined\")"
   ]
  },
  {
   "cell_type": "code",
   "execution_count": 18,
   "id": "eb12330c",
   "metadata": {},
   "outputs": [],
   "source": [
    "# if any variable is a non-zero or null value, it return \"False\""
   ]
  },
  {
   "cell_type": "code",
   "execution_count": 19,
   "id": "db7057e3",
   "metadata": {},
   "outputs": [
    {
     "name": "stdout",
     "output_type": "stream",
     "text": [
      "13\n"
     ]
    }
   ],
   "source": [
    "# Find the largest number from x & y\n",
    "x = 9\n",
    "y = 13\n",
    "\n",
    "if(x>y):\n",
    "    print(x)\n",
    "else:\n",
    "    print(y)"
   ]
  },
  {
   "cell_type": "code",
   "execution_count": 20,
   "id": "1fd0aaa9",
   "metadata": {},
   "outputs": [
    {
     "name": "stdout",
     "output_type": "stream",
     "text": [
      "129\n"
     ]
    }
   ],
   "source": [
    "# Find the largest number from x,y,z\n",
    "x=45\n",
    "y=99\n",
    "z=129\n",
    "\n",
    "if((x>y) and (x>z)):\n",
    "    print(x)\n",
    "elif((y>x) and (y>z)):\n",
    "    print(y)\n",
    "else:\n",
    "    print(z)"
   ]
  },
  {
   "cell_type": "code",
   "execution_count": 21,
   "id": "620c3bc2",
   "metadata": {},
   "outputs": [
    {
     "name": "stdout",
     "output_type": "stream",
     "text": [
      "199\n"
     ]
    }
   ],
   "source": [
    "# Find the largest number from x,y,z\n",
    "x=145\n",
    "y=199\n",
    "z=129\n",
    "\n",
    "if((x>y) and (x>z)):\n",
    "    print(x)\n",
    "elif((y>x) and (y>z)):\n",
    "    print(y)\n",
    "else:\n",
    "    print(z)"
   ]
  },
  {
   "cell_type": "code",
   "execution_count": 22,
   "id": "1101500c",
   "metadata": {},
   "outputs": [
    {
     "name": "stdout",
     "output_type": "stream",
     "text": [
      "199\n"
     ]
    }
   ],
   "source": [
    "# Nested if...\n",
    "\n",
    "if(x>y):\n",
    "    if(x>z):\n",
    "        print(x)\n",
    "elif(y>x):\n",
    "    if(y>z):\n",
    "        print(y)\n",
    "else:\n",
    "    print(z)"
   ]
  },
  {
   "cell_type": "code",
   "execution_count": 23,
   "id": "38b72f3a",
   "metadata": {},
   "outputs": [],
   "source": [
    "# Interactive mode - Take input from user during program execution\n",
    "# input(\"\")"
   ]
  },
  {
   "cell_type": "code",
   "execution_count": 24,
   "id": "ceeea94b",
   "metadata": {},
   "outputs": [
    {
     "name": "stdout",
     "output_type": "stream",
     "text": [
      "Enter the x value: 67785\n",
      "Enter the y value: 4554\n",
      "Enter the z value: 6665\n",
      "67785\n"
     ]
    }
   ],
   "source": [
    "x = input(\"Enter the x value: \")\n",
    "y = input(\"Enter the y value: \")\n",
    "z = input(\"Enter the z value: \")\n",
    "if((x>y) and (x>z)):\n",
    "    print(x)\n",
    "elif((y>x) and (y>z)):\n",
    "    print(y)\n",
    "else:\n",
    "    print(z)"
   ]
  },
  {
   "cell_type": "code",
   "execution_count": 25,
   "id": "7b44a4d2",
   "metadata": {},
   "outputs": [],
   "source": [
    "# Automation - ??\n",
    "# x,y,z - from other source ?? csv,database,etc.,"
   ]
  },
  {
   "cell_type": "code",
   "execution_count": 26,
   "id": "7abedd8f",
   "metadata": {},
   "outputs": [
    {
     "ename": "TypeError",
     "evalue": "can only concatenate str (not \"float\") to str",
     "output_type": "error",
     "traceback": [
      "\u001b[1;31m---------------------------------------------------------------------------\u001b[0m",
      "\u001b[1;31mTypeError\u001b[0m                                 Traceback (most recent call last)",
      "Input \u001b[1;32mIn [26]\u001b[0m, in \u001b[0;36m<cell line: 1>\u001b[1;34m()\u001b[0m\n\u001b[1;32m----> 1\u001b[0m \u001b[38;5;124;43m\"\u001b[39;49m\u001b[38;5;124;43mhi\u001b[39;49m\u001b[38;5;124;43m\"\u001b[39;49m\u001b[43m \u001b[49m\u001b[38;5;241;43m+\u001b[39;49m\u001b[43m \u001b[49m\u001b[38;5;241;43m6.3\u001b[39;49m\n",
      "\u001b[1;31mTypeError\u001b[0m: can only concatenate str (not \"float\") to str"
     ]
    }
   ],
   "source": [
    "\"hi\" + 6.3"
   ]
  },
  {
   "cell_type": "code",
   "execution_count": 28,
   "id": "c4c496cd",
   "metadata": {},
   "outputs": [
    {
     "data": {
      "text/plain": [
       "'hi6.3'"
      ]
     },
     "execution_count": 28,
     "metadata": {},
     "output_type": "execute_result"
    }
   ],
   "source": [
    "\"hi\" + str(6.3)"
   ]
  },
  {
   "cell_type": "code",
   "execution_count": 29,
   "id": "8e5ac6f4",
   "metadata": {},
   "outputs": [
    {
     "data": {
      "text/plain": [
       "'67785'"
      ]
     },
     "execution_count": 29,
     "metadata": {},
     "output_type": "execute_result"
    }
   ],
   "source": [
    "max(x,y,z)"
   ]
  },
  {
   "cell_type": "code",
   "execution_count": 30,
   "id": "cd6149c9",
   "metadata": {},
   "outputs": [
    {
     "data": {
      "text/plain": [
       "'4554'"
      ]
     },
     "execution_count": 30,
     "metadata": {},
     "output_type": "execute_result"
    }
   ],
   "source": [
    "min(x,y,z)"
   ]
  },
  {
   "cell_type": "code",
   "execution_count": 1,
   "id": "480bf875",
   "metadata": {},
   "outputs": [
    {
     "ename": "IndentationError",
     "evalue": "expected an indented block after 'if' statement on line 6 (2100504525.py, line 7)",
     "output_type": "error",
     "traceback": [
      "\u001b[1;36m  Input \u001b[1;32mIn [1]\u001b[1;36m\u001b[0m\n\u001b[1;33m    print(x)\u001b[0m\n\u001b[1;37m    ^\u001b[0m\n\u001b[1;31mIndentationError\u001b[0m\u001b[1;31m:\u001b[0m expected an indented block after 'if' statement on line 6\n"
     ]
    }
   ],
   "source": [
    "#Indentation impact\n",
    "# Find the largest number from x & y\n",
    "x = 9\n",
    "y = 13\n",
    "\n",
    "if(x>y):\n",
    "print(x)\n",
    "else:\n",
    "print(y)"
   ]
  },
  {
   "cell_type": "code",
   "execution_count": 7,
   "id": "396f7c5a",
   "metadata": {},
   "outputs": [
    {
     "name": "stdout",
     "output_type": "stream",
     "text": [
      "y value 13\n"
     ]
    }
   ],
   "source": [
    "x = 9\n",
    "y = 13\n",
    "\n",
    "print(\"x value\",x) if x>y else print('y value',y)"
   ]
  },
  {
   "cell_type": "code",
   "execution_count": 8,
   "id": "dc690974",
   "metadata": {},
   "outputs": [],
   "source": [
    "# if x>y:\n",
    "#     print(\"X value\",x)\n",
    "# else:\n",
    "#     print('Y value',y)\n",
    "# elif:\n",
    "    "
   ]
  },
  {
   "cell_type": "code",
   "execution_count": 12,
   "id": "f0e43b4d",
   "metadata": {},
   "outputs": [
    {
     "name": "stdout",
     "output_type": "stream",
     "text": [
      "y is greater\n"
     ]
    }
   ],
   "source": [
    "print(\"x & y are equal\") if x==y else print(\"x is greater\") if x>y else print('y is greater')"
   ]
  },
  {
   "cell_type": "code",
   "execution_count": 13,
   "id": "4d616c63",
   "metadata": {},
   "outputs": [
    {
     "name": "stdout",
     "output_type": "stream",
     "text": [
      "x & y are equal\n"
     ]
    }
   ],
   "source": [
    "x=y=13\n",
    "print(\"x & y are equal\") if x==y else print(\"x is greater\") if x>y else print('y is greater')"
   ]
  },
  {
   "cell_type": "code",
   "execution_count": 14,
   "id": "42d63b90",
   "metadata": {},
   "outputs": [
    {
     "name": "stdout",
     "output_type": "stream",
     "text": [
      "y is greater\n"
     ]
    }
   ],
   "source": [
    "x=2334\n",
    "y=3123444\n",
    "print(\"x & y are equal\") if x==y else print(\"x is greater\") if x>y else print('y is greater')"
   ]
  },
  {
   "cell_type": "code",
   "execution_count": 19,
   "id": "04e4fa59",
   "metadata": {},
   "outputs": [],
   "source": [
    "a=5\n",
    "b=5\n",
    "if a>b:\n",
    "    print(a)\n",
    "else:\n",
    "    pass #do nothing"
   ]
  },
  {
   "cell_type": "code",
   "execution_count": 20,
   "id": "26ae463d",
   "metadata": {},
   "outputs": [],
   "source": [
    "# #input:\n",
    "# Enter the year: 2020\n",
    "\n",
    "# #output:\n",
    "    \n",
    "# this is a leap year\n",
    "# This is not a leap year"
   ]
  },
  {
   "cell_type": "code",
   "execution_count": 41,
   "id": "35546d1f",
   "metadata": {},
   "outputs": [],
   "source": [
    "# year = int(input(\"Enter the year = \"))\n",
    "# print(\"year is a leap year\") if ((year % 4 == 0) or (year % 100 == 0) or (year % 400 == 0)) else print(\"year is a not leap year\")"
   ]
  },
  {
   "cell_type": "code",
   "execution_count": 24,
   "id": "d294310b",
   "metadata": {},
   "outputs": [
    {
     "data": {
      "text/plain": [
       "0"
      ]
     },
     "execution_count": 24,
     "metadata": {},
     "output_type": "execute_result"
    }
   ],
   "source": [
    "2020%4"
   ]
  },
  {
   "cell_type": "code",
   "execution_count": 25,
   "id": "126b866d",
   "metadata": {},
   "outputs": [
    {
     "data": {
      "text/plain": [
       "20"
      ]
     },
     "execution_count": 25,
     "metadata": {},
     "output_type": "execute_result"
    }
   ],
   "source": [
    "2020%100"
   ]
  },
  {
   "cell_type": "code",
   "execution_count": 26,
   "id": "3e78ae9e",
   "metadata": {},
   "outputs": [
    {
     "data": {
      "text/plain": [
       "20"
      ]
     },
     "execution_count": 26,
     "metadata": {},
     "output_type": "execute_result"
    }
   ],
   "source": [
    "2020%400"
   ]
  },
  {
   "cell_type": "code",
   "execution_count": 27,
   "id": "460c6b82",
   "metadata": {},
   "outputs": [
    {
     "data": {
      "text/plain": [
       "2.0"
      ]
     },
     "execution_count": 27,
     "metadata": {},
     "output_type": "execute_result"
    }
   ],
   "source": [
    "4/2"
   ]
  },
  {
   "cell_type": "code",
   "execution_count": 28,
   "id": "761f8847",
   "metadata": {},
   "outputs": [
    {
     "data": {
      "text/plain": [
       "0"
      ]
     },
     "execution_count": 28,
     "metadata": {},
     "output_type": "execute_result"
    }
   ],
   "source": [
    "4%2"
   ]
  },
  {
   "cell_type": "code",
   "execution_count": 29,
   "id": "d482652c",
   "metadata": {},
   "outputs": [
    {
     "data": {
      "text/plain": [
       "0"
      ]
     },
     "execution_count": 29,
     "metadata": {},
     "output_type": "execute_result"
    }
   ],
   "source": [
    "6%2"
   ]
  },
  {
   "cell_type": "code",
   "execution_count": 67,
   "id": "462188eb",
   "metadata": {},
   "outputs": [
    {
     "name": "stdout",
     "output_type": "stream",
     "text": [
      "Enter the year: 1600\n",
      "Not leap year\n"
     ]
    }
   ],
   "source": [
    "# year=int(input(\"Enter the year: \"))\n",
    "# leap=False\n",
    "\n",
    "# if (y%400 == 0) or not(y%100 ==0) and (y%4 == 0):\n",
    "#     leap=True\n",
    "\n",
    "# if (y != 1700 or y != 1800 or y != 1900):\n",
    "#     leap=False\n",
    "\n",
    "# if leap:\n",
    "#     print(\"Leap year\")\n",
    "# else:\n",
    "#     print(\"Not leap year\")"
   ]
  },
  {
   "cell_type": "code",
   "execution_count": 68,
   "id": "3ac93bdb",
   "metadata": {},
   "outputs": [
    {
     "data": {
      "text/plain": [
       "0"
      ]
     },
     "execution_count": 68,
     "metadata": {},
     "output_type": "execute_result"
    }
   ],
   "source": [
    "1600%400"
   ]
  },
  {
   "cell_type": "code",
   "execution_count": 69,
   "id": "4324920a",
   "metadata": {},
   "outputs": [
    {
     "data": {
      "text/plain": [
       "0"
      ]
     },
     "execution_count": 69,
     "metadata": {},
     "output_type": "execute_result"
    }
   ],
   "source": [
    "1600%4"
   ]
  },
  {
   "cell_type": "code",
   "execution_count": 70,
   "id": "69b02d62",
   "metadata": {},
   "outputs": [
    {
     "data": {
      "text/plain": [
       "0"
      ]
     },
     "execution_count": 70,
     "metadata": {},
     "output_type": "execute_result"
    }
   ],
   "source": [
    "1600%100"
   ]
  },
  {
   "cell_type": "code",
   "execution_count": 5,
   "id": "3638c162",
   "metadata": {},
   "outputs": [
    {
     "name": "stdout",
     "output_type": "stream",
     "text": [
      "Enter the year: 1644\n",
      "leap year\n"
     ]
    }
   ],
   "source": [
    "# working code\n",
    "y=int(input(\"Enter the year: \"))\n",
    "leap=False\n",
    "if(y%400 == 0) or not(y%100 == 0) and (y%4 == 0):\n",
    "    leap=True\n",
    "    \n",
    "if leap:\n",
    "    print(\"leap year\")\n",
    "else:\n",
    "    print(\"not leap year\")"
   ]
  },
  {
   "cell_type": "code",
   "execution_count": null,
   "id": "043e5856",
   "metadata": {},
   "outputs": [],
   "source": []
  }
 ],
 "metadata": {
  "kernelspec": {
   "display_name": "Python 3",
   "language": "python",
   "name": "python3"
  },
  "language_info": {
   "codemirror_mode": {
    "name": "ipython",
    "version": 3
   },
   "file_extension": ".py",
   "mimetype": "text/x-python",
   "name": "python",
   "nbconvert_exporter": "python",
   "pygments_lexer": "ipython3",
   "version": "3.10.4"
  }
 },
 "nbformat": 4,
 "nbformat_minor": 5
}
