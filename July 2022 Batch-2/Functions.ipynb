{
 "cells": [
  {
   "cell_type": "code",
   "execution_count": 2,
   "id": "b2bf46c1",
   "metadata": {},
   "outputs": [],
   "source": [
    "#Functions\n",
    "#Syntax\n",
    "#def <fun_name> (<param>) :\n",
    "#... \"\"\" doc string \"\"\"\n",
    "#... statements\n",
    "#... return <value>\n"
   ]
  },
  {
   "cell_type": "code",
   "execution_count": 3,
   "id": "ddbb51ac",
   "metadata": {},
   "outputs": [],
   "source": [
    "def scope():\n",
    "    \"\"\" this function is to validate scope of variables \"\"\"\n",
    "    x = 15\n",
    "    print(\"x value is\",x)"
   ]
  },
  {
   "cell_type": "code",
   "execution_count": 4,
   "id": "71194a61",
   "metadata": {},
   "outputs": [
    {
     "name": "stdout",
     "output_type": "stream",
     "text": [
      "x value is 15\n"
     ]
    }
   ],
   "source": [
    "scope()"
   ]
  },
  {
   "cell_type": "code",
   "execution_count": 5,
   "id": "fd46892f",
   "metadata": {},
   "outputs": [
    {
     "ename": "NameError",
     "evalue": "name 'x' is not defined",
     "output_type": "error",
     "traceback": [
      "\u001b[1;31m---------------------------------------------------------------------------\u001b[0m",
      "\u001b[1;31mNameError\u001b[0m                                 Traceback (most recent call last)",
      "Input \u001b[1;32mIn [5]\u001b[0m, in \u001b[0;36m<cell line: 1>\u001b[1;34m()\u001b[0m\n\u001b[1;32m----> 1\u001b[0m \u001b[43mx\u001b[49m\n",
      "\u001b[1;31mNameError\u001b[0m: name 'x' is not defined"
     ]
    }
   ],
   "source": [
    "x"
   ]
  },
  {
   "cell_type": "code",
   "execution_count": 23,
   "id": "66071ac4",
   "metadata": {},
   "outputs": [],
   "source": [
    "def scope_1():\n",
    "    \"\"\" this function is to validate scope of variables \"\"\"\n",
    "    global x\n",
    "    x = 15\n",
    "    print(\"x value is\",x)"
   ]
  },
  {
   "cell_type": "code",
   "execution_count": 24,
   "id": "e90cb36c",
   "metadata": {},
   "outputs": [
    {
     "name": "stdout",
     "output_type": "stream",
     "text": [
      "x value is 15\n"
     ]
    }
   ],
   "source": [
    "scope_1()"
   ]
  },
  {
   "cell_type": "code",
   "execution_count": 25,
   "id": "6375c711",
   "metadata": {},
   "outputs": [
    {
     "data": {
      "text/plain": [
       "15"
      ]
     },
     "execution_count": 25,
     "metadata": {},
     "output_type": "execute_result"
    }
   ],
   "source": [
    "x"
   ]
  },
  {
   "cell_type": "code",
   "execution_count": 26,
   "id": "8b62fd26",
   "metadata": {},
   "outputs": [],
   "source": [
    "# add 2 numbers\n",
    "def add_1(a,b):\n",
    "    return a+b"
   ]
  },
  {
   "cell_type": "code",
   "execution_count": 27,
   "id": "0ef1f24f",
   "metadata": {},
   "outputs": [
    {
     "data": {
      "text/plain": [
       "9"
      ]
     },
     "execution_count": 27,
     "metadata": {},
     "output_type": "execute_result"
    }
   ],
   "source": [
    "add_1(4,5)"
   ]
  },
  {
   "cell_type": "code",
   "execution_count": 28,
   "id": "b9eb8cc8",
   "metadata": {},
   "outputs": [],
   "source": [
    "# multiply 2 numbers\n",
    "def mul_1(a,b):\n",
    "    return a*b"
   ]
  },
  {
   "cell_type": "code",
   "execution_count": 29,
   "id": "e4b7e8f9",
   "metadata": {},
   "outputs": [
    {
     "data": {
      "text/plain": [
       "10"
      ]
     },
     "execution_count": 29,
     "metadata": {},
     "output_type": "execute_result"
    }
   ],
   "source": [
    "mul_1(2,5)"
   ]
  },
  {
   "cell_type": "code",
   "execution_count": 34,
   "id": "5bf831d1",
   "metadata": {},
   "outputs": [],
   "source": [
    "# add 2 numbers\n",
    "def add_2(a,b):\n",
    "    print(a+b)\n",
    "    return add_2"
   ]
  },
  {
   "cell_type": "code",
   "execution_count": 35,
   "id": "b3a88232",
   "metadata": {},
   "outputs": [
    {
     "name": "stdout",
     "output_type": "stream",
     "text": [
      "6\n"
     ]
    },
    {
     "data": {
      "text/plain": [
       "<function __main__.add_2(a, b)>"
      ]
     },
     "execution_count": 35,
     "metadata": {},
     "output_type": "execute_result"
    }
   ],
   "source": [
    "add_2(4,2)"
   ]
  },
  {
   "cell_type": "code",
   "execution_count": 36,
   "id": "6c61531c",
   "metadata": {},
   "outputs": [
    {
     "data": {
      "text/plain": [
       "' this function is to validate scope of variables '"
      ]
     },
     "execution_count": 36,
     "metadata": {},
     "output_type": "execute_result"
    }
   ],
   "source": [
    "scope_1.__doc__"
   ]
  },
  {
   "cell_type": "code",
   "execution_count": 37,
   "id": "23555e4f",
   "metadata": {},
   "outputs": [],
   "source": [
    "import math"
   ]
  },
  {
   "cell_type": "code",
   "execution_count": 38,
   "id": "48d5707c",
   "metadata": {},
   "outputs": [
    {
     "data": {
      "text/plain": [
       "'Return the arc cosine (measured in radians) of x.\\n\\nThe result is between 0 and pi.'"
      ]
     },
     "execution_count": 38,
     "metadata": {},
     "output_type": "execute_result"
    }
   ],
   "source": [
    "math.acos.__doc__"
   ]
  },
  {
   "cell_type": "code",
   "execution_count": 39,
   "id": "56e7cd06",
   "metadata": {},
   "outputs": [
    {
     "data": {
      "text/plain": [
       "'Gamma function at x.'"
      ]
     },
     "execution_count": 39,
     "metadata": {},
     "output_type": "execute_result"
    }
   ],
   "source": [
    "math.gamma.__doc__"
   ]
  },
  {
   "cell_type": "code",
   "execution_count": 40,
   "id": "ea6d961d",
   "metadata": {},
   "outputs": [],
   "source": [
    "# Example -1 \n",
    "# (2,5,3,4,1) \n",
    "# multiply each and every value inside tuple and print result\n",
    "# 2x5x3x4x1 = 120"
   ]
  },
  {
   "cell_type": "code",
   "execution_count": 47,
   "id": "a8c0d838",
   "metadata": {},
   "outputs": [],
   "source": [
    "def mult_1(*num):\n",
    "    res = 1\n",
    "    for i in num:\n",
    "        res=res*i\n",
    "    return res"
   ]
  },
  {
   "cell_type": "code",
   "execution_count": 48,
   "id": "ed2a904b",
   "metadata": {},
   "outputs": [
    {
     "data": {
      "text/plain": [
       "120"
      ]
     },
     "execution_count": 48,
     "metadata": {},
     "output_type": "execute_result"
    }
   ],
   "source": [
    "mult_1(2,5,3,4,1)"
   ]
  },
  {
   "cell_type": "code",
   "execution_count": 52,
   "id": "a8e680d6",
   "metadata": {},
   "outputs": [
    {
     "data": {
      "text/plain": [
       "2"
      ]
     },
     "execution_count": 52,
     "metadata": {},
     "output_type": "execute_result"
    }
   ],
   "source": [
    "mult_1(2)"
   ]
  },
  {
   "cell_type": "code",
   "execution_count": 53,
   "id": "5a354f14",
   "metadata": {},
   "outputs": [],
   "source": [
    "# Reverse the string\n",
    "# input: '1234hello'\n",
    "# output: 'olleh4321'"
   ]
  },
  {
   "cell_type": "code",
   "execution_count": 56,
   "id": "7a0ac5ab",
   "metadata": {},
   "outputs": [],
   "source": [
    "def str_reverse(str1):\n",
    "    r_str1 = str1[::-1]\n",
    "    return r_str1"
   ]
  },
  {
   "cell_type": "code",
   "execution_count": 54,
   "id": "a124ad0c",
   "metadata": {},
   "outputs": [],
   "source": [
    "a='hello'"
   ]
  },
  {
   "cell_type": "code",
   "execution_count": 55,
   "id": "8221b800",
   "metadata": {},
   "outputs": [
    {
     "data": {
      "text/plain": [
       "'olleh'"
      ]
     },
     "execution_count": 55,
     "metadata": {},
     "output_type": "execute_result"
    }
   ],
   "source": [
    "a[::-1]"
   ]
  },
  {
   "cell_type": "code",
   "execution_count": 57,
   "id": "a72a848b",
   "metadata": {},
   "outputs": [
    {
     "data": {
      "text/plain": [
       "'olleh4321'"
      ]
     },
     "execution_count": 57,
     "metadata": {},
     "output_type": "execute_result"
    }
   ],
   "source": [
    "str_reverse('1234hello')"
   ]
  },
  {
   "cell_type": "code",
   "execution_count": 58,
   "id": "e1648dd9",
   "metadata": {},
   "outputs": [
    {
     "data": {
      "text/plain": [
       "'olleh'"
      ]
     },
     "execution_count": 58,
     "metadata": {},
     "output_type": "execute_result"
    }
   ],
   "source": [
    "str_reverse('hello')"
   ]
  },
  {
   "cell_type": "code",
   "execution_count": 59,
   "id": "e8bbb6e7",
   "metadata": {},
   "outputs": [
    {
     "data": {
      "text/plain": [
       "'emoclew'"
      ]
     },
     "execution_count": 59,
     "metadata": {},
     "output_type": "execute_result"
    }
   ],
   "source": [
    "str_reverse('welcome')"
   ]
  },
  {
   "cell_type": "code",
   "execution_count": 66,
   "id": "971b6cd5",
   "metadata": {},
   "outputs": [],
   "source": [
    "def str_reverse1(str1):\n",
    "    r_str1 = ''\n",
    "    index = len(str1)\n",
    "    while(index>0):\n",
    "        r_str1 = r_str1+str1[index-1]\n",
    "        index= index-1\n",
    "    return r_str1"
   ]
  },
  {
   "cell_type": "code",
   "execution_count": 67,
   "id": "69f973d1",
   "metadata": {},
   "outputs": [
    {
     "data": {
      "text/plain": [
       "'olleh'"
      ]
     },
     "execution_count": 67,
     "metadata": {},
     "output_type": "execute_result"
    }
   ],
   "source": [
    "str_reverse('hello')"
   ]
  },
  {
   "cell_type": "markdown",
   "id": "54da1e5c",
   "metadata": {},
   "source": [
    "### Lambda Functions"
   ]
  },
  {
   "cell_type": "code",
   "execution_count": 1,
   "id": "7c7f61e9",
   "metadata": {},
   "outputs": [],
   "source": [
    "# add function\n",
    "\n",
    "def add1(a,b):\n",
    "    return a+b"
   ]
  },
  {
   "cell_type": "code",
   "execution_count": 2,
   "id": "0ddf6626",
   "metadata": {},
   "outputs": [
    {
     "data": {
      "text/plain": [
       "5"
      ]
     },
     "execution_count": 2,
     "metadata": {},
     "output_type": "execute_result"
    }
   ],
   "source": [
    "add1(2,3)"
   ]
  },
  {
   "cell_type": "code",
   "execution_count": 6,
   "id": "e29ff91c",
   "metadata": {},
   "outputs": [
    {
     "data": {
      "text/plain": [
       "function"
      ]
     },
     "execution_count": 6,
     "metadata": {},
     "output_type": "execute_result"
    }
   ],
   "source": [
    "type(add1)"
   ]
  },
  {
   "cell_type": "code",
   "execution_count": 3,
   "id": "110a66f2",
   "metadata": {},
   "outputs": [],
   "source": [
    "#Lambda function"
   ]
  },
  {
   "cell_type": "code",
   "execution_count": 4,
   "id": "f92430a8",
   "metadata": {},
   "outputs": [],
   "source": [
    "x = lambda a,b: a+b"
   ]
  },
  {
   "cell_type": "code",
   "execution_count": 5,
   "id": "80cb14aa",
   "metadata": {},
   "outputs": [
    {
     "data": {
      "text/plain": [
       "function"
      ]
     },
     "execution_count": 5,
     "metadata": {},
     "output_type": "execute_result"
    }
   ],
   "source": [
    "type(x)"
   ]
  },
  {
   "cell_type": "code",
   "execution_count": 7,
   "id": "c9ad24fd",
   "metadata": {},
   "outputs": [
    {
     "data": {
      "text/plain": [
       "5"
      ]
     },
     "execution_count": 7,
     "metadata": {},
     "output_type": "execute_result"
    }
   ],
   "source": [
    "x(2,3)"
   ]
  },
  {
   "cell_type": "code",
   "execution_count": 8,
   "id": "02269944",
   "metadata": {},
   "outputs": [
    {
     "name": "stdout",
     "output_type": "stream",
     "text": [
      "5\n"
     ]
    }
   ],
   "source": [
    "print(x(2,3))"
   ]
  },
  {
   "cell_type": "code",
   "execution_count": 21,
   "id": "4ddbe0c9",
   "metadata": {},
   "outputs": [],
   "source": [
    "def add2(a,b):\n",
    "    return lambda c:(a+b)*c"
   ]
  },
  {
   "cell_type": "code",
   "execution_count": 22,
   "id": "d1a6c0ef",
   "metadata": {},
   "outputs": [],
   "source": [
    "res = add2(2,3)"
   ]
  },
  {
   "cell_type": "code",
   "execution_count": 23,
   "id": "3d6381e0",
   "metadata": {},
   "outputs": [
    {
     "data": {
      "text/plain": [
       "function"
      ]
     },
     "execution_count": 23,
     "metadata": {},
     "output_type": "execute_result"
    }
   ],
   "source": [
    "type(res)"
   ]
  },
  {
   "cell_type": "code",
   "execution_count": 24,
   "id": "17f6ea9e",
   "metadata": {},
   "outputs": [
    {
     "data": {
      "text/plain": [
       "25"
      ]
     },
     "execution_count": 24,
     "metadata": {},
     "output_type": "execute_result"
    }
   ],
   "source": [
    "res(5)"
   ]
  },
  {
   "cell_type": "code",
   "execution_count": 25,
   "id": "eec68733",
   "metadata": {},
   "outputs": [],
   "source": [
    "# Example"
   ]
  },
  {
   "cell_type": "code",
   "execution_count": null,
   "id": "6303c7aa",
   "metadata": {},
   "outputs": [],
   "source": [
    "# a,b,c - 3 values (function)\n",
    "# x,y - 2 values (lambda function)\n",
    "\n",
    "# 1. a+b+c\n",
    "# 2. (a+b+c)*(x*y)"
   ]
  },
  {
   "cell_type": "code",
   "execution_count": 26,
   "id": "bd1ff9f3",
   "metadata": {},
   "outputs": [],
   "source": [
    "def func1(a,b,c,x,y):\n",
    "    return (a+b+c)*x*y"
   ]
  },
  {
   "cell_type": "code",
   "execution_count": 27,
   "id": "dd1b6864",
   "metadata": {},
   "outputs": [],
   "source": [
    "def func2(a,b,c):\n",
    "    return lambda x,y:(a+b+c)*x*y"
   ]
  },
  {
   "cell_type": "code",
   "execution_count": 28,
   "id": "1fb4ff78",
   "metadata": {},
   "outputs": [
    {
     "data": {
      "text/plain": [
       "14"
      ]
     },
     "execution_count": 28,
     "metadata": {},
     "output_type": "execute_result"
    }
   ],
   "source": [
    "func1(2,2,3,1,2)"
   ]
  },
  {
   "cell_type": "code",
   "execution_count": 30,
   "id": "182c26c1",
   "metadata": {},
   "outputs": [],
   "source": [
    "z = func2(2,2,3)"
   ]
  },
  {
   "cell_type": "code",
   "execution_count": 31,
   "id": "f5099067",
   "metadata": {},
   "outputs": [
    {
     "data": {
      "text/plain": [
       "14"
      ]
     },
     "execution_count": 31,
     "metadata": {},
     "output_type": "execute_result"
    }
   ],
   "source": [
    "z(1,2)"
   ]
  },
  {
   "cell_type": "code",
   "execution_count": 32,
   "id": "99df9db4",
   "metadata": {},
   "outputs": [
    {
     "data": {
      "text/plain": [
       "42"
      ]
     },
     "execution_count": 32,
     "metadata": {},
     "output_type": "execute_result"
    }
   ],
   "source": [
    "z(2,3)"
   ]
  },
  {
   "cell_type": "code",
   "execution_count": 34,
   "id": "cbedf4c0",
   "metadata": {},
   "outputs": [],
   "source": [
    "def func3(a,b,c):\n",
    "    \n",
    "    def func4(x,y):\n",
    "        return (a+b+c)*x*y"
   ]
  },
  {
   "cell_type": "code",
   "execution_count": 36,
   "id": "e9519adc",
   "metadata": {},
   "outputs": [],
   "source": [
    "h = func3(2,2,1)"
   ]
  },
  {
   "cell_type": "code",
   "execution_count": 37,
   "id": "9bd18aa9",
   "metadata": {},
   "outputs": [
    {
     "data": {
      "text/plain": [
       "NoneType"
      ]
     },
     "execution_count": 37,
     "metadata": {},
     "output_type": "execute_result"
    }
   ],
   "source": [
    "type(h)"
   ]
  },
  {
   "cell_type": "code",
   "execution_count": 38,
   "id": "4cb8a1a4",
   "metadata": {},
   "outputs": [
    {
     "ename": "NameError",
     "evalue": "name 'func4' is not defined",
     "output_type": "error",
     "traceback": [
      "\u001b[1;31m---------------------------------------------------------------------------\u001b[0m",
      "\u001b[1;31mNameError\u001b[0m                                 Traceback (most recent call last)",
      "Input \u001b[1;32mIn [38]\u001b[0m, in \u001b[0;36m<cell line: 1>\u001b[1;34m()\u001b[0m\n\u001b[1;32m----> 1\u001b[0m \u001b[43mfunc4\u001b[49m(\u001b[38;5;241m1\u001b[39m,\u001b[38;5;241m2\u001b[39m)\n",
      "\u001b[1;31mNameError\u001b[0m: name 'func4' is not defined"
     ]
    }
   ],
   "source": [
    "func4(1,2)"
   ]
  },
  {
   "cell_type": "code",
   "execution_count": 59,
   "id": "be74559b",
   "metadata": {},
   "outputs": [],
   "source": [
    "def func3():\n",
    "    print(2+3+4)"
   ]
  },
  {
   "cell_type": "code",
   "execution_count": 78,
   "id": "075a05cc",
   "metadata": {},
   "outputs": [],
   "source": [
    "def func4(x,y):\n",
    "    res= func3()\n",
    "    print(type(res))\n",
    "    print(x*y+int(res))"
   ]
  },
  {
   "cell_type": "code",
   "execution_count": 79,
   "id": "e7aee90f",
   "metadata": {},
   "outputs": [],
   "source": [
    "# use lambda functions whenever there is a need to use function with in a function"
   ]
  },
  {
   "cell_type": "code",
   "execution_count": null,
   "id": "a3a4a3d9",
   "metadata": {},
   "outputs": [],
   "source": [
    "# # a = 1987\n",
    "# # b = 1985\n",
    "# # c = 2020\n",
    "# # d = 1995\n",
    "# # Age of a,b,c,d ??\n",
    "\n",
    "# 1000 persons ?? (function - lambda - current year - YOB)"
   ]
  }
 ],
 "metadata": {
  "kernelspec": {
   "display_name": "Python 3 (ipykernel)",
   "language": "python",
   "name": "python3"
  },
  "language_info": {
   "codemirror_mode": {
    "name": "ipython",
    "version": 3
   },
   "file_extension": ".py",
   "mimetype": "text/x-python",
   "name": "python",
   "nbconvert_exporter": "python",
   "pygments_lexer": "ipython3",
   "version": "3.9.13"
  }
 },
 "nbformat": 4,
 "nbformat_minor": 5
}
