{
 "cells": [
  {
   "cell_type": "code",
   "execution_count": 1,
   "id": "be932e80",
   "metadata": {},
   "outputs": [],
   "source": [
    "# If you don't know the number of iterations, we use while loop\n",
    "# Syntax:\n",
    "# while <test expression>:\n",
    "# ... <body of while>"
   ]
  },
  {
   "cell_type": "code",
   "execution_count": 2,
   "id": "14848d85",
   "metadata": {},
   "outputs": [],
   "source": [
    "# Generate 1 to 10 numbers\n",
    "#\n",
    "# 1\n",
    "# 2\n",
    "# 3\n",
    "# 4\n",
    "# .\n",
    "# .\n",
    "# 10"
   ]
  },
  {
   "cell_type": "code",
   "execution_count": 4,
   "id": "ad5f3518",
   "metadata": {},
   "outputs": [
    {
     "name": "stdout",
     "output_type": "stream",
     "text": [
      "0\n",
      "1\n",
      "2\n",
      "3\n",
      "4\n",
      "5\n",
      "6\n",
      "7\n",
      "8\n",
      "9\n",
      "10\n"
     ]
    }
   ],
   "source": [
    "n=0\n",
    "while(n<=10):\n",
    "    print(n)\n",
    "    n = n+1"
   ]
  },
  {
   "cell_type": "code",
   "execution_count": 5,
   "id": "0c94e55c",
   "metadata": {},
   "outputs": [
    {
     "name": "stdout",
     "output_type": "stream",
     "text": [
      "0\n",
      "1\n",
      "2\n",
      "3\n",
      "4\n",
      "5\n",
      "6\n",
      "7\n",
      "8\n",
      "9\n",
      "10\n"
     ]
    }
   ],
   "source": [
    "for i in range(11):\n",
    "    print(i)"
   ]
  },
  {
   "cell_type": "code",
   "execution_count": 6,
   "id": "98d05e39",
   "metadata": {},
   "outputs": [],
   "source": [
    "# take number input from user.\n",
    "# 10\n",
    "# 1+2+3+4+5+6+7+8+9+10\n",
    "# Result"
   ]
  },
  {
   "cell_type": "code",
   "execution_count": 24,
   "id": "1f48c7d9",
   "metadata": {},
   "outputs": [
    {
     "name": "stdout",
     "output_type": "stream",
     "text": [
      "Enter number:200\n",
      "20100\n"
     ]
    }
   ],
   "source": [
    "num = int(input(\"Enter number:\"))\n",
    "summ = 0\n",
    "while(num > 0):\n",
    "    summ += num\n",
    "    num -= 1\n",
    "print(summ)"
   ]
  },
  {
   "cell_type": "code",
   "execution_count": 30,
   "id": "a157c7a4",
   "metadata": {},
   "outputs": [
    {
     "name": "stdout",
     "output_type": "stream",
     "text": [
      "Enter number:10\n",
      "55\n"
     ]
    }
   ],
   "source": [
    "num = int(input(\"Enter number:\"))\n",
    "summ = 0\n",
    "counter = 1\n",
    "while(counter <= num):\n",
    "    summ += counter\n",
    "    counter += 1\n",
    "print(summ)"
   ]
  },
  {
   "cell_type": "code",
   "execution_count": null,
   "id": "3587a264",
   "metadata": {},
   "outputs": [],
   "source": []
  }
 ],
 "metadata": {
  "kernelspec": {
   "display_name": "Python 3",
   "language": "python",
   "name": "python3"
  },
  "language_info": {
   "codemirror_mode": {
    "name": "ipython",
    "version": 3
   },
   "file_extension": ".py",
   "mimetype": "text/x-python",
   "name": "python",
   "nbconvert_exporter": "python",
   "pygments_lexer": "ipython3",
   "version": "3.10.4"
  }
 },
 "nbformat": 4,
 "nbformat_minor": 5
}
