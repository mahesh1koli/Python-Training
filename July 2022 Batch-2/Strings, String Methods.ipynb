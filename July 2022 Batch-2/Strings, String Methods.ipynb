{
 "cells": [
  {
   "cell_type": "markdown",
   "id": "065131f5",
   "metadata": {},
   "source": [
    "# Strings \n",
    "Concatenation\n",
    "Repetition\n",
    "Indexing\n",
    "Slicing\n",
    "Size\n",
    "Search"
   ]
  },
  {
   "cell_type": "code",
   "execution_count": 1,
   "id": "bc5658a7",
   "metadata": {},
   "outputs": [],
   "source": [
    "# Concatenation"
   ]
  },
  {
   "cell_type": "code",
   "execution_count": 25,
   "id": "2d0a83ef",
   "metadata": {},
   "outputs": [],
   "source": [
    "a = \"Welcome\"\n",
    "b = 'Python Class'"
   ]
  },
  {
   "cell_type": "code",
   "execution_count": 26,
   "id": "95ca74d5",
   "metadata": {},
   "outputs": [
    {
     "data": {
      "text/plain": [
       "'Welcome'"
      ]
     },
     "execution_count": 26,
     "metadata": {},
     "output_type": "execute_result"
    }
   ],
   "source": [
    "a"
   ]
  },
  {
   "cell_type": "code",
   "execution_count": 27,
   "id": "b5bed728",
   "metadata": {},
   "outputs": [
    {
     "data": {
      "text/plain": [
       "'Python Class'"
      ]
     },
     "execution_count": 27,
     "metadata": {},
     "output_type": "execute_result"
    }
   ],
   "source": [
    "b"
   ]
  },
  {
   "cell_type": "code",
   "execution_count": 28,
   "id": "3c329132",
   "metadata": {},
   "outputs": [
    {
     "data": {
      "text/plain": [
       "str"
      ]
     },
     "execution_count": 28,
     "metadata": {},
     "output_type": "execute_result"
    }
   ],
   "source": [
    "type(a)"
   ]
  },
  {
   "cell_type": "code",
   "execution_count": 29,
   "id": "16b8afc8",
   "metadata": {},
   "outputs": [
    {
     "data": {
      "text/plain": [
       "str"
      ]
     },
     "execution_count": 29,
     "metadata": {},
     "output_type": "execute_result"
    }
   ],
   "source": [
    "type(b)"
   ]
  },
  {
   "cell_type": "code",
   "execution_count": 31,
   "id": "77620eaf",
   "metadata": {},
   "outputs": [
    {
     "data": {
      "text/plain": [
       "'WelcomePython Class'"
      ]
     },
     "execution_count": 31,
     "metadata": {},
     "output_type": "execute_result"
    }
   ],
   "source": [
    "a+b"
   ]
  },
  {
   "cell_type": "code",
   "execution_count": 33,
   "id": "6ada0c56",
   "metadata": {},
   "outputs": [
    {
     "data": {
      "text/plain": [
       "'Welcome Python Class'"
      ]
     },
     "execution_count": 33,
     "metadata": {},
     "output_type": "execute_result"
    }
   ],
   "source": [
    "a+\" \"+b"
   ]
  },
  {
   "cell_type": "code",
   "execution_count": 35,
   "id": "1f32fa35",
   "metadata": {},
   "outputs": [
    {
     "data": {
      "text/plain": [
       "'Welcome Python'"
      ]
     },
     "execution_count": 35,
     "metadata": {},
     "output_type": "execute_result"
    }
   ],
   "source": [
    "\"Welcome \" + \"Python\""
   ]
  },
  {
   "cell_type": "code",
   "execution_count": 36,
   "id": "4e1285bc",
   "metadata": {},
   "outputs": [],
   "source": [
    "# Repetition"
   ]
  },
  {
   "cell_type": "code",
   "execution_count": 37,
   "id": "3ec1c251",
   "metadata": {},
   "outputs": [
    {
     "data": {
      "text/plain": [
       "'HelloHelloHelloHelloHello'"
      ]
     },
     "execution_count": 37,
     "metadata": {},
     "output_type": "execute_result"
    }
   ],
   "source": [
    "\"Hello\"*5"
   ]
  },
  {
   "cell_type": "code",
   "execution_count": 40,
   "id": "418a6026",
   "metadata": {},
   "outputs": [
    {
     "data": {
      "text/plain": [
       "'Hello*Hello*Hello*Hello*Hello*'"
      ]
     },
     "execution_count": 40,
     "metadata": {},
     "output_type": "execute_result"
    }
   ],
   "source": [
    "\"Hello*\"*5"
   ]
  },
  {
   "cell_type": "code",
   "execution_count": 41,
   "id": "83c1979e",
   "metadata": {},
   "outputs": [],
   "source": [
    "# Indexing (+ve and -ve)"
   ]
  },
  {
   "cell_type": "code",
   "execution_count": 42,
   "id": "bf6c3ef6",
   "metadata": {},
   "outputs": [
    {
     "data": {
      "text/plain": [
       "'p'"
      ]
     },
     "execution_count": 42,
     "metadata": {},
     "output_type": "execute_result"
    }
   ],
   "source": [
    "\"python\"[0]"
   ]
  },
  {
   "cell_type": "code",
   "execution_count": 43,
   "id": "c654d84c",
   "metadata": {},
   "outputs": [
    {
     "data": {
      "text/plain": [
       "'n'"
      ]
     },
     "execution_count": 43,
     "metadata": {},
     "output_type": "execute_result"
    }
   ],
   "source": [
    "\"python\"[-1]"
   ]
  },
  {
   "cell_type": "code",
   "execution_count": null,
   "id": "33d0a475",
   "metadata": {},
   "outputs": [],
   "source": [
    "# Slicing"
   ]
  },
  {
   "cell_type": "code",
   "execution_count": 44,
   "id": "75791bbb",
   "metadata": {},
   "outputs": [
    {
     "data": {
      "text/plain": [
       "'py'"
      ]
     },
     "execution_count": 44,
     "metadata": {},
     "output_type": "execute_result"
    }
   ],
   "source": [
    "\"python\"[0:2]"
   ]
  },
  {
   "cell_type": "code",
   "execution_count": 47,
   "id": "87708d67",
   "metadata": {},
   "outputs": [
    {
     "data": {
      "text/plain": [
       "'tho'"
      ]
     },
     "execution_count": 47,
     "metadata": {},
     "output_type": "execute_result"
    }
   ],
   "source": [
    "\"python\"[2:5]"
   ]
  },
  {
   "cell_type": "code",
   "execution_count": 51,
   "id": "d7e13398",
   "metadata": {},
   "outputs": [
    {
     "data": {
      "text/plain": [
       "'tho'"
      ]
     },
     "execution_count": 51,
     "metadata": {},
     "output_type": "execute_result"
    }
   ],
   "source": [
    "\"python\"[-4:-1]"
   ]
  },
  {
   "cell_type": "code",
   "execution_count": 53,
   "id": "850a6220",
   "metadata": {},
   "outputs": [
    {
     "data": {
      "text/plain": [
       "'pyth'"
      ]
     },
     "execution_count": 53,
     "metadata": {},
     "output_type": "execute_result"
    }
   ],
   "source": [
    "\"python\"[:4]"
   ]
  },
  {
   "cell_type": "code",
   "execution_count": 54,
   "id": "21a84ce5",
   "metadata": {},
   "outputs": [
    {
     "data": {
      "text/plain": [
       "'thon'"
      ]
     },
     "execution_count": 54,
     "metadata": {},
     "output_type": "execute_result"
    }
   ],
   "source": [
    "\"python\"[-4:]"
   ]
  },
  {
   "cell_type": "code",
   "execution_count": 56,
   "id": "cd256a22",
   "metadata": {},
   "outputs": [
    {
     "data": {
      "text/plain": [
       "23"
      ]
     },
     "execution_count": 56,
     "metadata": {},
     "output_type": "execute_result"
    }
   ],
   "source": [
    "len(\"Welcome to python class\")"
   ]
  },
  {
   "cell_type": "code",
   "execution_count": 57,
   "id": "650f4f56",
   "metadata": {},
   "outputs": [
    {
     "data": {
      "text/plain": [
       "True"
      ]
     },
     "execution_count": 57,
     "metadata": {},
     "output_type": "execute_result"
    }
   ],
   "source": [
    "\"p\" in \"Welcome to python class\""
   ]
  },
  {
   "cell_type": "code",
   "execution_count": 58,
   "id": "fe8c8ba2",
   "metadata": {},
   "outputs": [
    {
     "data": {
      "text/plain": [
       "False"
      ]
     },
     "execution_count": 58,
     "metadata": {},
     "output_type": "execute_result"
    }
   ],
   "source": [
    "\"z\" in \"Welcome to python class\""
   ]
  },
  {
   "cell_type": "code",
   "execution_count": 59,
   "id": "4a852555",
   "metadata": {},
   "outputs": [],
   "source": [
    "# Escape characters using \\\""
   ]
  },
  {
   "cell_type": "code",
   "execution_count": 65,
   "id": "efcf2874",
   "metadata": {},
   "outputs": [
    {
     "name": "stdout",
     "output_type": "stream",
     "text": [
      "Hello, This is a python class.\tGood Morning!\n"
     ]
    }
   ],
   "source": [
    "print(\"Hello, This is a python class.\\tGood Morning!\")"
   ]
  },
  {
   "cell_type": "code",
   "execution_count": 67,
   "id": "9b4bc65c",
   "metadata": {},
   "outputs": [],
   "source": [
    "#*****************************************\n",
    "#This is an python automation script\n",
    "#*****************************************"
   ]
  },
  {
   "cell_type": "code",
   "execution_count": 86,
   "id": "b1056f3d",
   "metadata": {},
   "outputs": [
    {
     "name": "stdout",
     "output_type": "stream",
     "text": [
      "************************************************************\n",
      "This is a python automation script\n",
      "************************************************************\n"
     ]
    }
   ],
   "source": [
    "print(\"*\"*60+\"\\nThis is a python automation script\\n\"+\"*\"*60)"
   ]
  },
  {
   "cell_type": "markdown",
   "id": "af13e83a",
   "metadata": {},
   "source": [
    "### String Methods"
   ]
  },
  {
   "cell_type": "code",
   "execution_count": 78,
   "id": "24bb5c49",
   "metadata": {},
   "outputs": [],
   "source": [
    "b=\"This is a python automation script\""
   ]
  },
  {
   "cell_type": "code",
   "execution_count": 83,
   "id": "131eaab3",
   "metadata": {},
   "outputs": [
    {
     "data": {
      "text/plain": [
       "'             This is a python automation script             '"
      ]
     },
     "execution_count": 83,
     "metadata": {},
     "output_type": "execute_result"
    }
   ],
   "source": [
    "b.center(60)"
   ]
  },
  {
   "cell_type": "code",
   "execution_count": 93,
   "id": "3d2b3386",
   "metadata": {},
   "outputs": [
    {
     "name": "stdout",
     "output_type": "stream",
     "text": [
      "************************************************************\n",
      "             This is a python automation script             \n",
      "************************************************************\n"
     ]
    }
   ],
   "source": [
    "print(\"*\"*60+\"\\n\"+b.center(60)+\"\\n\"+\"*\"*60)"
   ]
  },
  {
   "cell_type": "code",
   "execution_count": 94,
   "id": "79cb6ec6",
   "metadata": {},
   "outputs": [
    {
     "data": {
      "text/plain": [
       "'This is a python automation script'"
      ]
     },
     "execution_count": 94,
     "metadata": {},
     "output_type": "execute_result"
    }
   ],
   "source": [
    "b"
   ]
  },
  {
   "cell_type": "code",
   "execution_count": 96,
   "id": "dffade53",
   "metadata": {},
   "outputs": [
    {
     "data": {
      "text/plain": [
       "'THIS IS A PYTHON AUTOMATION SCRIPT'"
      ]
     },
     "execution_count": 96,
     "metadata": {},
     "output_type": "execute_result"
    }
   ],
   "source": [
    "b.upper()"
   ]
  },
  {
   "cell_type": "code",
   "execution_count": 97,
   "id": "e30b08bd",
   "metadata": {},
   "outputs": [
    {
     "data": {
      "text/plain": [
       "'this is a python automation script'"
      ]
     },
     "execution_count": 97,
     "metadata": {},
     "output_type": "execute_result"
    }
   ],
   "source": [
    "b.lower()"
   ]
  },
  {
   "cell_type": "code",
   "execution_count": null,
   "id": "6cb9c661",
   "metadata": {},
   "outputs": [],
   "source": [
    "# The casefold() method is similar to the lower() method but it is more aggressive. \n",
    "# This means the casefold() method converts more characters into lower case compared to lower() . \n",
    "# For example, the German letter ß is already lowercase so, the lower() method doesn't make the conversion."
   ]
  },
  {
   "cell_type": "code",
   "execution_count": 98,
   "id": "c6bab191",
   "metadata": {},
   "outputs": [
    {
     "data": {
      "text/plain": [
       "'this is a python automation script'"
      ]
     },
     "execution_count": 98,
     "metadata": {},
     "output_type": "execute_result"
    }
   ],
   "source": [
    "b.casefold()"
   ]
  },
  {
   "cell_type": "code",
   "execution_count": 102,
   "id": "3c4de293",
   "metadata": {},
   "outputs": [
    {
     "data": {
      "text/plain": [
       "2"
      ]
     },
     "execution_count": 102,
     "metadata": {},
     "output_type": "execute_result"
    }
   ],
   "source": [
    "b.count('is')"
   ]
  },
  {
   "cell_type": "code",
   "execution_count": 103,
   "id": "d848c171",
   "metadata": {},
   "outputs": [
    {
     "data": {
      "text/plain": [
       "False"
      ]
     },
     "execution_count": 103,
     "metadata": {},
     "output_type": "execute_result"
    }
   ],
   "source": [
    "b.isdigit()"
   ]
  },
  {
   "cell_type": "code",
   "execution_count": 104,
   "id": "102a9134",
   "metadata": {},
   "outputs": [
    {
     "data": {
      "text/plain": [
       "False"
      ]
     },
     "execution_count": 104,
     "metadata": {},
     "output_type": "execute_result"
    }
   ],
   "source": [
    "b.isalnum()"
   ]
  },
  {
   "cell_type": "code",
   "execution_count": 105,
   "id": "30714454",
   "metadata": {},
   "outputs": [
    {
     "data": {
      "text/plain": [
       "False"
      ]
     },
     "execution_count": 105,
     "metadata": {},
     "output_type": "execute_result"
    }
   ],
   "source": [
    "b.isalpha()"
   ]
  },
  {
   "cell_type": "code",
   "execution_count": 106,
   "id": "1efc46fc",
   "metadata": {},
   "outputs": [
    {
     "data": {
      "text/plain": [
       "False"
      ]
     },
     "execution_count": 106,
     "metadata": {},
     "output_type": "execute_result"
    }
   ],
   "source": [
    "b.islower()"
   ]
  },
  {
   "cell_type": "code",
   "execution_count": 108,
   "id": "d1d6de5e",
   "metadata": {},
   "outputs": [
    {
     "data": {
      "text/plain": [
       "False"
      ]
     },
     "execution_count": 108,
     "metadata": {},
     "output_type": "execute_result"
    }
   ],
   "source": [
    "b.startswith(\"Python\")"
   ]
  },
  {
   "cell_type": "code",
   "execution_count": 109,
   "id": "d6bef702",
   "metadata": {},
   "outputs": [
    {
     "data": {
      "text/plain": [
       "False"
      ]
     },
     "execution_count": 109,
     "metadata": {},
     "output_type": "execute_result"
    }
   ],
   "source": [
    "b.endswith(\"Hello\")"
   ]
  },
  {
   "cell_type": "code",
   "execution_count": 111,
   "id": "eb023848",
   "metadata": {},
   "outputs": [
    {
     "data": {
      "text/plain": [
       "True"
      ]
     },
     "execution_count": 111,
     "metadata": {},
     "output_type": "execute_result"
    }
   ],
   "source": [
    "b.endswith(\"script\")"
   ]
  },
  {
   "cell_type": "code",
   "execution_count": 115,
   "id": "d6d66a59",
   "metadata": {},
   "outputs": [
    {
     "data": {
      "text/plain": [
       "'******************This is a python automation script******************'"
      ]
     },
     "execution_count": 115,
     "metadata": {},
     "output_type": "execute_result"
    }
   ],
   "source": [
    "b.center(70,'*')"
   ]
  },
  {
   "cell_type": "code",
   "execution_count": 120,
   "id": "63acc708",
   "metadata": {},
   "outputs": [
    {
     "data": {
      "text/plain": [
       "'------------------This is a python automation script------------------'"
      ]
     },
     "execution_count": 120,
     "metadata": {},
     "output_type": "execute_result"
    }
   ],
   "source": [
    "b.center(70,'-')"
   ]
  },
  {
   "cell_type": "code",
   "execution_count": 119,
   "id": "bacced9f",
   "metadata": {},
   "outputs": [
    {
     "name": "stdout",
     "output_type": "stream",
     "text": [
      "%%%%%%%%%%%%%%%%%%%%%%%%%%%%%%%%%%%%%%%%%%%%%%%%%%%%%%%%%%%%%%%%%%%%%%\n",
      "                  This is a python automation script                  \n",
      "%%%%%%%%%%%%%%%%%%%%%%%%%%%%%%%%%%%%%%%%%%%%%%%%%%%%%%%%%%%%%%%%%%%%%%\n"
     ]
    }
   ],
   "source": [
    "print(\"%\"*70+\"\\n\"+b.center(70)+\"\\n\"+\"%\"*70)"
   ]
  },
  {
   "cell_type": "code",
   "execution_count": null,
   "id": "3ce8e791",
   "metadata": {},
   "outputs": [],
   "source": []
  }
 ],
 "metadata": {
  "kernelspec": {
   "display_name": "Python 3",
   "language": "python",
   "name": "python3"
  },
  "language_info": {
   "codemirror_mode": {
    "name": "ipython",
    "version": 3
   },
   "file_extension": ".py",
   "mimetype": "text/x-python",
   "name": "python",
   "nbconvert_exporter": "python",
   "pygments_lexer": "ipython3",
   "version": "3.10.4"
  }
 },
 "nbformat": 4,
 "nbformat_minor": 5
}
