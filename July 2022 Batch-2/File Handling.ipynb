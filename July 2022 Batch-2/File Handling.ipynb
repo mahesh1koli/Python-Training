{
 "cells": [
  {
   "cell_type": "code",
   "execution_count": 1,
   "id": "17336396",
   "metadata": {},
   "outputs": [],
   "source": [
    "# demofile2.txt is present or not ??"
   ]
  },
  {
   "cell_type": "code",
   "execution_count": 2,
   "id": "6a913003",
   "metadata": {},
   "outputs": [],
   "source": [
    "import os"
   ]
  },
  {
   "cell_type": "code",
   "execution_count": 3,
   "id": "27ff2e74",
   "metadata": {},
   "outputs": [
    {
     "data": {
      "text/plain": [
       "False"
      ]
     },
     "execution_count": 3,
     "metadata": {},
     "output_type": "execute_result"
    }
   ],
   "source": [
    "os.path.exists(r\"C:\\Users\\mahes\\OneDrive\\Desktop\\demofile2.txt\")"
   ]
  },
  {
   "cell_type": "code",
   "execution_count": 4,
   "id": "54af00d3",
   "metadata": {},
   "outputs": [],
   "source": [
    "f = open(r\"C:\\Users\\mahes\\OneDrive\\Desktop\\demofile2.txt\",'w')"
   ]
  },
  {
   "cell_type": "code",
   "execution_count": 5,
   "id": "b4330b9f",
   "metadata": {},
   "outputs": [
    {
     "data": {
      "text/plain": [
       "14"
      ]
     },
     "execution_count": 5,
     "metadata": {},
     "output_type": "execute_result"
    }
   ],
   "source": [
    "f.write(\"This is Line 1\")"
   ]
  },
  {
   "cell_type": "code",
   "execution_count": 6,
   "id": "b5677dfb",
   "metadata": {},
   "outputs": [],
   "source": [
    "f.close()"
   ]
  },
  {
   "cell_type": "code",
   "execution_count": 7,
   "id": "e959a9e9",
   "metadata": {},
   "outputs": [
    {
     "data": {
      "text/plain": [
       "True"
      ]
     },
     "execution_count": 7,
     "metadata": {},
     "output_type": "execute_result"
    }
   ],
   "source": [
    "os.path.exists(r\"C:\\Users\\mahes\\OneDrive\\Desktop\\demofile2.txt\")"
   ]
  },
  {
   "cell_type": "code",
   "execution_count": 9,
   "id": "7f187668",
   "metadata": {},
   "outputs": [
    {
     "data": {
      "text/plain": [
       "'This is Line 1'"
      ]
     },
     "execution_count": 9,
     "metadata": {},
     "output_type": "execute_result"
    }
   ],
   "source": [
    "f = open(r\"C:\\Users\\mahes\\OneDrive\\Desktop\\demofile2.txt\")\n",
    "f.read()"
   ]
  },
  {
   "cell_type": "code",
   "execution_count": 10,
   "id": "e5f618bf",
   "metadata": {},
   "outputs": [],
   "source": [
    "f.close()"
   ]
  },
  {
   "cell_type": "code",
   "execution_count": 11,
   "id": "18179735",
   "metadata": {},
   "outputs": [
    {
     "ename": "ValueError",
     "evalue": "I/O operation on closed file.",
     "output_type": "error",
     "traceback": [
      "\u001b[1;31m---------------------------------------------------------------------------\u001b[0m",
      "\u001b[1;31mValueError\u001b[0m                                Traceback (most recent call last)",
      "\u001b[1;32m<ipython-input-11-571e9fb02258>\u001b[0m in \u001b[0;36m<module>\u001b[1;34m\u001b[0m\n\u001b[1;32m----> 1\u001b[1;33m \u001b[0mf\u001b[0m\u001b[1;33m.\u001b[0m\u001b[0mread\u001b[0m\u001b[1;33m(\u001b[0m\u001b[1;33m)\u001b[0m\u001b[1;33m\u001b[0m\u001b[1;33m\u001b[0m\u001b[0m\n\u001b[0m",
      "\u001b[1;31mValueError\u001b[0m: I/O operation on closed file."
     ]
    }
   ],
   "source": [
    "f.read()"
   ]
  },
  {
   "cell_type": "code",
   "execution_count": 12,
   "id": "de4f5a67",
   "metadata": {},
   "outputs": [],
   "source": [
    "f = open(\"C:\\\\Users\\\\mahes\\\\OneDrive\\\\Desktop\\\\demofile2.txt\")"
   ]
  },
  {
   "cell_type": "code",
   "execution_count": 13,
   "id": "56bb9cf6",
   "metadata": {},
   "outputs": [
    {
     "data": {
      "text/plain": [
       "'This is Line 1'"
      ]
     },
     "execution_count": 13,
     "metadata": {},
     "output_type": "execute_result"
    }
   ],
   "source": [
    "f.read()"
   ]
  },
  {
   "cell_type": "code",
   "execution_count": 14,
   "id": "f87cf363",
   "metadata": {},
   "outputs": [],
   "source": [
    "f.close()"
   ]
  },
  {
   "cell_type": "code",
   "execution_count": 15,
   "id": "dc9fa246",
   "metadata": {},
   "outputs": [
    {
     "ename": "ValueError",
     "evalue": "I/O operation on closed file.",
     "output_type": "error",
     "traceback": [
      "\u001b[1;31m---------------------------------------------------------------------------\u001b[0m",
      "\u001b[1;31mValueError\u001b[0m                                Traceback (most recent call last)",
      "\u001b[1;32m<ipython-input-15-571e9fb02258>\u001b[0m in \u001b[0;36m<module>\u001b[1;34m\u001b[0m\n\u001b[1;32m----> 1\u001b[1;33m \u001b[0mf\u001b[0m\u001b[1;33m.\u001b[0m\u001b[0mread\u001b[0m\u001b[1;33m(\u001b[0m\u001b[1;33m)\u001b[0m\u001b[1;33m\u001b[0m\u001b[1;33m\u001b[0m\u001b[0m\n\u001b[0m",
      "\u001b[1;31mValueError\u001b[0m: I/O operation on closed file."
     ]
    }
   ],
   "source": [
    "f.read()"
   ]
  },
  {
   "cell_type": "code",
   "execution_count": 16,
   "id": "4c9e683d",
   "metadata": {},
   "outputs": [],
   "source": [
    "f = open(\"C:/Users/mahes/OneDrive/Desktop/demofile2.txt\")"
   ]
  },
  {
   "cell_type": "code",
   "execution_count": 17,
   "id": "031b3aad",
   "metadata": {},
   "outputs": [
    {
     "data": {
      "text/plain": [
       "'This is Line 1'"
      ]
     },
     "execution_count": 17,
     "metadata": {},
     "output_type": "execute_result"
    }
   ],
   "source": [
    "f.read()"
   ]
  },
  {
   "cell_type": "code",
   "execution_count": 18,
   "id": "ddb57499",
   "metadata": {},
   "outputs": [],
   "source": [
    "f = open(\"C:/Users/mahes/OneDrive/Desktop/demofile2.txt\",'a')"
   ]
  },
  {
   "cell_type": "code",
   "execution_count": 19,
   "id": "adc0ea12",
   "metadata": {},
   "outputs": [
    {
     "data": {
      "text/plain": [
       "14"
      ]
     },
     "execution_count": 19,
     "metadata": {},
     "output_type": "execute_result"
    }
   ],
   "source": [
    "f.write(\"This is Line 2\")"
   ]
  },
  {
   "cell_type": "code",
   "execution_count": 23,
   "id": "4cd12a4c",
   "metadata": {},
   "outputs": [],
   "source": [
    "f.close()"
   ]
  },
  {
   "cell_type": "code",
   "execution_count": 21,
   "id": "e515fccc",
   "metadata": {},
   "outputs": [],
   "source": [
    "f = open(\"C:/Users/mahes/OneDrive/Desktop/demofile2.txt\")"
   ]
  },
  {
   "cell_type": "code",
   "execution_count": 22,
   "id": "529b4e78",
   "metadata": {},
   "outputs": [
    {
     "data": {
      "text/plain": [
       "'This is Line 1This is Line 2'"
      ]
     },
     "execution_count": 22,
     "metadata": {},
     "output_type": "execute_result"
    }
   ],
   "source": [
    "f.read()"
   ]
  },
  {
   "cell_type": "code",
   "execution_count": 24,
   "id": "a5ab50d0",
   "metadata": {},
   "outputs": [],
   "source": [
    "f = open(\"C:/Users/mahes/OneDrive/Desktop/demofile2.txt\",'a')"
   ]
  },
  {
   "cell_type": "code",
   "execution_count": 25,
   "id": "10920b88",
   "metadata": {},
   "outputs": [
    {
     "data": {
      "text/plain": [
       "14"
      ]
     },
     "execution_count": 25,
     "metadata": {},
     "output_type": "execute_result"
    }
   ],
   "source": [
    "f.write(\"\\nThis is Line3\")"
   ]
  },
  {
   "cell_type": "code",
   "execution_count": 31,
   "id": "33ef5e8a",
   "metadata": {},
   "outputs": [],
   "source": [
    "f.close()"
   ]
  },
  {
   "cell_type": "code",
   "execution_count": 32,
   "id": "f5fb538b",
   "metadata": {},
   "outputs": [],
   "source": [
    "f = open(\"C:/Users/mahes/OneDrive/Desktop/demofile2.txt\")"
   ]
  },
  {
   "cell_type": "code",
   "execution_count": 33,
   "id": "40613b68",
   "metadata": {},
   "outputs": [
    {
     "name": "stdout",
     "output_type": "stream",
     "text": [
      "This is Line 1This is Line 2\n",
      "This is Line3\n"
     ]
    }
   ],
   "source": [
    "print(f.read())"
   ]
  },
  {
   "cell_type": "code",
   "execution_count": 34,
   "id": "02dabc06",
   "metadata": {},
   "outputs": [],
   "source": [
    "f.close()"
   ]
  },
  {
   "cell_type": "code",
   "execution_count": 35,
   "id": "d41411e3",
   "metadata": {},
   "outputs": [],
   "source": [
    "f = open(\"C:/Users/mahes/OneDrive/Desktop/demofile2.txt\")"
   ]
  },
  {
   "cell_type": "code",
   "execution_count": 36,
   "id": "16840799",
   "metadata": {},
   "outputs": [
    {
     "data": {
      "text/plain": [
       "['This is Line 1This is Line 2\\n', 'This is Line3']"
      ]
     },
     "execution_count": 36,
     "metadata": {},
     "output_type": "execute_result"
    }
   ],
   "source": [
    "f.readlines()  #It displays lines in a list"
   ]
  },
  {
   "cell_type": "code",
   "execution_count": 13,
   "id": "00f7a1b8",
   "metadata": {},
   "outputs": [],
   "source": [
    "#Method 1\n",
    "fin = open(\"C:/Users/mahes/OneDrive/Desktop/demofile2.txt\")\n",
    "input_data = fin.read()\n",
    "data = input_data.replace('Allusers = 0','Allusers = 1')\n",
    "fout = open(\"C:/Users/mahes/OneDrive/Desktop/demofile3.txt\",'wt')\n",
    "fout.write(data)\n",
    "fout.close()\n",
    "fin.close()"
   ]
  },
  {
   "cell_type": "code",
   "execution_count": 14,
   "id": "18b9440a",
   "metadata": {},
   "outputs": [],
   "source": [
    "#Method 2\n",
    "fin = open(\"C:/Users/mahes/OneDrive/Desktop/demofile2.txt\")\n",
    "data = fin.read().replace('Allusers = 0','Allusers = 1')\n",
    "\n",
    "fout = open(\"C:/Users/mahes/OneDrive/Desktop/demofile2.txt\",'wt')\n",
    "fout.write(data)\n",
    "fout.close()\n",
    "fin.close()"
   ]
  },
  {
   "cell_type": "markdown",
   "id": "98360f42",
   "metadata": {},
   "source": [
    "With open method"
   ]
  },
  {
   "cell_type": "markdown",
   "id": "de909d42",
   "metadata": {},
   "source": [
    "<!-- # Syntax\n",
    "<!-- with open(\"file path\", 'mode') as f:\n",
    "    f.read() --> -->"
   ]
  },
  {
   "cell_type": "code",
   "execution_count": 2,
   "id": "50babe3c",
   "metadata": {},
   "outputs": [
    {
     "name": "stdout",
     "output_type": "stream",
     "text": [
      "[Oracle]\n",
      "Allusers = 1\n",
      "AllowAdmin = 1\n",
      "Privileged = 0\n"
     ]
    }
   ],
   "source": [
    "with open(\"C:/Users/mahes/OneDrive/Desktop/demofile2.txt\") as file:\n",
    "    print(file.read())"
   ]
  },
  {
   "cell_type": "code",
   "execution_count": 3,
   "id": "c51f28f9",
   "metadata": {},
   "outputs": [
    {
     "ename": "ValueError",
     "evalue": "I/O operation on closed file.",
     "output_type": "error",
     "traceback": [
      "\u001b[1;31m---------------------------------------------------------------------------\u001b[0m",
      "\u001b[1;31mValueError\u001b[0m                                Traceback (most recent call last)",
      "\u001b[1;32m<ipython-input-3-094f07845ae3>\u001b[0m in \u001b[0;36m<module>\u001b[1;34m\u001b[0m\n\u001b[1;32m----> 1\u001b[1;33m \u001b[0mprint\u001b[0m\u001b[1;33m(\u001b[0m\u001b[0mfile\u001b[0m\u001b[1;33m.\u001b[0m\u001b[0mread\u001b[0m\u001b[1;33m(\u001b[0m\u001b[1;33m)\u001b[0m\u001b[1;33m)\u001b[0m\u001b[1;33m\u001b[0m\u001b[1;33m\u001b[0m\u001b[0m\n\u001b[0m",
      "\u001b[1;31mValueError\u001b[0m: I/O operation on closed file."
     ]
    }
   ],
   "source": [
    "print(file.read())"
   ]
  },
  {
   "cell_type": "markdown",
   "id": "7044d18b",
   "metadata": {},
   "source": []
  },
  {
   "cell_type": "code",
   "execution_count": 10,
   "id": "e5d97f07",
   "metadata": {},
   "outputs": [],
   "source": [
    "with open(\"C:/Users/mahes/OneDrive/Desktop/demofile2.txt\",'r') as f:\n",
    "    data = f.read().replace('Privileged = 0','Privileged = 1')\n",
    "    with open(\"C:/Users/mahes/OneDrive/Desktop/demofile2.txt\",'w') as fout:\n",
    "        fout.write(data)"
   ]
  },
  {
   "cell_type": "code",
   "execution_count": null,
   "id": "afc63ce9",
   "metadata": {},
   "outputs": [],
   "source": []
  }
 ],
 "metadata": {
  "kernelspec": {
   "display_name": "Python 3.9.13 ('py_training')",
   "language": "python",
   "name": "python3"
  },
  "language_info": {
   "codemirror_mode": {
    "name": "ipython",
    "version": 3
   },
   "file_extension": ".py",
   "mimetype": "text/x-python",
   "name": "python",
   "nbconvert_exporter": "python",
   "pygments_lexer": "ipython3",
   "version": "3.9.13"
  },
  "vscode": {
   "interpreter": {
    "hash": "e3137226fa9a7bb616bd4f53a1aa00b41f7d9dba97e4eb652a8ce3a6cda33965"
   }
  }
 },
 "nbformat": 4,
 "nbformat_minor": 5
}
