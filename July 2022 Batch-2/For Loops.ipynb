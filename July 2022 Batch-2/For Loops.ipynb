{
 "cells": [
  {
   "cell_type": "code",
   "execution_count": 1,
   "id": "117eec63",
   "metadata": {},
   "outputs": [],
   "source": [
    "# For loop can be executed over the sequences (list, tuple, string or sets)\n",
    "# sytax:\n",
    "# for <val> in <sequence>:\n",
    "# ....<body of for loop>\n",
    "#"
   ]
  },
  {
   "cell_type": "code",
   "execution_count": 2,
   "id": "65516b7e",
   "metadata": {},
   "outputs": [],
   "source": [
    "a = [1,4,5,3,32,34,5,33,322]  #lists"
   ]
  },
  {
   "cell_type": "code",
   "execution_count": 3,
   "id": "8330133d",
   "metadata": {},
   "outputs": [
    {
     "name": "stdout",
     "output_type": "stream",
     "text": [
      "1\n",
      "4\n",
      "5\n",
      "3\n",
      "32\n",
      "34\n",
      "5\n",
      "33\n",
      "322\n"
     ]
    }
   ],
   "source": [
    "for i in a:\n",
    "    print(i)"
   ]
  },
  {
   "cell_type": "code",
   "execution_count": 6,
   "id": "fdf135ca",
   "metadata": {},
   "outputs": [
    {
     "name": "stdout",
     "output_type": "stream",
     "text": [
      "21\n"
     ]
    }
   ],
   "source": [
    "b = (4,5,2,1,9)  # Tuples\n",
    "sum=0\n",
    "for i in b:\n",
    "    sum=sum+i\n",
    "\n",
    "print(sum)"
   ]
  },
  {
   "cell_type": "code",
   "execution_count": 7,
   "id": "f63a333d",
   "metadata": {},
   "outputs": [
    {
     "name": "stdout",
     "output_type": "stream",
     "text": [
      "w\n",
      "e\n",
      "l\n",
      "c\n",
      "o\n",
      "m\n",
      "e\n"
     ]
    }
   ],
   "source": [
    "c = \"welcome\" # strings\n",
    "for i in c:\n",
    "    print(i)"
   ]
  },
  {
   "cell_type": "code",
   "execution_count": 12,
   "id": "f1f80b09",
   "metadata": {},
   "outputs": [
    {
     "name": "stdout",
     "output_type": "stream",
     "text": [
      "Even numbers: [2, 4, 6, 8]\n",
      "Odd numbers: [1, 3, 5, 7, 9]\n"
     ]
    }
   ],
   "source": [
    "#find even numbers\n",
    "#find odd numbers\n",
    "#output:\n",
    "#even numbers: 2,4,6,8\n",
    "#odd numbers: 1,3,5,7,9\n",
    "e_num=[]\n",
    "o_num=[]\n",
    "numbers = (1, 2, 3, 4, 5, 6, 7, 8, 9)\n",
    "for num in numbers:\n",
    "    if num%2 == 0:\n",
    "        e_num.append(num)\n",
    "    else:\n",
    "        o_num.append(num)\n",
    "\n",
    "print(\"Even numbers:\",e_num)\n",
    "print(\"Odd numbers:\",o_num)"
   ]
  },
  {
   "cell_type": "code",
   "execution_count": 13,
   "id": "e7bfcd8b",
   "metadata": {},
   "outputs": [],
   "source": [
    "# print multiplication table as per the user input\n",
    "# take input from user- which table you want to print\n",
    "# Input table number: 1 to 20\n",
    "# 7 x 1 = 7\n",
    "# 7 x 2 = 14\n",
    "# ...\n",
    "\n"
   ]
  },
  {
   "cell_type": "code",
   "execution_count": 14,
   "id": "7e8e850b",
   "metadata": {},
   "outputs": [],
   "source": [
    "# Range function\n",
    "# range(start,end+1,step_size)\n",
    "# range(1,11)\n",
    "# 1,2,3,4,5,6,7,8,9,10\n",
    "# range(1,11,2)\n",
    "# 1,3,5,7,9\n",
    "# range(1,11,3)\n",
    "# 1,4,7,10\n",
    "# range(20) #starting number as 0"
   ]
  },
  {
   "cell_type": "code",
   "execution_count": 21,
   "id": "fd4ec4c1",
   "metadata": {},
   "outputs": [
    {
     "data": {
      "text/plain": [
       "range(0, 20)"
      ]
     },
     "execution_count": 21,
     "metadata": {},
     "output_type": "execute_result"
    }
   ],
   "source": [
    "range(20)"
   ]
  },
  {
   "cell_type": "code",
   "execution_count": 23,
   "id": "87beefcb",
   "metadata": {},
   "outputs": [
    {
     "name": "stdout",
     "output_type": "stream",
     "text": [
      "0\n",
      "1\n",
      "2\n",
      "3\n",
      "4\n",
      "5\n",
      "6\n",
      "7\n",
      "8\n",
      "9\n",
      "10\n",
      "11\n",
      "12\n",
      "13\n",
      "14\n",
      "15\n",
      "16\n",
      "17\n",
      "18\n",
      "19\n"
     ]
    }
   ],
   "source": [
    "for i in range(20):\n",
    "    print(i)"
   ]
  },
  {
   "cell_type": "code",
   "execution_count": 20,
   "id": "d6169629",
   "metadata": {},
   "outputs": [
    {
     "data": {
      "text/plain": [
       "[0, 1, 2, 3, 4, 5, 6, 7, 8, 9, 10, 11, 12, 13, 14, 15, 16, 17, 18, 19]"
      ]
     },
     "execution_count": 20,
     "metadata": {},
     "output_type": "execute_result"
    }
   ],
   "source": [
    "list(range(20))"
   ]
  },
  {
   "cell_type": "code",
   "execution_count": 22,
   "id": "fc3eb228",
   "metadata": {},
   "outputs": [
    {
     "data": {
      "text/plain": [
       "(0, 1, 2, 3, 4, 5, 6, 7, 8, 9, 10, 11, 12, 13, 14, 15, 16, 17, 18, 19)"
      ]
     },
     "execution_count": 22,
     "metadata": {},
     "output_type": "execute_result"
    }
   ],
   "source": [
    "tuple(range(20))"
   ]
  },
  {
   "cell_type": "code",
   "execution_count": 26,
   "id": "8ad578cb",
   "metadata": {},
   "outputs": [
    {
     "data": {
      "text/plain": [
       "[5, 6, 7, 8, 9, 10]"
      ]
     },
     "execution_count": 26,
     "metadata": {},
     "output_type": "execute_result"
    }
   ],
   "source": [
    "list(range(5,11))"
   ]
  },
  {
   "cell_type": "code",
   "execution_count": 27,
   "id": "fdebe561",
   "metadata": {},
   "outputs": [
    {
     "data": {
      "text/plain": [
       "[1, 3, 5, 7, 9, 11, 13, 15, 17, 19]"
      ]
     },
     "execution_count": 27,
     "metadata": {},
     "output_type": "execute_result"
    }
   ],
   "source": [
    "list(range(1,20,2))"
   ]
  },
  {
   "cell_type": "code",
   "execution_count": 28,
   "id": "24fe57b2",
   "metadata": {},
   "outputs": [
    {
     "data": {
      "text/plain": [
       "[1, 4, 7, 10, 13, 16, 19]"
      ]
     },
     "execution_count": 28,
     "metadata": {},
     "output_type": "execute_result"
    }
   ],
   "source": [
    "list(range(1,20,3))"
   ]
  },
  {
   "cell_type": "code",
   "execution_count": 33,
   "id": "58755b99",
   "metadata": {},
   "outputs": [
    {
     "data": {
      "text/plain": [
       "[0, 2, 4, 6, 8]"
      ]
     },
     "execution_count": 33,
     "metadata": {},
     "output_type": "execute_result"
    }
   ],
   "source": [
    "# print even numbers 1 to 50\n",
    "list(range(0,10,2))"
   ]
  },
  {
   "cell_type": "code",
   "execution_count": 34,
   "id": "d59709fc",
   "metadata": {},
   "outputs": [
    {
     "data": {
      "text/plain": [
       "[1, 3, 5, 7, 9]"
      ]
     },
     "execution_count": 34,
     "metadata": {},
     "output_type": "execute_result"
    }
   ],
   "source": [
    "# print odd numbers 1 to 10\n",
    "list(range(1,11,2))"
   ]
  },
  {
   "cell_type": "code",
   "execution_count": 35,
   "id": "376315a5",
   "metadata": {},
   "outputs": [
    {
     "data": {
      "text/plain": [
       "[1, 2, 3, 4, 5, 6, 7, 8, 9, 10]"
      ]
     },
     "execution_count": 35,
     "metadata": {},
     "output_type": "execute_result"
    }
   ],
   "source": [
    "list(range(1,11))"
   ]
  },
  {
   "cell_type": "code",
   "execution_count": 36,
   "id": "e08eb72f",
   "metadata": {},
   "outputs": [
    {
     "data": {
      "text/plain": [
       "[1, 4, 7, 10]"
      ]
     },
     "execution_count": 36,
     "metadata": {},
     "output_type": "execute_result"
    }
   ],
   "source": [
    "list(range(1,11,3))"
   ]
  },
  {
   "cell_type": "code",
   "execution_count": null,
   "id": "23117f22",
   "metadata": {},
   "outputs": [],
   "source": []
  }
 ],
 "metadata": {
  "kernelspec": {
   "display_name": "Python 3",
   "language": "python",
   "name": "python3"
  },
  "language_info": {
   "codemirror_mode": {
    "name": "ipython",
    "version": 3
   },
   "file_extension": ".py",
   "mimetype": "text/x-python",
   "name": "python",
   "nbconvert_exporter": "python",
   "pygments_lexer": "ipython3",
   "version": "3.10.4"
  }
 },
 "nbformat": 4,
 "nbformat_minor": 5
}
