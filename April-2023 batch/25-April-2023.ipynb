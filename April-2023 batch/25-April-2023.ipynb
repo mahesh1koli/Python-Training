{
 "cells": [
  {
   "cell_type": "markdown",
   "id": "42cfe459",
   "metadata": {},
   "source": [
    "### Mathematical operations"
   ]
  },
  {
   "cell_type": "code",
   "execution_count": 3,
   "id": "d059d99c",
   "metadata": {},
   "outputs": [
    {
     "data": {
      "text/plain": [
       "1"
      ]
     },
     "execution_count": 3,
     "metadata": {},
     "output_type": "execute_result"
    }
   ],
   "source": [
    "5-4"
   ]
  },
  {
   "cell_type": "code",
   "execution_count": 4,
   "id": "bad56696",
   "metadata": {},
   "outputs": [
    {
     "data": {
      "text/plain": [
       "79"
      ]
     },
     "execution_count": 4,
     "metadata": {},
     "output_type": "execute_result"
    }
   ],
   "source": [
    "24+55"
   ]
  },
  {
   "cell_type": "code",
   "execution_count": 13,
   "id": "04dd818e",
   "metadata": {},
   "outputs": [],
   "source": [
    "#print(\"Hello)   # - represents comment"
   ]
  },
  {
   "cell_type": "code",
   "execution_count": 8,
   "id": "389d7e24",
   "metadata": {},
   "outputs": [],
   "source": [
    "#This is a practice program"
   ]
  },
  {
   "cell_type": "code",
   "execution_count": 9,
   "id": "25de7eea",
   "metadata": {},
   "outputs": [],
   "source": [
    "# dynamic typed language"
   ]
  },
  {
   "cell_type": "markdown",
   "id": "d862ddd3",
   "metadata": {},
   "source": [
    "### Variable Assignments"
   ]
  },
  {
   "cell_type": "code",
   "execution_count": 10,
   "id": "027fe026",
   "metadata": {},
   "outputs": [],
   "source": [
    "a = 6"
   ]
  },
  {
   "cell_type": "code",
   "execution_count": 11,
   "id": "448b6249",
   "metadata": {},
   "outputs": [
    {
     "data": {
      "text/plain": [
       "6"
      ]
     },
     "execution_count": 11,
     "metadata": {},
     "output_type": "execute_result"
    }
   ],
   "source": [
    "a"
   ]
  },
  {
   "cell_type": "code",
   "execution_count": 12,
   "id": "c5df1b80",
   "metadata": {},
   "outputs": [],
   "source": [
    "a = 7"
   ]
  },
  {
   "cell_type": "code",
   "execution_count": 14,
   "id": "0525c6a8",
   "metadata": {},
   "outputs": [
    {
     "data": {
      "text/plain": [
       "7"
      ]
     },
     "execution_count": 14,
     "metadata": {},
     "output_type": "execute_result"
    }
   ],
   "source": [
    "a"
   ]
  },
  {
   "cell_type": "markdown",
   "id": "e64d58de",
   "metadata": {},
   "source": [
    "## Number systems"
   ]
  },
  {
   "cell_type": "code",
   "execution_count": 15,
   "id": "dcda0b5c",
   "metadata": {},
   "outputs": [],
   "source": [
    "#Number systems  - int, float, double, complex\n",
    "# int - 344555\n",
    "# float - 2.43\n",
    "# complex - 2+3j"
   ]
  },
  {
   "cell_type": "markdown",
   "id": "51bff29f",
   "metadata": {},
   "source": [
    "### Type casting"
   ]
  },
  {
   "cell_type": "code",
   "execution_count": 16,
   "id": "f3710ba5",
   "metadata": {},
   "outputs": [
    {
     "data": {
      "text/plain": [
       "int"
      ]
     },
     "execution_count": 16,
     "metadata": {},
     "output_type": "execute_result"
    }
   ],
   "source": [
    "type(a)"
   ]
  },
  {
   "cell_type": "code",
   "execution_count": 17,
   "id": "579b5a92",
   "metadata": {},
   "outputs": [],
   "source": [
    "b = 5.666"
   ]
  },
  {
   "cell_type": "code",
   "execution_count": 18,
   "id": "158aec2f",
   "metadata": {},
   "outputs": [
    {
     "data": {
      "text/plain": [
       "float"
      ]
     },
     "execution_count": 18,
     "metadata": {},
     "output_type": "execute_result"
    }
   ],
   "source": [
    "type(b)"
   ]
  },
  {
   "cell_type": "code",
   "execution_count": 19,
   "id": "9864e785",
   "metadata": {},
   "outputs": [],
   "source": [
    "c = 2+5j"
   ]
  },
  {
   "cell_type": "code",
   "execution_count": 20,
   "id": "3c814eff",
   "metadata": {},
   "outputs": [
    {
     "data": {
      "text/plain": [
       "complex"
      ]
     },
     "execution_count": 20,
     "metadata": {},
     "output_type": "execute_result"
    }
   ],
   "source": [
    "type(c)"
   ]
  },
  {
   "cell_type": "code",
   "execution_count": null,
   "id": "c77873ad",
   "metadata": {},
   "outputs": [],
   "source": []
  }
 ],
 "metadata": {
  "kernelspec": {
   "display_name": "Python 3 (ipykernel)",
   "language": "python",
   "name": "python3"
  },
  "language_info": {
   "codemirror_mode": {
    "name": "ipython",
    "version": 3
   },
   "file_extension": ".py",
   "mimetype": "text/x-python",
   "name": "python",
   "nbconvert_exporter": "python",
   "pygments_lexer": "ipython3",
   "version": "3.9.13"
  }
 },
 "nbformat": 4,
 "nbformat_minor": 5
}
