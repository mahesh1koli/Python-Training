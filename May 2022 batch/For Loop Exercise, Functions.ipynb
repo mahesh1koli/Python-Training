{
 "cells": [
  {
   "cell_type": "code",
   "execution_count": 2,
   "id": "1df847de",
   "metadata": {},
   "outputs": [],
   "source": [
    "# Find out vowels from the given input string\n",
    "# Example:\n",
    "# Function - input string\n",
    "# look at a,e,i,o,u - vowels - \n",
    "# give output as like: Vowels are: u,i,o"
   ]
  },
  {
   "cell_type": "code",
   "execution_count": null,
   "id": "7a07bf20",
   "metadata": {},
   "outputs": [],
   "source": [
    "input as Example, for each iteration, it take one char, i.e., E, x, a , m, p, l, e"
   ]
  },
  {
   "cell_type": "code",
   "execution_count": 5,
   "id": "01f76aa5",
   "metadata": {},
   "outputs": [
    {
     "name": "stdout",
     "output_type": "stream",
     "text": [
      "Enter a string to find vowels: Hello\n",
      "Vowels are: ['e', 'o']\n"
     ]
    }
   ],
   "source": [
    "str1 = input(\"Enter a string to find vowels: \")\n",
    "vowels = []\n",
    "for vowel in str1:\n",
    "    if(vowel == 'a' or vowel == 'e' or vowel == 'i' or vowel == 'o' or  vowel == 'u' or vowel == 'A' or vowel == 'E' or vowel == 'I' or vowel == 'O' or vowel == 'U'):\n",
    "        vowels.append(vowel)\n",
    "    \n",
    "print(\"Vowels are:\", vowels)"
   ]
  },
  {
   "cell_type": "code",
   "execution_count": 6,
   "id": "63f73dcf",
   "metadata": {},
   "outputs": [],
   "source": [
    "num1 = 455"
   ]
  },
  {
   "cell_type": "code",
   "execution_count": 7,
   "id": "f186d023",
   "metadata": {},
   "outputs": [
    {
     "data": {
      "text/plain": [
       "int"
      ]
     },
     "execution_count": 7,
     "metadata": {},
     "output_type": "execute_result"
    }
   ],
   "source": [
    "type(num1)"
   ]
  },
  {
   "cell_type": "code",
   "execution_count": 11,
   "id": "6bd3619d",
   "metadata": {},
   "outputs": [
    {
     "name": "stdout",
     "output_type": "stream",
     "text": [
      "Enter a string to find vowels: 56.554\n"
     ]
    }
   ],
   "source": [
    "str1 = input(\"Enter a string to find vowels: \")"
   ]
  },
  {
   "cell_type": "code",
   "execution_count": 12,
   "id": "0ae1c64b",
   "metadata": {},
   "outputs": [
    {
     "data": {
      "text/plain": [
       "'56.554'"
      ]
     },
     "execution_count": 12,
     "metadata": {},
     "output_type": "execute_result"
    }
   ],
   "source": [
    "str1"
   ]
  },
  {
   "cell_type": "code",
   "execution_count": 13,
   "id": "eaa4d9eb",
   "metadata": {},
   "outputs": [
    {
     "data": {
      "text/plain": [
       "str"
      ]
     },
     "execution_count": 13,
     "metadata": {},
     "output_type": "execute_result"
    }
   ],
   "source": [
    "type(str1)"
   ]
  },
  {
   "cell_type": "code",
   "execution_count": 14,
   "id": "4e696dab",
   "metadata": {},
   "outputs": [],
   "source": [
    "# Alternate program for finding vowels"
   ]
  },
  {
   "cell_type": "code",
   "execution_count": 3,
   "id": "0468ba4a",
   "metadata": {},
   "outputs": [
    {
     "name": "stdout",
     "output_type": "stream",
     "text": [
      "Enter the word: Barbeque\n",
      "a\n",
      "e\n",
      "u\n"
     ]
    }
   ],
   "source": [
    "vowels = ['a','e','i','o','u']\n",
    "\n",
    "word = input(\"Enter the word: \")\n",
    "found = []\n",
    "for i in word:\n",
    "    if i in vowels:\n",
    "        if i not in found:\n",
    "            found.append(i)\n",
    "\n",
    "# print(found)\n",
    "for j in found:\n",
    "    print(j)"
   ]
  },
  {
   "cell_type": "code",
   "execution_count": 16,
   "id": "f3fd26cd",
   "metadata": {},
   "outputs": [],
   "source": [
    "a=(1,2)"
   ]
  },
  {
   "cell_type": "code",
   "execution_count": 17,
   "id": "44805430",
   "metadata": {},
   "outputs": [
    {
     "data": {
      "text/plain": [
       "tuple"
      ]
     },
     "execution_count": 17,
     "metadata": {},
     "output_type": "execute_result"
    }
   ],
   "source": [
    "type(a)"
   ]
  },
  {
   "cell_type": "markdown",
   "id": "ba7237b5",
   "metadata": {},
   "source": [
    "### Functions"
   ]
  },
  {
   "cell_type": "code",
   "execution_count": 4,
   "id": "d46ac209",
   "metadata": {},
   "outputs": [],
   "source": [
    "# Whereever you a repition of code, \n",
    "# we can put it in function and call the function whenever it is needed"
   ]
  },
  {
   "cell_type": "code",
   "execution_count": 6,
   "id": "55795304",
   "metadata": {},
   "outputs": [],
   "source": [
    "#Example:\n",
    "# add the items in the list and get the sum of it\n",
    "\n",
    "# a = [1,2,54, 655,5544,333]\n",
    "# for loop\n",
    "# pick up each value in the list \n",
    "# and do addition of it\n"
   ]
  },
  {
   "cell_type": "code",
   "execution_count": 7,
   "id": "8958902b",
   "metadata": {},
   "outputs": [],
   "source": [
    "# Syntax of function:\n",
    "    \n",
    "# def myfunction (customised function)\n",
    "# We are creating our own function and that can be used in our program execution"
   ]
  },
  {
   "cell_type": "code",
   "execution_count": 8,
   "id": "8014db4b",
   "metadata": {},
   "outputs": [],
   "source": [
    "# In-built functions available in python\n",
    "# range()\n",
    "# list()\n",
    "# tuple()\n",
    "# str()\n",
    "# int()"
   ]
  },
  {
   "cell_type": "code",
   "execution_count": 9,
   "id": "4238861e",
   "metadata": {},
   "outputs": [],
   "source": [
    "# def myfunction(<input values/variables>):\n",
    "#     statements\n",
    "#     statements\n",
    "#     statements\n",
    "#     return <anyvalue> # optional"
   ]
  },
  {
   "cell_type": "code",
   "execution_count": 10,
   "id": "4f581840",
   "metadata": {},
   "outputs": [],
   "source": [
    "# # stream of input values I am getting and I need to add those values..\n",
    "\n",
    "# input \n",
    "# add\n",
    "\n",
    "# input\n",
    "# add\n",
    "\n",
    "# input\n",
    "# add"
   ]
  },
  {
   "cell_type": "code",
   "execution_count": 17,
   "id": "862e00f5",
   "metadata": {},
   "outputs": [],
   "source": [
    "# Write a fuction to add the numbers given\n",
    "\n",
    "def add_func(a,b):\n",
    "    c = a+b\n",
    "    return c"
   ]
  },
  {
   "cell_type": "code",
   "execution_count": 18,
   "id": "29345a99",
   "metadata": {},
   "outputs": [
    {
     "data": {
      "text/plain": [
       "10"
      ]
     },
     "execution_count": 18,
     "metadata": {},
     "output_type": "execute_result"
    }
   ],
   "source": [
    "add_func(4,6)"
   ]
  },
  {
   "cell_type": "code",
   "execution_count": 21,
   "id": "630f97c5",
   "metadata": {},
   "outputs": [],
   "source": [
    "def add_func(a,b):\n",
    "    c = a+b\n",
    "    print(\"Sum of given values: \", c)"
   ]
  },
  {
   "cell_type": "code",
   "execution_count": 22,
   "id": "1393abf8",
   "metadata": {},
   "outputs": [
    {
     "name": "stdout",
     "output_type": "stream",
     "text": [
      "Sum of given values:  7\n"
     ]
    }
   ],
   "source": [
    "add_func(2,5)"
   ]
  },
  {
   "cell_type": "code",
   "execution_count": 29,
   "id": "c8fb6450",
   "metadata": {},
   "outputs": [],
   "source": [
    "def add_func(a,b):\n",
    "    \"addition of a, b\"\n",
    "    c = a+b\n",
    "    return c"
   ]
  },
  {
   "cell_type": "code",
   "execution_count": 24,
   "id": "a6d57545",
   "metadata": {},
   "outputs": [],
   "source": [
    "d = add_func(4,5)"
   ]
  },
  {
   "cell_type": "code",
   "execution_count": 25,
   "id": "461e8dec",
   "metadata": {},
   "outputs": [
    {
     "data": {
      "text/plain": [
       "9"
      ]
     },
     "execution_count": 25,
     "metadata": {},
     "output_type": "execute_result"
    }
   ],
   "source": [
    "d"
   ]
  },
  {
   "cell_type": "code",
   "execution_count": 26,
   "id": "151d76d0",
   "metadata": {},
   "outputs": [],
   "source": [
    "c, d = 2,3"
   ]
  },
  {
   "cell_type": "code",
   "execution_count": 27,
   "id": "55d089a4",
   "metadata": {},
   "outputs": [
    {
     "data": {
      "text/plain": [
       "2"
      ]
     },
     "execution_count": 27,
     "metadata": {},
     "output_type": "execute_result"
    }
   ],
   "source": [
    "c"
   ]
  },
  {
   "cell_type": "code",
   "execution_count": 28,
   "id": "d5715b88",
   "metadata": {},
   "outputs": [
    {
     "data": {
      "text/plain": [
       "3"
      ]
     },
     "execution_count": 28,
     "metadata": {},
     "output_type": "execute_result"
    }
   ],
   "source": [
    "d"
   ]
  },
  {
   "cell_type": "code",
   "execution_count": 30,
   "id": "82bba5d7",
   "metadata": {},
   "outputs": [
    {
     "data": {
      "text/plain": [
       "'addition of a, b'"
      ]
     },
     "execution_count": 30,
     "metadata": {},
     "output_type": "execute_result"
    }
   ],
   "source": [
    "add_func.__doc__  # Documentation"
   ]
  },
  {
   "cell_type": "code",
   "execution_count": 31,
   "id": "03c87db6",
   "metadata": {},
   "outputs": [
    {
     "data": {
      "text/plain": [
       "'Built-in mutable sequence.\\n\\nIf no argument is given, the constructor creates a new empty list.\\nThe argument must be an iterable if specified.'"
      ]
     },
     "execution_count": 31,
     "metadata": {},
     "output_type": "execute_result"
    }
   ],
   "source": [
    "list.__doc__ # inbuilt function"
   ]
  },
  {
   "cell_type": "code",
   "execution_count": 40,
   "id": "bfca2418",
   "metadata": {},
   "outputs": [],
   "source": [
    "def greet(name):\n",
    "    \"This function will greet the persons\"\n",
    "    print(\"Hello\" + \" \" + name + \", \" + \"Welcome to python class\")"
   ]
  },
  {
   "cell_type": "code",
   "execution_count": 41,
   "id": "074ab8d0",
   "metadata": {},
   "outputs": [
    {
     "name": "stdout",
     "output_type": "stream",
     "text": [
      "Hello Rathan, Welcome to python class\n"
     ]
    }
   ],
   "source": [
    "greet('Rathan')"
   ]
  },
  {
   "cell_type": "code",
   "execution_count": 44,
   "id": "86d79e1c",
   "metadata": {},
   "outputs": [
    {
     "name": "stdout",
     "output_type": "stream",
     "text": [
      "Hello Rathan, Welcome to python class\n",
      "Hello Raju, Welcome to python class\n",
      "Hello RK, Welcome to python class\n",
      "Hello Mahesh, Welcome to python class\n"
     ]
    }
   ],
   "source": [
    "def greet(name):\n",
    "#     \"This function will greet the persons\"\n",
    "    print(\"Hello\" + \" \" + name + \", \" + \"Welcome to python class\")\n",
    "\n",
    "greet('Rathan')\n",
    "greet('Raju')\n",
    "greet('RK')\n",
    "greet('Mahesh')"
   ]
  },
  {
   "cell_type": "code",
   "execution_count": 47,
   "id": "8b3b72ac",
   "metadata": {},
   "outputs": [
    {
     "name": "stdout",
     "output_type": "stream",
     "text": [
      "Hello Rathan, Welcome to python class\n",
      "Hello RK, Welcome to python class\n",
      "Hello Mahesh, Welcome to python class\n",
      "Hello Raju, Welcome to python class\n"
     ]
    }
   ],
   "source": [
    "# Repition of code\n",
    "print(\"Hello\" + \" \" + \"Rathan\" + \", \" + \"Welcome to python class\")\n",
    "print(\"Hello\" + \" \" + \"RK\" + \", \" + \"Welcome to python class\")\n",
    "print(\"Hello\" + \" \" + \"Mahesh\" + \", \" + \"Welcome to python class\")\n",
    "print(\"Hello\" + \" \" + \"Raju\" + \", \" + \"Welcome to python class\")"
   ]
  },
  {
   "cell_type": "code",
   "execution_count": null,
   "id": "e0a60e4a",
   "metadata": {},
   "outputs": [],
   "source": [
    "# While, for, if conditions\n",
    "\n",
    "# for i in list,tuple,string:\n",
    "#     statements\n",
    "    \n",
    "# ----------------\n",
    "# While <Condition>:\n",
    "#     statements"
   ]
  }
 ],
 "metadata": {
  "kernelspec": {
   "display_name": "Python 3 (ipykernel)",
   "language": "python",
   "name": "python3"
  },
  "language_info": {
   "codemirror_mode": {
    "name": "ipython",
    "version": 3
   },
   "file_extension": ".py",
   "mimetype": "text/x-python",
   "name": "python",
   "nbconvert_exporter": "python",
   "pygments_lexer": "ipython3",
   "version": "3.9.7"
  }
 },
 "nbformat": 4,
 "nbformat_minor": 5
}
