{
 "cells": [
  {
   "cell_type": "code",
   "execution_count": 42,
   "id": "740198d4",
   "metadata": {},
   "outputs": [],
   "source": [
    "# Lambda Functions\n",
    "# Syntax\n",
    "# lambda <var> : <expression>   - Shortcut function"
   ]
  },
  {
   "cell_type": "code",
   "execution_count": 43,
   "id": "5cd1eb1c",
   "metadata": {},
   "outputs": [],
   "source": [
    "x = lambda a : a + 10"
   ]
  },
  {
   "cell_type": "code",
   "execution_count": 44,
   "id": "12aef74d",
   "metadata": {},
   "outputs": [
    {
     "data": {
      "text/plain": [
       "function"
      ]
     },
     "execution_count": 44,
     "metadata": {},
     "output_type": "execute_result"
    }
   ],
   "source": [
    "type(x)"
   ]
  },
  {
   "cell_type": "code",
   "execution_count": 2,
   "id": "110b56f5",
   "metadata": {},
   "outputs": [
    {
     "name": "stdout",
     "output_type": "stream",
     "text": [
      "15\n"
     ]
    }
   ],
   "source": [
    "print(x(5))"
   ]
  },
  {
   "cell_type": "code",
   "execution_count": 3,
   "id": "855d1cfd",
   "metadata": {},
   "outputs": [
    {
     "data": {
      "text/plain": [
       "20"
      ]
     },
     "execution_count": 3,
     "metadata": {},
     "output_type": "execute_result"
    }
   ],
   "source": [
    "x(10)"
   ]
  },
  {
   "cell_type": "code",
   "execution_count": 4,
   "id": "eaafcfb2",
   "metadata": {},
   "outputs": [
    {
     "data": {
      "text/plain": [
       "29"
      ]
     },
     "execution_count": 4,
     "metadata": {},
     "output_type": "execute_result"
    }
   ],
   "source": [
    "x(19)"
   ]
  },
  {
   "cell_type": "code",
   "execution_count": 5,
   "id": "bd3f212a",
   "metadata": {},
   "outputs": [],
   "source": [
    "y = lambda a,b: a * b"
   ]
  },
  {
   "cell_type": "code",
   "execution_count": 6,
   "id": "9c85e592",
   "metadata": {},
   "outputs": [
    {
     "data": {
      "text/plain": [
       "6"
      ]
     },
     "execution_count": 6,
     "metadata": {},
     "output_type": "execute_result"
    }
   ],
   "source": [
    "y(2,3)"
   ]
  },
  {
   "cell_type": "code",
   "execution_count": 7,
   "id": "ece454de",
   "metadata": {},
   "outputs": [
    {
     "data": {
      "text/plain": [
       "30"
      ]
     },
     "execution_count": 7,
     "metadata": {},
     "output_type": "execute_result"
    }
   ],
   "source": [
    "y(5,6)"
   ]
  },
  {
   "cell_type": "code",
   "execution_count": 8,
   "id": "2d96bed7",
   "metadata": {},
   "outputs": [],
   "source": [
    "z = lambda a,b,c: max(a,b,c)"
   ]
  },
  {
   "cell_type": "code",
   "execution_count": 10,
   "id": "e2441c99",
   "metadata": {},
   "outputs": [],
   "source": [
    "res = z(5,62,2243)"
   ]
  },
  {
   "cell_type": "code",
   "execution_count": 11,
   "id": "d30f66ae",
   "metadata": {},
   "outputs": [
    {
     "name": "stdout",
     "output_type": "stream",
     "text": [
      "2243\n"
     ]
    }
   ],
   "source": [
    "print(res)"
   ]
  },
  {
   "cell_type": "code",
   "execution_count": 17,
   "id": "9e8c0349",
   "metadata": {},
   "outputs": [],
   "source": [
    "def myfunc(n):\n",
    "    return lambda a : a * n"
   ]
  },
  {
   "cell_type": "code",
   "execution_count": 18,
   "id": "ecf9e275",
   "metadata": {},
   "outputs": [],
   "source": [
    "res = myfunc(2)"
   ]
  },
  {
   "cell_type": "code",
   "execution_count": 19,
   "id": "f8e76a15",
   "metadata": {},
   "outputs": [
    {
     "name": "stdout",
     "output_type": "stream",
     "text": [
      "<function myfunc.<locals>.<lambda> at 0x000002B9F6525B80>\n"
     ]
    }
   ],
   "source": [
    "print(res)"
   ]
  },
  {
   "cell_type": "code",
   "execution_count": 20,
   "id": "1edccab9",
   "metadata": {},
   "outputs": [],
   "source": [
    "y = lambda a : a * 2"
   ]
  },
  {
   "cell_type": "code",
   "execution_count": 21,
   "id": "6b6a27e5",
   "metadata": {},
   "outputs": [
    {
     "data": {
      "text/plain": [
       "4"
      ]
     },
     "execution_count": 21,
     "metadata": {},
     "output_type": "execute_result"
    }
   ],
   "source": [
    "y(2)"
   ]
  },
  {
   "cell_type": "code",
   "execution_count": 22,
   "id": "4824b6dc",
   "metadata": {},
   "outputs": [],
   "source": [
    "def myfunc(n):\n",
    "    return lambda a : a * n"
   ]
  },
  {
   "cell_type": "code",
   "execution_count": 27,
   "id": "4e06cdad",
   "metadata": {},
   "outputs": [],
   "source": [
    "res1 = myfunc(6)"
   ]
  },
  {
   "cell_type": "code",
   "execution_count": 26,
   "id": "187399c6",
   "metadata": {},
   "outputs": [
    {
     "data": {
      "text/plain": [
       "function"
      ]
     },
     "execution_count": 26,
     "metadata": {},
     "output_type": "execute_result"
    }
   ],
   "source": [
    "type(res1)"
   ]
  },
  {
   "cell_type": "code",
   "execution_count": 28,
   "id": "1ef6b6a4",
   "metadata": {},
   "outputs": [
    {
     "name": "stdout",
     "output_type": "stream",
     "text": [
      "18\n"
     ]
    }
   ],
   "source": [
    "print(res1(3))"
   ]
  },
  {
   "cell_type": "code",
   "execution_count": 29,
   "id": "b9ef1eec",
   "metadata": {},
   "outputs": [],
   "source": [
    "def myaddfunc(n):   # A function with in a function, like if with in if\n",
    "    return lambda a : a + n"
   ]
  },
  {
   "cell_type": "code",
   "execution_count": 31,
   "id": "35c2cb32",
   "metadata": {},
   "outputs": [],
   "source": [
    "myfinalfunc = myaddfunc(5)"
   ]
  },
  {
   "cell_type": "code",
   "execution_count": 32,
   "id": "c6773245",
   "metadata": {},
   "outputs": [
    {
     "data": {
      "text/plain": [
       "function"
      ]
     },
     "execution_count": 32,
     "metadata": {},
     "output_type": "execute_result"
    }
   ],
   "source": [
    "type(myfinalfunc)"
   ]
  },
  {
   "cell_type": "code",
   "execution_count": 33,
   "id": "5c680f61",
   "metadata": {},
   "outputs": [
    {
     "data": {
      "text/plain": [
       "15"
      ]
     },
     "execution_count": 33,
     "metadata": {},
     "output_type": "execute_result"
    }
   ],
   "source": [
    "myfinalfunc(10)"
   ]
  },
  {
   "cell_type": "code",
   "execution_count": 34,
   "id": "14b79dcf",
   "metadata": {},
   "outputs": [],
   "source": [
    "def newfunc(n):\n",
    "    return n + 5"
   ]
  },
  {
   "cell_type": "code",
   "execution_count": 35,
   "id": "66b08008",
   "metadata": {},
   "outputs": [
    {
     "data": {
      "text/plain": [
       "15"
      ]
     },
     "execution_count": 35,
     "metadata": {},
     "output_type": "execute_result"
    }
   ],
   "source": [
    "newfunc(10)"
   ]
  },
  {
   "cell_type": "code",
   "execution_count": 36,
   "id": "220bb2d5",
   "metadata": {},
   "outputs": [],
   "source": [
    "def newfunc(n):\n",
    "    return lambda a: a + n"
   ]
  },
  {
   "cell_type": "code",
   "execution_count": 38,
   "id": "7a40b089",
   "metadata": {},
   "outputs": [],
   "source": [
    "lambda1 = newfunc(10)"
   ]
  },
  {
   "cell_type": "code",
   "execution_count": 39,
   "id": "8e62bb2c",
   "metadata": {},
   "outputs": [
    {
     "data": {
      "text/plain": [
       "55"
      ]
     },
     "execution_count": 39,
     "metadata": {},
     "output_type": "execute_result"
    }
   ],
   "source": [
    "lambda1(45)"
   ]
  },
  {
   "cell_type": "code",
   "execution_count": null,
   "id": "50b1bcb2",
   "metadata": {},
   "outputs": [],
   "source": [
    "# Take input from user and assign to lambda function"
   ]
  },
  {
   "cell_type": "code",
   "execution_count": 59,
   "id": "b5ed0dde",
   "metadata": {},
   "outputs": [
    {
     "name": "stdout",
     "output_type": "stream",
     "text": [
      "Enter the value of a:56\n",
      "Enter the value of b:333\n",
      "Enter the value of c:5666\n"
     ]
    }
   ],
   "source": [
    "a = input(\"Enter the value of a:\")\n",
    "b = input(\"Enter the value of b:\")\n",
    "c = input(\"Enter the value of c:\")\n",
    "result = lambda a,b,c: max(a,b,c)"
   ]
  },
  {
   "cell_type": "code",
   "execution_count": 60,
   "id": "2c33a850",
   "metadata": {},
   "outputs": [
    {
     "name": "stdout",
     "output_type": "stream",
     "text": [
      "5666\n"
     ]
    }
   ],
   "source": [
    "print(result(a,b,c))"
   ]
  },
  {
   "cell_type": "markdown",
   "id": "5543d207",
   "metadata": {},
   "source": [
    "### Iterators"
   ]
  },
  {
   "cell_type": "code",
   "execution_count": 61,
   "id": "e4489202",
   "metadata": {},
   "outputs": [],
   "source": [
    "a = (1,2,3,4,5)"
   ]
  },
  {
   "cell_type": "code",
   "execution_count": 62,
   "id": "ad04d8dd",
   "metadata": {},
   "outputs": [
    {
     "data": {
      "text/plain": [
       "tuple"
      ]
     },
     "execution_count": 62,
     "metadata": {},
     "output_type": "execute_result"
    }
   ],
   "source": [
    "type(a)"
   ]
  },
  {
   "cell_type": "code",
   "execution_count": 71,
   "id": "ae38424b",
   "metadata": {},
   "outputs": [
    {
     "name": "stdout",
     "output_type": "stream",
     "text": [
      "10\n"
     ]
    }
   ],
   "source": [
    "for i in a:\n",
    "    res = i+i\n",
    "\n",
    "print(res)"
   ]
  },
  {
   "cell_type": "code",
   "execution_count": 64,
   "id": "5c68dd9a",
   "metadata": {},
   "outputs": [],
   "source": [
    "b = iter(a)"
   ]
  },
  {
   "cell_type": "code",
   "execution_count": 65,
   "id": "6cd7ab90",
   "metadata": {},
   "outputs": [
    {
     "data": {
      "text/plain": [
       "1"
      ]
     },
     "execution_count": 65,
     "metadata": {},
     "output_type": "execute_result"
    }
   ],
   "source": [
    "next(b)"
   ]
  },
  {
   "cell_type": "code",
   "execution_count": 66,
   "id": "aa5317dc",
   "metadata": {},
   "outputs": [
    {
     "data": {
      "text/plain": [
       "2"
      ]
     },
     "execution_count": 66,
     "metadata": {},
     "output_type": "execute_result"
    }
   ],
   "source": [
    "next(b)"
   ]
  },
  {
   "cell_type": "code",
   "execution_count": 67,
   "id": "e46be068",
   "metadata": {},
   "outputs": [
    {
     "data": {
      "text/plain": [
       "3"
      ]
     },
     "execution_count": 67,
     "metadata": {},
     "output_type": "execute_result"
    }
   ],
   "source": [
    "next(b)"
   ]
  },
  {
   "cell_type": "code",
   "execution_count": 68,
   "id": "7e91d18f",
   "metadata": {},
   "outputs": [
    {
     "data": {
      "text/plain": [
       "4"
      ]
     },
     "execution_count": 68,
     "metadata": {},
     "output_type": "execute_result"
    }
   ],
   "source": [
    "next(b)"
   ]
  },
  {
   "cell_type": "code",
   "execution_count": 69,
   "id": "e3f1c0a3",
   "metadata": {},
   "outputs": [
    {
     "data": {
      "text/plain": [
       "5"
      ]
     },
     "execution_count": 69,
     "metadata": {},
     "output_type": "execute_result"
    }
   ],
   "source": [
    "next(b)"
   ]
  },
  {
   "cell_type": "code",
   "execution_count": 70,
   "id": "275ad50a",
   "metadata": {},
   "outputs": [
    {
     "ename": "StopIteration",
     "evalue": "",
     "output_type": "error",
     "traceback": [
      "\u001b[1;31m---------------------------------------------------------------------------\u001b[0m",
      "\u001b[1;31mStopIteration\u001b[0m                             Traceback (most recent call last)",
      "\u001b[1;32m<ipython-input-70-adb3e17b0219>\u001b[0m in \u001b[0;36m<module>\u001b[1;34m\u001b[0m\n\u001b[1;32m----> 1\u001b[1;33m \u001b[0mnext\u001b[0m\u001b[1;33m(\u001b[0m\u001b[0mb\u001b[0m\u001b[1;33m)\u001b[0m\u001b[1;33m\u001b[0m\u001b[1;33m\u001b[0m\u001b[0m\n\u001b[0m",
      "\u001b[1;31mStopIteration\u001b[0m: "
     ]
    }
   ],
   "source": [
    "next(b)"
   ]
  },
  {
   "cell_type": "code",
   "execution_count": 72,
   "id": "251aa805",
   "metadata": {},
   "outputs": [],
   "source": [
    "a = (1,2,3,4,5)"
   ]
  },
  {
   "cell_type": "code",
   "execution_count": 73,
   "id": "07c4ceae",
   "metadata": {},
   "outputs": [],
   "source": [
    "b = iter(a)"
   ]
  },
  {
   "cell_type": "code",
   "execution_count": 75,
   "id": "a065d961",
   "metadata": {},
   "outputs": [
    {
     "name": "stdout",
     "output_type": "stream",
     "text": [
      "6\n"
     ]
    }
   ],
   "source": [
    "add1 = next(b)+5\n",
    "print(add1)"
   ]
  },
  {
   "cell_type": "code",
   "execution_count": 76,
   "id": "6496974d",
   "metadata": {},
   "outputs": [
    {
     "name": "stdout",
     "output_type": "stream",
     "text": [
      "0\n"
     ]
    }
   ],
   "source": [
    "sub1 = next(b)-2\n",
    "print(sub1)"
   ]
  },
  {
   "cell_type": "code",
   "execution_count": 77,
   "id": "351c86e2",
   "metadata": {},
   "outputs": [
    {
     "name": "stdout",
     "output_type": "stream",
     "text": [
      "1.0\n"
     ]
    }
   ],
   "source": [
    "div1 = next(b)/3\n",
    "print(div1)"
   ]
  },
  {
   "cell_type": "code",
   "execution_count": 78,
   "id": "ac4b7b43",
   "metadata": {},
   "outputs": [
    {
     "name": "stdout",
     "output_type": "stream",
     "text": [
      "apple\n",
      "banana\n",
      "cherry\n"
     ]
    }
   ],
   "source": [
    "mytuple = (\"apple\", \"banana\", \"cherry\")\n",
    "myit = iter(mytuple)\n",
    "\n",
    "print(next(myit))\n",
    "print(next(myit))\n",
    "print(next(myit))"
   ]
  },
  {
   "cell_type": "code",
   "execution_count": 79,
   "id": "4009fba3",
   "metadata": {},
   "outputs": [
    {
     "name": "stdout",
     "output_type": "stream",
     "text": [
      "b\n",
      "a\n",
      "n\n",
      "a\n",
      "n\n",
      "a\n"
     ]
    }
   ],
   "source": [
    "mystr = \"banana\"\n",
    "myit = iter(mystr)\n",
    "\n",
    "print(next(myit))\n",
    "print(next(myit))\n",
    "print(next(myit))\n",
    "print(next(myit))\n",
    "print(next(myit))\n",
    "print(next(myit))"
   ]
  },
  {
   "cell_type": "code",
   "execution_count": 80,
   "id": "20d70ccc",
   "metadata": {},
   "outputs": [
    {
     "name": "stdout",
     "output_type": "stream",
     "text": [
      "apple\n",
      "banana\n",
      "cherry\n"
     ]
    }
   ],
   "source": [
    "mytuple = (\"apple\", \"banana\", \"cherry\")\n",
    "\n",
    "for x in mytuple:\n",
    "  print(x)"
   ]
  },
  {
   "cell_type": "code",
   "execution_count": 86,
   "id": "7a9ce83e",
   "metadata": {},
   "outputs": [
    {
     "name": "stdout",
     "output_type": "stream",
     "text": [
      "6\n",
      "-1\n",
      "7\n",
      "0\n"
     ]
    }
   ],
   "source": [
    "a = (1,2)\n",
    "for i in a:\n",
    "    add1= i+5\n",
    "    sub1= i-2\n",
    "    print(add1)\n",
    "    print(sub1)"
   ]
  },
  {
   "cell_type": "code",
   "execution_count": null,
   "id": "ebb48b7f",
   "metadata": {},
   "outputs": [],
   "source": []
  },
  {
   "cell_type": "code",
   "execution_count": null,
   "id": "77d1e47e",
   "metadata": {},
   "outputs": [],
   "source": []
  }
 ],
 "metadata": {
  "kernelspec": {
   "display_name": "Python 3 (ipykernel)",
   "language": "python",
   "name": "python3"
  },
  "language_info": {
   "codemirror_mode": {
    "name": "ipython",
    "version": 3
   },
   "file_extension": ".py",
   "mimetype": "text/x-python",
   "name": "python",
   "nbconvert_exporter": "python",
   "pygments_lexer": "ipython3",
   "version": "3.9.7"
  }
 },
 "nbformat": 4,
 "nbformat_minor": 5
}
