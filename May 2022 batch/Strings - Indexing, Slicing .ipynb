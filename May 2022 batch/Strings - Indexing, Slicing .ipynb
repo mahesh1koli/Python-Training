{
 "cells": [
  {
   "cell_type": "code",
   "execution_count": 1,
   "id": "d95b3edb",
   "metadata": {},
   "outputs": [],
   "source": [
    "s = \"Good Evening!\""
   ]
  },
  {
   "cell_type": "markdown",
   "id": "318f3742",
   "metadata": {},
   "source": [
    "#### Possitive Indexing & Slicing"
   ]
  },
  {
   "cell_type": "code",
   "execution_count": 2,
   "id": "d411ff8b",
   "metadata": {},
   "outputs": [
    {
     "data": {
      "text/plain": [
       "'Good Evening!'"
      ]
     },
     "execution_count": 2,
     "metadata": {},
     "output_type": "execute_result"
    }
   ],
   "source": [
    "s"
   ]
  },
  {
   "cell_type": "code",
   "execution_count": 3,
   "id": "a037351a",
   "metadata": {},
   "outputs": [
    {
     "data": {
      "text/plain": [
       "'G'"
      ]
     },
     "execution_count": 3,
     "metadata": {},
     "output_type": "execute_result"
    }
   ],
   "source": [
    "s[0]"
   ]
  },
  {
   "cell_type": "code",
   "execution_count": 4,
   "id": "621308f0",
   "metadata": {},
   "outputs": [
    {
     "data": {
      "text/plain": [
       "'!'"
      ]
     },
     "execution_count": 4,
     "metadata": {},
     "output_type": "execute_result"
    }
   ],
   "source": [
    "s[-1]"
   ]
  },
  {
   "cell_type": "code",
   "execution_count": 5,
   "id": "61aa629a",
   "metadata": {},
   "outputs": [
    {
     "data": {
      "text/plain": [
       "'E'"
      ]
     },
     "execution_count": 5,
     "metadata": {},
     "output_type": "execute_result"
    }
   ],
   "source": [
    "s[5]"
   ]
  },
  {
   "cell_type": "code",
   "execution_count": 8,
   "id": "28c8393b",
   "metadata": {},
   "outputs": [
    {
     "data": {
      "text/plain": [
       "'Good'"
      ]
     },
     "execution_count": 8,
     "metadata": {},
     "output_type": "execute_result"
    }
   ],
   "source": [
    "s[0:4]"
   ]
  },
  {
   "cell_type": "code",
   "execution_count": 9,
   "id": "7d95479f",
   "metadata": {},
   "outputs": [
    {
     "data": {
      "text/plain": [
       "'Goo'"
      ]
     },
     "execution_count": 9,
     "metadata": {},
     "output_type": "execute_result"
    }
   ],
   "source": [
    "s[0:3]"
   ]
  },
  {
   "cell_type": "code",
   "execution_count": 14,
   "id": "f484a850",
   "metadata": {},
   "outputs": [
    {
     "data": {
      "text/plain": [
       "'Evening'"
      ]
     },
     "execution_count": 14,
     "metadata": {},
     "output_type": "execute_result"
    }
   ],
   "source": [
    "s[5:12]"
   ]
  },
  {
   "cell_type": "markdown",
   "id": "7a88379e",
   "metadata": {},
   "source": [
    "#### Negative Indexing & Slicing"
   ]
  },
  {
   "cell_type": "code",
   "execution_count": 15,
   "id": "6c6ae780",
   "metadata": {},
   "outputs": [
    {
     "data": {
      "text/plain": [
       "'Goo'"
      ]
     },
     "execution_count": 15,
     "metadata": {},
     "output_type": "execute_result"
    }
   ],
   "source": [
    "s[-13:-10]"
   ]
  },
  {
   "cell_type": "code",
   "execution_count": 16,
   "id": "f94d633a",
   "metadata": {},
   "outputs": [
    {
     "data": {
      "text/plain": [
       "'Good'"
      ]
     },
     "execution_count": 16,
     "metadata": {},
     "output_type": "execute_result"
    }
   ],
   "source": [
    "s[-13:-9]"
   ]
  },
  {
   "cell_type": "code",
   "execution_count": 17,
   "id": "9370a8e3",
   "metadata": {},
   "outputs": [
    {
     "data": {
      "text/plain": [
       "'Evening'"
      ]
     },
     "execution_count": 17,
     "metadata": {},
     "output_type": "execute_result"
    }
   ],
   "source": [
    "s[-8:-1]"
   ]
  },
  {
   "cell_type": "code",
   "execution_count": 18,
   "id": "11449daa",
   "metadata": {},
   "outputs": [
    {
     "data": {
      "text/plain": [
       "''"
      ]
     },
     "execution_count": 18,
     "metadata": {},
     "output_type": "execute_result"
    }
   ],
   "source": [
    "s[-8:0]"
   ]
  },
  {
   "cell_type": "code",
   "execution_count": 19,
   "id": "38877d91",
   "metadata": {},
   "outputs": [
    {
     "data": {
      "text/plain": [
       "'Evenin'"
      ]
     },
     "execution_count": 19,
     "metadata": {},
     "output_type": "execute_result"
    }
   ],
   "source": [
    "s[-8:-2]"
   ]
  },
  {
   "cell_type": "code",
   "execution_count": 20,
   "id": "0ff6ad32",
   "metadata": {},
   "outputs": [
    {
     "data": {
      "text/plain": [
       "''"
      ]
     },
     "execution_count": 20,
     "metadata": {},
     "output_type": "execute_result"
    }
   ],
   "source": [
    "s[-8:1]"
   ]
  },
  {
   "cell_type": "code",
   "execution_count": 21,
   "id": "2cca358e",
   "metadata": {},
   "outputs": [
    {
     "data": {
      "text/plain": [
       "'Evening!'"
      ]
     },
     "execution_count": 21,
     "metadata": {},
     "output_type": "execute_result"
    }
   ],
   "source": [
    "s[-8:]"
   ]
  },
  {
   "cell_type": "code",
   "execution_count": 22,
   "id": "57e3275b",
   "metadata": {},
   "outputs": [
    {
     "data": {
      "text/plain": [
       "'Good'"
      ]
     },
     "execution_count": 22,
     "metadata": {},
     "output_type": "execute_result"
    }
   ],
   "source": [
    "s[:-9]"
   ]
  },
  {
   "cell_type": "code",
   "execution_count": 23,
   "id": "024ba3de",
   "metadata": {},
   "outputs": [
    {
     "data": {
      "text/plain": [
       "'Go vnn!'"
      ]
     },
     "execution_count": 23,
     "metadata": {},
     "output_type": "execute_result"
    }
   ],
   "source": [
    "s[0:13:2]"
   ]
  },
  {
   "cell_type": "code",
   "execution_count": 24,
   "id": "2b4cb699",
   "metadata": {},
   "outputs": [
    {
     "data": {
      "text/plain": [
       "'Gdvi!'"
      ]
     },
     "execution_count": 24,
     "metadata": {},
     "output_type": "execute_result"
    }
   ],
   "source": [
    "s[0:13:3]"
   ]
  },
  {
   "cell_type": "code",
   "execution_count": 25,
   "id": "37a03422",
   "metadata": {},
   "outputs": [],
   "source": [
    "a = 'Good'"
   ]
  },
  {
   "cell_type": "code",
   "execution_count": 26,
   "id": "1295b913",
   "metadata": {},
   "outputs": [
    {
     "data": {
      "text/plain": [
       "'Good'"
      ]
     },
     "execution_count": 26,
     "metadata": {},
     "output_type": "execute_result"
    }
   ],
   "source": [
    "a"
   ]
  },
  {
   "cell_type": "code",
   "execution_count": 27,
   "id": "c996f3b5",
   "metadata": {},
   "outputs": [
    {
     "data": {
      "text/plain": [
       "'Good'"
      ]
     },
     "execution_count": 27,
     "metadata": {},
     "output_type": "execute_result"
    }
   ],
   "source": [
    "a[-4:]"
   ]
  },
  {
   "cell_type": "code",
   "execution_count": 29,
   "id": "06e644dd",
   "metadata": {},
   "outputs": [
    {
     "data": {
      "text/plain": [
       "''"
      ]
     },
     "execution_count": 29,
     "metadata": {},
     "output_type": "execute_result"
    }
   ],
   "source": [
    "a[5:0]"
   ]
  },
  {
   "cell_type": "code",
   "execution_count": 30,
   "id": "21452238",
   "metadata": {},
   "outputs": [
    {
     "data": {
      "text/plain": [
       "'dooG'"
      ]
     },
     "execution_count": 30,
     "metadata": {},
     "output_type": "execute_result"
    }
   ],
   "source": [
    "a[::-1]"
   ]
  },
  {
   "cell_type": "code",
   "execution_count": 31,
   "id": "96c4d915",
   "metadata": {},
   "outputs": [
    {
     "data": {
      "text/plain": [
       "'Good Evening!'"
      ]
     },
     "execution_count": 31,
     "metadata": {},
     "output_type": "execute_result"
    }
   ],
   "source": [
    "s"
   ]
  },
  {
   "cell_type": "code",
   "execution_count": 32,
   "id": "91762b35",
   "metadata": {},
   "outputs": [
    {
     "data": {
      "text/plain": [
       "'!gninevE dooG'"
      ]
     },
     "execution_count": 32,
     "metadata": {},
     "output_type": "execute_result"
    }
   ],
   "source": [
    "s[::-1]"
   ]
  },
  {
   "cell_type": "code",
   "execution_count": 33,
   "id": "1ef65c37",
   "metadata": {},
   "outputs": [
    {
     "data": {
      "text/plain": [
       "'Good Evening!'"
      ]
     },
     "execution_count": 33,
     "metadata": {},
     "output_type": "execute_result"
    }
   ],
   "source": [
    "s"
   ]
  },
  {
   "cell_type": "code",
   "execution_count": 38,
   "id": "665019f4",
   "metadata": {},
   "outputs": [
    {
     "data": {
      "text/plain": [
       "['Good', 'Evening!']"
      ]
     },
     "execution_count": 38,
     "metadata": {},
     "output_type": "execute_result"
    }
   ],
   "source": [
    "s.split(\" \")"
   ]
  },
  {
   "cell_type": "code",
   "execution_count": 39,
   "id": "0be55e29",
   "metadata": {},
   "outputs": [
    {
     "data": {
      "text/plain": [
       "'Good'"
      ]
     },
     "execution_count": 39,
     "metadata": {},
     "output_type": "execute_result"
    }
   ],
   "source": [
    "s.split(\" \")[0]"
   ]
  },
  {
   "cell_type": "code",
   "execution_count": 40,
   "id": "3715357e",
   "metadata": {},
   "outputs": [
    {
     "data": {
      "text/plain": [
       "'dooG'"
      ]
     },
     "execution_count": 40,
     "metadata": {},
     "output_type": "execute_result"
    }
   ],
   "source": [
    "s.split(\" \")[0][::-1]"
   ]
  },
  {
   "cell_type": "code",
   "execution_count": 41,
   "id": "47d93b1b",
   "metadata": {},
   "outputs": [
    {
     "data": {
      "text/plain": [
       "'Good'"
      ]
     },
     "execution_count": 41,
     "metadata": {},
     "output_type": "execute_result"
    }
   ],
   "source": [
    "a"
   ]
  },
  {
   "cell_type": "code",
   "execution_count": 42,
   "id": "0173d12d",
   "metadata": {},
   "outputs": [
    {
     "data": {
      "text/plain": [
       "''"
      ]
     },
     "execution_count": 42,
     "metadata": {},
     "output_type": "execute_result"
    }
   ],
   "source": [
    "a[0:0]"
   ]
  },
  {
   "cell_type": "code",
   "execution_count": 43,
   "id": "2e682aa5",
   "metadata": {},
   "outputs": [
    {
     "data": {
      "text/plain": [
       "'G'"
      ]
     },
     "execution_count": 43,
     "metadata": {},
     "output_type": "execute_result"
    }
   ],
   "source": [
    "a[0:1]"
   ]
  },
  {
   "cell_type": "markdown",
   "id": "d3fc1aab",
   "metadata": {},
   "source": [
    "## Take any example like below and do practice before next class"
   ]
  },
  {
   "cell_type": "code",
   "execution_count": null,
   "id": "fd4600d9",
   "metadata": {},
   "outputs": [],
   "source": [
    "s = \"This is the Wells Fargo training class\""
   ]
  },
  {
   "cell_type": "code",
   "execution_count": null,
   "id": "08a41852",
   "metadata": {},
   "outputs": [],
   "source": []
  }
 ],
 "metadata": {
  "kernelspec": {
   "display_name": "Python 3 (ipykernel)",
   "language": "python",
   "name": "python3"
  },
  "language_info": {
   "codemirror_mode": {
    "name": "ipython",
    "version": 3
   },
   "file_extension": ".py",
   "mimetype": "text/x-python",
   "name": "python",
   "nbconvert_exporter": "python",
   "pygments_lexer": "ipython3",
   "version": "3.9.7"
  }
 },
 "nbformat": 4,
 "nbformat_minor": 5
}
