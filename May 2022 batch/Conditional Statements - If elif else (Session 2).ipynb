{
 "cells": [
  {
   "cell_type": "markdown",
   "id": "058b50be",
   "metadata": {},
   "source": [
    "### Conditional Statements - IF"
   ]
  },
  {
   "cell_type": "code",
   "execution_count": 1,
   "id": "9de9de5d",
   "metadata": {},
   "outputs": [],
   "source": [
    "# IF statement Example"
   ]
  },
  {
   "cell_type": "code",
   "execution_count": 2,
   "id": "47604ef7",
   "metadata": {},
   "outputs": [
    {
     "name": "stdout",
     "output_type": "stream",
     "text": [
      "Max number is: 25\n"
     ]
    }
   ],
   "source": [
    "# Problem: Find the largest number \n",
    "\n",
    "a = 10\n",
    "b = 25\n",
    "\n",
    "if(a>b):\n",
    "    max = a\n",
    "else:\n",
    "    max = b\n",
    "\n",
    "print(\"Max number is:\",max)"
   ]
  },
  {
   "cell_type": "code",
   "execution_count": 6,
   "id": "052a0fa1",
   "metadata": {},
   "outputs": [
    {
     "ename": "IndentationError",
     "evalue": "expected an indented block (<ipython-input-6-c86ab50288ed>, line 4)",
     "output_type": "error",
     "traceback": [
      "\u001b[1;36m  File \u001b[1;32m\"<ipython-input-6-c86ab50288ed>\"\u001b[1;36m, line \u001b[1;32m4\u001b[0m\n\u001b[1;33m    max = a\u001b[0m\n\u001b[1;37m    ^\u001b[0m\n\u001b[1;31mIndentationError\u001b[0m\u001b[1;31m:\u001b[0m expected an indented block\n"
     ]
    }
   ],
   "source": [
    "# Without following the indentation \n",
    "\n",
    "if(a>b):\n",
    "max = a\n",
    "else:\n",
    "max = b\n",
    "\n",
    "print(\"Max number:\",max)"
   ]
  },
  {
   "cell_type": "code",
   "execution_count": 10,
   "id": "f150a9bb",
   "metadata": {},
   "outputs": [
    {
     "name": "stdout",
     "output_type": "stream",
     "text": [
      "10\n"
     ]
    }
   ],
   "source": [
    "# Else block is optional\n",
    "a = 10\n",
    "b = 15\n",
    "\n",
    "if(a<b):\n",
    "    print(a)"
   ]
  },
  {
   "cell_type": "code",
   "execution_count": 17,
   "id": "527bc124",
   "metadata": {},
   "outputs": [
    {
     "name": "stdout",
     "output_type": "stream",
     "text": [
      "The Max number is: 3546666666666666\n"
     ]
    }
   ],
   "source": [
    "# Problem 2: Find the largest number (if...elif..else)\n",
    "\n",
    "a = 10\n",
    "b = 20\n",
    "c = 35\n",
    "\n",
    "if(a>b):\n",
    "    max = a\n",
    "elif(b>c):\n",
    "    max = b\n",
    "else:\n",
    "    max = c\n",
    "\n",
    "print(\"The Max number is:\",max)"
   ]
  },
  {
   "cell_type": "code",
   "execution_count": 11,
   "id": "22f55bf3",
   "metadata": {},
   "outputs": [
    {
     "data": {
      "text/plain": [
       "False"
      ]
     },
     "execution_count": 11,
     "metadata": {},
     "output_type": "execute_result"
    }
   ],
   "source": [
    "10>20"
   ]
  },
  {
   "cell_type": "code",
   "execution_count": 12,
   "id": "18780912",
   "metadata": {},
   "outputs": [
    {
     "data": {
      "text/plain": [
       "False"
      ]
     },
     "execution_count": 12,
     "metadata": {},
     "output_type": "execute_result"
    }
   ],
   "source": [
    "20>35"
   ]
  },
  {
   "cell_type": "code",
   "execution_count": 20,
   "id": "b7690aa8",
   "metadata": {},
   "outputs": [
    {
     "name": "stdout",
     "output_type": "stream",
     "text": [
      "Min number is: 2\n"
     ]
    }
   ],
   "source": [
    "# Problem 2: Find the smallest number (if...elif..else)\n",
    "\n",
    "a = 56\n",
    "b = 6\n",
    "c = 2\n",
    "\n",
    "if(a<b):\n",
    "    min = a\n",
    "elif(b<c):\n",
    "    min = b\n",
    "else:\n",
    "    min = c\n",
    "\n",
    "print(\"Min number is:\",min)"
   ]
  },
  {
   "cell_type": "code",
   "execution_count": 1,
   "id": "a6224b20",
   "metadata": {},
   "outputs": [
    {
     "name": "stdout",
     "output_type": "stream",
     "text": [
      "a and b are equal\n"
     ]
    }
   ],
   "source": [
    "a = 33\n",
    "b = 33\n",
    "if b > a:\n",
    "  print(\"b is greater than a\")\n",
    "elif a == b:\n",
    "  print(\"a and b are equal\")"
   ]
  },
  {
   "cell_type": "code",
   "execution_count": 3,
   "id": "b145c3bd",
   "metadata": {},
   "outputs": [
    {
     "name": "stdout",
     "output_type": "stream",
     "text": [
      "a is greater than b\n"
     ]
    }
   ],
   "source": [
    "a = 29\n",
    "b = 13\n",
    "if a > b:print(\"a is greater than b\") #Shorthand IF or Advanced coding"
   ]
  },
  {
   "cell_type": "code",
   "execution_count": 4,
   "id": "f62c5394",
   "metadata": {},
   "outputs": [
    {
     "name": "stdout",
     "output_type": "stream",
     "text": [
      "At least one of the conditions is True\n"
     ]
    }
   ],
   "source": [
    "a = 200\n",
    "b = 33\n",
    "c = 500\n",
    "if a > b or a > c:\n",
    "    print(\"At least one of the conditions is True\")"
   ]
  },
  {
   "cell_type": "code",
   "execution_count": 9,
   "id": "a31760bd",
   "metadata": {},
   "outputs": [],
   "source": [
    "a = 10\n",
    "b = 34\n",
    "if a>b:\n",
    "    pass\n",
    "else:\n",
    "    print(\"Condition Failed\")"
   ]
  },
  {
   "cell_type": "code",
   "execution_count": 10,
   "id": "0854b8c2",
   "metadata": {},
   "outputs": [],
   "source": [
    "# Write a code to find out maximum number from the given input of (3 values)"
   ]
  },
  {
   "cell_type": "code",
   "execution_count": 11,
   "id": "989a0352",
   "metadata": {},
   "outputs": [],
   "source": [
    "# we use input keyword from python.\n",
    "# Typecasting ?? converting from one type to another type ( int to float, float to int)"
   ]
  },
  {
   "cell_type": "code",
   "execution_count": 25,
   "id": "f0b8eb48",
   "metadata": {},
   "outputs": [
    {
     "name": "stdout",
     "output_type": "stream",
     "text": [
      "Enter the value of a:4.6644\n"
     ]
    }
   ],
   "source": [
    "a = input(\"Enter the value of a:\")"
   ]
  },
  {
   "cell_type": "code",
   "execution_count": 26,
   "id": "e589509a",
   "metadata": {},
   "outputs": [
    {
     "data": {
      "text/plain": [
       "'4.6644'"
      ]
     },
     "execution_count": 26,
     "metadata": {},
     "output_type": "execute_result"
    }
   ],
   "source": [
    "a"
   ]
  },
  {
   "cell_type": "code",
   "execution_count": 35,
   "id": "3f85b687",
   "metadata": {},
   "outputs": [
    {
     "name": "stdout",
     "output_type": "stream",
     "text": [
      "Enter the value of a:5\n"
     ]
    }
   ],
   "source": [
    "a = int(input(\"Enter the value of a:\"))"
   ]
  },
  {
   "cell_type": "code",
   "execution_count": 36,
   "id": "ae88d159",
   "metadata": {},
   "outputs": [
    {
     "data": {
      "text/plain": [
       "5"
      ]
     },
     "execution_count": 36,
     "metadata": {},
     "output_type": "execute_result"
    }
   ],
   "source": [
    "a"
   ]
  },
  {
   "cell_type": "code",
   "execution_count": 37,
   "id": "c281c38c",
   "metadata": {},
   "outputs": [
    {
     "name": "stdout",
     "output_type": "stream",
     "text": [
      "Enter the value of b:19\n"
     ]
    }
   ],
   "source": [
    "b = int(input(\"Enter the value of b:\"))"
   ]
  },
  {
   "cell_type": "code",
   "execution_count": 39,
   "id": "7b4e89c3",
   "metadata": {},
   "outputs": [
    {
     "data": {
      "text/plain": [
       "5"
      ]
     },
     "execution_count": 39,
     "metadata": {},
     "output_type": "execute_result"
    }
   ],
   "source": [
    "a"
   ]
  },
  {
   "cell_type": "code",
   "execution_count": 40,
   "id": "5d2bc14c",
   "metadata": {},
   "outputs": [
    {
     "data": {
      "text/plain": [
       "19"
      ]
     },
     "execution_count": 40,
     "metadata": {},
     "output_type": "execute_result"
    }
   ],
   "source": [
    "b"
   ]
  },
  {
   "cell_type": "code",
   "execution_count": 43,
   "id": "e6e06755",
   "metadata": {},
   "outputs": [
    {
     "name": "stdout",
     "output_type": "stream",
     "text": [
      "Enter the value of a:33.33\n",
      "Enter the value of b:44.323\n",
      "Enter the value of c:455.33\n",
      "Maximum value is: 455.33\n"
     ]
    }
   ],
   "source": [
    "# Reusable code\n",
    "# Finding maximum from number from the given 3 values\n",
    "\n",
    "a = input(\"Enter the value of a:\")\n",
    "b = input(\"Enter the value of b:\")\n",
    "c = input(\"Enter the value of c:\")\n",
    "\n",
    "if(a>b):\n",
    "    max = a\n",
    "elif(b>c):\n",
    "    max = b\n",
    "else:\n",
    "    max = c\n",
    "    \n",
    "print(\"Maximum value is:\",max)"
   ]
  },
  {
   "cell_type": "code",
   "execution_count": 44,
   "id": "8fd75b02",
   "metadata": {},
   "outputs": [],
   "source": [
    "a = \"49F\""
   ]
  },
  {
   "cell_type": "code",
   "execution_count": 45,
   "id": "1b6f704f",
   "metadata": {},
   "outputs": [
    {
     "data": {
      "text/plain": [
       "'4'"
      ]
     },
     "execution_count": 45,
     "metadata": {},
     "output_type": "execute_result"
    }
   ],
   "source": [
    "a[0]"
   ]
  },
  {
   "cell_type": "code",
   "execution_count": 46,
   "id": "8acfe349",
   "metadata": {},
   "outputs": [
    {
     "data": {
      "text/plain": [
       "'9'"
      ]
     },
     "execution_count": 46,
     "metadata": {},
     "output_type": "execute_result"
    }
   ],
   "source": [
    "a[1]"
   ]
  },
  {
   "cell_type": "code",
   "execution_count": 47,
   "id": "0ef158bb",
   "metadata": {},
   "outputs": [
    {
     "data": {
      "text/plain": [
       "'F'"
      ]
     },
     "execution_count": 47,
     "metadata": {},
     "output_type": "execute_result"
    }
   ],
   "source": [
    "a[-1]"
   ]
  },
  {
   "cell_type": "code",
   "execution_count": 52,
   "id": "1f889a7e",
   "metadata": {},
   "outputs": [
    {
     "data": {
      "text/plain": [
       "'4'"
      ]
     },
     "execution_count": 52,
     "metadata": {},
     "output_type": "execute_result"
    }
   ],
   "source": [
    "a[0:1]"
   ]
  },
  {
   "cell_type": "code",
   "execution_count": null,
   "id": "93d81ddb",
   "metadata": {},
   "outputs": [],
   "source": []
  }
 ],
 "metadata": {
  "kernelspec": {
   "display_name": "Python 3 (ipykernel)",
   "language": "python",
   "name": "python3"
  },
  "language_info": {
   "codemirror_mode": {
    "name": "ipython",
    "version": 3
   },
   "file_extension": ".py",
   "mimetype": "text/x-python",
   "name": "python",
   "nbconvert_exporter": "python",
   "pygments_lexer": "ipython3",
   "version": "3.9.7"
  }
 },
 "nbformat": 4,
 "nbformat_minor": 5
}
