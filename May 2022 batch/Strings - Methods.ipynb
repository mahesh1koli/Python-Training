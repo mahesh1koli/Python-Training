{
 "cells": [
  {
   "cell_type": "markdown",
   "id": "eb18661c",
   "metadata": {},
   "source": [
    "### String - Methods"
   ]
  },
  {
   "cell_type": "code",
   "execution_count": 1,
   "id": "7ddaa811",
   "metadata": {},
   "outputs": [],
   "source": [
    "txt = \"this is python training class\""
   ]
  },
  {
   "cell_type": "code",
   "execution_count": 2,
   "id": "aef88a85",
   "metadata": {},
   "outputs": [
    {
     "name": "stdout",
     "output_type": "stream",
     "text": [
      "this is python training class\n"
     ]
    }
   ],
   "source": [
    "print(txt)"
   ]
  },
  {
   "cell_type": "code",
   "execution_count": 3,
   "id": "8e44d02c",
   "metadata": {},
   "outputs": [
    {
     "data": {
      "text/plain": [
       "'THIS IS PYTHON TRAINING CLASS'"
      ]
     },
     "execution_count": 3,
     "metadata": {},
     "output_type": "execute_result"
    }
   ],
   "source": [
    "txt.upper()"
   ]
  },
  {
   "cell_type": "code",
   "execution_count": 4,
   "id": "04a25e33",
   "metadata": {},
   "outputs": [
    {
     "data": {
      "text/plain": [
       "'This Is Python Training Class'"
      ]
     },
     "execution_count": 4,
     "metadata": {},
     "output_type": "execute_result"
    }
   ],
   "source": [
    "txt.title()"
   ]
  },
  {
   "cell_type": "code",
   "execution_count": 5,
   "id": "32925914",
   "metadata": {},
   "outputs": [
    {
     "data": {
      "text/plain": [
       "'This is python training class'"
      ]
     },
     "execution_count": 5,
     "metadata": {},
     "output_type": "execute_result"
    }
   ],
   "source": [
    "txt.capitalize()"
   ]
  },
  {
   "cell_type": "code",
   "execution_count": 8,
   "id": "05c80e28",
   "metadata": {},
   "outputs": [],
   "source": [
    "var = \"Ramkrishna Rathan and Raju are the participants of python class\""
   ]
  },
  {
   "cell_type": "code",
   "execution_count": 9,
   "id": "aafe3c19",
   "metadata": {},
   "outputs": [
    {
     "data": {
      "text/plain": [
       "'ramkrishna rathan and raju are the participants of python class'"
      ]
     },
     "execution_count": 9,
     "metadata": {},
     "output_type": "execute_result"
    }
   ],
   "source": [
    "var.casefold()"
   ]
  },
  {
   "cell_type": "code",
   "execution_count": 10,
   "id": "717a95dd",
   "metadata": {},
   "outputs": [
    {
     "data": {
      "text/plain": [
       "'ramkrishna rathan and raju are the participants of python class'"
      ]
     },
     "execution_count": 10,
     "metadata": {},
     "output_type": "execute_result"
    }
   ],
   "source": [
    "var.lower()"
   ]
  },
  {
   "cell_type": "code",
   "execution_count": 11,
   "id": "04fac3b0",
   "metadata": {},
   "outputs": [
    {
     "data": {
      "text/plain": [
       "['Ramkrishna',\n",
       " 'Rathan',\n",
       " 'and',\n",
       " 'Raju',\n",
       " 'are',\n",
       " 'the',\n",
       " 'participants',\n",
       " 'of',\n",
       " 'python',\n",
       " 'class']"
      ]
     },
     "execution_count": 11,
     "metadata": {},
     "output_type": "execute_result"
    }
   ],
   "source": [
    "var.split()"
   ]
  },
  {
   "cell_type": "code",
   "execution_count": 12,
   "id": "d1abebab",
   "metadata": {},
   "outputs": [
    {
     "data": {
      "text/plain": [
       "['this', 'is', 'python', 'training', 'class']"
      ]
     },
     "execution_count": 12,
     "metadata": {},
     "output_type": "execute_result"
    }
   ],
   "source": [
    "txt.split()"
   ]
  },
  {
   "cell_type": "code",
   "execution_count": 13,
   "id": "9e4bcd09",
   "metadata": {},
   "outputs": [],
   "source": [
    "a = txt.split()"
   ]
  },
  {
   "cell_type": "code",
   "execution_count": 14,
   "id": "fafd50ab",
   "metadata": {},
   "outputs": [
    {
     "data": {
      "text/plain": [
       "['this', 'is', 'python', 'training', 'class']"
      ]
     },
     "execution_count": 14,
     "metadata": {},
     "output_type": "execute_result"
    }
   ],
   "source": [
    "a"
   ]
  },
  {
   "cell_type": "code",
   "execution_count": 20,
   "id": "d2e1a625",
   "metadata": {},
   "outputs": [
    {
     "data": {
      "text/plain": [
       "'this is python training class'"
      ]
     },
     "execution_count": 20,
     "metadata": {},
     "output_type": "execute_result"
    }
   ],
   "source": [
    "txt"
   ]
  },
  {
   "cell_type": "code",
   "execution_count": 25,
   "id": "358a4bbc",
   "metadata": {},
   "outputs": [
    {
     "name": "stdout",
     "output_type": "stream",
     "text": [
      "Help on built-in function join:\n",
      "\n",
      "join(iterable, /) method of builtins.str instance\n",
      "    Concatenate any number of strings.\n",
      "    \n",
      "    The string whose method is called is inserted in between each given string.\n",
      "    The result is returned as a new string.\n",
      "    \n",
      "    Example: '.'.join(['ab', 'pq', 'rs']) -> 'ab.pq.rs'\n",
      "\n"
     ]
    }
   ],
   "source": [
    "help(txt.join)"
   ]
  },
  {
   "cell_type": "code",
   "execution_count": 26,
   "id": "6b22125e",
   "metadata": {},
   "outputs": [
    {
     "data": {
      "text/plain": [
       "'this-is-python'"
      ]
     },
     "execution_count": 26,
     "metadata": {},
     "output_type": "execute_result"
    }
   ],
   "source": [
    "'-'.join(['this', 'is', 'python'])"
   ]
  },
  {
   "cell_type": "code",
   "execution_count": 27,
   "id": "02b8b802",
   "metadata": {},
   "outputs": [
    {
     "data": {
      "text/plain": [
       "'hello*rathan*raju'"
      ]
     },
     "execution_count": 27,
     "metadata": {},
     "output_type": "execute_result"
    }
   ],
   "source": [
    "'*'.join(['hello', 'rathan', 'raju'])"
   ]
  },
  {
   "cell_type": "code",
   "execution_count": 31,
   "id": "514a89f6",
   "metadata": {},
   "outputs": [
    {
     "name": "stdout",
     "output_type": "stream",
     "text": [
      "Help on built-in function center:\n",
      "\n",
      "center(width, fillchar=' ', /) method of builtins.str instance\n",
      "    Return a centered string of length width.\n",
      "    \n",
      "    Padding is done using the specified fill character (default is a space).\n",
      "\n"
     ]
    }
   ],
   "source": [
    "help(txt.center)"
   ]
  },
  {
   "cell_type": "code",
   "execution_count": 32,
   "id": "a36683f8",
   "metadata": {},
   "outputs": [
    {
     "data": {
      "text/plain": [
       "'                    this is python training class                     '"
      ]
     },
     "execution_count": 32,
     "metadata": {},
     "output_type": "execute_result"
    }
   ],
   "source": [
    "txt.center(70)"
   ]
  },
  {
   "cell_type": "code",
   "execution_count": 34,
   "id": "6d819dfe",
   "metadata": {},
   "outputs": [
    {
     "data": {
      "text/plain": [
       "'this is python training class'"
      ]
     },
     "execution_count": 34,
     "metadata": {},
     "output_type": "execute_result"
    }
   ],
   "source": [
    "txt"
   ]
  },
  {
   "cell_type": "code",
   "execution_count": 36,
   "id": "a5822bc6",
   "metadata": {},
   "outputs": [],
   "source": [
    "txt = \"I love apples, apple are my favorite fruit\""
   ]
  },
  {
   "cell_type": "code",
   "execution_count": 37,
   "id": "0c2408b9",
   "metadata": {},
   "outputs": [
    {
     "name": "stdout",
     "output_type": "stream",
     "text": [
      "2\n"
     ]
    }
   ],
   "source": [
    "print(txt.count(\"apple\"))"
   ]
  },
  {
   "cell_type": "code",
   "execution_count": 38,
   "id": "9cf16144",
   "metadata": {},
   "outputs": [
    {
     "name": "stdout",
     "output_type": "stream",
     "text": [
      "1\n"
     ]
    }
   ],
   "source": [
    "print(txt.count(\"my\"))"
   ]
  },
  {
   "cell_type": "code",
   "execution_count": 40,
   "id": "4381fee6",
   "metadata": {},
   "outputs": [
    {
     "data": {
      "text/plain": [
       "7"
      ]
     },
     "execution_count": 40,
     "metadata": {},
     "output_type": "execute_result"
    }
   ],
   "source": [
    "txt.find(\"apples\")"
   ]
  },
  {
   "cell_type": "code",
   "execution_count": 41,
   "id": "755105f2",
   "metadata": {},
   "outputs": [
    {
     "data": {
      "text/plain": [
       "-1"
      ]
     },
     "execution_count": 41,
     "metadata": {},
     "output_type": "execute_result"
    }
   ],
   "source": [
    "txt.find(\"hello\")"
   ]
  },
  {
   "cell_type": "code",
   "execution_count": 42,
   "id": "bd752e6d",
   "metadata": {},
   "outputs": [
    {
     "data": {
      "text/plain": [
       "2"
      ]
     },
     "execution_count": 42,
     "metadata": {},
     "output_type": "execute_result"
    }
   ],
   "source": [
    "txt.index(\"l\")"
   ]
  },
  {
   "cell_type": "code",
   "execution_count": 43,
   "id": "953c6a2e",
   "metadata": {},
   "outputs": [
    {
     "data": {
      "text/plain": [
       "28"
      ]
     },
     "execution_count": 43,
     "metadata": {},
     "output_type": "execute_result"
    }
   ],
   "source": [
    "txt.index(\"f\")"
   ]
  },
  {
   "cell_type": "code",
   "execution_count": 44,
   "id": "42709832",
   "metadata": {},
   "outputs": [
    {
     "data": {
      "text/plain": [
       "7"
      ]
     },
     "execution_count": 44,
     "metadata": {},
     "output_type": "execute_result"
    }
   ],
   "source": [
    "txt.index(\"apple\")"
   ]
  },
  {
   "cell_type": "code",
   "execution_count": 45,
   "id": "49084917",
   "metadata": {},
   "outputs": [
    {
     "data": {
      "text/plain": [
       "False"
      ]
     },
     "execution_count": 45,
     "metadata": {},
     "output_type": "execute_result"
    }
   ],
   "source": [
    "txt.isalpha()"
   ]
  },
  {
   "cell_type": "code",
   "execution_count": 46,
   "id": "4dac01d3",
   "metadata": {},
   "outputs": [],
   "source": [
    "y = \"apple are my favorite fruit\""
   ]
  },
  {
   "cell_type": "code",
   "execution_count": 47,
   "id": "0780a4aa",
   "metadata": {},
   "outputs": [
    {
     "data": {
      "text/plain": [
       "False"
      ]
     },
     "execution_count": 47,
     "metadata": {},
     "output_type": "execute_result"
    }
   ],
   "source": [
    "y.isalpha()"
   ]
  },
  {
   "cell_type": "code",
   "execution_count": 48,
   "id": "b1524804",
   "metadata": {},
   "outputs": [],
   "source": [
    "y = \"apple\""
   ]
  },
  {
   "cell_type": "code",
   "execution_count": 49,
   "id": "c50b4f8c",
   "metadata": {},
   "outputs": [
    {
     "data": {
      "text/plain": [
       "True"
      ]
     },
     "execution_count": 49,
     "metadata": {},
     "output_type": "execute_result"
    }
   ],
   "source": [
    "y.isalpha()"
   ]
  },
  {
   "cell_type": "code",
   "execution_count": 50,
   "id": "d22cc80d",
   "metadata": {},
   "outputs": [],
   "source": [
    "y = \"apple1\""
   ]
  },
  {
   "cell_type": "code",
   "execution_count": 51,
   "id": "98fcae7a",
   "metadata": {},
   "outputs": [
    {
     "data": {
      "text/plain": [
       "False"
      ]
     },
     "execution_count": 51,
     "metadata": {},
     "output_type": "execute_result"
    }
   ],
   "source": [
    "y.isalpha()"
   ]
  },
  {
   "cell_type": "code",
   "execution_count": 52,
   "id": "7fc31a25",
   "metadata": {},
   "outputs": [
    {
     "data": {
      "text/plain": [
       "True"
      ]
     },
     "execution_count": 52,
     "metadata": {},
     "output_type": "execute_result"
    }
   ],
   "source": [
    "y.isalnum()"
   ]
  },
  {
   "cell_type": "code",
   "execution_count": 53,
   "id": "ac127613",
   "metadata": {},
   "outputs": [],
   "source": [
    "y = \"apple are my favorite fruit\""
   ]
  },
  {
   "cell_type": "code",
   "execution_count": 54,
   "id": "cc57df64",
   "metadata": {},
   "outputs": [
    {
     "data": {
      "text/plain": [
       "False"
      ]
     },
     "execution_count": 54,
     "metadata": {},
     "output_type": "execute_result"
    }
   ],
   "source": [
    "y.isalnum()"
   ]
  },
  {
   "cell_type": "code",
   "execution_count": 55,
   "id": "d7e910c0",
   "metadata": {},
   "outputs": [
    {
     "data": {
      "text/plain": [
       "False"
      ]
     },
     "execution_count": 55,
     "metadata": {},
     "output_type": "execute_result"
    }
   ],
   "source": [
    "y.isspace()"
   ]
  },
  {
   "cell_type": "code",
   "execution_count": 56,
   "id": "626be068",
   "metadata": {},
   "outputs": [
    {
     "data": {
      "text/plain": [
       "False"
      ]
     },
     "execution_count": 56,
     "metadata": {},
     "output_type": "execute_result"
    }
   ],
   "source": [
    "y.isdigit()"
   ]
  },
  {
   "cell_type": "code",
   "execution_count": 57,
   "id": "0ef926c8",
   "metadata": {},
   "outputs": [
    {
     "data": {
      "text/plain": [
       "True"
      ]
     },
     "execution_count": 57,
     "metadata": {},
     "output_type": "execute_result"
    }
   ],
   "source": [
    "y.isprintable()"
   ]
  },
  {
   "cell_type": "code",
   "execution_count": 58,
   "id": "86a09ce2",
   "metadata": {},
   "outputs": [
    {
     "data": {
      "text/plain": [
       "'apple are my favorite fruit'"
      ]
     },
     "execution_count": 58,
     "metadata": {},
     "output_type": "execute_result"
    }
   ],
   "source": [
    "y"
   ]
  },
  {
   "cell_type": "code",
   "execution_count": 59,
   "id": "0eea2f58",
   "metadata": {},
   "outputs": [
    {
     "data": {
      "text/plain": [
       "False"
      ]
     },
     "execution_count": 59,
     "metadata": {},
     "output_type": "execute_result"
    }
   ],
   "source": [
    "y.endswith(\"my\")"
   ]
  },
  {
   "cell_type": "code",
   "execution_count": 60,
   "id": "14cbff4e",
   "metadata": {},
   "outputs": [
    {
     "data": {
      "text/plain": [
       "True"
      ]
     },
     "execution_count": 60,
     "metadata": {},
     "output_type": "execute_result"
    }
   ],
   "source": [
    "y.endswith(\"fruit\")"
   ]
  },
  {
   "cell_type": "code",
   "execution_count": 61,
   "id": "4346ef85",
   "metadata": {},
   "outputs": [
    {
     "data": {
      "text/plain": [
       "False"
      ]
     },
     "execution_count": 61,
     "metadata": {},
     "output_type": "execute_result"
    }
   ],
   "source": [
    "y.startswith(\"are\")"
   ]
  },
  {
   "cell_type": "code",
   "execution_count": 62,
   "id": "497112df",
   "metadata": {},
   "outputs": [
    {
     "data": {
      "text/plain": [
       "True"
      ]
     },
     "execution_count": 62,
     "metadata": {},
     "output_type": "execute_result"
    }
   ],
   "source": [
    "y.startswith(\"apple\")"
   ]
  },
  {
   "cell_type": "code",
   "execution_count": 63,
   "id": "09f6b09e",
   "metadata": {},
   "outputs": [],
   "source": [
    "#/var/log/messages\n",
    "\n",
    "# ERROR:\n",
    "# WARNING:\n",
    "# INFO:"
   ]
  },
  {
   "cell_type": "code",
   "execution_count": 64,
   "id": "9798d9ad",
   "metadata": {},
   "outputs": [],
   "source": [
    "log = (\"ERROR: system got error at reboot\")"
   ]
  },
  {
   "cell_type": "code",
   "execution_count": 65,
   "id": "e56446a7",
   "metadata": {},
   "outputs": [
    {
     "data": {
      "text/plain": [
       "True"
      ]
     },
     "execution_count": 65,
     "metadata": {},
     "output_type": "execute_result"
    }
   ],
   "source": [
    "log.startswith(\"ERROR\")"
   ]
  },
  {
   "cell_type": "code",
   "execution_count": 67,
   "id": "1da3dea6",
   "metadata": {},
   "outputs": [
    {
     "name": "stdout",
     "output_type": "stream",
     "text": [
      "This is not error\n"
     ]
    }
   ],
   "source": [
    "if(log.startswith(\"WARNING\")):\n",
    "    print(\"This is error message\")\n",
    "else:\n",
    "    print(\"This is not error\")"
   ]
  },
  {
   "cell_type": "code",
   "execution_count": 68,
   "id": "c6761c2d",
   "metadata": {},
   "outputs": [],
   "source": [
    "v = \"%%%%%%%%%%%%HELLO%%%%%%%%%%%%\""
   ]
  },
  {
   "cell_type": "code",
   "execution_count": 69,
   "id": "5d747bd3",
   "metadata": {},
   "outputs": [
    {
     "data": {
      "text/plain": [
       "'HELLO'"
      ]
     },
     "execution_count": 69,
     "metadata": {},
     "output_type": "execute_result"
    }
   ],
   "source": [
    "v.strip(\"%\")"
   ]
  },
  {
   "cell_type": "code",
   "execution_count": 70,
   "id": "1fd586fd",
   "metadata": {},
   "outputs": [
    {
     "data": {
      "text/plain": [
       "'HELLO%%%%%%%%%%%%'"
      ]
     },
     "execution_count": 70,
     "metadata": {},
     "output_type": "execute_result"
    }
   ],
   "source": [
    "v.lstrip('%')"
   ]
  },
  {
   "cell_type": "code",
   "execution_count": 71,
   "id": "cc508f85",
   "metadata": {},
   "outputs": [
    {
     "data": {
      "text/plain": [
       "'%%%%%%%%%%%%HELLO'"
      ]
     },
     "execution_count": 71,
     "metadata": {},
     "output_type": "execute_result"
    }
   ],
   "source": [
    "v.rstrip(\"%\")"
   ]
  },
  {
   "cell_type": "code",
   "execution_count": 78,
   "id": "7f0687a2",
   "metadata": {},
   "outputs": [],
   "source": [
    "new = \"%%%%%%%%%%%%HELLO%%%%%%%HOW%%%%%ARE\""
   ]
  },
  {
   "cell_type": "code",
   "execution_count": 81,
   "id": "f568d0fa",
   "metadata": {},
   "outputs": [
    {
     "data": {
      "text/plain": [
       "'HELLO%%%%%%%HOW%%%%%ARE'"
      ]
     },
     "execution_count": 81,
     "metadata": {},
     "output_type": "execute_result"
    }
   ],
   "source": [
    "new.strip('%')"
   ]
  },
  {
   "cell_type": "code",
   "execution_count": 74,
   "id": "1ca1961f",
   "metadata": {},
   "outputs": [
    {
     "data": {
      "text/plain": [
       "'%%%%%%%%%%%%HELLO%%%%%%%HOW%%%%%ARE'"
      ]
     },
     "execution_count": 74,
     "metadata": {},
     "output_type": "execute_result"
    }
   ],
   "source": [
    "new.rstrip(\"%\")"
   ]
  },
  {
   "cell_type": "code",
   "execution_count": 76,
   "id": "c5dcdc1b",
   "metadata": {},
   "outputs": [
    {
     "name": "stdout",
     "output_type": "stream",
     "text": [
      "of all fruits banana is my favorite\n"
     ]
    }
   ],
   "source": [
    "txt = \"     banana     \"\n",
    "\n",
    "x = txt.strip()\n",
    "\n",
    "print(\"of all fruits\", x, \"is my favorite\")"
   ]
  },
  {
   "cell_type": "code",
   "execution_count": 84,
   "id": "40d60770",
   "metadata": {},
   "outputs": [],
   "source": [
    "new1 = new.strip('%')"
   ]
  },
  {
   "cell_type": "code",
   "execution_count": 85,
   "id": "324a89e0",
   "metadata": {},
   "outputs": [
    {
     "data": {
      "text/plain": [
       "'HELLO%%%%%%%HOW%%%%%ARE'"
      ]
     },
     "execution_count": 85,
     "metadata": {},
     "output_type": "execute_result"
    }
   ],
   "source": [
    "new1"
   ]
  },
  {
   "cell_type": "code",
   "execution_count": 83,
   "id": "5c4e7305",
   "metadata": {},
   "outputs": [
    {
     "data": {
      "text/plain": [
       "'HELLO%%%%%%%HOW%%%%%ARE'"
      ]
     },
     "execution_count": 83,
     "metadata": {},
     "output_type": "execute_result"
    }
   ],
   "source": [
    "new1.strip(\"%\")"
   ]
  },
  {
   "cell_type": "code",
   "execution_count": 87,
   "id": "b5f78ce3",
   "metadata": {},
   "outputs": [
    {
     "data": {
      "text/plain": [
       "'HELLO%%%%%%%HOW%%%%%ARE'"
      ]
     },
     "execution_count": 87,
     "metadata": {},
     "output_type": "execute_result"
    }
   ],
   "source": [
    "new1.rstrip(\"%\")"
   ]
  },
  {
   "cell_type": "code",
   "execution_count": 88,
   "id": "b5b4ab0b",
   "metadata": {},
   "outputs": [
    {
     "data": {
      "text/plain": [
       "'HELLO%%%%%%%HOW%%%%%ARE'"
      ]
     },
     "execution_count": 88,
     "metadata": {},
     "output_type": "execute_result"
    }
   ],
   "source": [
    "new1.lstrip(\"%\")"
   ]
  },
  {
   "cell_type": "code",
   "execution_count": 92,
   "id": "8548cfe3",
   "metadata": {},
   "outputs": [],
   "source": [
    "a = new1.split(\"%\")"
   ]
  },
  {
   "cell_type": "code",
   "execution_count": 93,
   "id": "c6b922c0",
   "metadata": {},
   "outputs": [
    {
     "data": {
      "text/plain": [
       "['HELLO', '', '', '', '', '', '', 'HOW', '', '', '', '', 'ARE']"
      ]
     },
     "execution_count": 93,
     "metadata": {},
     "output_type": "execute_result"
    }
   ],
   "source": [
    "a"
   ]
  },
  {
   "cell_type": "code",
   "execution_count": 94,
   "id": "beb9ad14",
   "metadata": {},
   "outputs": [
    {
     "data": {
      "text/plain": [
       "0"
      ]
     },
     "execution_count": 94,
     "metadata": {},
     "output_type": "execute_result"
    }
   ],
   "source": [
    "a.index(\"HELLO\")"
   ]
  },
  {
   "cell_type": "code",
   "execution_count": 95,
   "id": "8673033c",
   "metadata": {},
   "outputs": [
    {
     "data": {
      "text/plain": [
       "7"
      ]
     },
     "execution_count": 95,
     "metadata": {},
     "output_type": "execute_result"
    }
   ],
   "source": [
    "a.index(\"HOW\")"
   ]
  },
  {
   "cell_type": "code",
   "execution_count": 96,
   "id": "6fd62fae",
   "metadata": {},
   "outputs": [
    {
     "data": {
      "text/plain": [
       "12"
      ]
     },
     "execution_count": 96,
     "metadata": {},
     "output_type": "execute_result"
    }
   ],
   "source": [
    "a.index(\"ARE\")"
   ]
  },
  {
   "cell_type": "code",
   "execution_count": 108,
   "id": "eeb66f4a",
   "metadata": {},
   "outputs": [
    {
     "data": {
      "text/plain": [
       "'HELLO.......HOW.....ARE'"
      ]
     },
     "execution_count": 108,
     "metadata": {},
     "output_type": "execute_result"
    }
   ],
   "source": [
    "\".\".join(a)"
   ]
  },
  {
   "cell_type": "code",
   "execution_count": 109,
   "id": "28c85fbc",
   "metadata": {},
   "outputs": [
    {
     "data": {
      "text/plain": [
       "['HELLO', '', '', '', '', '', '', 'HOW', '', '', '', '', 'ARE']"
      ]
     },
     "execution_count": 109,
     "metadata": {},
     "output_type": "execute_result"
    }
   ],
   "source": [
    "a"
   ]
  },
  {
   "cell_type": "code",
   "execution_count": 118,
   "id": "007e57f9",
   "metadata": {},
   "outputs": [
    {
     "data": {
      "text/plain": [
       "list"
      ]
     },
     "execution_count": 118,
     "metadata": {},
     "output_type": "execute_result"
    }
   ],
   "source": [
    "type(a)"
   ]
  },
  {
   "cell_type": "code",
   "execution_count": 122,
   "id": "079f2f60",
   "metadata": {},
   "outputs": [
    {
     "data": {
      "text/plain": [
       "('HELLO', 'HOW', 'ARE')"
      ]
     },
     "execution_count": 122,
     "metadata": {},
     "output_type": "execute_result"
    }
   ],
   "source": [
    "a[0],a[7],a[12]"
   ]
  },
  {
   "cell_type": "code",
   "execution_count": 126,
   "id": "1168a32e",
   "metadata": {},
   "outputs": [],
   "source": [
    "c = a[0],a[7],a[12]"
   ]
  },
  {
   "cell_type": "code",
   "execution_count": 127,
   "id": "dad94d38",
   "metadata": {},
   "outputs": [
    {
     "data": {
      "text/plain": [
       "'HELLO HOW ARE'"
      ]
     },
     "execution_count": 127,
     "metadata": {},
     "output_type": "execute_result"
    }
   ],
   "source": [
    "\" \".join(c)"
   ]
  },
  {
   "cell_type": "code",
   "execution_count": null,
   "id": "52a54154",
   "metadata": {},
   "outputs": [],
   "source": [
    "# Another way of doing join"
   ]
  },
  {
   "cell_type": "code",
   "execution_count": 129,
   "id": "8f432527",
   "metadata": {},
   "outputs": [
    {
     "data": {
      "text/plain": [
       "'HELLO HOW ARE'"
      ]
     },
     "execution_count": 129,
     "metadata": {},
     "output_type": "execute_result"
    }
   ],
   "source": [
    "\" \".join([a[0],a[7],a[12]])"
   ]
  },
  {
   "cell_type": "code",
   "execution_count": null,
   "id": "eadc6851",
   "metadata": {},
   "outputs": [],
   "source": []
  }
 ],
 "metadata": {
  "kernelspec": {
   "display_name": "Python 3 (ipykernel)",
   "language": "python",
   "name": "python3"
  },
  "language_info": {
   "codemirror_mode": {
    "name": "ipython",
    "version": 3
   },
   "file_extension": ".py",
   "mimetype": "text/x-python",
   "name": "python",
   "nbconvert_exporter": "python",
   "pygments_lexer": "ipython3",
   "version": "3.9.7"
  }
 },
 "nbformat": 4,
 "nbformat_minor": 5
}
