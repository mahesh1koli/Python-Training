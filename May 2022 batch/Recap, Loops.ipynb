{
 "cells": [
  {
   "cell_type": "code",
   "execution_count": 1,
   "id": "e9e687ab",
   "metadata": {},
   "outputs": [],
   "source": [
    "#Divisions"
   ]
  },
  {
   "cell_type": "code",
   "execution_count": 2,
   "id": "9fd4c7f0",
   "metadata": {},
   "outputs": [
    {
     "data": {
      "text/plain": [
       "1.5"
      ]
     },
     "execution_count": 2,
     "metadata": {},
     "output_type": "execute_result"
    }
   ],
   "source": [
    "3/2"
   ]
  },
  {
   "cell_type": "code",
   "execution_count": 3,
   "id": "8b5e1aaf",
   "metadata": {},
   "outputs": [
    {
     "data": {
      "text/plain": [
       "1"
      ]
     },
     "execution_count": 3,
     "metadata": {},
     "output_type": "execute_result"
    }
   ],
   "source": [
    "3//2"
   ]
  },
  {
   "cell_type": "code",
   "execution_count": 5,
   "id": "91416ace",
   "metadata": {},
   "outputs": [
    {
     "data": {
      "text/plain": [
       "1.6666666666666667"
      ]
     },
     "execution_count": 5,
     "metadata": {},
     "output_type": "execute_result"
    }
   ],
   "source": [
    "5/3"
   ]
  },
  {
   "cell_type": "code",
   "execution_count": 6,
   "id": "6944c62b",
   "metadata": {},
   "outputs": [
    {
     "data": {
      "text/plain": [
       "1"
      ]
     },
     "execution_count": 6,
     "metadata": {},
     "output_type": "execute_result"
    }
   ],
   "source": [
    "5//3   #Rounded of the Quotient values"
   ]
  },
  {
   "cell_type": "code",
   "execution_count": 7,
   "id": "021da3da",
   "metadata": {},
   "outputs": [
    {
     "data": {
      "text/plain": [
       "2"
      ]
     },
     "execution_count": 7,
     "metadata": {},
     "output_type": "execute_result"
    }
   ],
   "source": [
    "5%3    # Reminder output"
   ]
  },
  {
   "cell_type": "code",
   "execution_count": 8,
   "id": "6d15d7a0",
   "metadata": {},
   "outputs": [
    {
     "data": {
      "text/plain": [
       "8"
      ]
     },
     "execution_count": 8,
     "metadata": {},
     "output_type": "execute_result"
    }
   ],
   "source": [
    "2**3  # 2 x 2 x 2 = 8  Gives power of output  x power y"
   ]
  },
  {
   "cell_type": "code",
   "execution_count": 11,
   "id": "30733b92",
   "metadata": {},
   "outputs": [],
   "source": [
    "# Control structures - If condition"
   ]
  },
  {
   "cell_type": "code",
   "execution_count": 12,
   "id": "15ca722a",
   "metadata": {},
   "outputs": [],
   "source": [
    "# Find the largest number from the given numbers"
   ]
  },
  {
   "cell_type": "code",
   "execution_count": 13,
   "id": "87257b57",
   "metadata": {},
   "outputs": [
    {
     "name": "stdout",
     "output_type": "stream",
     "text": [
      "Largest number is 32\n"
     ]
    }
   ],
   "source": [
    "#Example:1\n",
    "# Write a code to find the largest number\n",
    "# Output: Largest number is <>\n",
    "a = 12\n",
    "b = 32\n",
    "\n",
    "if(b>a):\n",
    "    print(\"Largest number is\",b)\n",
    "else:\n",
    "    print(\"Largest number is\",a)"
   ]
  },
  {
   "cell_type": "code",
   "execution_count": 16,
   "id": "09b5b154",
   "metadata": {},
   "outputs": [
    {
     "name": "stdout",
     "output_type": "stream",
     "text": [
      "Enter value of a:56\n",
      "Enter value of b:33\n",
      "Enter value of c:67\n",
      "Largest number is 56\n"
     ]
    }
   ],
   "source": [
    "#Example:2\n",
    "# Write a code to find the largest number from the given input for a and b and c\n",
    "# Output: Largest number is <>\n",
    "\n",
    "a=int(input(\"Enter value of a:\"))\n",
    "b=int(input(\"Enter value of b:\"))\n",
    "c=int(input(\"Enter value of c:\"))\n",
    "\n",
    "if(a>b):\n",
    "    print(\"Largest number is\", a)\n",
    "elif(b>c):\n",
    "    print(\"Largest number is\", b)\n",
    "else:\n",
    "    print(\"Largest number is\", c)\n"
   ]
  },
  {
   "cell_type": "code",
   "execution_count": 22,
   "id": "92c7ddad",
   "metadata": {},
   "outputs": [
    {
     "name": "stdout",
     "output_type": "stream",
     "text": [
      "Enter value of a:45\n",
      "Enter value of b:346\n",
      "Enter value of c:44\n",
      "Largest number is 346\n"
     ]
    }
   ],
   "source": [
    "#Example:2\n",
    "# Write a code to find the largest number from the given input for a and b and c\n",
    "# Output: Largest number is <>\n",
    "\n",
    "a=int(input(\"Enter value of a:\"))\n",
    "b=int(input(\"Enter value of b:\"))\n",
    "c=int(input(\"Enter value of c:\"))\n",
    "\n",
    "if(a>b and a>c):\n",
    "    max = a\n",
    "elif(b>a and b>c):\n",
    "    max = b\n",
    "else:\n",
    "    max = c\n",
    "print(\"Largest number is\",max)"
   ]
  },
  {
   "cell_type": "code",
   "execution_count": 23,
   "id": "698e880d",
   "metadata": {},
   "outputs": [
    {
     "name": "stdout",
     "output_type": "stream",
     "text": [
      "B\n"
     ]
    }
   ],
   "source": [
    "a = 2\n",
    "b = 330\n",
    "print(\"A\") if a > b else print(\"B\")"
   ]
  },
  {
   "cell_type": "code",
   "execution_count": 26,
   "id": "b2d45251",
   "metadata": {},
   "outputs": [
    {
     "name": "stdout",
     "output_type": "stream",
     "text": [
      "B\n"
     ]
    }
   ],
   "source": [
    "a = 330\n",
    "b = 334\n",
    "print(\"A\") if a > b else print(\"=\") if a == b else print(\"B\")"
   ]
  },
  {
   "cell_type": "code",
   "execution_count": 28,
   "id": "b3303db8",
   "metadata": {},
   "outputs": [
    {
     "name": "stdout",
     "output_type": "stream",
     "text": [
      "Above ten,\n",
      "but not above 20.\n"
     ]
    }
   ],
   "source": [
    "x = 15\n",
    "\n",
    "if x > 10:\n",
    "  print(\"Above ten,\")\n",
    "  if x > 20:\n",
    "    print(\"and also above 20!\")\n",
    "  else:\n",
    "    print(\"but not above 20.\")"
   ]
  },
  {
   "cell_type": "code",
   "execution_count": null,
   "id": "72207e4a",
   "metadata": {},
   "outputs": [],
   "source": []
  }
 ],
 "metadata": {
  "kernelspec": {
   "display_name": "Python 3 (ipykernel)",
   "language": "python",
   "name": "python3"
  },
  "language_info": {
   "codemirror_mode": {
    "name": "ipython",
    "version": 3
   },
   "file_extension": ".py",
   "mimetype": "text/x-python",
   "name": "python",
   "nbconvert_exporter": "python",
   "pygments_lexer": "ipython3",
   "version": "3.9.7"
  }
 },
 "nbformat": 4,
 "nbformat_minor": 5
}
