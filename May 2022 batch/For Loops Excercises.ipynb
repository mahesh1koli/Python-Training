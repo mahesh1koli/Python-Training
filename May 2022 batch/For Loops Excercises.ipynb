{
 "cells": [
  {
   "cell_type": "code",
   "execution_count": 2,
   "id": "715a535c",
   "metadata": {},
   "outputs": [
    {
     "name": "stdout",
     "output_type": "stream",
     "text": [
      "6\n",
      "5\n",
      "4\n",
      "3\n",
      "2\n"
     ]
    }
   ],
   "source": [
    "for x in range(6,1,-1):\n",
    "    print(x)"
   ]
  },
  {
   "cell_type": "code",
   "execution_count": 3,
   "id": "3424a1bd",
   "metadata": {},
   "outputs": [],
   "source": [
    "for x in range(1,6,-1):\n",
    "    print(x)"
   ]
  },
  {
   "cell_type": "code",
   "execution_count": 15,
   "id": "01de34ed",
   "metadata": {},
   "outputs": [
    {
     "name": "stdout",
     "output_type": "stream",
     "text": [
      "Enter a word to print in reverse: welcome\n",
      "e m o c l e w "
     ]
    }
   ],
   "source": [
    "a = str(input(\"Enter a word to print in reverse: \"))\n",
    "\n",
    "for char in range(len(a)-1, -1, -1):\n",
    "    print(a[char], end=\" \")"
   ]
  },
  {
   "cell_type": "code",
   "execution_count": 16,
   "id": "65b72a56",
   "metadata": {},
   "outputs": [],
   "source": [
    "# Print even and odd numbers from a given list\n",
    "# ls = [5, 1, 4, 8, 9, 12]\n",
    "# output should be:\n",
    "    \n",
    "# Even Numbers: 4,8,12\n",
    "# Odd Numbers: 1,5,9"
   ]
  },
  {
   "cell_type": "code",
   "execution_count": 17,
   "id": "c8b6c545",
   "metadata": {},
   "outputs": [],
   "source": [
    "ls = [5, 1, 4, 8, 9, 12]"
   ]
  },
  {
   "cell_type": "code",
   "execution_count": 18,
   "id": "e89faaa7",
   "metadata": {},
   "outputs": [
    {
     "data": {
      "text/plain": [
       "[5, 1, 4, 8, 9, 12]"
      ]
     },
     "execution_count": 18,
     "metadata": {},
     "output_type": "execute_result"
    }
   ],
   "source": [
    "ls"
   ]
  },
  {
   "cell_type": "code",
   "execution_count": 19,
   "id": "797c2489",
   "metadata": {},
   "outputs": [
    {
     "name": "stdout",
     "output_type": "stream",
     "text": [
      "Odd Numbers: 5\n",
      "Odd Numbers: 1\n",
      "Even Numbers: 4\n",
      "Even Numbers: 8\n",
      "Odd Numbers: 9\n",
      "Even Numbers: 12\n"
     ]
    }
   ],
   "source": [
    "for num in ls:\n",
    "    if num%2 == 0:\n",
    "        print(\"Even Numbers:\", num)\n",
    "    else:\n",
    "        print(\"Odd Numbers:\", num)"
   ]
  },
  {
   "cell_type": "code",
   "execution_count": 31,
   "id": "cd22f088",
   "metadata": {},
   "outputs": [
    {
     "name": "stdout",
     "output_type": "stream",
     "text": [
      "Even Numbers: [4, 8, 12]\n",
      "Odd Numbers: [5, 1, 9]\n"
     ]
    }
   ],
   "source": [
    "even = []\n",
    "odd = []\n",
    "for num in ls:\n",
    "    if num%2 == 0:\n",
    "        even.append(num)\n",
    "    else:\n",
    "        odd.append(num)\n",
    "\n",
    "print(\"Even Numbers:\", even)\n",
    "print(\"Odd Numbers:\", odd)"
   ]
  },
  {
   "cell_type": "code",
   "execution_count": 28,
   "id": "1c42505c",
   "metadata": {},
   "outputs": [],
   "source": [
    "b = [1,2]"
   ]
  },
  {
   "cell_type": "code",
   "execution_count": 29,
   "id": "824739ef",
   "metadata": {},
   "outputs": [],
   "source": [
    "b.append(3)"
   ]
  },
  {
   "cell_type": "code",
   "execution_count": 30,
   "id": "22b12f3d",
   "metadata": {},
   "outputs": [
    {
     "data": {
      "text/plain": [
       "[1, 2, 3]"
      ]
     },
     "execution_count": 30,
     "metadata": {},
     "output_type": "execute_result"
    }
   ],
   "source": [
    "b"
   ]
  },
  {
   "cell_type": "code",
   "execution_count": 32,
   "id": "6c2e80a1",
   "metadata": {},
   "outputs": [],
   "source": [
    "# Problem:\n",
    "# # Write a python code to check the validity of password (input from users)\n",
    "# Rules:\n",
    "#     At least 1 letter between a-z and 1 letter between A-Z\n",
    "#     At least 1 number between 0-9\n",
    "#     At least 1 character from $#@\n",
    "#     Mininum length of password 6 characters\n",
    "#     Maximum length of password 16 charcters\n",
    "\n",
    "# Output:\n",
    "    \n",
    "#     Password is valid\n",
    "#     otherwise\n",
    "#     Password is Not valid"
   ]
  },
  {
   "cell_type": "code",
   "execution_count": 33,
   "id": "9574a5cc",
   "metadata": {},
   "outputs": [],
   "source": [
    "# Module -> Group of Functions -> Group of individual programs\n",
    "# To use any module, we have import it"
   ]
  },
  {
   "cell_type": "code",
   "execution_count": 34,
   "id": "83867110",
   "metadata": {},
   "outputs": [],
   "source": [
    "import re"
   ]
  },
  {
   "cell_type": "code",
   "execution_count": 49,
   "id": "a606d5c9",
   "metadata": {},
   "outputs": [],
   "source": [
    "txt = \"The rain in Spain\"\n",
    "x = re.search(\"^The.*Spain$\", txt)"
   ]
  },
  {
   "cell_type": "code",
   "execution_count": 50,
   "id": "17a9b6ce",
   "metadata": {},
   "outputs": [
    {
     "data": {
      "text/plain": [
       "<re.Match object; span=(0, 17), match='The rain in Spain'>"
      ]
     },
     "execution_count": 50,
     "metadata": {},
     "output_type": "execute_result"
    }
   ],
   "source": [
    "x"
   ]
  },
  {
   "cell_type": "code",
   "execution_count": 65,
   "id": "d6d0719a",
   "metadata": {},
   "outputs": [],
   "source": [
    "# Use string Methods to validate your password given\n",
    "a=\"password123\""
   ]
  },
  {
   "cell_type": "code",
   "execution_count": 57,
   "id": "aae15221",
   "metadata": {},
   "outputs": [
    {
     "data": {
      "text/plain": [
       "str"
      ]
     },
     "execution_count": 57,
     "metadata": {},
     "output_type": "execute_result"
    }
   ],
   "source": [
    "type(a)"
   ]
  },
  {
   "cell_type": "code",
   "execution_count": 60,
   "id": "8f77a131",
   "metadata": {},
   "outputs": [
    {
     "data": {
      "text/plain": [
       "False"
      ]
     },
     "execution_count": 60,
     "metadata": {},
     "output_type": "execute_result"
    }
   ],
   "source": [
    "a.isdigit()"
   ]
  },
  {
   "cell_type": "code",
   "execution_count": 61,
   "id": "fb25702a",
   "metadata": {},
   "outputs": [
    {
     "data": {
      "text/plain": [
       "True"
      ]
     },
     "execution_count": 61,
     "metadata": {},
     "output_type": "execute_result"
    }
   ],
   "source": [
    "a.isalnum()"
   ]
  },
  {
   "cell_type": "code",
   "execution_count": 62,
   "id": "bf57cbf2",
   "metadata": {},
   "outputs": [
    {
     "data": {
      "text/plain": [
       "False"
      ]
     },
     "execution_count": 62,
     "metadata": {},
     "output_type": "execute_result"
    }
   ],
   "source": [
    "a.isnumeric()"
   ]
  },
  {
   "cell_type": "code",
   "execution_count": null,
   "id": "09cbd86a",
   "metadata": {},
   "outputs": [],
   "source": [
    "a.isalnum"
   ]
  },
  {
   "cell_type": "code",
   "execution_count": 72,
   "id": "3a333b60",
   "metadata": {},
   "outputs": [
    {
     "name": "stdout",
     "output_type": "stream",
     "text": [
      "Not valid\n"
     ]
    }
   ],
   "source": [
    "if (\"$\") and (\"#\") and (\"@\") in a:\n",
    "    print(\"Valid\")\n",
    "else:\n",
    "    print(\"Not valid\")"
   ]
  },
  {
   "cell_type": "code",
   "execution_count": 71,
   "id": "30aa8a19",
   "metadata": {},
   "outputs": [
    {
     "data": {
      "text/plain": [
       "'password123'"
      ]
     },
     "execution_count": 71,
     "metadata": {},
     "output_type": "execute_result"
    }
   ],
   "source": [
    "a"
   ]
  },
  {
   "cell_type": "code",
   "execution_count": 69,
   "id": "9694ac74",
   "metadata": {},
   "outputs": [
    {
     "name": "stdout",
     "output_type": "stream",
     "text": [
      "Not valid\n"
     ]
    }
   ],
   "source": [
    "if \"$\" in a:\n",
    "    print(\"Valid\")\n",
    "else:\n",
    "    print(\"Not valid\")"
   ]
  },
  {
   "cell_type": "code",
   "execution_count": null,
   "id": "faf283c2",
   "metadata": {},
   "outputs": [],
   "source": []
  }
 ],
 "metadata": {
  "kernelspec": {
   "display_name": "Python 3 (ipykernel)",
   "language": "python",
   "name": "python3"
  },
  "language_info": {
   "codemirror_mode": {
    "name": "ipython",
    "version": 3
   },
   "file_extension": ".py",
   "mimetype": "text/x-python",
   "name": "python",
   "nbconvert_exporter": "python",
   "pygments_lexer": "ipython3",
   "version": "3.9.7"
  }
 },
 "nbformat": 4,
 "nbformat_minor": 5
}
