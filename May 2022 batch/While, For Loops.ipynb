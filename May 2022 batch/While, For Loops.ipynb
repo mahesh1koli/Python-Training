{
 "cells": [
  {
   "cell_type": "code",
   "execution_count": 39,
   "id": "764c1694",
   "metadata": {},
   "outputs": [
    {
     "name": "stdout",
     "output_type": "stream",
     "text": [
      "Please Enter Temporature in  Celcius or Farienheat:129g\n",
      "Invalid input,please enter like 12.34c or 12.34f\n"
     ]
    }
   ],
   "source": [
    "temp=input(\"Please Enter Temporature in  Celcius or Farienheat:\")\n",
    "temp1=temp.lower()\n",
    "if \"c\" in temp1:\n",
    "    ctemp=temp1[:-1]\n",
    "    ctemp=float(ctemp) # Type casting\n",
    "    fh=(9/5 * ctemp) + 32\n",
    "    print(\"Temporature in Farienheat\", fh)\n",
    "\n",
    "elif \"f\" in temp1:\n",
    "    ftemp=temp1[:-1]\n",
    "    ftemp=float(ftemp)\n",
    "    cl=5/9*(ftemp - 32)\n",
    "    print(\"Temporature in Celcius\",cl)\n",
    "else:\n",
    "    print(\"Invalid input,please enter like 12.34c or 12.34f\")"
   ]
  },
  {
   "cell_type": "code",
   "execution_count": 40,
   "id": "4476d5a9",
   "metadata": {},
   "outputs": [],
   "source": [
    "# Optimized code for temp conversion"
   ]
  },
  {
   "cell_type": "code",
   "execution_count": 42,
   "id": "f01dce36",
   "metadata": {},
   "outputs": [
    {
     "name": "stdout",
     "output_type": "stream",
     "text": [
      "Please Enter Temporature in  Celcius or Farienheat: (e.g: 49F,108F etc.,)48C\n",
      "The temperature in Fahrenheit is 118 degrees\n"
     ]
    }
   ],
   "source": [
    "temp=input(\"Please Enter Temporature in  Celcius or Farienheat: (e.g: 49F,108F etc.,)\")\n",
    "deg = int(temp[:-1])\n",
    "\n",
    "temp_type = temp[-1]\n",
    "\n",
    "if temp_type.upper() == \"C\":\n",
    "    res = int(round((9/5 * deg) + 32))\n",
    "    t_type = \"Fahrenheit\"\n",
    "elif temp_type.upper() == \"F\":\n",
    "    res = int(round(5/9*(deg - 32)))\n",
    "    t_type = \"Celsius\"\n",
    "else:\n",
    "    print(\"Input valid temperature\")\n",
    "    quit()\n",
    "\n",
    "print(\"The temperature in\", t_type, \"is\", res, \"degrees\")"
   ]
  },
  {
   "cell_type": "code",
   "execution_count": 43,
   "id": "1a2f2fe2",
   "metadata": {},
   "outputs": [
    {
     "data": {
      "text/plain": [
       "range(0, 6)"
      ]
     },
     "execution_count": 43,
     "metadata": {},
     "output_type": "execute_result"
    }
   ],
   "source": [
    "# Range is a python inbuilt function\n",
    "range(6)  # input only one number will consider as end number -1\n",
    "range(0,6) # 0 start number and 6-1 will be your end number\n",
    "range(0,6,2) # 0 start number and 6-1 will be your end number and 2 is your step size"
   ]
  },
  {
   "cell_type": "code",
   "execution_count": 45,
   "id": "606042c2",
   "metadata": {},
   "outputs": [
    {
     "name": "stdout",
     "output_type": "stream",
     "text": [
      "0\n",
      "1\n",
      "2\n",
      "3\n",
      "4\n",
      "5\n"
     ]
    }
   ],
   "source": [
    "# For loop is used to iterate over the list,tuple or strings\n",
    "\n",
    "for i in range(0,6):\n",
    "    print(i) "
   ]
  },
  {
   "cell_type": "code",
   "execution_count": 46,
   "id": "e0428294",
   "metadata": {},
   "outputs": [
    {
     "name": "stdout",
     "output_type": "stream",
     "text": [
      "2 x 1 = 2\n",
      "2 x 2 = 4\n",
      "2 x 3 = 6\n",
      "2 x 4 = 8\n",
      "2 x 5 = 10\n",
      "2 x 6 = 12\n",
      "2 x 7 = 14\n",
      "2 x 8 = 16\n",
      "2 x 9 = 18\n",
      "2 x 10 = 20\n"
     ]
    }
   ],
   "source": [
    "for i in range(1,11):\n",
    "    print('2 x', i, '=', i*2)"
   ]
  },
  {
   "cell_type": "code",
   "execution_count": 47,
   "id": "35e8ca10",
   "metadata": {},
   "outputs": [],
   "source": [
    "a = [1,2,3,4,5,6,7]"
   ]
  },
  {
   "cell_type": "code",
   "execution_count": 48,
   "id": "2fc2fb14",
   "metadata": {},
   "outputs": [
    {
     "data": {
      "text/plain": [
       "[1, 2, 3, 4, 5, 6, 7]"
      ]
     },
     "execution_count": 48,
     "metadata": {},
     "output_type": "execute_result"
    }
   ],
   "source": [
    "a"
   ]
  },
  {
   "cell_type": "code",
   "execution_count": 50,
   "id": "7fd77fb5",
   "metadata": {},
   "outputs": [
    {
     "data": {
      "text/plain": [
       "7"
      ]
     },
     "execution_count": 50,
     "metadata": {},
     "output_type": "execute_result"
    }
   ],
   "source": [
    "len(a)"
   ]
  },
  {
   "cell_type": "code",
   "execution_count": 49,
   "id": "5081dd43",
   "metadata": {},
   "outputs": [],
   "source": [
    "# print sum of values from my list"
   ]
  },
  {
   "cell_type": "code",
   "execution_count": 51,
   "id": "f13bf5c3",
   "metadata": {},
   "outputs": [],
   "source": [
    "sum = 0\n",
    "for i in range(0,len(a)):\n",
    "    sum = sum + a[i]   "
   ]
  },
  {
   "cell_type": "code",
   "execution_count": 52,
   "id": "90ab38e1",
   "metadata": {},
   "outputs": [
    {
     "data": {
      "text/plain": [
       "28"
      ]
     },
     "execution_count": 52,
     "metadata": {},
     "output_type": "execute_result"
    }
   ],
   "source": [
    "sum"
   ]
  },
  {
   "cell_type": "code",
   "execution_count": 56,
   "id": "cde87eed",
   "metadata": {},
   "outputs": [
    {
     "data": {
      "text/plain": [
       "range(0, 6)"
      ]
     },
     "execution_count": 56,
     "metadata": {},
     "output_type": "execute_result"
    }
   ],
   "source": [
    "range(6)"
   ]
  },
  {
   "cell_type": "code",
   "execution_count": null,
   "id": "9b7d6b1b",
   "metadata": {},
   "outputs": [],
   "source": []
  }
 ],
 "metadata": {
  "kernelspec": {
   "display_name": "Python 3 (ipykernel)",
   "language": "python",
   "name": "python3"
  },
  "language_info": {
   "codemirror_mode": {
    "name": "ipython",
    "version": 3
   },
   "file_extension": ".py",
   "mimetype": "text/x-python",
   "name": "python",
   "nbconvert_exporter": "python",
   "pygments_lexer": "ipython3",
   "version": "3.9.7"
  }
 },
 "nbformat": 4,
 "nbformat_minor": 5
}
