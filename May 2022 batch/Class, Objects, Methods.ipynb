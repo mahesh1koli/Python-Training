{
 "cells": [
  {
   "cell_type": "code",
   "execution_count": 1,
   "id": "0e4fca95",
   "metadata": {},
   "outputs": [],
   "source": [
    "class MyClass:\n",
    "  x = 5"
   ]
  },
  {
   "cell_type": "code",
   "execution_count": 2,
   "id": "d2aac51c",
   "metadata": {},
   "outputs": [],
   "source": [
    "p1 = MyClass()"
   ]
  },
  {
   "cell_type": "code",
   "execution_count": 3,
   "id": "77431661",
   "metadata": {},
   "outputs": [
    {
     "data": {
      "text/plain": [
       "5"
      ]
     },
     "execution_count": 3,
     "metadata": {},
     "output_type": "execute_result"
    }
   ],
   "source": [
    "p1.x"
   ]
  },
  {
   "cell_type": "code",
   "execution_count": 4,
   "id": "c18e704c",
   "metadata": {},
   "outputs": [
    {
     "name": "stdout",
     "output_type": "stream",
     "text": [
      "5\n"
     ]
    }
   ],
   "source": [
    "print(p1.x)"
   ]
  },
  {
   "cell_type": "code",
   "execution_count": 5,
   "id": "02e1aa84",
   "metadata": {},
   "outputs": [],
   "source": [
    "class Person:\n",
    "  def __init__(self, name, age):\n",
    "    self.name = name\n",
    "    self.age = age"
   ]
  },
  {
   "cell_type": "code",
   "execution_count": 6,
   "id": "ec262d1f",
   "metadata": {},
   "outputs": [
    {
     "ename": "TypeError",
     "evalue": "__init__() missing 2 required positional arguments: 'name' and 'age'",
     "output_type": "error",
     "traceback": [
      "\u001b[1;31m---------------------------------------------------------------------------\u001b[0m",
      "\u001b[1;31mTypeError\u001b[0m                                 Traceback (most recent call last)",
      "\u001b[1;32m<ipython-input-6-aa07c68c27bd>\u001b[0m in \u001b[0;36m<module>\u001b[1;34m\u001b[0m\n\u001b[1;32m----> 1\u001b[1;33m \u001b[0mp1\u001b[0m \u001b[1;33m=\u001b[0m \u001b[0mPerson\u001b[0m\u001b[1;33m(\u001b[0m\u001b[1;33m)\u001b[0m\u001b[1;33m\u001b[0m\u001b[1;33m\u001b[0m\u001b[0m\n\u001b[0m",
      "\u001b[1;31mTypeError\u001b[0m: __init__() missing 2 required positional arguments: 'name' and 'age'"
     ]
    }
   ],
   "source": [
    "p1 = Person()"
   ]
  },
  {
   "cell_type": "code",
   "execution_count": 7,
   "id": "464981e4",
   "metadata": {},
   "outputs": [],
   "source": [
    "p1 = Person(\"Rathan\", 30)"
   ]
  },
  {
   "cell_type": "code",
   "execution_count": 10,
   "id": "9a777590",
   "metadata": {},
   "outputs": [
    {
     "data": {
      "text/plain": [
       "30"
      ]
     },
     "execution_count": 10,
     "metadata": {},
     "output_type": "execute_result"
    }
   ],
   "source": [
    "p1.age"
   ]
  },
  {
   "cell_type": "code",
   "execution_count": 9,
   "id": "85ca6506",
   "metadata": {},
   "outputs": [
    {
     "data": {
      "text/plain": [
       "'Rathan'"
      ]
     },
     "execution_count": 9,
     "metadata": {},
     "output_type": "execute_result"
    }
   ],
   "source": [
    "p1.name"
   ]
  },
  {
   "cell_type": "code",
   "execution_count": 12,
   "id": "4672ee16",
   "metadata": {},
   "outputs": [],
   "source": [
    "p2 = Person(\"RK\", 25)"
   ]
  },
  {
   "cell_type": "code",
   "execution_count": 13,
   "id": "e6938042",
   "metadata": {},
   "outputs": [
    {
     "data": {
      "text/plain": [
       "25"
      ]
     },
     "execution_count": 13,
     "metadata": {},
     "output_type": "execute_result"
    }
   ],
   "source": [
    "p2.age"
   ]
  },
  {
   "cell_type": "code",
   "execution_count": 14,
   "id": "9e088df9",
   "metadata": {},
   "outputs": [
    {
     "data": {
      "text/plain": [
       "'RK'"
      ]
     },
     "execution_count": 14,
     "metadata": {},
     "output_type": "execute_result"
    }
   ],
   "source": [
    "p2.name"
   ]
  },
  {
   "cell_type": "code",
   "execution_count": 15,
   "id": "99441a73",
   "metadata": {},
   "outputs": [],
   "source": [
    "class Person:\n",
    "  def __init__(self, name, age):\n",
    "    self.name = name\n",
    "    self.age = age\n",
    "\n",
    "  def myfunc(self):\n",
    "    print(\"Hello my name is \" + self.name)"
   ]
  },
  {
   "cell_type": "code",
   "execution_count": 16,
   "id": "d304631f",
   "metadata": {},
   "outputs": [
    {
     "name": "stdout",
     "output_type": "stream",
     "text": [
      "Hello my name is John\n"
     ]
    }
   ],
   "source": [
    "p1 = Person(\"John\", 36)  # Object Instantiation\n",
    "p1.myfunc()              # Calling Class method"
   ]
  },
  {
   "cell_type": "code",
   "execution_count": null,
   "id": "c0daf195",
   "metadata": {},
   "outputs": [],
   "source": [
    "#Inheritence"
   ]
  },
  {
   "cell_type": "code",
   "execution_count": 17,
   "id": "371cf619",
   "metadata": {},
   "outputs": [],
   "source": [
    "# Create parent class\n",
    "class Person:\n",
    "  def __init__(self, fname, lname):\n",
    "    self.firstname = fname\n",
    "    self.lastname = lname\n",
    "\n",
    "  def printname(self):\n",
    "    print(self.firstname, self.lastname)"
   ]
  },
  {
   "cell_type": "code",
   "execution_count": 18,
   "id": "a9047aa8",
   "metadata": {},
   "outputs": [],
   "source": [
    "class Student(Person):\n",
    "    pass"
   ]
  },
  {
   "cell_type": "code",
   "execution_count": 19,
   "id": "6cee5bf0",
   "metadata": {},
   "outputs": [],
   "source": [
    "x = Student(\"John\", \"Batler\")"
   ]
  },
  {
   "cell_type": "code",
   "execution_count": 20,
   "id": "c2d7517c",
   "metadata": {},
   "outputs": [
    {
     "data": {
      "text/plain": [
       "'John'"
      ]
     },
     "execution_count": 20,
     "metadata": {},
     "output_type": "execute_result"
    }
   ],
   "source": [
    "x.firstname"
   ]
  },
  {
   "cell_type": "code",
   "execution_count": 21,
   "id": "02d749bd",
   "metadata": {},
   "outputs": [
    {
     "data": {
      "text/plain": [
       "'Batler'"
      ]
     },
     "execution_count": 21,
     "metadata": {},
     "output_type": "execute_result"
    }
   ],
   "source": [
    "x.lastname"
   ]
  },
  {
   "cell_type": "code",
   "execution_count": 23,
   "id": "35054cb0",
   "metadata": {},
   "outputs": [
    {
     "name": "stdout",
     "output_type": "stream",
     "text": [
      "John Batler\n"
     ]
    }
   ],
   "source": [
    "x.printname()"
   ]
  },
  {
   "cell_type": "code",
   "execution_count": 1,
   "id": "c0b359b5",
   "metadata": {},
   "outputs": [],
   "source": [
    "# Create parent class\n",
    "class Person:\n",
    "  def __init__(self, fname, lname):\n",
    "    self.firstname = fname\n",
    "    self.lastname = lname\n",
    "\n",
    "  def printname(self):\n",
    "    print(self.firstname, self.lastname)"
   ]
  },
  {
   "cell_type": "code",
   "execution_count": 10,
   "id": "4d400b55",
   "metadata": {},
   "outputs": [],
   "source": [
    "class Student(Person):\n",
    "    def __init__(self, graduation):\n",
    "        super().__init__(fname, lname)\n",
    "        self.graduation=graduation"
   ]
  },
  {
   "cell_type": "code",
   "execution_count": 11,
   "id": "d2d93b4a",
   "metadata": {},
   "outputs": [],
   "source": [
    "class Car:   \n",
    "    car_type = \"Sedan\"   # class variable or class attribute\n",
    "\n",
    "    def __init__(self, name, mileage):\n",
    "        self.name = name \n",
    "        self.mileage = mileage \n",
    "\n",
    "    def description(self):                 \n",
    "        return f\"The {self.name} car gives the mileage of {self.mileage}km/l\"\n",
    "\n",
    "    def max_speed(self, speed):\n",
    "        return f\"The {self.name} runs at the maximum speed of {speed}km/hr\""
   ]
  },
  {
   "cell_type": "code",
   "execution_count": 18,
   "id": "54458af0",
   "metadata": {},
   "outputs": [],
   "source": [
    "obj1 = Car(\"Honda City\", 13.1)"
   ]
  },
  {
   "cell_type": "code",
   "execution_count": 19,
   "id": "01dab718",
   "metadata": {},
   "outputs": [
    {
     "data": {
      "text/plain": [
       "'The Honda City runs at the maximum speed of 150km/hr'"
      ]
     },
     "execution_count": 19,
     "metadata": {},
     "output_type": "execute_result"
    }
   ],
   "source": [
    "obj1.max_speed(150)"
   ]
  },
  {
   "cell_type": "code",
   "execution_count": 39,
   "id": "87067837",
   "metadata": {},
   "outputs": [
    {
     "data": {
      "text/plain": [
       "'The Honda City car gives the mileage of 13.1km/l'"
      ]
     },
     "execution_count": 39,
     "metadata": {},
     "output_type": "execute_result"
    }
   ],
   "source": [
    "obj1.description()"
   ]
  },
  {
   "cell_type": "code",
   "execution_count": 32,
   "id": "f9bb0535",
   "metadata": {},
   "outputs": [],
   "source": [
    "class Car:   \n",
    "    car_type = \"Sedan\"   # class variable or class attribute\n",
    "\n",
    "    def __init__(self, name, mileage,speed):\n",
    "        self.name = name \n",
    "        self.mileage = mileage\n",
    "        self.speed = speed\n",
    "\n",
    "    def description(self):                 \n",
    "        return f\"The {self.name} car gives the mileage of {self.mileage}km/l\"\n",
    "\n",
    "    def max_speed(self):\n",
    "        return f\"The {self.name} runs at the maximum speed of {self.speed}km/hr\""
   ]
  },
  {
   "cell_type": "code",
   "execution_count": 36,
   "id": "17db63a7",
   "metadata": {},
   "outputs": [],
   "source": [
    "obj2 = Car(\"Ford\",13.1,150)"
   ]
  },
  {
   "cell_type": "code",
   "execution_count": 37,
   "id": "ff2d9bb7",
   "metadata": {},
   "outputs": [
    {
     "data": {
      "text/plain": [
       "'The Ford car gives the mileage of 13.1km/l'"
      ]
     },
     "execution_count": 37,
     "metadata": {},
     "output_type": "execute_result"
    }
   ],
   "source": [
    "obj2.description()"
   ]
  },
  {
   "cell_type": "code",
   "execution_count": 38,
   "id": "8aedc711",
   "metadata": {},
   "outputs": [
    {
     "data": {
      "text/plain": [
       "'The Ford runs at the maximum speed of 150km/hr'"
      ]
     },
     "execution_count": 38,
     "metadata": {},
     "output_type": "execute_result"
    }
   ],
   "source": [
    "obj2.max_speed()"
   ]
  },
  {
   "cell_type": "code",
   "execution_count": 40,
   "id": "7cc0e92f",
   "metadata": {},
   "outputs": [],
   "source": [
    "kia = Car(\"Kia\",16,190)"
   ]
  },
  {
   "cell_type": "code",
   "execution_count": 41,
   "id": "b3b95268",
   "metadata": {},
   "outputs": [
    {
     "data": {
      "text/plain": [
       "'The Kia car gives the mileage of 16km/l'"
      ]
     },
     "execution_count": 41,
     "metadata": {},
     "output_type": "execute_result"
    }
   ],
   "source": [
    "kia.description()"
   ]
  },
  {
   "cell_type": "code",
   "execution_count": 42,
   "id": "3b355878",
   "metadata": {},
   "outputs": [
    {
     "data": {
      "text/plain": [
       "'The Kia runs at the maximum speed of 190km/hr'"
      ]
     },
     "execution_count": 42,
     "metadata": {},
     "output_type": "execute_result"
    }
   ],
   "source": [
    "kia.max_speed()"
   ]
  },
  {
   "cell_type": "code",
   "execution_count": 46,
   "id": "179a35f2",
   "metadata": {},
   "outputs": [],
   "source": [
    "suzuki = Car(\"suzuki\",13.2,160)"
   ]
  },
  {
   "cell_type": "code",
   "execution_count": 47,
   "id": "7fc283b5",
   "metadata": {},
   "outputs": [],
   "source": [
    "class Car:          #parent class\n",
    "\n",
    "    def __init__(self, name, mileage):\n",
    "        self.name = name \n",
    "        self.mileage = mileage \n",
    "\n",
    "    def description(self):                \n",
    "        return f\"The {self.name} car gives the mileage of {self.mileage}km/l\""
   ]
  },
  {
   "cell_type": "code",
   "execution_count": 48,
   "id": "95362e98",
   "metadata": {},
   "outputs": [],
   "source": [
    "class BMW(Car):     #child class\n",
    "    pass"
   ]
  },
  {
   "cell_type": "code",
   "execution_count": 50,
   "id": "d5207e42",
   "metadata": {},
   "outputs": [],
   "source": [
    "BMW=BMW(\"BMW\", 12)"
   ]
  },
  {
   "cell_type": "code",
   "execution_count": 51,
   "id": "37f8cb3b",
   "metadata": {},
   "outputs": [
    {
     "data": {
      "text/plain": [
       "'The BMW car gives the mileage of 12km/l'"
      ]
     },
     "execution_count": 51,
     "metadata": {},
     "output_type": "execute_result"
    }
   ],
   "source": [
    "BMW.description()"
   ]
  },
  {
   "cell_type": "code",
   "execution_count": 53,
   "id": "6d4ed92d",
   "metadata": {},
   "outputs": [
    {
     "data": {
      "text/plain": [
       "'BMW'"
      ]
     },
     "execution_count": 53,
     "metadata": {},
     "output_type": "execute_result"
    }
   ],
   "source": [
    "BMW.name"
   ]
  },
  {
   "cell_type": "code",
   "execution_count": 54,
   "id": "ad4607d4",
   "metadata": {},
   "outputs": [
    {
     "data": {
      "text/plain": [
       "12"
      ]
     },
     "execution_count": 54,
     "metadata": {},
     "output_type": "execute_result"
    }
   ],
   "source": [
    "BMW.mileage"
   ]
  },
  {
   "cell_type": "code",
   "execution_count": 55,
   "id": "228b62c6",
   "metadata": {},
   "outputs": [],
   "source": [
    "class Audi(Car):     #child class\n",
    "    def audi_desc(self):\n",
    "        return \"This is the description method of class Audi.\""
   ]
  },
  {
   "cell_type": "code",
   "execution_count": 57,
   "id": "48f66138",
   "metadata": {},
   "outputs": [],
   "source": [
    "Audi = Audi(\"Audi\",15)"
   ]
  },
  {
   "cell_type": "code",
   "execution_count": 58,
   "id": "164d4c02",
   "metadata": {},
   "outputs": [
    {
     "data": {
      "text/plain": [
       "'This is the description method of class Audi.'"
      ]
     },
     "execution_count": 58,
     "metadata": {},
     "output_type": "execute_result"
    }
   ],
   "source": [
    "Audi.audi_desc()  # Child class"
   ]
  },
  {
   "cell_type": "code",
   "execution_count": 59,
   "id": "a5654ad6",
   "metadata": {},
   "outputs": [
    {
     "data": {
      "text/plain": [
       "'The Audi car gives the mileage of 15km/l'"
      ]
     },
     "execution_count": 59,
     "metadata": {},
     "output_type": "execute_result"
    }
   ],
   "source": [
    "Audi.description()  # Parent class"
   ]
  },
  {
   "cell_type": "markdown",
   "id": "cfddccc2",
   "metadata": {},
   "source": [
    "#### Encapsulation"
   ]
  },
  {
   "cell_type": "code",
   "execution_count": 79,
   "id": "a907a261",
   "metadata": {},
   "outputs": [],
   "source": [
    "class Car:\n",
    "\n",
    "    def __init__(self, name, mileage):\n",
    "        self.__name = name              #private variable        \n",
    "        self.__mileage = mileage        #private variable \n",
    "\n",
    "    def description(self):                \n",
    "        return f\"The {self.__name} car gives the mileage of {self.__mileage}km/l\""
   ]
  },
  {
   "cell_type": "code",
   "execution_count": 80,
   "id": "c2acbcc1",
   "metadata": {},
   "outputs": [],
   "source": [
    "obj3 = Car(\"Maruti\", 18)"
   ]
  },
  {
   "cell_type": "code",
   "execution_count": 82,
   "id": "7557591c",
   "metadata": {},
   "outputs": [
    {
     "data": {
      "text/plain": [
       "'Maruti'"
      ]
     },
     "execution_count": 82,
     "metadata": {},
     "output_type": "execute_result"
    }
   ],
   "source": [
    "obj3._Car__name     # Debugging purpose"
   ]
  },
  {
   "cell_type": "code",
   "execution_count": 84,
   "id": "1844ab46",
   "metadata": {},
   "outputs": [
    {
     "data": {
      "text/plain": [
       "18"
      ]
     },
     "execution_count": 84,
     "metadata": {},
     "output_type": "execute_result"
    }
   ],
   "source": [
    "obj3._Car__mileage   #mangled name  # Debugging purpose"
   ]
  },
  {
   "cell_type": "markdown",
   "id": "68b4f893",
   "metadata": {},
   "source": [
    "### Polymorphism"
   ]
  },
  {
   "cell_type": "code",
   "execution_count": 85,
   "id": "2325eb64",
   "metadata": {},
   "outputs": [],
   "source": [
    "class Audi:\n",
    "  def description(self):\n",
    "    print(\"This the description function of class AUDI.\")\n",
    "\n",
    "class BMW:\n",
    "  def description(self):\n",
    "    print(\"This the description function of class BMW.\")"
   ]
  },
  {
   "cell_type": "code",
   "execution_count": 86,
   "id": "25638ff8",
   "metadata": {},
   "outputs": [],
   "source": [
    "audi = Audi()"
   ]
  },
  {
   "cell_type": "code",
   "execution_count": 87,
   "id": "31ab371f",
   "metadata": {},
   "outputs": [],
   "source": [
    "bmw = BMW()"
   ]
  },
  {
   "cell_type": "code",
   "execution_count": 90,
   "id": "12b4f69e",
   "metadata": {},
   "outputs": [
    {
     "name": "stdout",
     "output_type": "stream",
     "text": [
      "This the description function of class AUDI.\n",
      "This the description function of class BMW.\n"
     ]
    }
   ],
   "source": [
    "for car in (audi,bmw):\n",
    "    car.description()"
   ]
  },
  {
   "cell_type": "markdown",
   "id": "d6623e63",
   "metadata": {},
   "source": [
    "### Abstraction - Hiding parent class attributes directly"
   ]
  },
  {
   "cell_type": "code",
   "execution_count": 92,
   "id": "280b47b0",
   "metadata": {},
   "outputs": [],
   "source": [
    "from abc import ABC, abstractmethod\n",
    "\n",
    "class Car(ABC):\n",
    "    def __init__(self,name):\n",
    "        self.name = name\n",
    "\n",
    "    def description(self):\n",
    "        print(\"This the description function of class car.\")\n",
    "\n",
    "    @abstractmethod\n",
    "    def price(self,x):\n",
    "        pass"
   ]
  },
  {
   "cell_type": "code",
   "execution_count": 93,
   "id": "21353674",
   "metadata": {},
   "outputs": [],
   "source": [
    "# Create child class"
   ]
  },
  {
   "cell_type": "code",
   "execution_count": 123,
   "id": "61c9c524",
   "metadata": {},
   "outputs": [],
   "source": [
    "class new(Car):\n",
    "    def price(self,x):\n",
    "        print(\"Price of {} is {}\".format(self.name,x))"
   ]
  },
  {
   "cell_type": "code",
   "execution_count": 124,
   "id": "db74c3eb",
   "metadata": {},
   "outputs": [],
   "source": [
    "obj5=new(\"Honda\")"
   ]
  },
  {
   "cell_type": "code",
   "execution_count": 125,
   "id": "f725d1db",
   "metadata": {},
   "outputs": [
    {
     "name": "stdout",
     "output_type": "stream",
     "text": [
      "This the description function of class car.\n"
     ]
    }
   ],
   "source": [
    "obj5.description()"
   ]
  },
  {
   "cell_type": "code",
   "execution_count": 126,
   "id": "52e49576",
   "metadata": {},
   "outputs": [
    {
     "data": {
      "text/plain": [
       "'Honda'"
      ]
     },
     "execution_count": 126,
     "metadata": {},
     "output_type": "execute_result"
    }
   ],
   "source": [
    "obj5.name"
   ]
  },
  {
   "cell_type": "code",
   "execution_count": 127,
   "id": "6ff1ed4d",
   "metadata": {},
   "outputs": [
    {
     "name": "stdout",
     "output_type": "stream",
     "text": [
      "Price of Honda is 150\n"
     ]
    }
   ],
   "source": [
    "obj5.price(150)"
   ]
  },
  {
   "cell_type": "code",
   "execution_count": null,
   "id": "94771919",
   "metadata": {},
   "outputs": [],
   "source": []
  }
 ],
 "metadata": {
  "kernelspec": {
   "display_name": "Python 3 (ipykernel)",
   "language": "python",
   "name": "python3"
  },
  "language_info": {
   "codemirror_mode": {
    "name": "ipython",
    "version": 3
   },
   "file_extension": ".py",
   "mimetype": "text/x-python",
   "name": "python",
   "nbconvert_exporter": "python",
   "pygments_lexer": "ipython3",
   "version": "3.9.12"
  }
 },
 "nbformat": 4,
 "nbformat_minor": 5
}
