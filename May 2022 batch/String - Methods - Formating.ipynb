{
 "cells": [
  {
   "cell_type": "code",
   "execution_count": 1,
   "id": "7d787705",
   "metadata": {},
   "outputs": [
    {
     "name": "stdout",
     "output_type": "stream",
     "text": [
      "Abc. def\n"
     ]
    }
   ],
   "source": [
    "print(\"abc. DEF\".capitalize())"
   ]
  },
  {
   "cell_type": "code",
   "execution_count": 2,
   "id": "be0f4c71",
   "metadata": {},
   "outputs": [
    {
     "name": "stdout",
     "output_type": "stream",
     "text": [
      "*abcde *\n"
     ]
    }
   ],
   "source": [
    "print('*', \"abcde\".center(6), '*', sep='')"
   ]
  },
  {
   "cell_type": "code",
   "execution_count": 3,
   "id": "9de908d2",
   "metadata": {},
   "outputs": [
    {
     "name": "stdout",
     "output_type": "stream",
     "text": [
      "9.0\n"
     ]
    }
   ],
   "source": [
    "import math\n",
    "print(math.pow(3, 2))"
   ]
  },
  {
   "cell_type": "code",
   "execution_count": 4,
   "id": "c617c6cd",
   "metadata": {},
   "outputs": [
    {
     "data": {
      "text/plain": [
       "65"
      ]
     },
     "execution_count": 4,
     "metadata": {},
     "output_type": "execute_result"
    }
   ],
   "source": [
    "# To print ASCII values, we use ord()\n",
    "ord(\"A\")"
   ]
  },
  {
   "cell_type": "code",
   "execution_count": 5,
   "id": "5803440b",
   "metadata": {},
   "outputs": [
    {
     "data": {
      "text/plain": [
       "53"
      ]
     },
     "execution_count": 5,
     "metadata": {},
     "output_type": "execute_result"
    }
   ],
   "source": [
    "ord(\"5\")"
   ]
  },
  {
   "cell_type": "code",
   "execution_count": 6,
   "id": "943e08fa",
   "metadata": {},
   "outputs": [
    {
     "data": {
      "text/plain": [
       "'A'"
      ]
     },
     "execution_count": 6,
     "metadata": {},
     "output_type": "execute_result"
    }
   ],
   "source": [
    "# To print character from ASCII values, we use chr()\n",
    "chr(65)"
   ]
  },
  {
   "cell_type": "code",
   "execution_count": 7,
   "id": "5d440053",
   "metadata": {},
   "outputs": [],
   "source": [
    "a = 24\n",
    "b = 31\n",
    "c = \"Hello\""
   ]
  },
  {
   "cell_type": "code",
   "execution_count": 9,
   "id": "80ddc2e8",
   "metadata": {},
   "outputs": [
    {
     "name": "stdout",
     "output_type": "stream",
     "text": [
      "<class 'int'>\n",
      "<class 'int'>\n",
      "<class 'str'>\n"
     ]
    }
   ],
   "source": [
    "print(type(a))\n",
    "print(type(b))\n",
    "print(type(c))"
   ]
  },
  {
   "cell_type": "code",
   "execution_count": 10,
   "id": "90ca7148",
   "metadata": {},
   "outputs": [],
   "source": [
    "d = 3.02234"
   ]
  },
  {
   "cell_type": "code",
   "execution_count": 11,
   "id": "53e76cfa",
   "metadata": {},
   "outputs": [
    {
     "data": {
      "text/plain": [
       "float"
      ]
     },
     "execution_count": 11,
     "metadata": {},
     "output_type": "execute_result"
    }
   ],
   "source": [
    "type(d)"
   ]
  },
  {
   "cell_type": "code",
   "execution_count": 12,
   "id": "9208f643",
   "metadata": {},
   "outputs": [
    {
     "name": "stdout",
     "output_type": "stream",
     "text": [
      "<class 'int'>\n"
     ]
    }
   ],
   "source": [
    "# Type Casting - converting from one type of varaible to another type of variable\n",
    "e = int(d)\n",
    "print(type(e))"
   ]
  },
  {
   "cell_type": "code",
   "execution_count": 13,
   "id": "092dae9f",
   "metadata": {},
   "outputs": [
    {
     "data": {
      "text/plain": [
       "3"
      ]
     },
     "execution_count": 13,
     "metadata": {},
     "output_type": "execute_result"
    }
   ],
   "source": [
    "e"
   ]
  },
  {
   "cell_type": "code",
   "execution_count": 14,
   "id": "901498d0",
   "metadata": {},
   "outputs": [
    {
     "data": {
      "text/plain": [
       "3"
      ]
     },
     "execution_count": 14,
     "metadata": {},
     "output_type": "execute_result"
    }
   ],
   "source": [
    "int(3.34334)"
   ]
  },
  {
   "cell_type": "code",
   "execution_count": 15,
   "id": "bfbfbd71",
   "metadata": {},
   "outputs": [
    {
     "data": {
      "text/plain": [
       "5566.0"
      ]
     },
     "execution_count": 15,
     "metadata": {},
     "output_type": "execute_result"
    }
   ],
   "source": [
    "float(5566)"
   ]
  },
  {
   "cell_type": "code",
   "execution_count": 17,
   "id": "e9bb611c",
   "metadata": {},
   "outputs": [
    {
     "data": {
      "text/plain": [
       "str"
      ]
     },
     "execution_count": 17,
     "metadata": {},
     "output_type": "execute_result"
    }
   ],
   "source": [
    "type(str(445))"
   ]
  },
  {
   "cell_type": "code",
   "execution_count": 18,
   "id": "d731c2ca",
   "metadata": {},
   "outputs": [],
   "source": [
    "str1 = str(445)"
   ]
  },
  {
   "cell_type": "code",
   "execution_count": 19,
   "id": "5abbe9ca",
   "metadata": {},
   "outputs": [
    {
     "data": {
      "text/plain": [
       "str"
      ]
     },
     "execution_count": 19,
     "metadata": {},
     "output_type": "execute_result"
    }
   ],
   "source": [
    "type(str1)"
   ]
  },
  {
   "cell_type": "code",
   "execution_count": 20,
   "id": "0b9ee371",
   "metadata": {},
   "outputs": [
    {
     "ename": "SyntaxError",
     "evalue": "invalid syntax (<ipython-input-20-ab76225a5898>, line 1)",
     "output_type": "error",
     "traceback": [
      "\u001b[1;36m  File \u001b[1;32m\"<ipython-input-20-ab76225a5898>\"\u001b[1;36m, line \u001b[1;32m1\u001b[0m\n\u001b[1;33m    1v = \"Hello\"\u001b[0m\n\u001b[1;37m     ^\u001b[0m\n\u001b[1;31mSyntaxError\u001b[0m\u001b[1;31m:\u001b[0m invalid syntax\n"
     ]
    }
   ],
   "source": [
    "1v = \"Hello\""
   ]
  },
  {
   "cell_type": "code",
   "execution_count": 21,
   "id": "743c9d8d",
   "metadata": {},
   "outputs": [],
   "source": [
    "ab = 45\n",
    "AB = \"Fortyfive\"\n",
    "Ab = 3.45556"
   ]
  },
  {
   "cell_type": "code",
   "execution_count": 22,
   "id": "496aa101",
   "metadata": {},
   "outputs": [
    {
     "data": {
      "text/plain": [
       "45"
      ]
     },
     "execution_count": 22,
     "metadata": {},
     "output_type": "execute_result"
    }
   ],
   "source": [
    "ab"
   ]
  },
  {
   "cell_type": "code",
   "execution_count": 23,
   "id": "301321af",
   "metadata": {},
   "outputs": [
    {
     "data": {
      "text/plain": [
       "'Fortyfive'"
      ]
     },
     "execution_count": 23,
     "metadata": {},
     "output_type": "execute_result"
    }
   ],
   "source": [
    "AB"
   ]
  },
  {
   "cell_type": "code",
   "execution_count": 24,
   "id": "dcc3c319",
   "metadata": {},
   "outputs": [
    {
     "data": {
      "text/plain": [
       "3.45556"
      ]
     },
     "execution_count": 24,
     "metadata": {},
     "output_type": "execute_result"
    }
   ],
   "source": [
    "Ab"
   ]
  },
  {
   "cell_type": "code",
   "execution_count": 25,
   "id": "80c12c20",
   "metadata": {},
   "outputs": [
    {
     "ename": "NameError",
     "evalue": "name 'bA' is not defined",
     "output_type": "error",
     "traceback": [
      "\u001b[1;31m---------------------------------------------------------------------------\u001b[0m",
      "\u001b[1;31mNameError\u001b[0m                                 Traceback (most recent call last)",
      "\u001b[1;32m<ipython-input-25-7fc0858e59c1>\u001b[0m in \u001b[0;36m<module>\u001b[1;34m\u001b[0m\n\u001b[1;32m----> 1\u001b[1;33m \u001b[0mbA\u001b[0m\u001b[1;33m\u001b[0m\u001b[1;33m\u001b[0m\u001b[0m\n\u001b[0m",
      "\u001b[1;31mNameError\u001b[0m: name 'bA' is not defined"
     ]
    }
   ],
   "source": [
    "bA"
   ]
  },
  {
   "cell_type": "code",
   "execution_count": 26,
   "id": "446bcb11",
   "metadata": {},
   "outputs": [],
   "source": [
    "ab_c = 456"
   ]
  },
  {
   "cell_type": "code",
   "execution_count": 27,
   "id": "09344ca6",
   "metadata": {},
   "outputs": [
    {
     "ename": "SyntaxError",
     "evalue": "cannot assign to operator (<ipython-input-27-33e2651db93a>, line 1)",
     "output_type": "error",
     "traceback": [
      "\u001b[1;36m  File \u001b[1;32m\"<ipython-input-27-33e2651db93a>\"\u001b[1;36m, line \u001b[1;32m1\u001b[0m\n\u001b[1;33m    ab%c = 34\u001b[0m\n\u001b[1;37m    ^\u001b[0m\n\u001b[1;31mSyntaxError\u001b[0m\u001b[1;31m:\u001b[0m cannot assign to operator\n"
     ]
    }
   ],
   "source": [
    "ab%c = 34"
   ]
  },
  {
   "cell_type": "code",
   "execution_count": 28,
   "id": "5e016a3e",
   "metadata": {},
   "outputs": [
    {
     "data": {
      "text/plain": [
       "45"
      ]
     },
     "execution_count": 28,
     "metadata": {},
     "output_type": "execute_result"
    }
   ],
   "source": [
    "ab#c = 45"
   ]
  },
  {
   "cell_type": "code",
   "execution_count": 29,
   "id": "3c8bb782",
   "metadata": {},
   "outputs": [
    {
     "ename": "SyntaxError",
     "evalue": "cannot assign to operator (<ipython-input-29-50732488a7cd>, line 1)",
     "output_type": "error",
     "traceback": [
      "\u001b[1;36m  File \u001b[1;32m\"<ipython-input-29-50732488a7cd>\"\u001b[1;36m, line \u001b[1;32m1\u001b[0m\n\u001b[1;33m    ab*c = 456\u001b[0m\n\u001b[1;37m    ^\u001b[0m\n\u001b[1;31mSyntaxError\u001b[0m\u001b[1;31m:\u001b[0m cannot assign to operator\n"
     ]
    }
   ],
   "source": [
    "ab*c = 456"
   ]
  },
  {
   "cell_type": "code",
   "execution_count": 30,
   "id": "1695f307",
   "metadata": {},
   "outputs": [],
   "source": [
    "A23b = \"Hello\""
   ]
  },
  {
   "cell_type": "code",
   "execution_count": 31,
   "id": "40aca99d",
   "metadata": {},
   "outputs": [
    {
     "ename": "SyntaxError",
     "evalue": "invalid syntax (<ipython-input-31-bd67dccc0b79>, line 1)",
     "output_type": "error",
     "traceback": [
      "\u001b[1;36m  File \u001b[1;32m\"<ipython-input-31-bd67dccc0b79>\"\u001b[1;36m, line \u001b[1;32m1\u001b[0m\n\u001b[1;33m    2AAB = \"Python\"\u001b[0m\n\u001b[1;37m     ^\u001b[0m\n\u001b[1;31mSyntaxError\u001b[0m\u001b[1;31m:\u001b[0m invalid syntax\n"
     ]
    }
   ],
   "source": [
    "2AAB = \"Python\""
   ]
  },
  {
   "cell_type": "code",
   "execution_count": 32,
   "id": "f9e8015b",
   "metadata": {},
   "outputs": [],
   "source": [
    "# Concatenation symbol ?? +"
   ]
  },
  {
   "cell_type": "code",
   "execution_count": 33,
   "id": "d92e6deb",
   "metadata": {},
   "outputs": [
    {
     "data": {
      "text/plain": [
       "'HelloWorld'"
      ]
     },
     "execution_count": 33,
     "metadata": {},
     "output_type": "execute_result"
    }
   ],
   "source": [
    "\"Hello\"+\"World\""
   ]
  },
  {
   "cell_type": "code",
   "execution_count": 34,
   "id": "932ce974",
   "metadata": {},
   "outputs": [
    {
     "data": {
      "text/plain": [
       "'HelloHelloHello'"
      ]
     },
     "execution_count": 34,
     "metadata": {},
     "output_type": "execute_result"
    }
   ],
   "source": [
    "\"Hello\"*3"
   ]
  },
  {
   "cell_type": "code",
   "execution_count": 35,
   "id": "39db2cce",
   "metadata": {},
   "outputs": [
    {
     "ename": "TypeError",
     "evalue": "can only concatenate str (not \"int\") to str",
     "output_type": "error",
     "traceback": [
      "\u001b[1;31m---------------------------------------------------------------------------\u001b[0m",
      "\u001b[1;31mTypeError\u001b[0m                                 Traceback (most recent call last)",
      "\u001b[1;32m<ipython-input-35-5f2d0203e516>\u001b[0m in \u001b[0;36m<module>\u001b[1;34m\u001b[0m\n\u001b[1;32m----> 1\u001b[1;33m \u001b[1;34m\"Hello\"\u001b[0m\u001b[1;33m+\u001b[0m\u001b[1;36m3\u001b[0m\u001b[1;33m\u001b[0m\u001b[1;33m\u001b[0m\u001b[0m\n\u001b[0m",
      "\u001b[1;31mTypeError\u001b[0m: can only concatenate str (not \"int\") to str"
     ]
    }
   ],
   "source": [
    "\"Hello\"+3"
   ]
  },
  {
   "cell_type": "code",
   "execution_count": 36,
   "id": "a29f8919",
   "metadata": {},
   "outputs": [],
   "source": [
    "# String Formating .format()"
   ]
  },
  {
   "cell_type": "code",
   "execution_count": 37,
   "id": "7509e9c5",
   "metadata": {},
   "outputs": [
    {
     "ename": "TypeError",
     "evalue": "can only concatenate str (not \"int\") to str",
     "output_type": "error",
     "traceback": [
      "\u001b[1;31m---------------------------------------------------------------------------\u001b[0m",
      "\u001b[1;31mTypeError\u001b[0m                                 Traceback (most recent call last)",
      "\u001b[1;32m<ipython-input-37-af93c2a58559>\u001b[0m in \u001b[0;36m<module>\u001b[1;34m\u001b[0m\n\u001b[0;32m      1\u001b[0m \u001b[0mage\u001b[0m \u001b[1;33m=\u001b[0m \u001b[1;36m36\u001b[0m\u001b[1;33m\u001b[0m\u001b[1;33m\u001b[0m\u001b[0m\n\u001b[1;32m----> 2\u001b[1;33m \u001b[0mtxt\u001b[0m \u001b[1;33m=\u001b[0m \u001b[1;34m\"My name is John, I am \"\u001b[0m \u001b[1;33m+\u001b[0m \u001b[0mage\u001b[0m\u001b[1;33m\u001b[0m\u001b[1;33m\u001b[0m\u001b[0m\n\u001b[0m",
      "\u001b[1;31mTypeError\u001b[0m: can only concatenate str (not \"int\") to str"
     ]
    }
   ],
   "source": [
    "age = 36\n",
    "txt = \"My name is John, I am \" + age"
   ]
  },
  {
   "cell_type": "code",
   "execution_count": 38,
   "id": "9ca2d9c7",
   "metadata": {},
   "outputs": [
    {
     "data": {
      "text/plain": [
       "'My name is John, and I am 36'"
      ]
     },
     "execution_count": 38,
     "metadata": {},
     "output_type": "execute_result"
    }
   ],
   "source": [
    "age = 36\n",
    "txt = \"My name is John, and I am {}\"\n",
    "txt.format(age)"
   ]
  },
  {
   "cell_type": "code",
   "execution_count": 39,
   "id": "e2714283",
   "metadata": {},
   "outputs": [
    {
     "name": "stdout",
     "output_type": "stream",
     "text": [
      "My name is John, and I am 36\n"
     ]
    }
   ],
   "source": [
    "print(txt.format(age))"
   ]
  },
  {
   "cell_type": "code",
   "execution_count": 40,
   "id": "f57c7236",
   "metadata": {},
   "outputs": [
    {
     "data": {
      "text/plain": [
       "'My name is John, and I am 67'"
      ]
     },
     "execution_count": 40,
     "metadata": {},
     "output_type": "execute_result"
    }
   ],
   "source": [
    "txt.format(67)"
   ]
  },
  {
   "cell_type": "code",
   "execution_count": 41,
   "id": "d04ed2d5",
   "metadata": {},
   "outputs": [
    {
     "name": "stdout",
     "output_type": "stream",
     "text": [
      "I want 567 pieces of item 3 for 49.95 dollars.\n"
     ]
    }
   ],
   "source": [
    "quantity = 3\n",
    "itemno = 567\n",
    "price = 49.95\n",
    "myorder = \"I want {} pieces of item {} for {} dollars.\"\n",
    "print(myorder.format(itemno, quantity, price))"
   ]
  },
  {
   "cell_type": "code",
   "execution_count": 42,
   "id": "dc6441e0",
   "metadata": {},
   "outputs": [
    {
     "name": "stdout",
     "output_type": "stream",
     "text": [
      "I want to pay 49.95 dollars for 3 pieces of item 567.\n"
     ]
    }
   ],
   "source": [
    "quantity = 3\n",
    "itemno = 567\n",
    "price = 49.95\n",
    "myorder = \"I want to pay {2} dollars for {0} pieces of item {1}.\"\n",
    "print(myorder.format(quantity, itemno, price))"
   ]
  },
  {
   "cell_type": "code",
   "execution_count": null,
   "id": "859c8cbc",
   "metadata": {},
   "outputs": [],
   "source": []
  }
 ],
 "metadata": {
  "kernelspec": {
   "display_name": "Python 3 (ipykernel)",
   "language": "python",
   "name": "python3"
  },
  "language_info": {
   "codemirror_mode": {
    "name": "ipython",
    "version": 3
   },
   "file_extension": ".py",
   "mimetype": "text/x-python",
   "name": "python",
   "nbconvert_exporter": "python",
   "pygments_lexer": "ipython3",
   "version": "3.9.7"
  }
 },
 "nbformat": 4,
 "nbformat_minor": 5
}
