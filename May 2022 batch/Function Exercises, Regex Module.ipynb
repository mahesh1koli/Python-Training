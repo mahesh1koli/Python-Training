{
 "cells": [
  {
   "cell_type": "code",
   "execution_count": 3,
   "id": "57e9d560",
   "metadata": {},
   "outputs": [],
   "source": [
    "output = (0, \"Teradata-5.6-x86_64\")"
   ]
  },
  {
   "cell_type": "code",
   "execution_count": 9,
   "id": "2a1f4fd3",
   "metadata": {},
   "outputs": [],
   "source": [
    "output = (0, \"\")"
   ]
  },
  {
   "cell_type": "code",
   "execution_count": 10,
   "id": "4c0f43c9",
   "metadata": {},
   "outputs": [
    {
     "data": {
      "text/plain": [
       "tuple"
      ]
     },
     "execution_count": 10,
     "metadata": {},
     "output_type": "execute_result"
    }
   ],
   "source": [
    "type(output)"
   ]
  },
  {
   "cell_type": "code",
   "execution_count": 11,
   "id": "39baf6b6",
   "metadata": {},
   "outputs": [
    {
     "name": "stdout",
     "output_type": "stream",
     "text": [
      "Failed\n"
     ]
    }
   ],
   "source": [
    "if output[1]:\n",
    "    print(\"Success\")\n",
    "else:\n",
    "    print(\"Failed\")"
   ]
  },
  {
   "cell_type": "code",
   "execution_count": 12,
   "id": "3808db8b",
   "metadata": {},
   "outputs": [],
   "source": [
    "import subprocess"
   ]
  },
  {
   "cell_type": "code",
   "execution_count": 15,
   "id": "c80a88eb",
   "metadata": {},
   "outputs": [],
   "source": [
    "import os"
   ]
  },
  {
   "cell_type": "code",
   "execution_count": 16,
   "id": "b655eb4e",
   "metadata": {},
   "outputs": [
    {
     "data": {
      "text/plain": [
       "'C:\\\\Users\\\\mahes\\\\Python Training - May 2022 Batch\\\\Wells Batch-1'"
      ]
     },
     "execution_count": 16,
     "metadata": {},
     "output_type": "execute_result"
    }
   ],
   "source": [
    "os.getcwd()  #pwd current working directory"
   ]
  },
  {
   "cell_type": "code",
   "execution_count": 18,
   "id": "51ceed60",
   "metadata": {},
   "outputs": [
    {
     "data": {
      "text/plain": [
       "'mahes'"
      ]
     },
     "execution_count": 18,
     "metadata": {},
     "output_type": "execute_result"
    }
   ],
   "source": [
    "os.getlogin()"
   ]
  },
  {
   "cell_type": "code",
   "execution_count": 19,
   "id": "65198dae",
   "metadata": {},
   "outputs": [
    {
     "data": {
      "text/plain": [
       "['.ipynb_checkpoints',\n",
       " 'Conditional Statements - If elif else (Session 2).ipynb',\n",
       " 'demo-1.ipynb',\n",
       " 'Dictionaries.ipynb',\n",
       " 'For Loop Exercise, Functions.ipynb',\n",
       " 'For Loops Excercises.ipynb',\n",
       " 'Lists.ipynb',\n",
       " 'Python Operators.ipynb',\n",
       " 'Recap, Loops.ipynb',\n",
       " 'Sets.ipynb',\n",
       " 'String - Methods - Formating.ipynb',\n",
       " 'Strings - Indexing, Slicing .ipynb',\n",
       " 'Strings - Methods.ipynb',\n",
       " 'Tuples.ipynb',\n",
       " 'Untitled.ipynb',\n",
       " 'wells_demo-1.ipynb',\n",
       " 'Wells_Demo-2.ipynb',\n",
       " 'While & For Loops.ipynb',\n",
       " 'While, For Loops.ipynb']"
      ]
     },
     "execution_count": 19,
     "metadata": {},
     "output_type": "execute_result"
    }
   ],
   "source": [
    "os.listdir()"
   ]
  },
  {
   "cell_type": "code",
   "execution_count": 22,
   "id": "7b88e6bd",
   "metadata": {},
   "outputs": [],
   "source": [
    "import sys"
   ]
  },
  {
   "cell_type": "code",
   "execution_count": 24,
   "id": "477ada7a",
   "metadata": {},
   "outputs": [
    {
     "data": {
      "text/plain": [
       "'win32'"
      ]
     },
     "execution_count": 24,
     "metadata": {},
     "output_type": "execute_result"
    }
   ],
   "source": [
    "sys.platform"
   ]
  },
  {
   "cell_type": "code",
   "execution_count": 25,
   "id": "e7e9b0fe",
   "metadata": {},
   "outputs": [
    {
     "data": {
      "text/plain": [
       "'3.9.7 (default, Sep 16 2021, 16:59:28) [MSC v.1916 64 bit (AMD64)]'"
      ]
     },
     "execution_count": 25,
     "metadata": {},
     "output_type": "execute_result"
    }
   ],
   "source": [
    "sys.version"
   ]
  },
  {
   "cell_type": "code",
   "execution_count": 27,
   "id": "b0a5a9f4",
   "metadata": {},
   "outputs": [],
   "source": [
    "sys.getprofile()"
   ]
  },
  {
   "cell_type": "code",
   "execution_count": 28,
   "id": "e7089216",
   "metadata": {},
   "outputs": [
    {
     "data": {
      "text/plain": [
       "sys.getwindowsversion(major=10, minor=0, build=22000, platform=2, service_pack='')"
      ]
     },
     "execution_count": 28,
     "metadata": {},
     "output_type": "execute_result"
    }
   ],
   "source": [
    "sys.getwindowsversion()"
   ]
  },
  {
   "cell_type": "code",
   "execution_count": 30,
   "id": "3e2536b4",
   "metadata": {},
   "outputs": [
    {
     "data": {
      "text/plain": [
       "'3.9'"
      ]
     },
     "execution_count": 30,
     "metadata": {},
     "output_type": "execute_result"
    }
   ],
   "source": [
    "sys.winver"
   ]
  },
  {
   "cell_type": "code",
   "execution_count": 31,
   "id": "ad5a7b0c",
   "metadata": {},
   "outputs": [],
   "source": [
    "# import os\n",
    "# import sys"
   ]
  },
  {
   "cell_type": "code",
   "execution_count": 32,
   "id": "2aec0456",
   "metadata": {},
   "outputs": [],
   "source": [
    "# Functions - Practice"
   ]
  },
  {
   "cell_type": "code",
   "execution_count": 37,
   "id": "936d0697",
   "metadata": {},
   "outputs": [
    {
     "name": "stdout",
     "output_type": "stream",
     "text": [
      "X value outside function is: 20\n"
     ]
    }
   ],
   "source": [
    "def my_func():\n",
    "    x = 10 #local variable for my_func\n",
    "    print(\"X value inside the function\",x)\n",
    "    \n",
    "x = 20\n",
    "print(\"X value outside function is:\",x)"
   ]
  },
  {
   "cell_type": "code",
   "execution_count": 38,
   "id": "5436f370",
   "metadata": {},
   "outputs": [
    {
     "name": "stdout",
     "output_type": "stream",
     "text": [
      "X value inside the function 10\n"
     ]
    }
   ],
   "source": [
    "my_func()"
   ]
  },
  {
   "cell_type": "code",
   "execution_count": 39,
   "id": "2bfdef71",
   "metadata": {},
   "outputs": [
    {
     "name": "stdout",
     "output_type": "stream",
     "text": [
      "20\n"
     ]
    }
   ],
   "source": [
    "print(x)"
   ]
  },
  {
   "cell_type": "code",
   "execution_count": 40,
   "id": "4d620ece",
   "metadata": {},
   "outputs": [],
   "source": [
    "import re"
   ]
  },
  {
   "cell_type": "code",
   "execution_count": null,
   "id": "a906b910",
   "metadata": {},
   "outputs": [],
   "source": [
    "re."
   ]
  }
 ],
 "metadata": {
  "kernelspec": {
   "display_name": "Python 3 (ipykernel)",
   "language": "python",
   "name": "python3"
  },
  "language_info": {
   "codemirror_mode": {
    "name": "ipython",
    "version": 3
   },
   "file_extension": ".py",
   "mimetype": "text/x-python",
   "name": "python",
   "nbconvert_exporter": "python",
   "pygments_lexer": "ipython3",
   "version": "3.9.7"
  }
 },
 "nbformat": 4,
 "nbformat_minor": 5
}
