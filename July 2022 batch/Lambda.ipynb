{
 "cells": [
  {
   "cell_type": "code",
   "execution_count": 1,
   "id": "baaadf55",
   "metadata": {},
   "outputs": [],
   "source": [
    "# Lambda functions - It's a shortcut to function\n",
    "# Syntax:\n",
    "# lambda <variables> : <expression>"
   ]
  },
  {
   "cell_type": "code",
   "execution_count": 2,
   "id": "21cdcfe5",
   "metadata": {},
   "outputs": [],
   "source": [
    "# addition operation using lambda function\n",
    "x = lambda a,b:a+b"
   ]
  },
  {
   "cell_type": "code",
   "execution_count": 3,
   "id": "8e4c17a7",
   "metadata": {},
   "outputs": [
    {
     "data": {
      "text/plain": [
       "function"
      ]
     },
     "execution_count": 3,
     "metadata": {},
     "output_type": "execute_result"
    }
   ],
   "source": [
    "type(x)"
   ]
  },
  {
   "cell_type": "code",
   "execution_count": 5,
   "id": "04c3ea2d",
   "metadata": {},
   "outputs": [
    {
     "data": {
      "text/plain": [
       "5"
      ]
     },
     "execution_count": 5,
     "metadata": {},
     "output_type": "execute_result"
    }
   ],
   "source": [
    "x(2,3)"
   ]
  },
  {
   "cell_type": "code",
   "execution_count": 6,
   "id": "6717a193",
   "metadata": {},
   "outputs": [
    {
     "data": {
      "text/plain": [
       "30"
      ]
     },
     "execution_count": 6,
     "metadata": {},
     "output_type": "execute_result"
    }
   ],
   "source": [
    "x(15,15)"
   ]
  },
  {
   "cell_type": "code",
   "execution_count": 8,
   "id": "79cf2da8",
   "metadata": {},
   "outputs": [],
   "source": [
    "y = lambda a:a+10"
   ]
  },
  {
   "cell_type": "code",
   "execution_count": 9,
   "id": "390fa991",
   "metadata": {},
   "outputs": [
    {
     "data": {
      "text/plain": [
       "function"
      ]
     },
     "execution_count": 9,
     "metadata": {},
     "output_type": "execute_result"
    }
   ],
   "source": [
    "type(y)"
   ]
  },
  {
   "cell_type": "code",
   "execution_count": 10,
   "id": "e2b1c90c",
   "metadata": {},
   "outputs": [
    {
     "data": {
      "text/plain": [
       "16"
      ]
     },
     "execution_count": 10,
     "metadata": {},
     "output_type": "execute_result"
    }
   ],
   "source": [
    "y(6)"
   ]
  },
  {
   "cell_type": "code",
   "execution_count": 11,
   "id": "2e5be2ab",
   "metadata": {},
   "outputs": [],
   "source": [
    "z = lambda a,b,c:(a**2+b**2+c**2)"
   ]
  },
  {
   "cell_type": "code",
   "execution_count": 12,
   "id": "b1260454",
   "metadata": {},
   "outputs": [
    {
     "data": {
      "text/plain": [
       "14"
      ]
     },
     "execution_count": 12,
     "metadata": {},
     "output_type": "execute_result"
    }
   ],
   "source": [
    "z(1,2,3)"
   ]
  },
  {
   "cell_type": "code",
   "execution_count": 13,
   "id": "3058c5cb",
   "metadata": {},
   "outputs": [],
   "source": [
    "# Lambda function within a function"
   ]
  },
  {
   "cell_type": "code",
   "execution_count": 14,
   "id": "b401dbad",
   "metadata": {},
   "outputs": [],
   "source": [
    "def myown(n):\n",
    "    return lambda a:a*n"
   ]
  },
  {
   "cell_type": "code",
   "execution_count": 15,
   "id": "45516973",
   "metadata": {},
   "outputs": [],
   "source": [
    "double = myown(2)"
   ]
  },
  {
   "cell_type": "code",
   "execution_count": 16,
   "id": "6ae8fa18",
   "metadata": {},
   "outputs": [],
   "source": [
    "triple = myown(3)"
   ]
  },
  {
   "cell_type": "code",
   "execution_count": 22,
   "id": "f804657a",
   "metadata": {},
   "outputs": [],
   "source": [
    "quadraple = myown(4)"
   ]
  },
  {
   "cell_type": "code",
   "execution_count": 23,
   "id": "cbc09760",
   "metadata": {},
   "outputs": [],
   "source": [
    "quintiple = myown(5)"
   ]
  },
  {
   "cell_type": "code",
   "execution_count": 17,
   "id": "dff2025b",
   "metadata": {},
   "outputs": [
    {
     "data": {
      "text/plain": [
       "function"
      ]
     },
     "execution_count": 17,
     "metadata": {},
     "output_type": "execute_result"
    }
   ],
   "source": [
    "type(double)"
   ]
  },
  {
   "cell_type": "code",
   "execution_count": 18,
   "id": "9c464fd6",
   "metadata": {},
   "outputs": [
    {
     "data": {
      "text/plain": [
       "function"
      ]
     },
     "execution_count": 18,
     "metadata": {},
     "output_type": "execute_result"
    }
   ],
   "source": [
    "type(triple)"
   ]
  },
  {
   "cell_type": "code",
   "execution_count": 19,
   "id": "cf855b25",
   "metadata": {},
   "outputs": [
    {
     "data": {
      "text/plain": [
       "20"
      ]
     },
     "execution_count": 19,
     "metadata": {},
     "output_type": "execute_result"
    }
   ],
   "source": [
    "double(10)"
   ]
  },
  {
   "cell_type": "code",
   "execution_count": 20,
   "id": "39a2c823",
   "metadata": {},
   "outputs": [
    {
     "data": {
      "text/plain": [
       "30"
      ]
     },
     "execution_count": 20,
     "metadata": {},
     "output_type": "execute_result"
    }
   ],
   "source": [
    "triple(10)"
   ]
  },
  {
   "cell_type": "code",
   "execution_count": 21,
   "id": "5f07f763",
   "metadata": {},
   "outputs": [
    {
     "data": {
      "text/plain": [
       "function"
      ]
     },
     "execution_count": 21,
     "metadata": {},
     "output_type": "execute_result"
    }
   ],
   "source": [
    "type(myown)"
   ]
  },
  {
   "cell_type": "code",
   "execution_count": 24,
   "id": "f3934522",
   "metadata": {},
   "outputs": [
    {
     "data": {
      "text/plain": [
       "40"
      ]
     },
     "execution_count": 24,
     "metadata": {},
     "output_type": "execute_result"
    }
   ],
   "source": [
    "quadraple(10)"
   ]
  },
  {
   "cell_type": "code",
   "execution_count": 25,
   "id": "162e9934",
   "metadata": {},
   "outputs": [
    {
     "data": {
      "text/plain": [
       "50"
      ]
     },
     "execution_count": 25,
     "metadata": {},
     "output_type": "execute_result"
    }
   ],
   "source": [
    "quintiple(10)"
   ]
  },
  {
   "cell_type": "code",
   "execution_count": 26,
   "id": "baf8c81b",
   "metadata": {},
   "outputs": [],
   "source": [
    "# Write a Python program to sort a list of tuples using Lambda.\n",
    "# Original list of tuples:\n",
    "# [('English', 88), ('Science', 90), ('Maths', 97), ('Social sciences', 82)]\n",
    "# Sorting the List of Tuples:\n",
    "# [('Social sciences', 82), ('English', 88), ('Science', 90), ('Maths', 97)]"
   ]
  },
  {
   "cell_type": "code",
   "execution_count": 80,
   "id": "4a41b4fe",
   "metadata": {},
   "outputs": [],
   "source": [
    "marks = [('English', 88), ('Science', 90), ('Maths', 97), ('Social sciences', 82)]"
   ]
  },
  {
   "cell_type": "code",
   "execution_count": 84,
   "id": "75087f12",
   "metadata": {},
   "outputs": [],
   "source": [
    "marks.sort(key=lambda x: x[1])"
   ]
  },
  {
   "cell_type": "code",
   "execution_count": 86,
   "id": "4fe91141",
   "metadata": {},
   "outputs": [
    {
     "data": {
      "text/plain": [
       "[('Social sciences', 82), ('English', 88), ('Science', 90), ('Maths', 97)]"
      ]
     },
     "execution_count": 86,
     "metadata": {},
     "output_type": "execute_result"
    }
   ],
   "source": [
    "marks"
   ]
  },
  {
   "cell_type": "code",
   "execution_count": null,
   "id": "916317d6",
   "metadata": {},
   "outputs": [],
   "source": [
    "# Write a Python program to sort a list of dictionaries using Lambda. Go to the editor\n",
    "# Original list of dictionaries :\n",
    "# [{'make': 'Nokia', 'model': 216, 'color': 'Black'}, {'make': 'Mi Max', 'model': '2', 'color': 'Gold'}, {'make': 'Samsung', 'model': 7, 'color': 'Blue'}]"
   ]
  },
  {
   "cell_type": "code",
   "execution_count": 87,
   "id": "9c5b6b19",
   "metadata": {},
   "outputs": [],
   "source": [
    "z = [{'make': 'Nokia', 'model': 216, 'color': 'Black'}, {'make': 'Mi Max', 'model': '2', 'color': 'Gold'}, {'make': 'Samsung', 'model': 7, 'color': 'Blue'}]"
   ]
  },
  {
   "cell_type": "code",
   "execution_count": 88,
   "id": "8ebca161",
   "metadata": {},
   "outputs": [
    {
     "data": {
      "text/plain": [
       "[{'make': 'Nokia', 'model': 216, 'color': 'Black'},\n",
       " {'make': 'Mi Max', 'model': '2', 'color': 'Gold'},\n",
       " {'make': 'Samsung', 'model': 7, 'color': 'Blue'}]"
      ]
     },
     "execution_count": 88,
     "metadata": {},
     "output_type": "execute_result"
    }
   ],
   "source": [
    "z"
   ]
  },
  {
   "cell_type": "code",
   "execution_count": 89,
   "id": "14c4706e",
   "metadata": {},
   "outputs": [],
   "source": [
    "output = [{'make': 'Nokia', 'model': 216, 'color': 'Black'}, {'make': 'Samsung', 'model': 7, 'color': 'Blue'}, {'make': 'Mi Max', 'model': '2', 'color': 'Gold'}]"
   ]
  },
  {
   "cell_type": "code",
   "execution_count": 90,
   "id": "afd75c7b",
   "metadata": {},
   "outputs": [
    {
     "data": {
      "text/plain": [
       "[{'make': 'Nokia', 'model': 216, 'color': 'Black'},\n",
       " {'make': 'Samsung', 'model': 7, 'color': 'Blue'},\n",
       " {'make': 'Mi Max', 'model': '2', 'color': 'Gold'}]"
      ]
     },
     "execution_count": 90,
     "metadata": {},
     "output_type": "execute_result"
    }
   ],
   "source": [
    "output"
   ]
  },
  {
   "cell_type": "code",
   "execution_count": 103,
   "id": "73f514c0",
   "metadata": {},
   "outputs": [
    {
     "data": {
      "text/plain": [
       "[{'make': 'Nokia', 'model': 216, 'color': 'Black'},\n",
       " {'make': 'Mi Max', 'model': '2', 'color': 'Gold'},\n",
       " {'make': 'Samsung', 'model': 7, 'color': 'Blue'}]"
      ]
     },
     "execution_count": 103,
     "metadata": {},
     "output_type": "execute_result"
    }
   ],
   "source": [
    "z"
   ]
  },
  {
   "cell_type": "code",
   "execution_count": 111,
   "id": "81300a86",
   "metadata": {},
   "outputs": [
    {
     "data": {
      "text/plain": [
       "list"
      ]
     },
     "execution_count": 111,
     "metadata": {},
     "output_type": "execute_result"
    }
   ],
   "source": [
    "type(z)"
   ]
  },
  {
   "cell_type": "code",
   "execution_count": 121,
   "id": "9afea618",
   "metadata": {},
   "outputs": [
    {
     "data": {
      "text/plain": [
       "[{'make': 'Samsung', 'model': 7, 'color': 'Blue'},\n",
       " {'make': 'Nokia', 'model': 216, 'color': 'Black'},\n",
       " {'make': 'Mi Max', 'model': '2', 'color': 'Gold'}]"
      ]
     },
     "execution_count": 121,
     "metadata": {},
     "output_type": "execute_result"
    }
   ],
   "source": [
    "sorted(z, key = lambda x: x['make'],reverse=True)"
   ]
  },
  {
   "cell_type": "code",
   "execution_count": 107,
   "id": "0291e37c",
   "metadata": {},
   "outputs": [
    {
     "data": {
      "text/plain": [
       "{'make': 'Nokia', 'model': 216, 'color': 'Black'}"
      ]
     },
     "execution_count": 107,
     "metadata": {},
     "output_type": "execute_result"
    }
   ],
   "source": [
    "z[0]"
   ]
  },
  {
   "cell_type": "code",
   "execution_count": 108,
   "id": "837a319e",
   "metadata": {},
   "outputs": [
    {
     "data": {
      "text/plain": [
       "{'make': 'Mi Max', 'model': '2', 'color': 'Gold'}"
      ]
     },
     "execution_count": 108,
     "metadata": {},
     "output_type": "execute_result"
    }
   ],
   "source": [
    "z[1]"
   ]
  },
  {
   "cell_type": "code",
   "execution_count": 109,
   "id": "c0bbcac6",
   "metadata": {},
   "outputs": [
    {
     "data": {
      "text/plain": [
       "{'make': 'Samsung', 'model': 7, 'color': 'Blue'}"
      ]
     },
     "execution_count": 109,
     "metadata": {},
     "output_type": "execute_result"
    }
   ],
   "source": [
    "z[2]"
   ]
  },
  {
   "cell_type": "code",
   "execution_count": 117,
   "id": "b9a3c71f",
   "metadata": {},
   "outputs": [],
   "source": [
    "a=[3,32,4]"
   ]
  },
  {
   "cell_type": "code",
   "execution_count": 118,
   "id": "1b4add05",
   "metadata": {},
   "outputs": [
    {
     "data": {
      "text/plain": [
       "[3, 4, 32]"
      ]
     },
     "execution_count": 118,
     "metadata": {},
     "output_type": "execute_result"
    }
   ],
   "source": [
    "sorted(a)"
   ]
  },
  {
   "cell_type": "code",
   "execution_count": 119,
   "id": "403928a9",
   "metadata": {},
   "outputs": [
    {
     "name": "stdout",
     "output_type": "stream",
     "text": [
      "Help on built-in function sorted in module builtins:\n",
      "\n",
      "sorted(iterable, /, *, key=None, reverse=False)\n",
      "    Return a new list containing all items from the iterable in ascending order.\n",
      "    \n",
      "    A custom key function can be supplied to customize the sort order, and the\n",
      "    reverse flag can be set to request the result in descending order.\n",
      "\n"
     ]
    }
   ],
   "source": [
    "help(sorted)"
   ]
  },
  {
   "cell_type": "code",
   "execution_count": null,
   "id": "fac36b48",
   "metadata": {},
   "outputs": [],
   "source": []
  }
 ],
 "metadata": {
  "kernelspec": {
   "display_name": "Python 3",
   "language": "python",
   "name": "python3"
  },
  "language_info": {
   "codemirror_mode": {
    "name": "ipython",
    "version": 3
   },
   "file_extension": ".py",
   "mimetype": "text/x-python",
   "name": "python",
   "nbconvert_exporter": "python",
   "pygments_lexer": "ipython3",
   "version": "3.10.4"
  }
 },
 "nbformat": 4,
 "nbformat_minor": 5
}
