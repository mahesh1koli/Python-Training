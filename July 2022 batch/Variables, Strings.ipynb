{
 "cells": [
  {
   "cell_type": "markdown",
   "id": "bcafd897",
   "metadata": {},
   "source": [
    "#### Declaring Variables"
   ]
  },
  {
   "cell_type": "code",
   "execution_count": null,
   "id": "6eadbe0f",
   "metadata": {},
   "outputs": [],
   "source": [
    "# -ve Testing"
   ]
  },
  {
   "cell_type": "code",
   "execution_count": 1,
   "id": "5213f105",
   "metadata": {},
   "outputs": [
    {
     "ename": "SyntaxError",
     "evalue": "invalid decimal literal (810581795.py, line 1)",
     "output_type": "error",
     "traceback": [
      "\u001b[1;36m  Input \u001b[1;32mIn [1]\u001b[1;36m\u001b[0m\n\u001b[1;33m    12g = 45\u001b[0m\n\u001b[1;37m     ^\u001b[0m\n\u001b[1;31mSyntaxError\u001b[0m\u001b[1;31m:\u001b[0m invalid decimal literal\n"
     ]
    }
   ],
   "source": [
    "12g = 45"
   ]
  },
  {
   "cell_type": "code",
   "execution_count": 2,
   "id": "eeb0348b",
   "metadata": {},
   "outputs": [
    {
     "ename": "SyntaxError",
     "evalue": "cannot assign to expression here. Maybe you meant '==' instead of '='? (763485611.py, line 1)",
     "output_type": "error",
     "traceback": [
      "\u001b[1;36m  Input \u001b[1;32mIn [2]\u001b[1;36m\u001b[0m\n\u001b[1;33m    hello&how = 56\u001b[0m\n\u001b[1;37m    ^\u001b[0m\n\u001b[1;31mSyntaxError\u001b[0m\u001b[1;31m:\u001b[0m cannot assign to expression here. Maybe you meant '==' instead of '='?\n"
     ]
    }
   ],
   "source": [
    "hello&how = 56"
   ]
  },
  {
   "cell_type": "code",
   "execution_count": 3,
   "id": "60d546cc",
   "metadata": {},
   "outputs": [],
   "source": [
    "age = 45"
   ]
  },
  {
   "cell_type": "code",
   "execution_count": 4,
   "id": "a4d6afa7",
   "metadata": {},
   "outputs": [],
   "source": [
    "Age = 32"
   ]
  },
  {
   "cell_type": "code",
   "execution_count": 5,
   "id": "d15c2d59",
   "metadata": {},
   "outputs": [],
   "source": [
    "AGE = 24"
   ]
  },
  {
   "cell_type": "code",
   "execution_count": 6,
   "id": "db8d0bd7",
   "metadata": {},
   "outputs": [
    {
     "data": {
      "text/plain": [
       "45"
      ]
     },
     "execution_count": 6,
     "metadata": {},
     "output_type": "execute_result"
    }
   ],
   "source": [
    "age"
   ]
  },
  {
   "cell_type": "code",
   "execution_count": 7,
   "id": "ba7bb37a",
   "metadata": {},
   "outputs": [
    {
     "data": {
      "text/plain": [
       "32"
      ]
     },
     "execution_count": 7,
     "metadata": {},
     "output_type": "execute_result"
    }
   ],
   "source": [
    "Age"
   ]
  },
  {
   "cell_type": "code",
   "execution_count": 8,
   "id": "268e3aeb",
   "metadata": {},
   "outputs": [
    {
     "data": {
      "text/plain": [
       "24"
      ]
     },
     "execution_count": 8,
     "metadata": {},
     "output_type": "execute_result"
    }
   ],
   "source": [
    "AGE"
   ]
  },
  {
   "cell_type": "code",
   "execution_count": 9,
   "id": "3aa377ce",
   "metadata": {},
   "outputs": [],
   "source": [
    "group_d = 466"
   ]
  },
  {
   "cell_type": "code",
   "execution_count": 10,
   "id": "114450cf",
   "metadata": {},
   "outputs": [
    {
     "data": {
      "text/plain": [
       "466"
      ]
     },
     "execution_count": 10,
     "metadata": {},
     "output_type": "execute_result"
    }
   ],
   "source": [
    "group_d"
   ]
  },
  {
   "cell_type": "code",
   "execution_count": 11,
   "id": "2c39812c",
   "metadata": {},
   "outputs": [
    {
     "ename": "SyntaxError",
     "evalue": "invalid syntax (400266478.py, line 1)",
     "output_type": "error",
     "traceback": [
      "\u001b[1;36m  Input \u001b[1;32mIn [11]\u001b[1;36m\u001b[0m\n\u001b[1;33m    if = 24\u001b[0m\n\u001b[1;37m       ^\u001b[0m\n\u001b[1;31mSyntaxError\u001b[0m\u001b[1;31m:\u001b[0m invalid syntax\n"
     ]
    }
   ],
   "source": [
    "if = 24"
   ]
  },
  {
   "cell_type": "markdown",
   "id": "0666b33a",
   "metadata": {},
   "source": [
    "### Strings"
   ]
  },
  {
   "cell_type": "code",
   "execution_count": null,
   "id": "b5976abd",
   "metadata": {},
   "outputs": [],
   "source": [
    "# All the strings we need to put it in either '' or \"\" (both are same)"
   ]
  },
  {
   "cell_type": "code",
   "execution_count": 12,
   "id": "bda5eb2b",
   "metadata": {},
   "outputs": [],
   "source": [
    "# Concatenation (+)"
   ]
  },
  {
   "cell_type": "code",
   "execution_count": 13,
   "id": "1ac617ff",
   "metadata": {},
   "outputs": [
    {
     "data": {
      "text/plain": [
       "'hellosridhar'"
      ]
     },
     "execution_count": 13,
     "metadata": {},
     "output_type": "execute_result"
    }
   ],
   "source": [
    "'hello'+'sridhar'"
   ]
  },
  {
   "cell_type": "code",
   "execution_count": 14,
   "id": "a50b3b31",
   "metadata": {},
   "outputs": [
    {
     "data": {
      "text/plain": [
       "'hellosridhar'"
      ]
     },
     "execution_count": 14,
     "metadata": {},
     "output_type": "execute_result"
    }
   ],
   "source": [
    "\"hello\"+\"sridhar\""
   ]
  },
  {
   "cell_type": "code",
   "execution_count": 15,
   "id": "51f5b825",
   "metadata": {},
   "outputs": [],
   "source": [
    "# hello sridhar"
   ]
  },
  {
   "cell_type": "code",
   "execution_count": 16,
   "id": "218555a5",
   "metadata": {},
   "outputs": [
    {
     "data": {
      "text/plain": [
       "'hello sridhar'"
      ]
     },
     "execution_count": 16,
     "metadata": {},
     "output_type": "execute_result"
    }
   ],
   "source": [
    "\"hello \"+\"sridhar\""
   ]
  },
  {
   "cell_type": "code",
   "execution_count": 17,
   "id": "34627474",
   "metadata": {},
   "outputs": [
    {
     "data": {
      "text/plain": [
       "'hello sridhar'"
      ]
     },
     "execution_count": 17,
     "metadata": {},
     "output_type": "execute_result"
    }
   ],
   "source": [
    "\"hello\"+\" sridhar\""
   ]
  },
  {
   "cell_type": "code",
   "execution_count": 18,
   "id": "2a557977",
   "metadata": {},
   "outputs": [],
   "source": [
    "# Repetition"
   ]
  },
  {
   "cell_type": "code",
   "execution_count": 19,
   "id": "bd8fdef2",
   "metadata": {},
   "outputs": [
    {
     "data": {
      "text/plain": [
       "'pythonpythonpythonpythonpythonpythonpythonpythonpythonpython'"
      ]
     },
     "execution_count": 19,
     "metadata": {},
     "output_type": "execute_result"
    }
   ],
   "source": [
    "'python'*10"
   ]
  },
  {
   "cell_type": "code",
   "execution_count": 20,
   "id": "4219bdc5",
   "metadata": {},
   "outputs": [],
   "source": [
    "# Heading"
   ]
  },
  {
   "cell_type": "code",
   "execution_count": 21,
   "id": "39fe5899",
   "metadata": {},
   "outputs": [],
   "source": [
    "# ********************************************************\n",
    "# Welcome to Python Class\n",
    "# ********************************************************"
   ]
  },
  {
   "cell_type": "code",
   "execution_count": 22,
   "id": "46e3d664",
   "metadata": {},
   "outputs": [
    {
     "data": {
      "text/plain": [
       "'**********************************************************************'"
      ]
     },
     "execution_count": 22,
     "metadata": {},
     "output_type": "execute_result"
    }
   ],
   "source": [
    "'*'*70"
   ]
  },
  {
   "cell_type": "code",
   "execution_count": 23,
   "id": "30fcd007",
   "metadata": {},
   "outputs": [
    {
     "data": {
      "text/plain": [
       "'Welcome to python class'"
      ]
     },
     "execution_count": 23,
     "metadata": {},
     "output_type": "execute_result"
    }
   ],
   "source": [
    "'Welcome to python class'"
   ]
  },
  {
   "cell_type": "code",
   "execution_count": 24,
   "id": "247ac184",
   "metadata": {},
   "outputs": [
    {
     "data": {
      "text/plain": [
       "'**********************************************************************'"
      ]
     },
     "execution_count": 24,
     "metadata": {},
     "output_type": "execute_result"
    }
   ],
   "source": [
    "\"*\"*70"
   ]
  },
  {
   "cell_type": "code",
   "execution_count": 25,
   "id": "ef026dca",
   "metadata": {},
   "outputs": [
    {
     "data": {
      "text/plain": [
       "'**********************************************************************'"
      ]
     },
     "execution_count": 25,
     "metadata": {},
     "output_type": "execute_result"
    }
   ],
   "source": [
    "'*'*70\n",
    "'Welcome to python class'\n",
    "\"*\"*70"
   ]
  },
  {
   "cell_type": "code",
   "execution_count": 26,
   "id": "59f7bf7f",
   "metadata": {},
   "outputs": [
    {
     "name": "stdout",
     "output_type": "stream",
     "text": [
      "**********************************************************************\n",
      "Welcome to python class\n",
      "**********************************************************************\n"
     ]
    }
   ],
   "source": [
    "print('*'*70)\n",
    "print('Welcome to python class')\n",
    "print(\"*\"*70)"
   ]
  },
  {
   "cell_type": "code",
   "execution_count": 27,
   "id": "bdb2ecde",
   "metadata": {},
   "outputs": [
    {
     "data": {
      "text/plain": [
       "'********************************************************************'"
      ]
     },
     "execution_count": 27,
     "metadata": {},
     "output_type": "execute_result"
    }
   ],
   "source": [
    "'********************************************************************'"
   ]
  },
  {
   "cell_type": "code",
   "execution_count": 29,
   "id": "d3b081ec",
   "metadata": {},
   "outputs": [],
   "source": [
    "# Indexing (Possitive, Negative)"
   ]
  },
  {
   "cell_type": "code",
   "execution_count": 30,
   "id": "412541e1",
   "metadata": {},
   "outputs": [
    {
     "data": {
      "text/plain": [
       "'h'"
      ]
     },
     "execution_count": 30,
     "metadata": {},
     "output_type": "execute_result"
    }
   ],
   "source": [
    "'hello'[0]"
   ]
  },
  {
   "cell_type": "code",
   "execution_count": 31,
   "id": "a69bff90",
   "metadata": {},
   "outputs": [
    {
     "data": {
      "text/plain": [
       "'o'"
      ]
     },
     "execution_count": 31,
     "metadata": {},
     "output_type": "execute_result"
    }
   ],
   "source": [
    "'hello'[-1]"
   ]
  },
  {
   "cell_type": "code",
   "execution_count": 32,
   "id": "53805b27",
   "metadata": {},
   "outputs": [
    {
     "data": {
      "text/plain": [
       "'e'"
      ]
     },
     "execution_count": 32,
     "metadata": {},
     "output_type": "execute_result"
    }
   ],
   "source": [
    "'bananatree'[-1]"
   ]
  },
  {
   "cell_type": "code",
   "execution_count": 33,
   "id": "f0cddb30",
   "metadata": {},
   "outputs": [
    {
     "data": {
      "text/plain": [
       "'b'"
      ]
     },
     "execution_count": 33,
     "metadata": {},
     "output_type": "execute_result"
    }
   ],
   "source": [
    "'bananatree'[0]"
   ]
  },
  {
   "cell_type": "code",
   "execution_count": 34,
   "id": "69465433",
   "metadata": {},
   "outputs": [
    {
     "data": {
      "text/plain": [
       "'t'"
      ]
     },
     "execution_count": 34,
     "metadata": {},
     "output_type": "execute_result"
    }
   ],
   "source": [
    "'bananatree'[-4]"
   ]
  },
  {
   "cell_type": "code",
   "execution_count": 35,
   "id": "c902c127",
   "metadata": {},
   "outputs": [
    {
     "data": {
      "text/plain": [
       "'t'"
      ]
     },
     "execution_count": 35,
     "metadata": {},
     "output_type": "execute_result"
    }
   ],
   "source": [
    "'bananatree'[6]"
   ]
  },
  {
   "cell_type": "code",
   "execution_count": 36,
   "id": "1eb61cb1",
   "metadata": {},
   "outputs": [],
   "source": [
    "# Sclicing (Start : end number+1)"
   ]
  },
  {
   "cell_type": "code",
   "execution_count": 37,
   "id": "b7b4f2c3",
   "metadata": {},
   "outputs": [
    {
     "data": {
      "text/plain": [
       "'l'"
      ]
     },
     "execution_count": 37,
     "metadata": {},
     "output_type": "execute_result"
    }
   ],
   "source": [
    "'hello'[3:4]"
   ]
  },
  {
   "cell_type": "code",
   "execution_count": 38,
   "id": "0e834625",
   "metadata": {},
   "outputs": [
    {
     "data": {
      "text/plain": [
       "'lo'"
      ]
     },
     "execution_count": 38,
     "metadata": {},
     "output_type": "execute_result"
    }
   ],
   "source": [
    "'hello'[3:5]"
   ]
  },
  {
   "cell_type": "code",
   "execution_count": 41,
   "id": "c1e3f722",
   "metadata": {},
   "outputs": [
    {
     "data": {
      "text/plain": [
       "'he'"
      ]
     },
     "execution_count": 41,
     "metadata": {},
     "output_type": "execute_result"
    }
   ],
   "source": [
    "'hello'[0:2]"
   ]
  },
  {
   "cell_type": "code",
   "execution_count": 42,
   "id": "4936f6da",
   "metadata": {},
   "outputs": [
    {
     "data": {
      "text/plain": [
       "'ell'"
      ]
     },
     "execution_count": 42,
     "metadata": {},
     "output_type": "execute_result"
    }
   ],
   "source": [
    "'hello'[1:4]"
   ]
  },
  {
   "cell_type": "code",
   "execution_count": null,
   "id": "21aa727a",
   "metadata": {},
   "outputs": [],
   "source": [
    "# Negative Index (start : end number+1)"
   ]
  },
  {
   "cell_type": "code",
   "execution_count": 45,
   "id": "60b54ce3",
   "metadata": {},
   "outputs": [
    {
     "data": {
      "text/plain": [
       "'th'"
      ]
     },
     "execution_count": 45,
     "metadata": {},
     "output_type": "execute_result"
    }
   ],
   "source": [
    "'python'[-4:-2]"
   ]
  },
  {
   "cell_type": "code",
   "execution_count": 46,
   "id": "b9ba3e60",
   "metadata": {},
   "outputs": [
    {
     "data": {
      "text/plain": [
       "'py'"
      ]
     },
     "execution_count": 46,
     "metadata": {},
     "output_type": "execute_result"
    }
   ],
   "source": [
    "'python'[-6:-4]"
   ]
  },
  {
   "cell_type": "code",
   "execution_count": 47,
   "id": "d6872707",
   "metadata": {},
   "outputs": [],
   "source": [
    "# Size"
   ]
  },
  {
   "cell_type": "code",
   "execution_count": 48,
   "id": "41fc23c5",
   "metadata": {},
   "outputs": [
    {
     "data": {
      "text/plain": [
       "6"
      ]
     },
     "execution_count": 48,
     "metadata": {},
     "output_type": "execute_result"
    }
   ],
   "source": [
    "len('python')"
   ]
  },
  {
   "cell_type": "code",
   "execution_count": 49,
   "id": "33cb26fe",
   "metadata": {},
   "outputs": [
    {
     "data": {
      "text/plain": [
       "17"
      ]
     },
     "execution_count": 49,
     "metadata": {},
     "output_type": "execute_result"
    }
   ],
   "source": [
    "len('thisispythonclass')"
   ]
  },
  {
   "cell_type": "code",
   "execution_count": 50,
   "id": "a8c29916",
   "metadata": {},
   "outputs": [
    {
     "data": {
      "text/plain": [
       "20"
      ]
     },
     "execution_count": 50,
     "metadata": {},
     "output_type": "execute_result"
    }
   ],
   "source": [
    "len('this is python class')"
   ]
  },
  {
   "cell_type": "code",
   "execution_count": 51,
   "id": "7380de30",
   "metadata": {},
   "outputs": [],
   "source": [
    "# Search operation"
   ]
  },
  {
   "cell_type": "code",
   "execution_count": 52,
   "id": "a8e314d9",
   "metadata": {},
   "outputs": [
    {
     "data": {
      "text/plain": [
       "False"
      ]
     },
     "execution_count": 52,
     "metadata": {},
     "output_type": "execute_result"
    }
   ],
   "source": [
    "'e' in 'python'"
   ]
  },
  {
   "cell_type": "code",
   "execution_count": 53,
   "id": "e484f994",
   "metadata": {},
   "outputs": [
    {
     "data": {
      "text/plain": [
       "True"
      ]
     },
     "execution_count": 53,
     "metadata": {},
     "output_type": "execute_result"
    }
   ],
   "source": [
    "'o' in 'python'"
   ]
  },
  {
   "cell_type": "code",
   "execution_count": null,
   "id": "8298f296",
   "metadata": {},
   "outputs": [],
   "source": [
    "# Comparision"
   ]
  },
  {
   "cell_type": "code",
   "execution_count": 54,
   "id": "b76dcad1",
   "metadata": {},
   "outputs": [
    {
     "data": {
      "text/plain": [
       "True"
      ]
     },
     "execution_count": 54,
     "metadata": {},
     "output_type": "execute_result"
    }
   ],
   "source": [
    "'python' > 'hello'"
   ]
  },
  {
   "cell_type": "code",
   "execution_count": 55,
   "id": "7ac0c087",
   "metadata": {},
   "outputs": [
    {
     "data": {
      "text/plain": [
       "False"
      ]
     },
     "execution_count": 55,
     "metadata": {},
     "output_type": "execute_result"
    }
   ],
   "source": [
    "'python' < 'hello'"
   ]
  },
  {
   "cell_type": "code",
   "execution_count": null,
   "id": "e12d2137",
   "metadata": {},
   "outputs": [],
   "source": []
  }
 ],
 "metadata": {
  "kernelspec": {
   "display_name": "Python 3",
   "language": "python",
   "name": "python3"
  },
  "language_info": {
   "codemirror_mode": {
    "name": "ipython",
    "version": 3
   },
   "file_extension": ".py",
   "mimetype": "text/x-python",
   "name": "python",
   "nbconvert_exporter": "python",
   "pygments_lexer": "ipython3",
   "version": "3.10.4"
  }
 },
 "nbformat": 4,
 "nbformat_minor": 5
}
