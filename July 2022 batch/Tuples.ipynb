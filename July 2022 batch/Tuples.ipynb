{
 "cells": [
  {
   "cell_type": "code",
   "execution_count": 3,
   "id": "e347d085",
   "metadata": {},
   "outputs": [],
   "source": [
    "# Tuples - Ordered, Immutable, Allow duplicates\n",
    "# () or tuple()\n",
    "# ('single value',)  #Trailing comma to consider as tuple"
   ]
  },
  {
   "cell_type": "code",
   "execution_count": 4,
   "id": "8df9ee04",
   "metadata": {},
   "outputs": [],
   "source": [
    "a = (5)"
   ]
  },
  {
   "cell_type": "code",
   "execution_count": 5,
   "id": "8a8e25e3",
   "metadata": {},
   "outputs": [
    {
     "data": {
      "text/plain": [
       "int"
      ]
     },
     "execution_count": 5,
     "metadata": {},
     "output_type": "execute_result"
    }
   ],
   "source": [
    "type(a)"
   ]
  },
  {
   "cell_type": "code",
   "execution_count": 6,
   "id": "8ef9c0c9",
   "metadata": {},
   "outputs": [],
   "source": [
    "a = (5,)  #Trailing comma makes tuple"
   ]
  },
  {
   "cell_type": "code",
   "execution_count": 7,
   "id": "afa925b9",
   "metadata": {},
   "outputs": [
    {
     "data": {
      "text/plain": [
       "tuple"
      ]
     },
     "execution_count": 7,
     "metadata": {},
     "output_type": "execute_result"
    }
   ],
   "source": [
    "type(a)"
   ]
  },
  {
   "cell_type": "code",
   "execution_count": 8,
   "id": "ac8df25f",
   "metadata": {},
   "outputs": [],
   "source": [
    "b = ('beacon','bird','peacock',53, 33.33)"
   ]
  },
  {
   "cell_type": "code",
   "execution_count": 9,
   "id": "edd0e5e5",
   "metadata": {},
   "outputs": [
    {
     "data": {
      "text/plain": [
       "('beacon', 'bird', 'peacock', 53, 33.33)"
      ]
     },
     "execution_count": 9,
     "metadata": {},
     "output_type": "execute_result"
    }
   ],
   "source": [
    "b"
   ]
  },
  {
   "cell_type": "code",
   "execution_count": 10,
   "id": "4d9f1cce",
   "metadata": {},
   "outputs": [
    {
     "data": {
      "text/plain": [
       "tuple"
      ]
     },
     "execution_count": 10,
     "metadata": {},
     "output_type": "execute_result"
    }
   ],
   "source": [
    "type(b)"
   ]
  },
  {
   "cell_type": "code",
   "execution_count": 11,
   "id": "040515cb",
   "metadata": {},
   "outputs": [],
   "source": [
    "#Index based"
   ]
  },
  {
   "cell_type": "code",
   "execution_count": 12,
   "id": "706d26ef",
   "metadata": {},
   "outputs": [
    {
     "data": {
      "text/plain": [
       "'beacon'"
      ]
     },
     "execution_count": 12,
     "metadata": {},
     "output_type": "execute_result"
    }
   ],
   "source": [
    "b[0]"
   ]
  },
  {
   "cell_type": "code",
   "execution_count": 13,
   "id": "9eba05d7",
   "metadata": {},
   "outputs": [
    {
     "data": {
      "text/plain": [
       "33.33"
      ]
     },
     "execution_count": 13,
     "metadata": {},
     "output_type": "execute_result"
    }
   ],
   "source": [
    "b[-1]"
   ]
  },
  {
   "cell_type": "code",
   "execution_count": 14,
   "id": "1a568e9a",
   "metadata": {},
   "outputs": [
    {
     "data": {
      "text/plain": [
       "(33.33, 53, 'peacock', 'bird', 'beacon')"
      ]
     },
     "execution_count": 14,
     "metadata": {},
     "output_type": "execute_result"
    }
   ],
   "source": [
    "b[::-1]"
   ]
  },
  {
   "cell_type": "code",
   "execution_count": 15,
   "id": "743d6579",
   "metadata": {},
   "outputs": [
    {
     "data": {
      "text/plain": [
       "('beacon', 'bird', 'peacock')"
      ]
     },
     "execution_count": 15,
     "metadata": {},
     "output_type": "execute_result"
    }
   ],
   "source": [
    "b[0:3]"
   ]
  },
  {
   "cell_type": "code",
   "execution_count": 16,
   "id": "beeb6c66",
   "metadata": {},
   "outputs": [
    {
     "data": {
      "text/plain": [
       "('bird', 53)"
      ]
     },
     "execution_count": 16,
     "metadata": {},
     "output_type": "execute_result"
    }
   ],
   "source": [
    "b[1:4:2]"
   ]
  },
  {
   "cell_type": "code",
   "execution_count": 17,
   "id": "575a786b",
   "metadata": {},
   "outputs": [],
   "source": [
    "#Substitution"
   ]
  },
  {
   "cell_type": "code",
   "execution_count": 18,
   "id": "888b7495",
   "metadata": {},
   "outputs": [
    {
     "data": {
      "text/plain": [
       "('beacon', 'bird', 'peacock', 53, 33.33)"
      ]
     },
     "execution_count": 18,
     "metadata": {},
     "output_type": "execute_result"
    }
   ],
   "source": [
    "b"
   ]
  },
  {
   "cell_type": "code",
   "execution_count": 19,
   "id": "8be4943e",
   "metadata": {},
   "outputs": [
    {
     "ename": "TypeError",
     "evalue": "'tuple' object does not support item assignment",
     "output_type": "error",
     "traceback": [
      "\u001b[1;31m---------------------------------------------------------------------------\u001b[0m",
      "\u001b[1;31mTypeError\u001b[0m                                 Traceback (most recent call last)",
      "Input \u001b[1;32mIn [19]\u001b[0m, in \u001b[0;36m<cell line: 1>\u001b[1;34m()\u001b[0m\n\u001b[1;32m----> 1\u001b[0m b[\u001b[38;5;241m1\u001b[39m] \u001b[38;5;241m=\u001b[39m \u001b[38;5;124m'\u001b[39m\u001b[38;5;124mhello\u001b[39m\u001b[38;5;124m'\u001b[39m\n",
      "\u001b[1;31mTypeError\u001b[0m: 'tuple' object does not support item assignment"
     ]
    }
   ],
   "source": [
    "b[1] = 'hello'"
   ]
  },
  {
   "cell_type": "code",
   "execution_count": null,
   "id": "c2ca8d1d",
   "metadata": {},
   "outputs": [],
   "source": [
    "#Tuple methods (count, index)"
   ]
  },
  {
   "cell_type": "code",
   "execution_count": 20,
   "id": "a20d8de5",
   "metadata": {},
   "outputs": [
    {
     "data": {
      "text/plain": [
       "1"
      ]
     },
     "execution_count": 20,
     "metadata": {},
     "output_type": "execute_result"
    }
   ],
   "source": [
    "b.count(33.33)"
   ]
  },
  {
   "cell_type": "code",
   "execution_count": 21,
   "id": "966d7d53",
   "metadata": {},
   "outputs": [
    {
     "data": {
      "text/plain": [
       "1"
      ]
     },
     "execution_count": 21,
     "metadata": {},
     "output_type": "execute_result"
    }
   ],
   "source": [
    "b.index('bird')"
   ]
  },
  {
   "cell_type": "code",
   "execution_count": 22,
   "id": "39ebea13",
   "metadata": {},
   "outputs": [
    {
     "data": {
      "text/plain": [
       "3"
      ]
     },
     "execution_count": 22,
     "metadata": {},
     "output_type": "execute_result"
    }
   ],
   "source": [
    "b.index(53)"
   ]
  },
  {
   "cell_type": "code",
   "execution_count": 23,
   "id": "ae54e446",
   "metadata": {},
   "outputs": [],
   "source": [
    "# Alternate method to subtitute objects in the tuple"
   ]
  },
  {
   "cell_type": "code",
   "execution_count": 24,
   "id": "12a9df92",
   "metadata": {},
   "outputs": [],
   "source": [
    "# Convert tuple to list - do modifications - again covert back to tuple - list()"
   ]
  },
  {
   "cell_type": "code",
   "execution_count": 25,
   "id": "00c40a48",
   "metadata": {},
   "outputs": [
    {
     "data": {
      "text/plain": [
       "('beacon', 'bird', 'peacock', 53, 33.33)"
      ]
     },
     "execution_count": 25,
     "metadata": {},
     "output_type": "execute_result"
    }
   ],
   "source": [
    "b  # Tuple"
   ]
  },
  {
   "cell_type": "code",
   "execution_count": 26,
   "id": "f555435f",
   "metadata": {},
   "outputs": [],
   "source": [
    "c = list(b)  # Tuple converted to list"
   ]
  },
  {
   "cell_type": "code",
   "execution_count": 27,
   "id": "a0074d28",
   "metadata": {},
   "outputs": [
    {
     "data": {
      "text/plain": [
       "['beacon', 'bird', 'peacock', 53, 33.33]"
      ]
     },
     "execution_count": 27,
     "metadata": {},
     "output_type": "execute_result"
    }
   ],
   "source": [
    "c"
   ]
  },
  {
   "cell_type": "code",
   "execution_count": 28,
   "id": "4f299062",
   "metadata": {},
   "outputs": [
    {
     "data": {
      "text/plain": [
       "list"
      ]
     },
     "execution_count": 28,
     "metadata": {},
     "output_type": "execute_result"
    }
   ],
   "source": [
    "type(c)"
   ]
  },
  {
   "cell_type": "code",
   "execution_count": 31,
   "id": "80a4cad8",
   "metadata": {},
   "outputs": [],
   "source": [
    "c[1]=4   #index based assignment"
   ]
  },
  {
   "cell_type": "code",
   "execution_count": 30,
   "id": "eb5cabbf",
   "metadata": {},
   "outputs": [
    {
     "data": {
      "text/plain": [
       "['beacon', 4, 'peacock', 53, 33.33]"
      ]
     },
     "execution_count": 30,
     "metadata": {},
     "output_type": "execute_result"
    }
   ],
   "source": [
    "c"
   ]
  },
  {
   "cell_type": "code",
   "execution_count": 33,
   "id": "f5fe6db6",
   "metadata": {},
   "outputs": [],
   "source": [
    "c.append('python')"
   ]
  },
  {
   "cell_type": "code",
   "execution_count": 34,
   "id": "a2b5f060",
   "metadata": {},
   "outputs": [],
   "source": [
    "c.append('hello')"
   ]
  },
  {
   "cell_type": "code",
   "execution_count": 35,
   "id": "c5b94116",
   "metadata": {},
   "outputs": [
    {
     "data": {
      "text/plain": [
       "['beacon', 4, 'peacock', 53, 33.33, 'python', 'hello']"
      ]
     },
     "execution_count": 35,
     "metadata": {},
     "output_type": "execute_result"
    }
   ],
   "source": [
    "c"
   ]
  },
  {
   "cell_type": "code",
   "execution_count": 36,
   "id": "165092f9",
   "metadata": {},
   "outputs": [],
   "source": [
    "b = tuple(c)"
   ]
  },
  {
   "cell_type": "code",
   "execution_count": 37,
   "id": "90d13f09",
   "metadata": {},
   "outputs": [
    {
     "data": {
      "text/plain": [
       "('beacon', 4, 'peacock', 53, 33.33, 'python', 'hello')"
      ]
     },
     "execution_count": 37,
     "metadata": {},
     "output_type": "execute_result"
    }
   ],
   "source": [
    "b"
   ]
  },
  {
   "cell_type": "code",
   "execution_count": 38,
   "id": "77827f66",
   "metadata": {},
   "outputs": [
    {
     "data": {
      "text/plain": [
       "tuple"
      ]
     },
     "execution_count": 38,
     "metadata": {},
     "output_type": "execute_result"
    }
   ],
   "source": [
    "type(b)"
   ]
  },
  {
   "cell_type": "code",
   "execution_count": null,
   "id": "b766b3aa",
   "metadata": {},
   "outputs": [],
   "source": []
  }
 ],
 "metadata": {
  "kernelspec": {
   "display_name": "Python 3",
   "language": "python",
   "name": "python3"
  },
  "language_info": {
   "codemirror_mode": {
    "name": "ipython",
    "version": 3
   },
   "file_extension": ".py",
   "mimetype": "text/x-python",
   "name": "python",
   "nbconvert_exporter": "python",
   "pygments_lexer": "ipython3",
   "version": "3.10.4"
  }
 },
 "nbformat": 4,
 "nbformat_minor": 5
}
