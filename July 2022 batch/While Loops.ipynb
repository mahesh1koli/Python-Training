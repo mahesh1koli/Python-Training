{
 "cells": [
  {
   "cell_type": "code",
   "execution_count": 1,
   "id": "cab2f9cf",
   "metadata": {},
   "outputs": [],
   "source": [
    "# While loop syntax\n",
    "# while(condition):\n",
    "# ---> Statements"
   ]
  },
  {
   "cell_type": "code",
   "execution_count": 3,
   "id": "89421616",
   "metadata": {},
   "outputs": [
    {
     "name": "stdout",
     "output_type": "stream",
     "text": [
      "The sum of 1..10 is: 55\n"
     ]
    }
   ],
   "source": [
    "# Print the sum of values from 1 to 10\n",
    "# (1+2+3+4..+10) == ?\n",
    "\n",
    "n = 10\n",
    "sum = 0 #initialize the sum value\n",
    "i = 1\n",
    "\n",
    "while(i <= n):\n",
    "    sum = sum+i\n",
    "    i = i+1\n",
    "print(\"The sum of 1..10 is:\",sum)"
   ]
  },
  {
   "cell_type": "code",
   "execution_count": 1,
   "id": "31381d82",
   "metadata": {},
   "outputs": [
    {
     "name": "stdout",
     "output_type": "stream",
     "text": [
      "Enter the value of n:4383838\n",
      "The sum of 1 to 4383838 is 9609019997041\n"
     ]
    }
   ],
   "source": [
    "# Print the sum of values given from the user input\n",
    "# (1+2+3+4..+n) == ?\n",
    "\n",
    "n = int(input(\"Enter the value of n:\"))\n",
    "sum = 0 #initialize the sum value\n",
    "i = 1\n",
    "\n",
    "while(i <= n):\n",
    "    sum = sum+i\n",
    "    i = i+1\n",
    "print(\"The sum of 1 to %s is %s\" %(n,sum))"
   ]
  },
  {
   "cell_type": "code",
   "execution_count": 2,
   "id": "045d2f10",
   "metadata": {},
   "outputs": [],
   "source": [
    "#Series generation..\n",
    "# 1..100 numbers"
   ]
  },
  {
   "cell_type": "code",
   "execution_count": 3,
   "id": "d3499343",
   "metadata": {},
   "outputs": [
    {
     "data": {
      "text/plain": [
       "range(0, 5)"
      ]
     },
     "execution_count": 3,
     "metadata": {},
     "output_type": "execute_result"
    }
   ],
   "source": [
    "range(5)"
   ]
  },
  {
   "cell_type": "code",
   "execution_count": 4,
   "id": "12b710b4",
   "metadata": {},
   "outputs": [
    {
     "data": {
      "text/plain": [
       "[0, 1, 2, 3, 4]"
      ]
     },
     "execution_count": 4,
     "metadata": {},
     "output_type": "execute_result"
    }
   ],
   "source": [
    "list(range(5))"
   ]
  },
  {
   "cell_type": "code",
   "execution_count": 5,
   "id": "65f74956",
   "metadata": {},
   "outputs": [
    {
     "data": {
      "text/plain": [
       "[1, 2, 3, 4]"
      ]
     },
     "execution_count": 5,
     "metadata": {},
     "output_type": "execute_result"
    }
   ],
   "source": [
    "list(range(1,5))"
   ]
  },
  {
   "cell_type": "code",
   "execution_count": 6,
   "id": "e2b0c16c",
   "metadata": {},
   "outputs": [
    {
     "data": {
      "text/plain": [
       "[1, 3, 5, 7, 9]"
      ]
     },
     "execution_count": 6,
     "metadata": {},
     "output_type": "execute_result"
    }
   ],
   "source": [
    "list(range(1,10,2))"
   ]
  },
  {
   "cell_type": "code",
   "execution_count": 7,
   "id": "4ee2e52c",
   "metadata": {},
   "outputs": [
    {
     "data": {
      "text/plain": [
       "[0, 2, 4, 6, 8]"
      ]
     },
     "execution_count": 7,
     "metadata": {},
     "output_type": "execute_result"
    }
   ],
   "source": [
    "list(range(0,10,2))"
   ]
  },
  {
   "cell_type": "code",
   "execution_count": 5,
   "id": "cdcb02fc",
   "metadata": {},
   "outputs": [
    {
     "name": "stdout",
     "output_type": "stream",
     "text": [
      "1\n",
      "2\n",
      "3\n",
      "4\n",
      "5\n",
      "6\n",
      "7\n",
      "8\n",
      "9\n",
      "10\n"
     ]
    }
   ],
   "source": [
    "i=1\n",
    "while(i <= 10):\n",
    "    print(i)\n",
    "    i+=1"
   ]
  },
  {
   "cell_type": "code",
   "execution_count": 6,
   "id": "f0a31981",
   "metadata": {},
   "outputs": [],
   "source": [
    "# Print sum of even numbers in the given range"
   ]
  },
  {
   "cell_type": "code",
   "execution_count": 7,
   "id": "60a96863",
   "metadata": {},
   "outputs": [
    {
     "name": "stdout",
     "output_type": "stream",
     "text": [
      "Enter the value of n:10\n",
      "The sum of even numbers is 30\n"
     ]
    }
   ],
   "source": [
    "n = int(input(\"Enter the value of n:\"))\n",
    "sum = 0 #initialize the sum value\n",
    "i = 0\n",
    "\n",
    "while(i <= n):\n",
    "    if(i % 2) == 0:\n",
    "        sum = sum+i\n",
    "    i+=1\n",
    "print(\"The sum of even numbers is\",sum)"
   ]
  },
  {
   "cell_type": "code",
   "execution_count": 8,
   "id": "ebba2749",
   "metadata": {},
   "outputs": [
    {
     "name": "stdout",
     "output_type": "stream",
     "text": [
      "Enter the value of n:10\n",
      "The sum of even numbers is 30\n",
      "The sum of odd numbers is 25\n"
     ]
    }
   ],
   "source": [
    "n = int(input(\"Enter the value of n:\"))\n",
    "esum = 0 #initialize the sum value\n",
    "osum = 0\n",
    "i = 0\n",
    "\n",
    "while(i <= n):\n",
    "    if(i % 2) == 0:\n",
    "        esum = esum+i\n",
    "    else:\n",
    "        osum = osum+i\n",
    "    i+=1\n",
    "print(\"The sum of even numbers is\",esum)\n",
    "print(\"The sum of odd numbers is\",osum)"
   ]
  },
  {
   "cell_type": "code",
   "execution_count": 9,
   "id": "99cd398a",
   "metadata": {},
   "outputs": [],
   "source": [
    "# break and continue statements"
   ]
  },
  {
   "cell_type": "code",
   "execution_count": 1,
   "id": "08ab8b90",
   "metadata": {},
   "outputs": [
    {
     "name": "stdout",
     "output_type": "stream",
     "text": [
      "0\n",
      "2\n",
      "4\n",
      "6\n",
      "8\n",
      "10\n"
     ]
    }
   ],
   "source": [
    "# Generate even numbers from 1 to 10\n",
    "i=0\n",
    "while(i <= 10):\n",
    "    if(i%2!=0):\n",
    "        i+=1\n",
    "        continue\n",
    "    else:\n",
    "        print(i)\n",
    "        i+=1"
   ]
  },
  {
   "cell_type": "code",
   "execution_count": 2,
   "id": "e7c08a70",
   "metadata": {},
   "outputs": [
    {
     "name": "stdout",
     "output_type": "stream",
     "text": [
      "1\n",
      "3\n",
      "5\n",
      "7\n",
      "9\n"
     ]
    }
   ],
   "source": [
    "# Generate odd numbers from 1 to 10\n",
    "i=0\n",
    "while(i <= 10):\n",
    "    if(i%2==0):\n",
    "        i+=1\n",
    "        continue\n",
    "    else:\n",
    "        print(i)\n",
    "        i+=1"
   ]
  },
  {
   "cell_type": "code",
   "execution_count": null,
   "id": "a7976d6e",
   "metadata": {},
   "outputs": [],
   "source": []
  }
 ],
 "metadata": {
  "kernelspec": {
   "display_name": "Python 3",
   "language": "python",
   "name": "python3"
  },
  "language_info": {
   "codemirror_mode": {
    "name": "ipython",
    "version": 3
   },
   "file_extension": ".py",
   "mimetype": "text/x-python",
   "name": "python",
   "nbconvert_exporter": "python",
   "pygments_lexer": "ipython3",
   "version": "3.10.4"
  }
 },
 "nbformat": 4,
 "nbformat_minor": 5
}
