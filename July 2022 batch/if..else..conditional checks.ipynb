{
 "cells": [
  {
   "cell_type": "code",
   "execution_count": 2,
   "id": "ecb0cea7",
   "metadata": {},
   "outputs": [],
   "source": [
    "# Boolean operations (True, False)\n",
    "\n",
    "#  ==  (equal checking)\n",
    "#  !=  (Not equal checking)\n",
    "#  >=  (Greaterthan checking)\n",
    "#  <=  (Lessthan checking)\n",
    "#  >  (Greaterthan check)\n",
    "#  <  (Lessthan check)"
   ]
  },
  {
   "cell_type": "code",
   "execution_count": 4,
   "id": "8cff1319",
   "metadata": {},
   "outputs": [
    {
     "data": {
      "text/plain": [
       "False"
      ]
     },
     "execution_count": 4,
     "metadata": {},
     "output_type": "execute_result"
    }
   ],
   "source": [
    "2 == 3  #True if both sides are equal, if not, we will get False"
   ]
  },
  {
   "cell_type": "code",
   "execution_count": 5,
   "id": "b0328d02",
   "metadata": {},
   "outputs": [
    {
     "data": {
      "text/plain": [
       "True"
      ]
     },
     "execution_count": 5,
     "metadata": {},
     "output_type": "execute_result"
    }
   ],
   "source": [
    "2 == 2"
   ]
  },
  {
   "cell_type": "code",
   "execution_count": 6,
   "id": "4ab87498",
   "metadata": {},
   "outputs": [
    {
     "data": {
      "text/plain": [
       "True"
      ]
     },
     "execution_count": 6,
     "metadata": {},
     "output_type": "execute_result"
    }
   ],
   "source": [
    "3 != 5"
   ]
  },
  {
   "cell_type": "code",
   "execution_count": 7,
   "id": "7f9a1ac1",
   "metadata": {},
   "outputs": [
    {
     "data": {
      "text/plain": [
       "False"
      ]
     },
     "execution_count": 7,
     "metadata": {},
     "output_type": "execute_result"
    }
   ],
   "source": [
    "5 != 5"
   ]
  },
  {
   "cell_type": "code",
   "execution_count": 8,
   "id": "88b14d8c",
   "metadata": {},
   "outputs": [
    {
     "data": {
      "text/plain": [
       "False"
      ]
     },
     "execution_count": 8,
     "metadata": {},
     "output_type": "execute_result"
    }
   ],
   "source": [
    "2 > 3"
   ]
  },
  {
   "cell_type": "code",
   "execution_count": 9,
   "id": "4780d02b",
   "metadata": {},
   "outputs": [
    {
     "data": {
      "text/plain": [
       "True"
      ]
     },
     "execution_count": 9,
     "metadata": {},
     "output_type": "execute_result"
    }
   ],
   "source": [
    "4 > 2"
   ]
  },
  {
   "cell_type": "code",
   "execution_count": 10,
   "id": "9151a1c2",
   "metadata": {},
   "outputs": [
    {
     "data": {
      "text/plain": [
       "False"
      ]
     },
     "execution_count": 10,
     "metadata": {},
     "output_type": "execute_result"
    }
   ],
   "source": [
    "4 >= 5"
   ]
  },
  {
   "cell_type": "code",
   "execution_count": 11,
   "id": "0f937233",
   "metadata": {},
   "outputs": [
    {
     "data": {
      "text/plain": [
       "True"
      ]
     },
     "execution_count": 11,
     "metadata": {},
     "output_type": "execute_result"
    }
   ],
   "source": [
    "5 >= 4"
   ]
  },
  {
   "cell_type": "code",
   "execution_count": 12,
   "id": "7d8337c2",
   "metadata": {},
   "outputs": [
    {
     "data": {
      "text/plain": [
       "False"
      ]
     },
     "execution_count": 12,
     "metadata": {},
     "output_type": "execute_result"
    }
   ],
   "source": [
    "5 < 4"
   ]
  },
  {
   "cell_type": "code",
   "execution_count": 13,
   "id": "d8a51d2a",
   "metadata": {},
   "outputs": [
    {
     "data": {
      "text/plain": [
       "True"
      ]
     },
     "execution_count": 13,
     "metadata": {},
     "output_type": "execute_result"
    }
   ],
   "source": [
    "5 < 10"
   ]
  },
  {
   "cell_type": "code",
   "execution_count": 14,
   "id": "89f3ee4a",
   "metadata": {},
   "outputs": [
    {
     "data": {
      "text/plain": [
       "True"
      ]
     },
     "execution_count": 14,
     "metadata": {},
     "output_type": "execute_result"
    }
   ],
   "source": [
    "5 <= 9"
   ]
  },
  {
   "cell_type": "code",
   "execution_count": 16,
   "id": "d02eace3",
   "metadata": {},
   "outputs": [],
   "source": [
    "# Find the largest number from a & b\n",
    "# a = 10, b = 6\n",
    "# Largest Number is: 10"
   ]
  },
  {
   "cell_type": "code",
   "execution_count": 17,
   "id": "2490ff60",
   "metadata": {},
   "outputs": [],
   "source": [
    "a = 10\n",
    "b = 6"
   ]
  },
  {
   "cell_type": "code",
   "execution_count": 18,
   "id": "06809cd0",
   "metadata": {},
   "outputs": [],
   "source": [
    "# If condiation check\n",
    "# syntax\n",
    "# if(<condition>):\n",
    "# <spaces> <statements>"
   ]
  },
  {
   "cell_type": "code",
   "execution_count": 19,
   "id": "c9059f56",
   "metadata": {},
   "outputs": [
    {
     "name": "stdout",
     "output_type": "stream",
     "text": [
      "Hello Sridhar\n"
     ]
    }
   ],
   "source": [
    "print(\"Hello Sridhar\")"
   ]
  },
  {
   "cell_type": "code",
   "execution_count": 20,
   "id": "a0a2c188",
   "metadata": {},
   "outputs": [
    {
     "name": "stdout",
     "output_type": "stream",
     "text": [
      "Hello Sridhar\n"
     ]
    }
   ],
   "source": [
    "print('Hello Sridhar')"
   ]
  },
  {
   "cell_type": "code",
   "execution_count": 23,
   "id": "d550f507",
   "metadata": {},
   "outputs": [
    {
     "name": "stdout",
     "output_type": "stream",
     "text": [
      "10\n"
     ]
    }
   ],
   "source": [
    "print(a)"
   ]
  },
  {
   "cell_type": "code",
   "execution_count": 24,
   "id": "83354c44",
   "metadata": {},
   "outputs": [
    {
     "name": "stdout",
     "output_type": "stream",
     "text": [
      "6\n"
     ]
    }
   ],
   "source": [
    "print(b)"
   ]
  },
  {
   "cell_type": "code",
   "execution_count": 25,
   "id": "c3541478",
   "metadata": {},
   "outputs": [
    {
     "data": {
      "text/plain": [
       "True"
      ]
     },
     "execution_count": 25,
     "metadata": {},
     "output_type": "execute_result"
    }
   ],
   "source": [
    "a>b"
   ]
  },
  {
   "cell_type": "code",
   "execution_count": 26,
   "id": "ab94232b",
   "metadata": {},
   "outputs": [
    {
     "name": "stdout",
     "output_type": "stream",
     "text": [
      "Larger Number is: 10\n"
     ]
    }
   ],
   "source": [
    "if(a>b):\n",
    "    print(\"Larger Number is:\",a)\n",
    "else: \n",
    "    print(\"Larger Number is:\",b)"
   ]
  },
  {
   "cell_type": "code",
   "execution_count": 27,
   "id": "03f9c9f0",
   "metadata": {},
   "outputs": [],
   "source": [
    "a = 7\n",
    "b = 19"
   ]
  },
  {
   "cell_type": "code",
   "execution_count": 28,
   "id": "aa692a04",
   "metadata": {},
   "outputs": [
    {
     "name": "stdout",
     "output_type": "stream",
     "text": [
      "Larger Number is: 19\n"
     ]
    }
   ],
   "source": [
    "if(a>b):\n",
    "    print(\"Larger Number is:\",a)\n",
    "else: \n",
    "    print(\"Larger Number is:\",b)"
   ]
  },
  {
   "cell_type": "code",
   "execution_count": null,
   "id": "29e5172e",
   "metadata": {},
   "outputs": [],
   "source": []
  }
 ],
 "metadata": {
  "kernelspec": {
   "display_name": "Python 3",
   "language": "python",
   "name": "python3"
  },
  "language_info": {
   "codemirror_mode": {
    "name": "ipython",
    "version": 3
   },
   "file_extension": ".py",
   "mimetype": "text/x-python",
   "name": "python",
   "nbconvert_exporter": "python",
   "pygments_lexer": "ipython3",
   "version": "3.10.4"
  }
 },
 "nbformat": 4,
 "nbformat_minor": 5
}
