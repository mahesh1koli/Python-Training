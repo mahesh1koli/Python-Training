{
 "cells": [
  {
   "cell_type": "code",
   "execution_count": 2,
   "id": "ecb0cea7",
   "metadata": {},
   "outputs": [],
   "source": [
    "# Boolean operations (True, False)\n",
    "\n",
    "#  ==  (equal checking)\n",
    "#  !=  (Not equal checking)\n",
    "#  >=  (Greaterthan checking)\n",
    "#  <=  (Lessthan checking)\n",
    "#  >  (Greaterthan check)\n",
    "#  <  (Lessthan check)"
   ]
  },
  {
   "cell_type": "code",
   "execution_count": 4,
   "id": "8cff1319",
   "metadata": {},
   "outputs": [
    {
     "data": {
      "text/plain": [
       "False"
      ]
     },
     "execution_count": 4,
     "metadata": {},
     "output_type": "execute_result"
    }
   ],
   "source": [
    "2 == 3  #True if both sides are equal, if not, we will get False"
   ]
  },
  {
   "cell_type": "code",
   "execution_count": 5,
   "id": "b0328d02",
   "metadata": {},
   "outputs": [
    {
     "data": {
      "text/plain": [
       "True"
      ]
     },
     "execution_count": 5,
     "metadata": {},
     "output_type": "execute_result"
    }
   ],
   "source": [
    "2 == 2"
   ]
  },
  {
   "cell_type": "code",
   "execution_count": 6,
   "id": "4ab87498",
   "metadata": {},
   "outputs": [
    {
     "data": {
      "text/plain": [
       "True"
      ]
     },
     "execution_count": 6,
     "metadata": {},
     "output_type": "execute_result"
    }
   ],
   "source": [
    "3 != 5"
   ]
  },
  {
   "cell_type": "code",
   "execution_count": 7,
   "id": "7f9a1ac1",
   "metadata": {},
   "outputs": [
    {
     "data": {
      "text/plain": [
       "False"
      ]
     },
     "execution_count": 7,
     "metadata": {},
     "output_type": "execute_result"
    }
   ],
   "source": [
    "5 != 5"
   ]
  },
  {
   "cell_type": "code",
   "execution_count": 8,
   "id": "88b14d8c",
   "metadata": {},
   "outputs": [
    {
     "data": {
      "text/plain": [
       "False"
      ]
     },
     "execution_count": 8,
     "metadata": {},
     "output_type": "execute_result"
    }
   ],
   "source": [
    "2 > 3"
   ]
  },
  {
   "cell_type": "code",
   "execution_count": 9,
   "id": "4780d02b",
   "metadata": {},
   "outputs": [
    {
     "data": {
      "text/plain": [
       "True"
      ]
     },
     "execution_count": 9,
     "metadata": {},
     "output_type": "execute_result"
    }
   ],
   "source": [
    "4 > 2"
   ]
  },
  {
   "cell_type": "code",
   "execution_count": 10,
   "id": "9151a1c2",
   "metadata": {},
   "outputs": [
    {
     "data": {
      "text/plain": [
       "False"
      ]
     },
     "execution_count": 10,
     "metadata": {},
     "output_type": "execute_result"
    }
   ],
   "source": [
    "4 >= 5"
   ]
  },
  {
   "cell_type": "code",
   "execution_count": 11,
   "id": "0f937233",
   "metadata": {},
   "outputs": [
    {
     "data": {
      "text/plain": [
       "True"
      ]
     },
     "execution_count": 11,
     "metadata": {},
     "output_type": "execute_result"
    }
   ],
   "source": [
    "5 >= 4"
   ]
  },
  {
   "cell_type": "code",
   "execution_count": 12,
   "id": "7d8337c2",
   "metadata": {},
   "outputs": [
    {
     "data": {
      "text/plain": [
       "False"
      ]
     },
     "execution_count": 12,
     "metadata": {},
     "output_type": "execute_result"
    }
   ],
   "source": [
    "5 < 4"
   ]
  },
  {
   "cell_type": "code",
   "execution_count": 13,
   "id": "d8a51d2a",
   "metadata": {},
   "outputs": [
    {
     "data": {
      "text/plain": [
       "True"
      ]
     },
     "execution_count": 13,
     "metadata": {},
     "output_type": "execute_result"
    }
   ],
   "source": [
    "5 < 10"
   ]
  },
  {
   "cell_type": "code",
   "execution_count": 14,
   "id": "89f3ee4a",
   "metadata": {},
   "outputs": [
    {
     "data": {
      "text/plain": [
       "True"
      ]
     },
     "execution_count": 14,
     "metadata": {},
     "output_type": "execute_result"
    }
   ],
   "source": [
    "5 <= 9"
   ]
  },
  {
   "cell_type": "code",
   "execution_count": 16,
   "id": "d02eace3",
   "metadata": {},
   "outputs": [],
   "source": [
    "# Find the largest number from a & b\n",
    "# a = 10, b = 6\n",
    "# Largest Number is: 10"
   ]
  },
  {
   "cell_type": "code",
   "execution_count": 17,
   "id": "2490ff60",
   "metadata": {},
   "outputs": [],
   "source": [
    "a = 10\n",
    "b = 6"
   ]
  },
  {
   "cell_type": "code",
   "execution_count": 18,
   "id": "06809cd0",
   "metadata": {},
   "outputs": [],
   "source": [
    "# If condiation check\n",
    "# syntax\n",
    "# if(<condition>):\n",
    "# <spaces> <statements>"
   ]
  },
  {
   "cell_type": "code",
   "execution_count": 19,
   "id": "c9059f56",
   "metadata": {},
   "outputs": [
    {
     "name": "stdout",
     "output_type": "stream",
     "text": [
      "Hello Sridhar\n"
     ]
    }
   ],
   "source": [
    "print(\"Hello Sridhar\")"
   ]
  },
  {
   "cell_type": "code",
   "execution_count": 20,
   "id": "a0a2c188",
   "metadata": {},
   "outputs": [
    {
     "name": "stdout",
     "output_type": "stream",
     "text": [
      "Hello Sridhar\n"
     ]
    }
   ],
   "source": [
    "print('Hello Sridhar')"
   ]
  },
  {
   "cell_type": "code",
   "execution_count": 23,
   "id": "d550f507",
   "metadata": {},
   "outputs": [
    {
     "name": "stdout",
     "output_type": "stream",
     "text": [
      "10\n"
     ]
    }
   ],
   "source": [
    "print(a)"
   ]
  },
  {
   "cell_type": "code",
   "execution_count": 24,
   "id": "83354c44",
   "metadata": {},
   "outputs": [
    {
     "name": "stdout",
     "output_type": "stream",
     "text": [
      "6\n"
     ]
    }
   ],
   "source": [
    "print(b)"
   ]
  },
  {
   "cell_type": "code",
   "execution_count": 25,
   "id": "c3541478",
   "metadata": {},
   "outputs": [
    {
     "data": {
      "text/plain": [
       "True"
      ]
     },
     "execution_count": 25,
     "metadata": {},
     "output_type": "execute_result"
    }
   ],
   "source": [
    "a>b"
   ]
  },
  {
   "cell_type": "code",
   "execution_count": 26,
   "id": "ab94232b",
   "metadata": {},
   "outputs": [
    {
     "name": "stdout",
     "output_type": "stream",
     "text": [
      "Larger Number is: 10\n"
     ]
    }
   ],
   "source": [
    "if(a>b):\n",
    "    print(\"Larger Number is:\",a)\n",
    "else: \n",
    "    print(\"Larger Number is:\",b)"
   ]
  },
  {
   "cell_type": "code",
   "execution_count": 27,
   "id": "03f9c9f0",
   "metadata": {},
   "outputs": [],
   "source": [
    "a = 7\n",
    "b = 19"
   ]
  },
  {
   "cell_type": "code",
   "execution_count": 28,
   "id": "aa692a04",
   "metadata": {},
   "outputs": [
    {
     "name": "stdout",
     "output_type": "stream",
     "text": [
      "Larger Number is: 19\n"
     ]
    }
   ],
   "source": [
    "if(a>b):\n",
    "    print(\"Larger Number is:\",a)\n",
    "else: \n",
    "    print(\"Larger Number is:\",b)"
   ]
  },
  {
   "cell_type": "code",
   "execution_count": 32,
   "id": "e75c7dc0",
   "metadata": {},
   "outputs": [],
   "source": [
    "a=100\n",
    "b=98000\n",
    "c=750"
   ]
  },
  {
   "cell_type": "code",
   "execution_count": 33,
   "id": "c5ae2198",
   "metadata": {},
   "outputs": [
    {
     "name": "stdout",
     "output_type": "stream",
     "text": [
      "maximum number is: 98000\n"
     ]
    }
   ],
   "source": [
    "print(\"maximum number is:\",max(a,b,c))"
   ]
  },
  {
   "cell_type": "code",
   "execution_count": 34,
   "id": "864e80ca",
   "metadata": {},
   "outputs": [
    {
     "name": "stdout",
     "output_type": "stream",
     "text": [
      "mininum number is: 100\n"
     ]
    }
   ],
   "source": [
    "print(\"mininum number is:\",min(a,b,c))"
   ]
  },
  {
   "cell_type": "code",
   "execution_count": 10,
   "id": "29e5172e",
   "metadata": {},
   "outputs": [
    {
     "name": "stdout",
     "output_type": "stream",
     "text": [
      "Largest is 100\n"
     ]
    }
   ],
   "source": [
    "if(a>b):\n",
    "    if(a>c):\n",
    "        print(\"Largest is\",a)\n",
    "elif(b>c):\n",
    "    print(\"Largest is\",b)\n",
    "else:\n",
    "    print(\"Largest is\",c)"
   ]
  },
  {
   "cell_type": "code",
   "execution_count": 15,
   "id": "05d7d707",
   "metadata": {},
   "outputs": [],
   "source": [
    "# interactive mode\n",
    "# input statement will take inputs as a string only by default"
   ]
  },
  {
   "cell_type": "code",
   "execution_count": 19,
   "id": "8bc5fc94",
   "metadata": {},
   "outputs": [
    {
     "name": "stdout",
     "output_type": "stream",
     "text": [
      "Enter the value of a:100\n",
      "Enter the value of b:98\n",
      "Enter the value of c:75\n",
      "Largest is 100\n"
     ]
    }
   ],
   "source": [
    "a = int(input(\"Enter the value of a:\"))\n",
    "b = int(input(\"Enter the value of b:\"))\n",
    "c = int(input(\"Enter the value of c:\"))\n",
    "\n",
    "# if(a>b and a>c):\n",
    "#     print(\"Largest is\",a)\n",
    "# if(b>a and b>c):\n",
    "#     print(\"Largest is\",b)\n",
    "# if(c>a and c>b):\n",
    "#     print(\"Largest is\",c)\n",
    "if(a>b):\n",
    "    if(a>c):\n",
    "        print(\"Largest is\",a)\n",
    "elif(b>c):\n",
    "    print(\"Largest is\",b)\n",
    "else:\n",
    "    print(\"Largest is\",c)"
   ]
  },
  {
   "cell_type": "code",
   "execution_count": 20,
   "id": "05393dc8",
   "metadata": {},
   "outputs": [],
   "source": [
    "# find the given number is even or odd number\n",
    "# if even, print \"The given number is even\"\n",
    "# if odd, print \"The given number is odd\""
   ]
  },
  {
   "cell_type": "code",
   "execution_count": 25,
   "id": "0e86ed9a",
   "metadata": {},
   "outputs": [
    {
     "name": "stdout",
     "output_type": "stream",
     "text": [
      "Enter the value:100\n",
      "The number is even\n"
     ]
    }
   ],
   "source": [
    "a = int(input(\"Enter the value:\"))\n",
    "if(a%2) == 0:\n",
    "    print(\"The number is even\")\n",
    "else:\n",
    "    print(\"The number is odd\")"
   ]
  },
  {
   "cell_type": "code",
   "execution_count": 1,
   "id": "6ac5ccdc",
   "metadata": {},
   "outputs": [],
   "source": [
    "# take input year, find it is a leap year or not ??\n",
    "# formula"
   ]
  },
  {
   "cell_type": "markdown",
   "id": "801fc07c",
   "metadata": {},
   "source": [
    "#### Print formats"
   ]
  },
  {
   "cell_type": "code",
   "execution_count": 2,
   "id": "5e20ed6d",
   "metadata": {},
   "outputs": [],
   "source": [
    "#.format"
   ]
  },
  {
   "cell_type": "code",
   "execution_count": 6,
   "id": "ff0dc620",
   "metadata": {},
   "outputs": [],
   "source": [
    "name='Sridhar'\n",
    "profession='CEO'"
   ]
  },
  {
   "cell_type": "code",
   "execution_count": 7,
   "id": "ea6c2492",
   "metadata": {},
   "outputs": [
    {
     "name": "stdout",
     "output_type": "stream",
     "text": [
      "My name is Sridhar, and My Job is CEO\n"
     ]
    }
   ],
   "source": [
    "print(\"My name is {}, and My Job is {}\".format(name,profession))"
   ]
  },
  {
   "cell_type": "code",
   "execution_count": 8,
   "id": "47b0c2b0",
   "metadata": {},
   "outputs": [
    {
     "name": "stdout",
     "output_type": "stream",
     "text": [
      "I am learning python and this is my class class13\n"
     ]
    }
   ],
   "source": [
    "print(\"I am learning {a} and this is my class {b}\".format(a='python',b='class13'))"
   ]
  },
  {
   "cell_type": "code",
   "execution_count": 9,
   "id": "a68b7e52",
   "metadata": {},
   "outputs": [
    {
     "name": "stdout",
     "output_type": "stream",
     "text": [
      "I am learning class13 and this is my class python\n"
     ]
    }
   ],
   "source": [
    "print(\"I am learning {b} and this is my class {a}\".format(a='python',b='class13'))"
   ]
  },
  {
   "cell_type": "code",
   "execution_count": 12,
   "id": "e5d4e98d",
   "metadata": {},
   "outputs": [
    {
     "name": "stdout",
     "output_type": "stream",
     "text": [
      "I am learning python and this is my class class13\n"
     ]
    }
   ],
   "source": [
    "print(\"I am learning %s and this is my class %s\" %('python','class13'))"
   ]
  },
  {
   "cell_type": "markdown",
   "id": "bc7419cd",
   "metadata": {},
   "source": [
    "#### Short hand IF statements or Tenary Operators"
   ]
  },
  {
   "cell_type": "code",
   "execution_count": 14,
   "id": "eb70a68d",
   "metadata": {},
   "outputs": [],
   "source": [
    "#if(<cond>):\n",
    "#   statements..\n",
    "\n",
    "#if...elif..else..\n",
    "\n",
    "#if\n",
    "#  if\n",
    "      \n",
    "    \n",
    "#shorthand if is written in a single line"
   ]
  },
  {
   "cell_type": "code",
   "execution_count": null,
   "id": "e4704178",
   "metadata": {},
   "outputs": [],
   "source": [
    "#Syntax\n",
    "#<if statement> if <condition> else <else statment> "
   ]
  },
  {
   "cell_type": "code",
   "execution_count": null,
   "id": "af5d82ed",
   "metadata": {},
   "outputs": [],
   "source": [
    "# cond1 - a>b\n",
    "# cond2 - b>c\n",
    "# if a>b:\n",
    "#     statement\n",
    "# elif b>c:\n",
    "#     statement\n",
    "# else:\n",
    "#     statement\n"
   ]
  },
  {
   "cell_type": "code",
   "execution_count": 18,
   "id": "bffb862b",
   "metadata": {},
   "outputs": [
    {
     "name": "stdout",
     "output_type": "stream",
     "text": [
      "a is above 10\n"
     ]
    }
   ],
   "source": [
    "a=10\n",
    "print(\"a is above 10\") if a>=10 else print(\"a is less than 10\")"
   ]
  },
  {
   "cell_type": "code",
   "execution_count": 19,
   "id": "c150de7d",
   "metadata": {},
   "outputs": [
    {
     "name": "stdout",
     "output_type": "stream",
     "text": [
      "a is above 10\n"
     ]
    }
   ],
   "source": [
    "a=10\n",
    "b=20\n",
    "print(\"a is above 10\") if (a>=10) else print(\"a is less than 10\")"
   ]
  },
  {
   "cell_type": "code",
   "execution_count": 20,
   "id": "e5974ee4",
   "metadata": {},
   "outputs": [
    {
     "name": "stdout",
     "output_type": "stream",
     "text": [
      "=\n"
     ]
    }
   ],
   "source": [
    "a = 330\n",
    "b = 330\n",
    "print(\"A\") if a > b else print(\"=\") if a == b else print(\"B\")"
   ]
  },
  {
   "cell_type": "code",
   "execution_count": 23,
   "id": "e8654fcd",
   "metadata": {},
   "outputs": [
    {
     "name": "stdout",
     "output_type": "stream",
     "text": [
      "Both conditions are True\n"
     ]
    }
   ],
   "source": [
    "a = 200\n",
    "b = 33\n",
    "c = 500\n",
    "print(\"Both conditions are True\") if a > b and c > a else print(\"No action\")"
   ]
  },
  {
   "cell_type": "code",
   "execution_count": 24,
   "id": "2a2b1e3a",
   "metadata": {},
   "outputs": [
    {
     "name": "stdout",
     "output_type": "stream",
     "text": [
      "Both conditions are True\n"
     ]
    }
   ],
   "source": [
    "print(\"Both conditions are True\") if a > b or c > a else print(\"No action\")"
   ]
  },
  {
   "cell_type": "code",
   "execution_count": 33,
   "id": "3a29aab7",
   "metadata": {},
   "outputs": [],
   "source": [
    "a = 33\n",
    "b = 200\n",
    "\n",
    "if b > a:\n",
    "    pass"
   ]
  },
  {
   "cell_type": "code",
   "execution_count": 34,
   "id": "0381a6d9",
   "metadata": {},
   "outputs": [],
   "source": [
    "#break and continue statements in while and for loops"
   ]
  },
  {
   "cell_type": "code",
   "execution_count": null,
   "id": "a57528ae",
   "metadata": {},
   "outputs": [],
   "source": []
  }
 ],
 "metadata": {
  "kernelspec": {
   "display_name": "Python 3",
   "language": "python",
   "name": "python3"
  },
  "language_info": {
   "codemirror_mode": {
    "name": "ipython",
    "version": 3
   },
   "file_extension": ".py",
   "mimetype": "text/x-python",
   "name": "python",
   "nbconvert_exporter": "python",
   "pygments_lexer": "ipython3",
   "version": "3.10.4"
  }
 },
 "nbformat": 4,
 "nbformat_minor": 5
}
