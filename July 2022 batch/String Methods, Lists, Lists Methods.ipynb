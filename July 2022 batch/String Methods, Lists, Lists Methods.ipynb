{
 "cells": [
  {
   "cell_type": "code",
   "execution_count": 1,
   "id": "97489ecc",
   "metadata": {},
   "outputs": [],
   "source": [
    "string1 = \"Hello this is python blog\""
   ]
  },
  {
   "cell_type": "code",
   "execution_count": 2,
   "id": "2b1eb180",
   "metadata": {},
   "outputs": [
    {
     "data": {
      "text/plain": [
       "'Hello this is python blog'"
      ]
     },
     "execution_count": 2,
     "metadata": {},
     "output_type": "execute_result"
    }
   ],
   "source": [
    "string1"
   ]
  },
  {
   "cell_type": "code",
   "execution_count": 3,
   "id": "ee0c803c",
   "metadata": {},
   "outputs": [
    {
     "data": {
      "text/plain": [
       "'golb nohtyp si siht olleH'"
      ]
     },
     "execution_count": 3,
     "metadata": {},
     "output_type": "execute_result"
    }
   ],
   "source": [
    "string1[::-1]  # Reverse Mode"
   ]
  },
  {
   "cell_type": "code",
   "execution_count": 4,
   "id": "0d8a7636",
   "metadata": {},
   "outputs": [],
   "source": [
    "String2 = \"This Is My Third Class\""
   ]
  },
  {
   "cell_type": "code",
   "execution_count": 5,
   "id": "f5d85d87",
   "metadata": {},
   "outputs": [
    {
     "data": {
      "text/plain": [
       "'this is my third class'"
      ]
     },
     "execution_count": 5,
     "metadata": {},
     "output_type": "execute_result"
    }
   ],
   "source": [
    "String2.lower()"
   ]
  },
  {
   "cell_type": "code",
   "execution_count": 6,
   "id": "afb3ee37",
   "metadata": {},
   "outputs": [
    {
     "data": {
      "text/plain": [
       "'THIS IS MY THIRD CLASS'"
      ]
     },
     "execution_count": 6,
     "metadata": {},
     "output_type": "execute_result"
    }
   ],
   "source": [
    "String2.upper()"
   ]
  },
  {
   "cell_type": "code",
   "execution_count": 7,
   "id": "68b57948",
   "metadata": {},
   "outputs": [
    {
     "data": {
      "text/plain": [
       "'This is my third class'"
      ]
     },
     "execution_count": 7,
     "metadata": {},
     "output_type": "execute_result"
    }
   ],
   "source": [
    "String2.capitalize()"
   ]
  },
  {
   "cell_type": "code",
   "execution_count": 8,
   "id": "6c8e34f9",
   "metadata": {},
   "outputs": [
    {
     "data": {
      "text/plain": [
       "'                        This Is My Third Class                        '"
      ]
     },
     "execution_count": 8,
     "metadata": {},
     "output_type": "execute_result"
    }
   ],
   "source": [
    "String2.center(70)"
   ]
  },
  {
   "cell_type": "code",
   "execution_count": 10,
   "id": "a11be552",
   "metadata": {},
   "outputs": [
    {
     "name": "stdout",
     "output_type": "stream",
     "text": [
      "**********************************************************************\n",
      "                        This Is My Third Class                        \n",
      "**********************************************************************\n"
     ]
    }
   ],
   "source": [
    "print('*'*70)\n",
    "print(String2.center(70))\n",
    "print('*'*70)"
   ]
  },
  {
   "cell_type": "code",
   "execution_count": 12,
   "id": "85a9cbf3",
   "metadata": {},
   "outputs": [
    {
     "name": "stdout",
     "output_type": "stream",
     "text": [
      "*************************************************************\n",
      "             This is my Third Class, Welcome to Python       \n",
      "*************************************************************\n"
     ]
    }
   ],
   "source": [
    "# print('*************************************************************')\n",
    "# print('             This is my Third Class, Welcome to Python       ')\n",
    "# print('*************************************************************')"
   ]
  },
  {
   "cell_type": "code",
   "execution_count": 19,
   "id": "3f67ceab",
   "metadata": {},
   "outputs": [
    {
     "data": {
      "text/plain": [
       "'************************This Is My Third Class************************'"
      ]
     },
     "execution_count": 19,
     "metadata": {},
     "output_type": "execute_result"
    }
   ],
   "source": [
    "String2.center(70,'*')"
   ]
  },
  {
   "cell_type": "code",
   "execution_count": 20,
   "id": "80ff4bf4",
   "metadata": {},
   "outputs": [
    {
     "data": {
      "text/plain": [
       "'This Is My Third Class'"
      ]
     },
     "execution_count": 20,
     "metadata": {},
     "output_type": "execute_result"
    }
   ],
   "source": [
    "String2.strip(\"*\")"
   ]
  },
  {
   "cell_type": "code",
   "execution_count": 22,
   "id": "956bb036",
   "metadata": {},
   "outputs": [],
   "source": [
    "String3 = '**************This Is My Fourth Class**************'"
   ]
  },
  {
   "cell_type": "code",
   "execution_count": 23,
   "id": "cd266e51",
   "metadata": {},
   "outputs": [
    {
     "data": {
      "text/plain": [
       "'This Is My Fourth Class'"
      ]
     },
     "execution_count": 23,
     "metadata": {},
     "output_type": "execute_result"
    }
   ],
   "source": [
    "String3.strip('*')"
   ]
  },
  {
   "cell_type": "code",
   "execution_count": 24,
   "id": "3cac5874",
   "metadata": {},
   "outputs": [
    {
     "data": {
      "text/plain": [
       "'This Is My Fourth Class**************'"
      ]
     },
     "execution_count": 24,
     "metadata": {},
     "output_type": "execute_result"
    }
   ],
   "source": [
    "String3.lstrip('*')"
   ]
  },
  {
   "cell_type": "code",
   "execution_count": 25,
   "id": "fe795f37",
   "metadata": {},
   "outputs": [
    {
     "data": {
      "text/plain": [
       "'**************This Is My Fourth Class'"
      ]
     },
     "execution_count": 25,
     "metadata": {},
     "output_type": "execute_result"
    }
   ],
   "source": [
    "String3.rstrip('*')"
   ]
  },
  {
   "cell_type": "code",
   "execution_count": 26,
   "id": "516d6b98",
   "metadata": {},
   "outputs": [
    {
     "data": {
      "text/plain": [
       "False"
      ]
     },
     "execution_count": 26,
     "metadata": {},
     "output_type": "execute_result"
    }
   ],
   "source": [
    "String2.startswith(\"Hello\")"
   ]
  },
  {
   "cell_type": "code",
   "execution_count": 27,
   "id": "f15f164d",
   "metadata": {},
   "outputs": [
    {
     "data": {
      "text/plain": [
       "True"
      ]
     },
     "execution_count": 27,
     "metadata": {},
     "output_type": "execute_result"
    }
   ],
   "source": [
    "String2.startswith(\"This\")"
   ]
  },
  {
   "cell_type": "code",
   "execution_count": 28,
   "id": "7191cd1d",
   "metadata": {},
   "outputs": [
    {
     "data": {
      "text/plain": [
       "False"
      ]
     },
     "execution_count": 28,
     "metadata": {},
     "output_type": "execute_result"
    }
   ],
   "source": [
    "String2.endswith(\"Hello\")"
   ]
  },
  {
   "cell_type": "code",
   "execution_count": 29,
   "id": "019ad734",
   "metadata": {},
   "outputs": [
    {
     "data": {
      "text/plain": [
       "False"
      ]
     },
     "execution_count": 29,
     "metadata": {},
     "output_type": "execute_result"
    }
   ],
   "source": [
    "String2.endswith(\"blog\")"
   ]
  },
  {
   "cell_type": "code",
   "execution_count": 30,
   "id": "6b508e68",
   "metadata": {},
   "outputs": [
    {
     "data": {
      "text/plain": [
       "False"
      ]
     },
     "execution_count": 30,
     "metadata": {},
     "output_type": "execute_result"
    }
   ],
   "source": [
    "String2.endswith(\"class\")"
   ]
  },
  {
   "cell_type": "code",
   "execution_count": 31,
   "id": "9d08fe2a",
   "metadata": {},
   "outputs": [
    {
     "data": {
      "text/plain": [
       "True"
      ]
     },
     "execution_count": 31,
     "metadata": {},
     "output_type": "execute_result"
    }
   ],
   "source": [
    "String2.endswith(\"Class\")"
   ]
  },
  {
   "cell_type": "code",
   "execution_count": 32,
   "id": "e4d76db9",
   "metadata": {},
   "outputs": [
    {
     "data": {
      "text/plain": [
       "'This Is My Third Class'"
      ]
     },
     "execution_count": 32,
     "metadata": {},
     "output_type": "execute_result"
    }
   ],
   "source": [
    "String2"
   ]
  },
  {
   "cell_type": "code",
   "execution_count": 33,
   "id": "40c6f054",
   "metadata": {},
   "outputs": [
    {
     "data": {
      "text/plain": [
       "8"
      ]
     },
     "execution_count": 33,
     "metadata": {},
     "output_type": "execute_result"
    }
   ],
   "source": [
    "String2.index('M')"
   ]
  },
  {
   "cell_type": "code",
   "execution_count": 34,
   "id": "712082e4",
   "metadata": {},
   "outputs": [
    {
     "data": {
      "text/plain": [
       "3"
      ]
     },
     "execution_count": 34,
     "metadata": {},
     "output_type": "execute_result"
    }
   ],
   "source": [
    "String2.index('s')   # First occurence of the letter index will print"
   ]
  },
  {
   "cell_type": "markdown",
   "id": "95c5c011",
   "metadata": {},
   "source": [
    "### Lists - Ordered, Mutable"
   ]
  },
  {
   "cell_type": "code",
   "execution_count": 35,
   "id": "12259bc6",
   "metadata": {},
   "outputs": [],
   "source": [
    "a = [1,2,2.344,'hi','hello',3+2j]"
   ]
  },
  {
   "cell_type": "code",
   "execution_count": 36,
   "id": "712eba9c",
   "metadata": {},
   "outputs": [
    {
     "data": {
      "text/plain": [
       "[1, 2, 2.344, 'hi', 'hello', (3+2j)]"
      ]
     },
     "execution_count": 36,
     "metadata": {},
     "output_type": "execute_result"
    }
   ],
   "source": [
    "a"
   ]
  },
  {
   "cell_type": "code",
   "execution_count": 37,
   "id": "b1149d07",
   "metadata": {},
   "outputs": [
    {
     "data": {
      "text/plain": [
       "list"
      ]
     },
     "execution_count": 37,
     "metadata": {},
     "output_type": "execute_result"
    }
   ],
   "source": [
    "type(a)"
   ]
  },
  {
   "cell_type": "code",
   "execution_count": 38,
   "id": "3a4c2a23",
   "metadata": {},
   "outputs": [
    {
     "data": {
      "text/plain": [
       "'hello'"
      ]
     },
     "execution_count": 38,
     "metadata": {},
     "output_type": "execute_result"
    }
   ],
   "source": [
    "a[4]"
   ]
  },
  {
   "cell_type": "code",
   "execution_count": 39,
   "id": "cf723799",
   "metadata": {},
   "outputs": [
    {
     "data": {
      "text/plain": [
       "(3+2j)"
      ]
     },
     "execution_count": 39,
     "metadata": {},
     "output_type": "execute_result"
    }
   ],
   "source": [
    "a[5]"
   ]
  },
  {
   "cell_type": "code",
   "execution_count": 40,
   "id": "0763130c",
   "metadata": {},
   "outputs": [],
   "source": [
    "a[5] = 2+3j"
   ]
  },
  {
   "cell_type": "code",
   "execution_count": 41,
   "id": "995555ca",
   "metadata": {},
   "outputs": [
    {
     "data": {
      "text/plain": [
       "[1, 2, 2.344, 'hi', 'hello', (2+3j)]"
      ]
     },
     "execution_count": 41,
     "metadata": {},
     "output_type": "execute_result"
    }
   ],
   "source": [
    "a"
   ]
  },
  {
   "cell_type": "code",
   "execution_count": 42,
   "id": "a9fcdf81",
   "metadata": {},
   "outputs": [],
   "source": [
    "del a[3]"
   ]
  },
  {
   "cell_type": "code",
   "execution_count": 43,
   "id": "8138128d",
   "metadata": {},
   "outputs": [
    {
     "data": {
      "text/plain": [
       "[1, 2, 2.344, 'hello', (2+3j)]"
      ]
     },
     "execution_count": 43,
     "metadata": {},
     "output_type": "execute_result"
    }
   ],
   "source": [
    "a"
   ]
  },
  {
   "cell_type": "code",
   "execution_count": 44,
   "id": "8bca0893",
   "metadata": {},
   "outputs": [
    {
     "data": {
      "text/plain": [
       "(2+3j)"
      ]
     },
     "execution_count": 44,
     "metadata": {},
     "output_type": "execute_result"
    }
   ],
   "source": [
    "a.pop()"
   ]
  },
  {
   "cell_type": "code",
   "execution_count": 45,
   "id": "50f38fbb",
   "metadata": {},
   "outputs": [
    {
     "data": {
      "text/plain": [
       "[1, 2, 2.344, 'hello']"
      ]
     },
     "execution_count": 45,
     "metadata": {},
     "output_type": "execute_result"
    }
   ],
   "source": [
    "a"
   ]
  },
  {
   "cell_type": "code",
   "execution_count": 46,
   "id": "202c48e4",
   "metadata": {},
   "outputs": [],
   "source": [
    "b = a.pop()"
   ]
  },
  {
   "cell_type": "code",
   "execution_count": 47,
   "id": "2972d21e",
   "metadata": {},
   "outputs": [
    {
     "data": {
      "text/plain": [
       "'hello'"
      ]
     },
     "execution_count": 47,
     "metadata": {},
     "output_type": "execute_result"
    }
   ],
   "source": [
    "b"
   ]
  },
  {
   "cell_type": "code",
   "execution_count": 48,
   "id": "42071184",
   "metadata": {},
   "outputs": [
    {
     "data": {
      "text/plain": [
       "[1, 2, 2.344]"
      ]
     },
     "execution_count": 48,
     "metadata": {},
     "output_type": "execute_result"
    }
   ],
   "source": [
    "a"
   ]
  },
  {
   "cell_type": "code",
   "execution_count": 49,
   "id": "1ca6c07d",
   "metadata": {},
   "outputs": [
    {
     "data": {
      "text/plain": [
       "2"
      ]
     },
     "execution_count": 49,
     "metadata": {},
     "output_type": "execute_result"
    }
   ],
   "source": [
    "a.pop(1)"
   ]
  },
  {
   "cell_type": "code",
   "execution_count": 50,
   "id": "939c5451",
   "metadata": {},
   "outputs": [
    {
     "data": {
      "text/plain": [
       "[1, 2.344]"
      ]
     },
     "execution_count": 50,
     "metadata": {},
     "output_type": "execute_result"
    }
   ],
   "source": [
    "a"
   ]
  },
  {
   "cell_type": "code",
   "execution_count": 51,
   "id": "22d0a7e7",
   "metadata": {},
   "outputs": [],
   "source": [
    "str = 'hello'"
   ]
  },
  {
   "cell_type": "code",
   "execution_count": 52,
   "id": "676271d1",
   "metadata": {},
   "outputs": [
    {
     "data": {
      "text/plain": [
       "str"
      ]
     },
     "execution_count": 52,
     "metadata": {},
     "output_type": "execute_result"
    }
   ],
   "source": [
    "type(str)"
   ]
  },
  {
   "cell_type": "code",
   "execution_count": 53,
   "id": "9c3a9def",
   "metadata": {},
   "outputs": [
    {
     "data": {
      "text/plain": [
       "['h', 'e', 'l', 'l', 'o']"
      ]
     },
     "execution_count": 53,
     "metadata": {},
     "output_type": "execute_result"
    }
   ],
   "source": [
    "list(str)"
   ]
  },
  {
   "cell_type": "code",
   "execution_count": 55,
   "id": "7d2255a1",
   "metadata": {},
   "outputs": [],
   "source": [
    "new = list('python')"
   ]
  },
  {
   "cell_type": "code",
   "execution_count": 56,
   "id": "36c840dc",
   "metadata": {},
   "outputs": [
    {
     "data": {
      "text/plain": [
       "['p', 'y', 't', 'h', 'o', 'n']"
      ]
     },
     "execution_count": 56,
     "metadata": {},
     "output_type": "execute_result"
    }
   ],
   "source": [
    "new"
   ]
  },
  {
   "cell_type": "code",
   "execution_count": 57,
   "id": "7ccadbc2",
   "metadata": {},
   "outputs": [
    {
     "data": {
      "text/plain": [
       "list"
      ]
     },
     "execution_count": 57,
     "metadata": {},
     "output_type": "execute_result"
    }
   ],
   "source": [
    "type(new)"
   ]
  },
  {
   "cell_type": "code",
   "execution_count": 59,
   "id": "bdbc9098",
   "metadata": {},
   "outputs": [],
   "source": [
    "# Join Method"
   ]
  },
  {
   "cell_type": "code",
   "execution_count": 60,
   "id": "9ad9ac92",
   "metadata": {},
   "outputs": [
    {
     "data": {
      "text/plain": [
       "'python'"
      ]
     },
     "execution_count": 60,
     "metadata": {},
     "output_type": "execute_result"
    }
   ],
   "source": [
    "''.join(new)"
   ]
  },
  {
   "cell_type": "code",
   "execution_count": 61,
   "id": "12e8e578",
   "metadata": {},
   "outputs": [
    {
     "data": {
      "text/plain": [
       "'p y t h o n'"
      ]
     },
     "execution_count": 61,
     "metadata": {},
     "output_type": "execute_result"
    }
   ],
   "source": [
    "' '.join(new)"
   ]
  },
  {
   "cell_type": "code",
   "execution_count": 62,
   "id": "9b36218d",
   "metadata": {},
   "outputs": [
    {
     "data": {
      "text/plain": [
       "'p*y*t*h*o*n'"
      ]
     },
     "execution_count": 62,
     "metadata": {},
     "output_type": "execute_result"
    }
   ],
   "source": [
    "'*'.join(new)"
   ]
  },
  {
   "cell_type": "code",
   "execution_count": 1,
   "id": "b6018bcf",
   "metadata": {},
   "outputs": [],
   "source": [
    "# List Methods - 11"
   ]
  },
  {
   "cell_type": "code",
   "execution_count": 9,
   "id": "d299c4ea",
   "metadata": {},
   "outputs": [],
   "source": [
    "a = [1,2,2.344,'hi','hello',3+2j]"
   ]
  },
  {
   "cell_type": "code",
   "execution_count": 11,
   "id": "6cf60b2e",
   "metadata": {},
   "outputs": [],
   "source": [
    "a.append('python')  #Add object at the end of the list"
   ]
  },
  {
   "cell_type": "code",
   "execution_count": 12,
   "id": "d38d5fa4",
   "metadata": {},
   "outputs": [
    {
     "data": {
      "text/plain": [
       "[1, 2, 2.344, 'hi', 'hello', (3+2j), 'python']"
      ]
     },
     "execution_count": 12,
     "metadata": {},
     "output_type": "execute_result"
    }
   ],
   "source": [
    "a"
   ]
  },
  {
   "cell_type": "code",
   "execution_count": 13,
   "id": "80e4db9d",
   "metadata": {},
   "outputs": [],
   "source": [
    "b=[8,9,11]"
   ]
  },
  {
   "cell_type": "code",
   "execution_count": 14,
   "id": "ade7ed53",
   "metadata": {},
   "outputs": [],
   "source": [
    "a.extend(b)"
   ]
  },
  {
   "cell_type": "code",
   "execution_count": 15,
   "id": "40027d67",
   "metadata": {},
   "outputs": [
    {
     "data": {
      "text/plain": [
       "[1, 2, 2.344, 'hi', 'hello', (3+2j), 'python', 8, 9, 11]"
      ]
     },
     "execution_count": 15,
     "metadata": {},
     "output_type": "execute_result"
    }
   ],
   "source": [
    "a"
   ]
  },
  {
   "cell_type": "code",
   "execution_count": 16,
   "id": "93026104",
   "metadata": {},
   "outputs": [
    {
     "data": {
      "text/plain": [
       "[1, 2, 2.344, 'hi', 'hello', (3+2j), 'python', 8, 9, 11]"
      ]
     },
     "execution_count": 16,
     "metadata": {},
     "output_type": "execute_result"
    }
   ],
   "source": [
    "a"
   ]
  },
  {
   "cell_type": "code",
   "execution_count": 19,
   "id": "fce258ee",
   "metadata": {},
   "outputs": [],
   "source": [
    "a.insert(5,'good morning')  #we can insert objects at the specified location"
   ]
  },
  {
   "cell_type": "code",
   "execution_count": 20,
   "id": "9e03fd94",
   "metadata": {},
   "outputs": [
    {
     "data": {
      "text/plain": [
       "[1, 2, 2.344, 'hi', 'hello', 'good morning', (3+2j), 'python', 8, 9, 11]"
      ]
     },
     "execution_count": 20,
     "metadata": {},
     "output_type": "execute_result"
    }
   ],
   "source": [
    "a"
   ]
  },
  {
   "cell_type": "code",
   "execution_count": 21,
   "id": "1b16a6b3",
   "metadata": {},
   "outputs": [
    {
     "data": {
      "text/plain": [
       "7"
      ]
     },
     "execution_count": 21,
     "metadata": {},
     "output_type": "execute_result"
    }
   ],
   "source": [
    "a.index('python')"
   ]
  },
  {
   "cell_type": "code",
   "execution_count": 22,
   "id": "4f240451",
   "metadata": {},
   "outputs": [
    {
     "data": {
      "text/plain": [
       "9"
      ]
     },
     "execution_count": 22,
     "metadata": {},
     "output_type": "execute_result"
    }
   ],
   "source": [
    "a.index(9)"
   ]
  },
  {
   "cell_type": "code",
   "execution_count": 23,
   "id": "0ea41f1e",
   "metadata": {},
   "outputs": [
    {
     "data": {
      "text/plain": [
       "2"
      ]
     },
     "execution_count": 23,
     "metadata": {},
     "output_type": "execute_result"
    }
   ],
   "source": [
    "a.index(2.344)"
   ]
  },
  {
   "cell_type": "code",
   "execution_count": 24,
   "id": "15f807b5",
   "metadata": {},
   "outputs": [
    {
     "data": {
      "text/plain": [
       "4"
      ]
     },
     "execution_count": 24,
     "metadata": {},
     "output_type": "execute_result"
    }
   ],
   "source": [
    "a.index('hello')"
   ]
  },
  {
   "cell_type": "code",
   "execution_count": 25,
   "id": "5737d50c",
   "metadata": {},
   "outputs": [],
   "source": [
    "a.remove(3+2j)"
   ]
  },
  {
   "cell_type": "code",
   "execution_count": 26,
   "id": "0fd560b5",
   "metadata": {},
   "outputs": [
    {
     "data": {
      "text/plain": [
       "[1, 2, 2.344, 'hi', 'hello', 'good morning', 'python', 8, 9, 11]"
      ]
     },
     "execution_count": 26,
     "metadata": {},
     "output_type": "execute_result"
    }
   ],
   "source": [
    "a"
   ]
  },
  {
   "cell_type": "code",
   "execution_count": 27,
   "id": "d427dee5",
   "metadata": {},
   "outputs": [],
   "source": [
    "a.remove(11)"
   ]
  },
  {
   "cell_type": "code",
   "execution_count": 28,
   "id": "aa888316",
   "metadata": {},
   "outputs": [
    {
     "data": {
      "text/plain": [
       "[1, 2, 2.344, 'hi', 'hello', 'good morning', 'python', 8, 9]"
      ]
     },
     "execution_count": 28,
     "metadata": {},
     "output_type": "execute_result"
    }
   ],
   "source": [
    "a"
   ]
  },
  {
   "cell_type": "code",
   "execution_count": 30,
   "id": "b59cee0b",
   "metadata": {},
   "outputs": [
    {
     "data": {
      "text/plain": [
       "9"
      ]
     },
     "execution_count": 30,
     "metadata": {},
     "output_type": "execute_result"
    }
   ],
   "source": [
    "a.pop()"
   ]
  },
  {
   "cell_type": "code",
   "execution_count": 31,
   "id": "a2ec71ef",
   "metadata": {},
   "outputs": [
    {
     "data": {
      "text/plain": [
       "[1, 2, 2.344, 'hi', 'hello', 'good morning', 'python', 8]"
      ]
     },
     "execution_count": 31,
     "metadata": {},
     "output_type": "execute_result"
    }
   ],
   "source": [
    "a"
   ]
  },
  {
   "cell_type": "code",
   "execution_count": 32,
   "id": "d5775fd6",
   "metadata": {},
   "outputs": [
    {
     "data": {
      "text/plain": [
       "1"
      ]
     },
     "execution_count": 32,
     "metadata": {},
     "output_type": "execute_result"
    }
   ],
   "source": [
    "a.count(8)"
   ]
  },
  {
   "cell_type": "code",
   "execution_count": 33,
   "id": "c8063cc9",
   "metadata": {},
   "outputs": [],
   "source": [
    "c = [11,2,1,2,2,3,4,5]"
   ]
  },
  {
   "cell_type": "code",
   "execution_count": 34,
   "id": "92afed91",
   "metadata": {},
   "outputs": [
    {
     "data": {
      "text/plain": [
       "1"
      ]
     },
     "execution_count": 34,
     "metadata": {},
     "output_type": "execute_result"
    }
   ],
   "source": [
    "c.count(1)"
   ]
  },
  {
   "cell_type": "code",
   "execution_count": 35,
   "id": "c6c713da",
   "metadata": {},
   "outputs": [
    {
     "data": {
      "text/plain": [
       "3"
      ]
     },
     "execution_count": 35,
     "metadata": {},
     "output_type": "execute_result"
    }
   ],
   "source": [
    "c.count(2)"
   ]
  },
  {
   "cell_type": "code",
   "execution_count": 38,
   "id": "e8919cf3",
   "metadata": {},
   "outputs": [],
   "source": [
    "c.sort()"
   ]
  },
  {
   "cell_type": "code",
   "execution_count": 39,
   "id": "4d065842",
   "metadata": {},
   "outputs": [
    {
     "data": {
      "text/plain": [
       "[1, 2, 2, 2, 3, 4, 5, 11]"
      ]
     },
     "execution_count": 39,
     "metadata": {},
     "output_type": "execute_result"
    }
   ],
   "source": [
    "c"
   ]
  },
  {
   "cell_type": "code",
   "execution_count": 40,
   "id": "968b1d15",
   "metadata": {},
   "outputs": [],
   "source": [
    "a.reverse()"
   ]
  },
  {
   "cell_type": "code",
   "execution_count": 41,
   "id": "8d5558e1",
   "metadata": {},
   "outputs": [
    {
     "data": {
      "text/plain": [
       "[8, 'python', 'good morning', 'hello', 'hi', 2.344, 2, 1]"
      ]
     },
     "execution_count": 41,
     "metadata": {},
     "output_type": "execute_result"
    }
   ],
   "source": [
    "a"
   ]
  },
  {
   "cell_type": "code",
   "execution_count": 43,
   "id": "538e59c8",
   "metadata": {},
   "outputs": [],
   "source": [
    "d = a.copy()"
   ]
  },
  {
   "cell_type": "code",
   "execution_count": 44,
   "id": "f46a2a31",
   "metadata": {},
   "outputs": [
    {
     "data": {
      "text/plain": [
       "[8, 'python', 'good morning', 'hello', 'hi', 2.344, 2, 1]"
      ]
     },
     "execution_count": 44,
     "metadata": {},
     "output_type": "execute_result"
    }
   ],
   "source": [
    "d"
   ]
  },
  {
   "cell_type": "code",
   "execution_count": 45,
   "id": "42cf524f",
   "metadata": {},
   "outputs": [],
   "source": [
    "a.clear()"
   ]
  },
  {
   "cell_type": "code",
   "execution_count": 46,
   "id": "02856704",
   "metadata": {},
   "outputs": [
    {
     "data": {
      "text/plain": [
       "[]"
      ]
     },
     "execution_count": 46,
     "metadata": {},
     "output_type": "execute_result"
    }
   ],
   "source": [
    "a"
   ]
  },
  {
   "cell_type": "code",
   "execution_count": 47,
   "id": "3368eefb",
   "metadata": {},
   "outputs": [
    {
     "data": {
      "text/plain": [
       "[8, 'python', 'good morning', 'hello', 'hi', 2.344, 2, 1]"
      ]
     },
     "execution_count": 47,
     "metadata": {},
     "output_type": "execute_result"
    }
   ],
   "source": [
    "d"
   ]
  },
  {
   "cell_type": "code",
   "execution_count": 48,
   "id": "34a7d921",
   "metadata": {},
   "outputs": [
    {
     "data": {
      "text/plain": [
       "[1, 2, 2, 2, 3, 4, 5, 11]"
      ]
     },
     "execution_count": 48,
     "metadata": {},
     "output_type": "execute_result"
    }
   ],
   "source": [
    "c"
   ]
  },
  {
   "cell_type": "code",
   "execution_count": 49,
   "id": "79bd996a",
   "metadata": {},
   "outputs": [
    {
     "data": {
      "text/plain": [
       "30"
      ]
     },
     "execution_count": 49,
     "metadata": {},
     "output_type": "execute_result"
    }
   ],
   "source": [
    "sum(c)"
   ]
  },
  {
   "cell_type": "code",
   "execution_count": 50,
   "id": "eded3e62",
   "metadata": {},
   "outputs": [
    {
     "data": {
      "text/plain": [
       "1"
      ]
     },
     "execution_count": 50,
     "metadata": {},
     "output_type": "execute_result"
    }
   ],
   "source": [
    "min(c)"
   ]
  },
  {
   "cell_type": "code",
   "execution_count": 51,
   "id": "94b19bf9",
   "metadata": {},
   "outputs": [
    {
     "data": {
      "text/plain": [
       "11"
      ]
     },
     "execution_count": 51,
     "metadata": {},
     "output_type": "execute_result"
    }
   ],
   "source": [
    "max(c)"
   ]
  },
  {
   "cell_type": "code",
   "execution_count": 52,
   "id": "2e56414c",
   "metadata": {},
   "outputs": [
    {
     "data": {
      "text/plain": [
       "8"
      ]
     },
     "execution_count": 52,
     "metadata": {},
     "output_type": "execute_result"
    }
   ],
   "source": [
    "len(c)"
   ]
  },
  {
   "cell_type": "code",
   "execution_count": 53,
   "id": "208b299a",
   "metadata": {},
   "outputs": [
    {
     "data": {
      "text/plain": [
       "True"
      ]
     },
     "execution_count": 53,
     "metadata": {},
     "output_type": "execute_result"
    }
   ],
   "source": [
    "all(c)"
   ]
  },
  {
   "cell_type": "code",
   "execution_count": 54,
   "id": "c77269e7",
   "metadata": {},
   "outputs": [
    {
     "data": {
      "text/plain": [
       "[]"
      ]
     },
     "execution_count": 54,
     "metadata": {},
     "output_type": "execute_result"
    }
   ],
   "source": [
    "a"
   ]
  },
  {
   "cell_type": "code",
   "execution_count": 55,
   "id": "ef838b31",
   "metadata": {},
   "outputs": [
    {
     "data": {
      "text/plain": [
       "True"
      ]
     },
     "execution_count": 55,
     "metadata": {},
     "output_type": "execute_result"
    }
   ],
   "source": [
    "all(a)"
   ]
  },
  {
   "cell_type": "code",
   "execution_count": 56,
   "id": "2628d68d",
   "metadata": {},
   "outputs": [
    {
     "data": {
      "text/plain": [
       "False"
      ]
     },
     "execution_count": 56,
     "metadata": {},
     "output_type": "execute_result"
    }
   ],
   "source": [
    "any(a)"
   ]
  },
  {
   "cell_type": "code",
   "execution_count": 57,
   "id": "37b76b2c",
   "metadata": {},
   "outputs": [
    {
     "data": {
      "text/plain": [
       "[]"
      ]
     },
     "execution_count": 57,
     "metadata": {},
     "output_type": "execute_result"
    }
   ],
   "source": [
    "a"
   ]
  },
  {
   "cell_type": "code",
   "execution_count": 58,
   "id": "20ac30a6",
   "metadata": {},
   "outputs": [
    {
     "data": {
      "text/plain": [
       "True"
      ]
     },
     "execution_count": 58,
     "metadata": {},
     "output_type": "execute_result"
    }
   ],
   "source": [
    "any(c)"
   ]
  },
  {
   "cell_type": "code",
   "execution_count": 59,
   "id": "d1892072",
   "metadata": {},
   "outputs": [],
   "source": [
    "e = range(10)"
   ]
  },
  {
   "cell_type": "code",
   "execution_count": 60,
   "id": "31b4a109",
   "metadata": {},
   "outputs": [
    {
     "data": {
      "text/plain": [
       "range(0, 10)"
      ]
     },
     "execution_count": 60,
     "metadata": {},
     "output_type": "execute_result"
    }
   ],
   "source": [
    "e"
   ]
  },
  {
   "cell_type": "code",
   "execution_count": 63,
   "id": "9880f8b8",
   "metadata": {},
   "outputs": [
    {
     "data": {
      "text/plain": [
       "[0, 1, 2, 3, 4, 5, 6, 7, 8, 9]"
      ]
     },
     "execution_count": 63,
     "metadata": {},
     "output_type": "execute_result"
    }
   ],
   "source": [
    "list(e)"
   ]
  },
  {
   "cell_type": "code",
   "execution_count": 64,
   "id": "b1061ba6",
   "metadata": {},
   "outputs": [
    {
     "data": {
      "text/plain": [
       "range(0, 20)"
      ]
     },
     "execution_count": 64,
     "metadata": {},
     "output_type": "execute_result"
    }
   ],
   "source": [
    "range(20)"
   ]
  },
  {
   "cell_type": "code",
   "execution_count": 65,
   "id": "b49de0af",
   "metadata": {},
   "outputs": [
    {
     "data": {
      "text/plain": [
       "[0, 1, 2, 3, 4, 5, 6, 7, 8, 9, 10, 11, 12, 13, 14, 15, 16, 17, 18, 19]"
      ]
     },
     "execution_count": 65,
     "metadata": {},
     "output_type": "execute_result"
    }
   ],
   "source": [
    "list(range(0,20))"
   ]
  },
  {
   "cell_type": "code",
   "execution_count": 66,
   "id": "048626bc",
   "metadata": {},
   "outputs": [],
   "source": [
    "# Range - Start, Stop, Step Size  # Default value is end number"
   ]
  },
  {
   "cell_type": "code",
   "execution_count": 67,
   "id": "7c80c75c",
   "metadata": {},
   "outputs": [
    {
     "data": {
      "text/plain": [
       "[1, 2, 3, 4, 5, 6, 7, 8, 9]"
      ]
     },
     "execution_count": 67,
     "metadata": {},
     "output_type": "execute_result"
    }
   ],
   "source": [
    "list(range(1,10))"
   ]
  },
  {
   "cell_type": "code",
   "execution_count": 68,
   "id": "d5ba72f9",
   "metadata": {},
   "outputs": [
    {
     "data": {
      "text/plain": [
       "[0, 1, 2, 3, 4, 5, 6, 7, 8, 9]"
      ]
     },
     "execution_count": 68,
     "metadata": {},
     "output_type": "execute_result"
    }
   ],
   "source": [
    "list(range(10))"
   ]
  },
  {
   "cell_type": "code",
   "execution_count": 69,
   "id": "8e08685d",
   "metadata": {},
   "outputs": [
    {
     "data": {
      "text/plain": [
       "[0, 2, 4, 6, 8]"
      ]
     },
     "execution_count": 69,
     "metadata": {},
     "output_type": "execute_result"
    }
   ],
   "source": [
    "list(range(0,10,2))"
   ]
  },
  {
   "cell_type": "code",
   "execution_count": 72,
   "id": "814520ae",
   "metadata": {},
   "outputs": [
    {
     "data": {
      "text/plain": [
       "[1, 3, 5, 7, 9]"
      ]
     },
     "execution_count": 72,
     "metadata": {},
     "output_type": "execute_result"
    }
   ],
   "source": [
    "list(range(1,10,2))"
   ]
  },
  {
   "cell_type": "code",
   "execution_count": null,
   "id": "b4930892",
   "metadata": {},
   "outputs": [],
   "source": []
  }
 ],
 "metadata": {
  "kernelspec": {
   "display_name": "Python 3",
   "language": "python",
   "name": "python3"
  },
  "language_info": {
   "codemirror_mode": {
    "name": "ipython",
    "version": 3
   },
   "file_extension": ".py",
   "mimetype": "text/x-python",
   "name": "python",
   "nbconvert_exporter": "python",
   "pygments_lexer": "ipython3",
   "version": "3.10.4"
  }
 },
 "nbformat": 4,
 "nbformat_minor": 5
}
