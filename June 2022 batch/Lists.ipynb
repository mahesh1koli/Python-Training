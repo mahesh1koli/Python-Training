{
 "cells": [
  {
   "cell_type": "code",
   "execution_count": 1,
   "id": "5aa2be58",
   "metadata": {},
   "outputs": [],
   "source": [
    "str1 = 'hello'"
   ]
  },
  {
   "cell_type": "code",
   "execution_count": 2,
   "id": "211ee22c",
   "metadata": {},
   "outputs": [
    {
     "data": {
      "text/plain": [
       "'o'"
      ]
     },
     "execution_count": 2,
     "metadata": {},
     "output_type": "execute_result"
    }
   ],
   "source": [
    "str1[-1:]"
   ]
  },
  {
   "cell_type": "code",
   "execution_count": 3,
   "id": "bba598b6",
   "metadata": {},
   "outputs": [
    {
     "data": {
      "text/plain": [
       "True"
      ]
     },
     "execution_count": 3,
     "metadata": {},
     "output_type": "execute_result"
    }
   ],
   "source": [
    "True"
   ]
  },
  {
   "cell_type": "code",
   "execution_count": 4,
   "id": "79ad1528",
   "metadata": {},
   "outputs": [
    {
     "ename": "NameError",
     "evalue": "name 'true' is not defined",
     "output_type": "error",
     "traceback": [
      "\u001b[1;31m---------------------------------------------------------------------------\u001b[0m",
      "\u001b[1;31mNameError\u001b[0m                                 Traceback (most recent call last)",
      "\u001b[1;32m<ipython-input-4-724ba28f4a9a>\u001b[0m in \u001b[0;36m<module>\u001b[1;34m\u001b[0m\n\u001b[1;32m----> 1\u001b[1;33m \u001b[0mtrue\u001b[0m\u001b[1;33m\u001b[0m\u001b[1;33m\u001b[0m\u001b[0m\n\u001b[0m",
      "\u001b[1;31mNameError\u001b[0m: name 'true' is not defined"
     ]
    }
   ],
   "source": [
    "true"
   ]
  },
  {
   "cell_type": "code",
   "execution_count": 5,
   "id": "74d75375",
   "metadata": {},
   "outputs": [],
   "source": [
    "# Boolean - True,False,None"
   ]
  },
  {
   "cell_type": "code",
   "execution_count": 9,
   "id": "c5e10981",
   "metadata": {},
   "outputs": [],
   "source": [
    "x = 'HI'"
   ]
  },
  {
   "cell_type": "code",
   "execution_count": 14,
   "id": "442a9b0f",
   "metadata": {},
   "outputs": [],
   "source": [
    "a = [1, 'x']"
   ]
  },
  {
   "cell_type": "code",
   "execution_count": 15,
   "id": "6c7914f2",
   "metadata": {},
   "outputs": [
    {
     "data": {
      "text/plain": [
       "[1, 'x']"
      ]
     },
     "execution_count": 15,
     "metadata": {},
     "output_type": "execute_result"
    }
   ],
   "source": [
    "a"
   ]
  },
  {
   "cell_type": "code",
   "execution_count": 16,
   "id": "9eef80b5",
   "metadata": {},
   "outputs": [
    {
     "name": "stdout",
     "output_type": "stream",
     "text": [
      "Variable\n"
     ]
    }
   ],
   "source": [
    "print(\"Variable\")"
   ]
  },
  {
   "cell_type": "code",
   "execution_count": 17,
   "id": "9433a46d",
   "metadata": {},
   "outputs": [
    {
     "name": "stdout",
     "output_type": "stream",
     "text": [
      "HI\n"
     ]
    }
   ],
   "source": [
    "print(x)"
   ]
  },
  {
   "cell_type": "code",
   "execution_count": 18,
   "id": "77ab86b5",
   "metadata": {},
   "outputs": [
    {
     "ename": "NameError",
     "evalue": "name 'y' is not defined",
     "output_type": "error",
     "traceback": [
      "\u001b[1;31m---------------------------------------------------------------------------\u001b[0m",
      "\u001b[1;31mNameError\u001b[0m                                 Traceback (most recent call last)",
      "\u001b[1;32m<ipython-input-18-d9183e048de3>\u001b[0m in \u001b[0;36m<module>\u001b[1;34m\u001b[0m\n\u001b[1;32m----> 1\u001b[1;33m \u001b[0mprint\u001b[0m\u001b[1;33m(\u001b[0m\u001b[0my\u001b[0m\u001b[1;33m)\u001b[0m\u001b[1;33m\u001b[0m\u001b[1;33m\u001b[0m\u001b[0m\n\u001b[0m",
      "\u001b[1;31mNameError\u001b[0m: name 'y' is not defined"
     ]
    }
   ],
   "source": [
    "print(y)"
   ]
  },
  {
   "cell_type": "code",
   "execution_count": 24,
   "id": "78f296f3",
   "metadata": {},
   "outputs": [
    {
     "name": "stdout",
     "output_type": "stream",
     "text": [
      "x is HI\n"
     ]
    }
   ],
   "source": [
    "print(\"x is\", x)"
   ]
  },
  {
   "cell_type": "markdown",
   "id": "4531b401",
   "metadata": {},
   "source": [
    "### Lists"
   ]
  },
  {
   "cell_type": "code",
   "execution_count": 25,
   "id": "1ca56328",
   "metadata": {},
   "outputs": [],
   "source": [
    "a=[45,\"python\",7.65,'hello', 2+3j]"
   ]
  },
  {
   "cell_type": "code",
   "execution_count": 26,
   "id": "99c19cf1",
   "metadata": {},
   "outputs": [
    {
     "data": {
      "text/plain": [
       "[45, 'python', 7.65, 'hello', (2+3j)]"
      ]
     },
     "execution_count": 26,
     "metadata": {},
     "output_type": "execute_result"
    }
   ],
   "source": [
    "a"
   ]
  },
  {
   "cell_type": "code",
   "execution_count": 27,
   "id": "0d748c4f",
   "metadata": {},
   "outputs": [
    {
     "data": {
      "text/plain": [
       "list"
      ]
     },
     "execution_count": 27,
     "metadata": {},
     "output_type": "execute_result"
    }
   ],
   "source": [
    "type(a)"
   ]
  },
  {
   "cell_type": "markdown",
   "id": "e9000039",
   "metadata": {},
   "source": [
    "#### Positive Indexing"
   ]
  },
  {
   "cell_type": "code",
   "execution_count": 28,
   "id": "6ca91de5",
   "metadata": {},
   "outputs": [
    {
     "data": {
      "text/plain": [
       "45"
      ]
     },
     "execution_count": 28,
     "metadata": {},
     "output_type": "execute_result"
    }
   ],
   "source": [
    "a[0]"
   ]
  },
  {
   "cell_type": "code",
   "execution_count": 29,
   "id": "b094d443",
   "metadata": {},
   "outputs": [
    {
     "data": {
      "text/plain": [
       "'python'"
      ]
     },
     "execution_count": 29,
     "metadata": {},
     "output_type": "execute_result"
    }
   ],
   "source": [
    "a[1]"
   ]
  },
  {
   "cell_type": "code",
   "execution_count": 30,
   "id": "ef8f1501",
   "metadata": {},
   "outputs": [
    {
     "data": {
      "text/plain": [
       "7.65"
      ]
     },
     "execution_count": 30,
     "metadata": {},
     "output_type": "execute_result"
    }
   ],
   "source": [
    "a[2]"
   ]
  },
  {
   "cell_type": "code",
   "execution_count": 31,
   "id": "0870b197",
   "metadata": {},
   "outputs": [
    {
     "data": {
      "text/plain": [
       "'hello'"
      ]
     },
     "execution_count": 31,
     "metadata": {},
     "output_type": "execute_result"
    }
   ],
   "source": [
    "a[3]"
   ]
  },
  {
   "cell_type": "code",
   "execution_count": 32,
   "id": "90aafa24",
   "metadata": {},
   "outputs": [
    {
     "data": {
      "text/plain": [
       "(2+3j)"
      ]
     },
     "execution_count": 32,
     "metadata": {},
     "output_type": "execute_result"
    }
   ],
   "source": [
    "a[4]"
   ]
  },
  {
   "cell_type": "markdown",
   "id": "d83a782d",
   "metadata": {},
   "source": [
    "#### Negative Indexing"
   ]
  },
  {
   "cell_type": "code",
   "execution_count": 33,
   "id": "ce41db73",
   "metadata": {},
   "outputs": [
    {
     "data": {
      "text/plain": [
       "(2+3j)"
      ]
     },
     "execution_count": 33,
     "metadata": {},
     "output_type": "execute_result"
    }
   ],
   "source": [
    "a[-1]"
   ]
  },
  {
   "cell_type": "code",
   "execution_count": 34,
   "id": "6ea11683",
   "metadata": {},
   "outputs": [
    {
     "data": {
      "text/plain": [
       "'hello'"
      ]
     },
     "execution_count": 34,
     "metadata": {},
     "output_type": "execute_result"
    }
   ],
   "source": [
    "a[-2]"
   ]
  },
  {
   "cell_type": "code",
   "execution_count": 35,
   "id": "130030eb",
   "metadata": {},
   "outputs": [
    {
     "data": {
      "text/plain": [
       "7.65"
      ]
     },
     "execution_count": 35,
     "metadata": {},
     "output_type": "execute_result"
    }
   ],
   "source": [
    "a[-3]"
   ]
  },
  {
   "cell_type": "markdown",
   "id": "a79bcf50",
   "metadata": {},
   "source": [
    "#### Update"
   ]
  },
  {
   "cell_type": "code",
   "execution_count": 36,
   "id": "c5f956ce",
   "metadata": {},
   "outputs": [],
   "source": [
    "a[0] = 87"
   ]
  },
  {
   "cell_type": "code",
   "execution_count": 37,
   "id": "0557aed0",
   "metadata": {},
   "outputs": [
    {
     "data": {
      "text/plain": [
       "[87, 'python', 7.65, 'hello', (2+3j)]"
      ]
     },
     "execution_count": 37,
     "metadata": {},
     "output_type": "execute_result"
    }
   ],
   "source": [
    "a"
   ]
  },
  {
   "cell_type": "code",
   "execution_count": 38,
   "id": "d4ea7941",
   "metadata": {},
   "outputs": [],
   "source": [
    "del a[-1]"
   ]
  },
  {
   "cell_type": "code",
   "execution_count": 39,
   "id": "18b2ac90",
   "metadata": {},
   "outputs": [
    {
     "data": {
      "text/plain": [
       "[87, 'python', 7.65, 'hello']"
      ]
     },
     "execution_count": 39,
     "metadata": {},
     "output_type": "execute_result"
    }
   ],
   "source": [
    "a"
   ]
  },
  {
   "cell_type": "code",
   "execution_count": 41,
   "id": "ede71689",
   "metadata": {},
   "outputs": [
    {
     "data": {
      "text/plain": [
       "str"
      ]
     },
     "execution_count": 41,
     "metadata": {},
     "output_type": "execute_result"
    }
   ],
   "source": [
    "type(a[1])"
   ]
  },
  {
   "cell_type": "code",
   "execution_count": 47,
   "id": "a9b99879",
   "metadata": {},
   "outputs": [
    {
     "data": {
      "text/plain": [
       "int"
      ]
     },
     "execution_count": 47,
     "metadata": {},
     "output_type": "execute_result"
    }
   ],
   "source": [
    "type(a[0])"
   ]
  },
  {
   "cell_type": "code",
   "execution_count": 48,
   "id": "cb84f2fb",
   "metadata": {},
   "outputs": [],
   "source": [
    "a[0] = str(a[0])"
   ]
  },
  {
   "cell_type": "code",
   "execution_count": 49,
   "id": "1c6950b1",
   "metadata": {},
   "outputs": [
    {
     "data": {
      "text/plain": [
       "str"
      ]
     },
     "execution_count": 49,
     "metadata": {},
     "output_type": "execute_result"
    }
   ],
   "source": [
    "type(a[0])"
   ]
  },
  {
   "cell_type": "code",
   "execution_count": 50,
   "id": "3bb6494c",
   "metadata": {},
   "outputs": [
    {
     "data": {
      "text/plain": [
       "['87', 'python', 7.65, 'hello']"
      ]
     },
     "execution_count": 50,
     "metadata": {},
     "output_type": "execute_result"
    }
   ],
   "source": [
    "a"
   ]
  },
  {
   "cell_type": "code",
   "execution_count": 42,
   "id": "26927227",
   "metadata": {},
   "outputs": [],
   "source": [
    "str1 = \"hello\""
   ]
  },
  {
   "cell_type": "code",
   "execution_count": 43,
   "id": "a4592a2c",
   "metadata": {},
   "outputs": [
    {
     "ename": "ValueError",
     "evalue": "invalid literal for int() with base 10: 'hello'",
     "output_type": "error",
     "traceback": [
      "\u001b[1;31m---------------------------------------------------------------------------\u001b[0m",
      "\u001b[1;31mValueError\u001b[0m                                Traceback (most recent call last)",
      "\u001b[1;32m<ipython-input-43-96962c76182f>\u001b[0m in \u001b[0;36m<module>\u001b[1;34m\u001b[0m\n\u001b[1;32m----> 1\u001b[1;33m \u001b[0mint\u001b[0m\u001b[1;33m(\u001b[0m\u001b[0mstr1\u001b[0m\u001b[1;33m)\u001b[0m\u001b[1;33m\u001b[0m\u001b[1;33m\u001b[0m\u001b[0m\n\u001b[0m",
      "\u001b[1;31mValueError\u001b[0m: invalid literal for int() with base 10: 'hello'"
     ]
    }
   ],
   "source": [
    "int(str1)"
   ]
  },
  {
   "cell_type": "code",
   "execution_count": 44,
   "id": "9bfabcbf",
   "metadata": {},
   "outputs": [],
   "source": [
    "int1 = 34"
   ]
  },
  {
   "cell_type": "code",
   "execution_count": 45,
   "id": "0aba42e3",
   "metadata": {},
   "outputs": [
    {
     "data": {
      "text/plain": [
       "int"
      ]
     },
     "execution_count": 45,
     "metadata": {},
     "output_type": "execute_result"
    }
   ],
   "source": [
    "type(int1)"
   ]
  },
  {
   "cell_type": "code",
   "execution_count": 46,
   "id": "0f6f4b0a",
   "metadata": {},
   "outputs": [
    {
     "data": {
      "text/plain": [
       "'34'"
      ]
     },
     "execution_count": 46,
     "metadata": {},
     "output_type": "execute_result"
    }
   ],
   "source": [
    "str(int1)"
   ]
  },
  {
   "cell_type": "code",
   "execution_count": 51,
   "id": "b0e260b1",
   "metadata": {},
   "outputs": [
    {
     "data": {
      "text/plain": [
       "['87', 'python', 7.65, 'hello']"
      ]
     },
     "execution_count": 51,
     "metadata": {},
     "output_type": "execute_result"
    }
   ],
   "source": [
    "a"
   ]
  },
  {
   "cell_type": "code",
   "execution_count": 52,
   "id": "4b4b53d6",
   "metadata": {},
   "outputs": [],
   "source": [
    "# List Methods -- 11  Methods"
   ]
  },
  {
   "cell_type": "code",
   "execution_count": 53,
   "id": "150375f5",
   "metadata": {},
   "outputs": [],
   "source": [
    "a.insert(1,'prasanthi')  #Object"
   ]
  },
  {
   "cell_type": "code",
   "execution_count": 54,
   "id": "23b1b98a",
   "metadata": {},
   "outputs": [
    {
     "data": {
      "text/plain": [
       "['87', 'prasanthi', 'python', 7.65, 'hello']"
      ]
     },
     "execution_count": 54,
     "metadata": {},
     "output_type": "execute_result"
    }
   ],
   "source": [
    "a"
   ]
  },
  {
   "cell_type": "code",
   "execution_count": 55,
   "id": "18d9813b",
   "metadata": {},
   "outputs": [],
   "source": [
    "a.append('sushma')"
   ]
  },
  {
   "cell_type": "code",
   "execution_count": 56,
   "id": "745c202f",
   "metadata": {},
   "outputs": [
    {
     "data": {
      "text/plain": [
       "['87', 'prasanthi', 'python', 7.65, 'hello', 'sushma']"
      ]
     },
     "execution_count": 56,
     "metadata": {},
     "output_type": "execute_result"
    }
   ],
   "source": [
    "a"
   ]
  },
  {
   "cell_type": "code",
   "execution_count": 57,
   "id": "09357789",
   "metadata": {},
   "outputs": [],
   "source": [
    "a.reverse()"
   ]
  },
  {
   "cell_type": "code",
   "execution_count": 58,
   "id": "acaafd89",
   "metadata": {},
   "outputs": [
    {
     "data": {
      "text/plain": [
       "['sushma', 'hello', 7.65, 'python', 'prasanthi', '87']"
      ]
     },
     "execution_count": 58,
     "metadata": {},
     "output_type": "execute_result"
    }
   ],
   "source": [
    "a"
   ]
  },
  {
   "cell_type": "code",
   "execution_count": 59,
   "id": "3044d3f4",
   "metadata": {},
   "outputs": [
    {
     "data": {
      "text/plain": [
       "1"
      ]
     },
     "execution_count": 59,
     "metadata": {},
     "output_type": "execute_result"
    }
   ],
   "source": [
    "a.index('hello')"
   ]
  },
  {
   "cell_type": "code",
   "execution_count": 60,
   "id": "5d0eae2c",
   "metadata": {},
   "outputs": [
    {
     "data": {
      "text/plain": [
       "4"
      ]
     },
     "execution_count": 60,
     "metadata": {},
     "output_type": "execute_result"
    }
   ],
   "source": [
    "a.index('prasanthi')"
   ]
  },
  {
   "cell_type": "code",
   "execution_count": 61,
   "id": "0fcb1bee",
   "metadata": {},
   "outputs": [],
   "source": [
    "# Nested lists - Lists inside a Lists"
   ]
  },
  {
   "cell_type": "code",
   "execution_count": 62,
   "id": "e8289391",
   "metadata": {},
   "outputs": [],
   "source": [
    "b = [24, 'python', 'hi', 8+7j, ['satish', 'chanikya', 99]]"
   ]
  },
  {
   "cell_type": "code",
   "execution_count": 63,
   "id": "db21b425",
   "metadata": {},
   "outputs": [
    {
     "data": {
      "text/plain": [
       "[24, 'python', 'hi', (8+7j), ['satish', 'chanikya', 99]]"
      ]
     },
     "execution_count": 63,
     "metadata": {},
     "output_type": "execute_result"
    }
   ],
   "source": [
    "b"
   ]
  },
  {
   "cell_type": "code",
   "execution_count": 64,
   "id": "63f375b1",
   "metadata": {},
   "outputs": [
    {
     "data": {
      "text/plain": [
       "list"
      ]
     },
     "execution_count": 64,
     "metadata": {},
     "output_type": "execute_result"
    }
   ],
   "source": [
    "type(b)"
   ]
  },
  {
   "cell_type": "code",
   "execution_count": 68,
   "id": "f4a5c1cb",
   "metadata": {},
   "outputs": [
    {
     "data": {
      "text/plain": [
       "4"
      ]
     },
     "execution_count": 68,
     "metadata": {},
     "output_type": "execute_result"
    }
   ],
   "source": [
    "b.index(['satish', 'chanikya', 99])"
   ]
  },
  {
   "cell_type": "code",
   "execution_count": 69,
   "id": "00d876e9",
   "metadata": {},
   "outputs": [
    {
     "data": {
      "text/plain": [
       "'python'"
      ]
     },
     "execution_count": 69,
     "metadata": {},
     "output_type": "execute_result"
    }
   ],
   "source": [
    "b[1]"
   ]
  },
  {
   "cell_type": "code",
   "execution_count": 70,
   "id": "02730650",
   "metadata": {},
   "outputs": [
    {
     "data": {
      "text/plain": [
       "['satish', 'chanikya', 99]"
      ]
     },
     "execution_count": 70,
     "metadata": {},
     "output_type": "execute_result"
    }
   ],
   "source": [
    "b[4]"
   ]
  },
  {
   "cell_type": "code",
   "execution_count": 71,
   "id": "e724badb",
   "metadata": {},
   "outputs": [
    {
     "data": {
      "text/plain": [
       "[24, 'python', 'hi', (8+7j), ['satish', 'chanikya', 99]]"
      ]
     },
     "execution_count": 71,
     "metadata": {},
     "output_type": "execute_result"
    }
   ],
   "source": [
    "b"
   ]
  },
  {
   "cell_type": "code",
   "execution_count": 72,
   "id": "93e55418",
   "metadata": {},
   "outputs": [
    {
     "data": {
      "text/plain": [
       "['satish', 'chanikya', 99]"
      ]
     },
     "execution_count": 72,
     "metadata": {},
     "output_type": "execute_result"
    }
   ],
   "source": [
    "b[4]"
   ]
  },
  {
   "cell_type": "code",
   "execution_count": 73,
   "id": "dae3dd77",
   "metadata": {},
   "outputs": [
    {
     "name": "stderr",
     "output_type": "stream",
     "text": [
      "<>:1: SyntaxWarning: 'int' object is not subscriptable; perhaps you missed a comma?\n",
      "<>:1: SyntaxWarning: 'int' object is not subscriptable; perhaps you missed a comma?\n",
      "<ipython-input-73-c535032f5d1a>:1: SyntaxWarning: 'int' object is not subscriptable; perhaps you missed a comma?\n",
      "  b[4[1]]\n"
     ]
    },
    {
     "ename": "TypeError",
     "evalue": "'int' object is not subscriptable",
     "output_type": "error",
     "traceback": [
      "\u001b[1;31m---------------------------------------------------------------------------\u001b[0m",
      "\u001b[1;31mTypeError\u001b[0m                                 Traceback (most recent call last)",
      "\u001b[1;32m<ipython-input-73-c535032f5d1a>\u001b[0m in \u001b[0;36m<module>\u001b[1;34m\u001b[0m\n\u001b[1;32m----> 1\u001b[1;33m \u001b[0mb\u001b[0m\u001b[1;33m[\u001b[0m\u001b[1;36m4\u001b[0m\u001b[1;33m[\u001b[0m\u001b[1;36m1\u001b[0m\u001b[1;33m]\u001b[0m\u001b[1;33m]\u001b[0m\u001b[1;33m\u001b[0m\u001b[1;33m\u001b[0m\u001b[0m\n\u001b[0m",
      "\u001b[1;31mTypeError\u001b[0m: 'int' object is not subscriptable"
     ]
    }
   ],
   "source": [
    "b[4[1]]"
   ]
  },
  {
   "cell_type": "code",
   "execution_count": 74,
   "id": "0695abda",
   "metadata": {},
   "outputs": [
    {
     "ename": "TypeError",
     "evalue": "list indices must be integers or slices, not float",
     "output_type": "error",
     "traceback": [
      "\u001b[1;31m---------------------------------------------------------------------------\u001b[0m",
      "\u001b[1;31mTypeError\u001b[0m                                 Traceback (most recent call last)",
      "\u001b[1;32m<ipython-input-74-2f1117ad7a0e>\u001b[0m in \u001b[0;36m<module>\u001b[1;34m\u001b[0m\n\u001b[1;32m----> 1\u001b[1;33m \u001b[0mb\u001b[0m\u001b[1;33m[\u001b[0m\u001b[1;36m4.1\u001b[0m\u001b[1;33m]\u001b[0m\u001b[1;33m\u001b[0m\u001b[1;33m\u001b[0m\u001b[0m\n\u001b[0m",
      "\u001b[1;31mTypeError\u001b[0m: list indices must be integers or slices, not float"
     ]
    }
   ],
   "source": [
    "b[4.1]"
   ]
  },
  {
   "cell_type": "code",
   "execution_count": 75,
   "id": "95f792bb",
   "metadata": {},
   "outputs": [
    {
     "data": {
      "text/plain": [
       "['satish', 'chanikya', 99]"
      ]
     },
     "execution_count": 75,
     "metadata": {},
     "output_type": "execute_result"
    }
   ],
   "source": [
    "b[4]"
   ]
  },
  {
   "cell_type": "code",
   "execution_count": 76,
   "id": "54b1686d",
   "metadata": {},
   "outputs": [
    {
     "name": "stderr",
     "output_type": "stream",
     "text": [
      "<>:1: SyntaxWarning: 'int' object is not subscriptable; perhaps you missed a comma?\n",
      "<>:1: SyntaxWarning: 'int' object is not subscriptable; perhaps you missed a comma?\n",
      "<ipython-input-76-f8333d5a0048>:1: SyntaxWarning: 'int' object is not subscriptable; perhaps you missed a comma?\n",
      "  b[4[1:2]]\n"
     ]
    },
    {
     "ename": "TypeError",
     "evalue": "'int' object is not subscriptable",
     "output_type": "error",
     "traceback": [
      "\u001b[1;31m---------------------------------------------------------------------------\u001b[0m",
      "\u001b[1;31mTypeError\u001b[0m                                 Traceback (most recent call last)",
      "\u001b[1;32m<ipython-input-76-f8333d5a0048>\u001b[0m in \u001b[0;36m<module>\u001b[1;34m\u001b[0m\n\u001b[1;32m----> 1\u001b[1;33m \u001b[0mb\u001b[0m\u001b[1;33m[\u001b[0m\u001b[1;36m4\u001b[0m\u001b[1;33m[\u001b[0m\u001b[1;36m1\u001b[0m\u001b[1;33m:\u001b[0m\u001b[1;36m2\u001b[0m\u001b[1;33m]\u001b[0m\u001b[1;33m]\u001b[0m\u001b[1;33m\u001b[0m\u001b[1;33m\u001b[0m\u001b[0m\n\u001b[0m",
      "\u001b[1;31mTypeError\u001b[0m: 'int' object is not subscriptable"
     ]
    }
   ],
   "source": [
    "b[4[1:2]]"
   ]
  },
  {
   "cell_type": "code",
   "execution_count": 77,
   "id": "86c2164f",
   "metadata": {},
   "outputs": [
    {
     "data": {
      "text/plain": [
       "['chanikya']"
      ]
     },
     "execution_count": 77,
     "metadata": {},
     "output_type": "execute_result"
    }
   ],
   "source": [
    "b[4][1:2]"
   ]
  },
  {
   "cell_type": "code",
   "execution_count": 79,
   "id": "6a70efec",
   "metadata": {},
   "outputs": [
    {
     "data": {
      "text/plain": [
       "99"
      ]
     },
     "execution_count": 79,
     "metadata": {},
     "output_type": "execute_result"
    }
   ],
   "source": [
    "b[4][2]"
   ]
  },
  {
   "cell_type": "code",
   "execution_count": 80,
   "id": "0644574c",
   "metadata": {},
   "outputs": [],
   "source": [
    "b[4].insert(1,\"7563\")"
   ]
  },
  {
   "cell_type": "code",
   "execution_count": 81,
   "id": "232ac99a",
   "metadata": {},
   "outputs": [
    {
     "data": {
      "text/plain": [
       "[24, 'python', 'hi', (8+7j), ['satish', '7563', 'chanikya', 99]]"
      ]
     },
     "execution_count": 81,
     "metadata": {},
     "output_type": "execute_result"
    }
   ],
   "source": [
    "b"
   ]
  },
  {
   "cell_type": "code",
   "execution_count": null,
   "id": "0e343eac",
   "metadata": {},
   "outputs": [],
   "source": []
  }
 ],
 "metadata": {
  "kernelspec": {
   "display_name": "Python 3 (ipykernel)",
   "language": "python",
   "name": "python3"
  },
  "language_info": {
   "codemirror_mode": {
    "name": "ipython",
    "version": 3
   },
   "file_extension": ".py",
   "mimetype": "text/x-python",
   "name": "python",
   "nbconvert_exporter": "python",
   "pygments_lexer": "ipython3",
   "version": "3.9.7"
  }
 },
 "nbformat": 4,
 "nbformat_minor": 5
}
