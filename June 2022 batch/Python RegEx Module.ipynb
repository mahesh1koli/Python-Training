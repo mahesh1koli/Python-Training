{
 "cells": [
  {
   "cell_type": "code",
   "execution_count": 1,
   "id": "5857e001",
   "metadata": {},
   "outputs": [],
   "source": [
    "# RegEx Module is not in-built in python\n",
    "# re is the alias name for RegEx module"
   ]
  },
  {
   "cell_type": "code",
   "execution_count": 1,
   "id": "3cd65245",
   "metadata": {},
   "outputs": [],
   "source": [
    "# Import RegEx Module\n",
    "import re"
   ]
  },
  {
   "cell_type": "code",
   "execution_count": 3,
   "id": "35605c96",
   "metadata": {},
   "outputs": [
    {
     "name": "stdout",
     "output_type": "stream",
     "text": [
      "\n",
      "hello\n"
     ]
    }
   ],
   "source": [
    "print(\"\\nhello\")"
   ]
  },
  {
   "cell_type": "code",
   "execution_count": 4,
   "id": "1f157b22",
   "metadata": {},
   "outputs": [
    {
     "name": "stdout",
     "output_type": "stream",
     "text": [
      "hello\n",
      "\n"
     ]
    }
   ],
   "source": [
    "print(\"hello\\n\")"
   ]
  },
  {
   "cell_type": "code",
   "execution_count": 14,
   "id": "1d527213",
   "metadata": {},
   "outputs": [],
   "source": [
    "# Write a program to extract numbers from the given string\n",
    "string = 'hello 121 hi 893. Howdy 342'"
   ]
  },
  {
   "cell_type": "code",
   "execution_count": 15,
   "id": "7845d5b8",
   "metadata": {},
   "outputs": [],
   "source": [
    "pattern = \"\\d+\""
   ]
  },
  {
   "cell_type": "code",
   "execution_count": 16,
   "id": "fc7ab901",
   "metadata": {},
   "outputs": [],
   "source": [
    "res = re.findall(pattern, string)"
   ]
  },
  {
   "cell_type": "code",
   "execution_count": 17,
   "id": "e0cb54b1",
   "metadata": {},
   "outputs": [
    {
     "name": "stdout",
     "output_type": "stream",
     "text": [
      "['121', '893', '342']\n"
     ]
    }
   ],
   "source": [
    "print(res)"
   ]
  },
  {
   "cell_type": "code",
   "execution_count": 18,
   "id": "54881ef7",
   "metadata": {},
   "outputs": [],
   "source": [
    "# Write a program to extract a word 'python' from the given web URL\n",
    "# https://www.tutorialspoint.com/python/python_reg_expressions.htm#"
   ]
  },
  {
   "cell_type": "code",
   "execution_count": 19,
   "id": "ee2a1355",
   "metadata": {},
   "outputs": [],
   "source": [
    "string = \"https://www.tutorialspoint.com/python/python_reg_expressions.htm#\""
   ]
  },
  {
   "cell_type": "code",
   "execution_count": 20,
   "id": "0480ef82",
   "metadata": {},
   "outputs": [
    {
     "name": "stdout",
     "output_type": "stream",
     "text": [
      "Help on function split in module re:\n",
      "\n",
      "split(pattern, string, maxsplit=0, flags=0)\n",
      "    Split the source string by the occurrences of the pattern,\n",
      "    returning a list containing the resulting substrings.  If\n",
      "    capturing parentheses are used in pattern, then the text of all\n",
      "    groups in the pattern are also returned as part of the resulting\n",
      "    list.  If maxsplit is nonzero, at most maxsplit splits occur,\n",
      "    and the remainder of the string is returned as the final element\n",
      "    of the list.\n",
      "\n"
     ]
    }
   ],
   "source": [
    "help(re.split)"
   ]
  },
  {
   "cell_type": "code",
   "execution_count": 39,
   "id": "c4aa7b02",
   "metadata": {},
   "outputs": [],
   "source": [
    "pattern = \"/\""
   ]
  },
  {
   "cell_type": "code",
   "execution_count": 44,
   "id": "3b9f945e",
   "metadata": {},
   "outputs": [],
   "source": [
    "y = re.split(pattern,string)"
   ]
  },
  {
   "cell_type": "code",
   "execution_count": 47,
   "id": "088875bb",
   "metadata": {},
   "outputs": [
    {
     "data": {
      "text/plain": [
       "['https:',\n",
       " '',\n",
       " 'www.tutorialspoint.com',\n",
       " 'python',\n",
       " 'python_reg_expressions.htm#']"
      ]
     },
     "execution_count": 47,
     "metadata": {},
     "output_type": "execute_result"
    }
   ],
   "source": [
    "y"
   ]
  },
  {
   "cell_type": "code",
   "execution_count": 43,
   "id": "e468aad9",
   "metadata": {},
   "outputs": [
    {
     "name": "stdout",
     "output_type": "stream",
     "text": [
      "python\n"
     ]
    }
   ],
   "source": [
    "print(y[3])"
   ]
  },
  {
   "cell_type": "code",
   "execution_count": 45,
   "id": "d63aeca7",
   "metadata": {},
   "outputs": [],
   "source": [
    "z = re.findall(\"python\\B\", string)"
   ]
  },
  {
   "cell_type": "code",
   "execution_count": 46,
   "id": "fd0a9f23",
   "metadata": {},
   "outputs": [
    {
     "name": "stdout",
     "output_type": "stream",
     "text": [
      "['python']\n"
     ]
    }
   ],
   "source": [
    "print(z)"
   ]
  },
  {
   "cell_type": "code",
   "execution_count": 53,
   "id": "49e1294c",
   "metadata": {},
   "outputs": [],
   "source": [
    "string = 'abc 12\\\n",
    "de 23\\n f45 6'"
   ]
  },
  {
   "cell_type": "code",
   "execution_count": 54,
   "id": "dff9ffdb",
   "metadata": {},
   "outputs": [],
   "source": [
    "pattern = '\\s+'"
   ]
  },
  {
   "cell_type": "code",
   "execution_count": 55,
   "id": "87313a46",
   "metadata": {},
   "outputs": [],
   "source": [
    "replace = ''"
   ]
  },
  {
   "cell_type": "code",
   "execution_count": 56,
   "id": "04a31628",
   "metadata": {},
   "outputs": [],
   "source": [
    "output = re.sub(pattern, replace, string)"
   ]
  },
  {
   "cell_type": "code",
   "execution_count": 58,
   "id": "5d1555fd",
   "metadata": {},
   "outputs": [
    {
     "name": "stdout",
     "output_type": "stream",
     "text": [
      "abc12de23f456\n"
     ]
    }
   ],
   "source": [
    "print(output)"
   ]
  },
  {
   "cell_type": "code",
   "execution_count": 59,
   "id": "db84885a",
   "metadata": {},
   "outputs": [
    {
     "name": "stdout",
     "output_type": "stream",
     "text": [
      "Help on function sub in module re:\n",
      "\n",
      "sub(pattern, repl, string, count=0, flags=0)\n",
      "    Return the string obtained by replacing the leftmost\n",
      "    non-overlapping occurrences of the pattern in string by the\n",
      "    replacement repl.  repl can be either a string or a callable;\n",
      "    if a string, backslash escapes in it are processed.  If it is\n",
      "    a callable, it's passed the Match object and must return\n",
      "    a replacement string to be used.\n",
      "\n"
     ]
    }
   ],
   "source": [
    "help(re.sub)"
   ]
  },
  {
   "cell_type": "code",
   "execution_count": 60,
   "id": "ca030645",
   "metadata": {},
   "outputs": [
    {
     "name": "stdout",
     "output_type": "stream",
     "text": [
      "('abc12de23f456', 4)\n"
     ]
    }
   ],
   "source": [
    "new_string = re.subn(pattern, replace, string) \n",
    "print(new_string)"
   ]
  },
  {
   "cell_type": "code",
   "execution_count": 61,
   "id": "670cfc4d",
   "metadata": {},
   "outputs": [
    {
     "name": "stdout",
     "output_type": "stream",
     "text": [
      "Help on function subn in module re:\n",
      "\n",
      "subn(pattern, repl, string, count=0, flags=0)\n",
      "    Return a 2-tuple containing (new_string, number).\n",
      "    new_string is the string obtained by replacing the leftmost\n",
      "    non-overlapping occurrences of the pattern in the source\n",
      "    string by the replacement repl.  number is the number of\n",
      "    substitutions that were made. repl can be either a string or a\n",
      "    callable; if a string, backslash escapes in it are processed.\n",
      "    If it is a callable, it's passed the Match object and must\n",
      "    return a replacement string to be used.\n",
      "\n"
     ]
    }
   ],
   "source": [
    "help(re.subn)"
   ]
  },
  {
   "cell_type": "code",
   "execution_count": 62,
   "id": "8265a736",
   "metadata": {},
   "outputs": [],
   "source": [
    "string = \"Python is fun\""
   ]
  },
  {
   "cell_type": "code",
   "execution_count": 63,
   "id": "2fbbc9e4",
   "metadata": {},
   "outputs": [],
   "source": [
    "match = re.search('\\APython', string)"
   ]
  },
  {
   "cell_type": "code",
   "execution_count": 64,
   "id": "e61b4bc9",
   "metadata": {},
   "outputs": [
    {
     "name": "stdout",
     "output_type": "stream",
     "text": [
      "<re.Match object; span=(0, 6), match='Python'>\n"
     ]
    }
   ],
   "source": [
    "print(match)"
   ]
  },
  {
   "cell_type": "code",
   "execution_count": 68,
   "id": "e06eef1d",
   "metadata": {},
   "outputs": [
    {
     "data": {
      "text/plain": [
       "(0, 6)"
      ]
     },
     "execution_count": 68,
     "metadata": {},
     "output_type": "execute_result"
    }
   ],
   "source": [
    "match.span()"
   ]
  },
  {
   "cell_type": "code",
   "execution_count": 73,
   "id": "f67b7078",
   "metadata": {},
   "outputs": [
    {
     "data": {
      "text/plain": [
       "0"
      ]
     },
     "execution_count": 73,
     "metadata": {},
     "output_type": "execute_result"
    }
   ],
   "source": [
    "match.start()"
   ]
  },
  {
   "cell_type": "code",
   "execution_count": 74,
   "id": "a7ac4f50",
   "metadata": {},
   "outputs": [
    {
     "data": {
      "text/plain": [
       "6"
      ]
     },
     "execution_count": 74,
     "metadata": {},
     "output_type": "execute_result"
    }
   ],
   "source": [
    "match.end()"
   ]
  },
  {
   "cell_type": "code",
   "execution_count": 75,
   "id": "2f5c769e",
   "metadata": {},
   "outputs": [
    {
     "data": {
      "text/plain": [
       "'Python'"
      ]
     },
     "execution_count": 75,
     "metadata": {},
     "output_type": "execute_result"
    }
   ],
   "source": [
    "match.group()"
   ]
  },
  {
   "cell_type": "code",
   "execution_count": 77,
   "id": "ad245ce7",
   "metadata": {},
   "outputs": [
    {
     "data": {
      "text/plain": [
       "0"
      ]
     },
     "execution_count": 77,
     "metadata": {},
     "output_type": "execute_result"
    }
   ],
   "source": [
    "match.pos"
   ]
  },
  {
   "cell_type": "code",
   "execution_count": null,
   "id": "b9eb5aa3",
   "metadata": {},
   "outputs": [],
   "source": []
  }
 ],
 "metadata": {
  "kernelspec": {
   "display_name": "Python 3 (ipykernel)",
   "language": "python",
   "name": "python3"
  },
  "language_info": {
   "codemirror_mode": {
    "name": "ipython",
    "version": 3
   },
   "file_extension": ".py",
   "mimetype": "text/x-python",
   "name": "python",
   "nbconvert_exporter": "python",
   "pygments_lexer": "ipython3",
   "version": "3.9.7"
  }
 },
 "nbformat": 4,
 "nbformat_minor": 5
}
