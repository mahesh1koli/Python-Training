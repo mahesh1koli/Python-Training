{
 "cells": [
  {
   "cell_type": "code",
   "execution_count": 1,
   "id": "77b49a32",
   "metadata": {},
   "outputs": [],
   "source": [
    "# If...else...elif...conditional statements"
   ]
  },
  {
   "cell_type": "code",
   "execution_count": 2,
   "id": "f7a08dc4",
   "metadata": {},
   "outputs": [
    {
     "name": "stdout",
     "output_type": "stream",
     "text": [
      "47\n"
     ]
    }
   ],
   "source": [
    "a = 14\n",
    "b = 33\n",
    "c = a+b\n",
    "print(c)"
   ]
  },
  {
   "cell_type": "code",
   "execution_count": 4,
   "id": "dcc4003e",
   "metadata": {},
   "outputs": [
    {
     "name": "stdout",
     "output_type": "stream",
     "text": [
      "Enter the A Value:6\n",
      "Enter the B Value:5\n",
      "Addition of A & B is: 11.0\n"
     ]
    }
   ],
   "source": [
    "# Addition of 2 numbers from user input\n",
    "a=float(input(\"Enter the A Value:\"))\n",
    "b=float(input(\"Enter the B Value:\"))\n",
    "c=a+b\n",
    "print(\"Addition of A & B is:\",c)"
   ]
  },
  {
   "cell_type": "code",
   "execution_count": 8,
   "id": "47019a48",
   "metadata": {},
   "outputs": [
    {
     "name": "stdout",
     "output_type": "stream",
     "text": [
      "Enter A value:5\n",
      "Enter B value:5\n",
      "Enter C value:5\n",
      "Max number is: 5\n"
     ]
    }
   ],
   "source": [
    "#Find the maximum number from the given user inputs a,b,c\n",
    "#Output: Maximum number is: <value>\n",
    "#if all inputs are same, Output: \"All inputs are same\"\n",
    "\n",
    "a=int(input(\"Enter A value:\"))\n",
    "b=int(input(\"Enter B value:\"))\n",
    "c=int(input(\"Enter C value:\"))\n",
    "\n",
    "#find out max number out of a,b,c\n",
    "#writing some conditional checks\n",
    "\n",
    "if a>b and a>c:\n",
    "    print(\"Max number is:\",a)\n",
    "elif b>c and b>a:\n",
    "    print(\"Max number is:\",b)\n",
    "else:\n",
    "    print(\"Max number is:\",c)"
   ]
  },
  {
   "cell_type": "code",
   "execution_count": 22,
   "id": "20952220",
   "metadata": {},
   "outputs": [
    {
     "name": "stdout",
     "output_type": "stream",
     "text": [
      "Enter A value:6\n",
      "Enter B value:3\n",
      "Enter C value:3\n",
      "Max number is: 6\n"
     ]
    }
   ],
   "source": [
    "#Find the maximum number from the given user inputs a,b,c\n",
    "#Output: Maximum number is: <value>\n",
    "#if all inputs are same, Output: \"All inputs are same\"\n",
    "\n",
    "a=int(input(\"Enter A value:\"))\n",
    "b=int(input(\"Enter B value:\"))\n",
    "c=int(input(\"Enter C value:\"))\n",
    "\n",
    "#find out max number out of a,b,c\n",
    "#writing some conditional checks\n",
    "\n",
    "if a == b == c:\n",
    "    print(\"All inputs are same\")\n",
    "elif a>=b and a>=c:\n",
    "    print(\"Max number is:\",a)\n",
    "elif b>=c and b>=a:\n",
    "    print(\"Max number is:\",b)\n",
    "elif c>=b and c>=a:\n",
    "    print(\"Max number is:\",c)    "
   ]
  },
  {
   "cell_type": "code",
   "execution_count": 15,
   "id": "a0598b5d",
   "metadata": {},
   "outputs": [
    {
     "name": "stdout",
     "output_type": "stream",
     "text": [
      "5 is bigger\n"
     ]
    }
   ],
   "source": [
    "if 5>2:\n",
    "    print(\"5 is bigger\")"
   ]
  },
  {
   "cell_type": "code",
   "execution_count": 16,
   "id": "c4e7fccc",
   "metadata": {},
   "outputs": [],
   "source": [
    "if 5<2:\n",
    "    print(\"5 is bigger\")"
   ]
  },
  {
   "cell_type": "code",
   "execution_count": null,
   "id": "a158bb64",
   "metadata": {},
   "outputs": [],
   "source": []
  }
 ],
 "metadata": {
  "kernelspec": {
   "display_name": "Python 3 (ipykernel)",
   "language": "python",
   "name": "python3"
  },
  "language_info": {
   "codemirror_mode": {
    "name": "ipython",
    "version": 3
   },
   "file_extension": ".py",
   "mimetype": "text/x-python",
   "name": "python",
   "nbconvert_exporter": "python",
   "pygments_lexer": "ipython3",
   "version": "3.9.7"
  }
 },
 "nbformat": 4,
 "nbformat_minor": 5
}
