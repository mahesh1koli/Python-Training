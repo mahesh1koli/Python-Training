{
 "cells": [
  {
   "cell_type": "code",
   "execution_count": 1,
   "id": "93e75add",
   "metadata": {},
   "outputs": [],
   "source": [
    "import os"
   ]
  },
  {
   "cell_type": "code",
   "execution_count": 2,
   "id": "74d5c5ea",
   "metadata": {},
   "outputs": [
    {
     "data": {
      "text/plain": [
       "'mahes'"
      ]
     },
     "execution_count": 2,
     "metadata": {},
     "output_type": "execute_result"
    }
   ],
   "source": [
    "os.getlogin() # whoami in Linux"
   ]
  },
  {
   "cell_type": "code",
   "execution_count": 4,
   "id": "76a32e4c",
   "metadata": {},
   "outputs": [
    {
     "data": {
      "text/plain": [
       "'C:\\\\Users\\\\mahes\\\\Python - June 2022 Batch'"
      ]
     },
     "execution_count": 4,
     "metadata": {},
     "output_type": "execute_result"
    }
   ],
   "source": [
    "os.getcwd()  # Current working directory"
   ]
  },
  {
   "cell_type": "code",
   "execution_count": 5,
   "id": "cab30123",
   "metadata": {},
   "outputs": [
    {
     "data": {
      "text/plain": [
       "['.ipynb_checkpoints',\n",
       " 'Dictionaries.ipynb',\n",
       " 'File Handling in Python.ipynb',\n",
       " 'For Loop Exercises.ipynb',\n",
       " 'For Loops and Exercises.ipynb',\n",
       " 'Functions.ipynb',\n",
       " 'if elif else.ipynb',\n",
       " 'Interactive Shell, Numbers.ipynb',\n",
       " 'Lists exercise, Tuples.ipynb',\n",
       " 'Lists.ipynb',\n",
       " 'Python RegEx Module.ipynb',\n",
       " 'RegEX Examples.ipynb',\n",
       " 'Sets, Sets - Methods.ipynb',\n",
       " 'Shorthand IF, While Loops.ipynb',\n",
       " 'String Methods, Operators (Athematic, Logical, Assignment, boolean).ipynb',\n",
       " 'Strings, Strings Methods.ipynb',\n",
       " 'Strings.ipynb']"
      ]
     },
     "execution_count": 5,
     "metadata": {},
     "output_type": "execute_result"
    }
   ],
   "source": [
    "os.listdir()  # List files/folders in current directory"
   ]
  },
  {
   "cell_type": "code",
   "execution_count": 6,
   "id": "bcddc312",
   "metadata": {},
   "outputs": [],
   "source": [
    "os.chdir(\"C:\\\\Users\\mahes\\OneDrive\\Desktop\") #To move to another location"
   ]
  },
  {
   "cell_type": "code",
   "execution_count": 7,
   "id": "2fc89dfc",
   "metadata": {},
   "outputs": [
    {
     "data": {
      "text/plain": [
       "'C:\\\\Users\\\\mahes\\\\OneDrive\\\\Desktop'"
      ]
     },
     "execution_count": 7,
     "metadata": {},
     "output_type": "execute_result"
    }
   ],
   "source": [
    "os.getcwd()"
   ]
  },
  {
   "cell_type": "code",
   "execution_count": 14,
   "id": "201d3aac",
   "metadata": {},
   "outputs": [],
   "source": [
    "f = open(\"demofile.txt\",'rt') # Open file in read only"
   ]
  },
  {
   "cell_type": "code",
   "execution_count": 15,
   "id": "64a56230",
   "metadata": {},
   "outputs": [
    {
     "data": {
      "text/plain": [
       "'Hello! Welcome to demofile.txt\\nThis file is for testing purposes.\\nGood Luck!'"
      ]
     },
     "execution_count": 15,
     "metadata": {},
     "output_type": "execute_result"
    }
   ],
   "source": [
    "f.read() # Read the file in raw format"
   ]
  },
  {
   "cell_type": "code",
   "execution_count": 13,
   "id": "4f624025",
   "metadata": {},
   "outputs": [
    {
     "name": "stdout",
     "output_type": "stream",
     "text": [
      "Hello! Welcome to demofile.txt\n",
      "This file is for testing purposes.\n",
      "Good Luck!\n"
     ]
    }
   ],
   "source": [
    "print(f.read())  # Read the file in printable format"
   ]
  },
  {
   "cell_type": "code",
   "execution_count": 19,
   "id": "e429d2b8",
   "metadata": {},
   "outputs": [
    {
     "data": {
      "text/plain": [
       "False"
      ]
     },
     "execution_count": 19,
     "metadata": {},
     "output_type": "execute_result"
    }
   ],
   "source": [
    "f.closed  # To know the file status whether open or closed"
   ]
  },
  {
   "cell_type": "code",
   "execution_count": 20,
   "id": "d636db25",
   "metadata": {},
   "outputs": [],
   "source": [
    "f.close() # To close the file when I/O operation is done"
   ]
  },
  {
   "cell_type": "code",
   "execution_count": 21,
   "id": "ea959618",
   "metadata": {},
   "outputs": [
    {
     "data": {
      "text/plain": [
       "True"
      ]
     },
     "execution_count": 21,
     "metadata": {},
     "output_type": "execute_result"
    }
   ],
   "source": [
    "f.closed  # To know the file status whether open or closed"
   ]
  },
  {
   "cell_type": "code",
   "execution_count": 22,
   "id": "790617c1",
   "metadata": {},
   "outputs": [
    {
     "ename": "ValueError",
     "evalue": "I/O operation on closed file.",
     "output_type": "error",
     "traceback": [
      "\u001b[1;31m---------------------------------------------------------------------------\u001b[0m",
      "\u001b[1;31mValueError\u001b[0m                                Traceback (most recent call last)",
      "\u001b[1;32m<ipython-input-22-571e9fb02258>\u001b[0m in \u001b[0;36m<module>\u001b[1;34m\u001b[0m\n\u001b[1;32m----> 1\u001b[1;33m \u001b[0mf\u001b[0m\u001b[1;33m.\u001b[0m\u001b[0mread\u001b[0m\u001b[1;33m(\u001b[0m\u001b[1;33m)\u001b[0m\u001b[1;33m\u001b[0m\u001b[1;33m\u001b[0m\u001b[0m\n\u001b[0m",
      "\u001b[1;31mValueError\u001b[0m: I/O operation on closed file."
     ]
    }
   ],
   "source": [
    "f.read()  # Try to read content on closed files"
   ]
  },
  {
   "cell_type": "markdown",
   "id": "d7b7dd21",
   "metadata": {},
   "source": [
    "#### Read the file content line by line"
   ]
  },
  {
   "cell_type": "code",
   "execution_count": 26,
   "id": "9cf100f4",
   "metadata": {},
   "outputs": [],
   "source": [
    "f = open(\"demofile.txt\",'rt')  # Open file and cursort at begining of the file"
   ]
  },
  {
   "cell_type": "code",
   "execution_count": 24,
   "id": "9b386646",
   "metadata": {},
   "outputs": [
    {
     "data": {
      "text/plain": [
       "'Hello! Wel'"
      ]
     },
     "execution_count": 24,
     "metadata": {},
     "output_type": "execute_result"
    }
   ],
   "source": [
    "f.read(10)  # To read First 10 characters in the file"
   ]
  },
  {
   "cell_type": "code",
   "execution_count": 27,
   "id": "1e94ac55",
   "metadata": {},
   "outputs": [
    {
     "data": {
      "text/plain": [
       "'Hello! Welcome to demofile.txt\\n'"
      ]
     },
     "execution_count": 27,
     "metadata": {},
     "output_type": "execute_result"
    }
   ],
   "source": [
    "f.readline()"
   ]
  },
  {
   "cell_type": "code",
   "execution_count": 28,
   "id": "9584fbe7",
   "metadata": {},
   "outputs": [
    {
     "data": {
      "text/plain": [
       "'This file is for testing purposes.\\n'"
      ]
     },
     "execution_count": 28,
     "metadata": {},
     "output_type": "execute_result"
    }
   ],
   "source": [
    "f.readline()"
   ]
  },
  {
   "cell_type": "code",
   "execution_count": 29,
   "id": "eb4b662b",
   "metadata": {},
   "outputs": [
    {
     "data": {
      "text/plain": [
       "'Good Luck!'"
      ]
     },
     "execution_count": 29,
     "metadata": {},
     "output_type": "execute_result"
    }
   ],
   "source": [
    "f.readline()"
   ]
  },
  {
   "cell_type": "code",
   "execution_count": 30,
   "id": "259d6123",
   "metadata": {},
   "outputs": [
    {
     "data": {
      "text/plain": [
       "''"
      ]
     },
     "execution_count": 30,
     "metadata": {},
     "output_type": "execute_result"
    }
   ],
   "source": [
    "f.readline()"
   ]
  },
  {
   "cell_type": "code",
   "execution_count": 31,
   "id": "07df8574",
   "metadata": {},
   "outputs": [
    {
     "data": {
      "text/plain": [
       "''"
      ]
     },
     "execution_count": 31,
     "metadata": {},
     "output_type": "execute_result"
    }
   ],
   "source": [
    "f.readline()"
   ]
  },
  {
   "cell_type": "markdown",
   "id": "471702df",
   "metadata": {},
   "source": [
    "#### Read the file content all lines"
   ]
  },
  {
   "cell_type": "code",
   "execution_count": 35,
   "id": "1d01ee2b",
   "metadata": {},
   "outputs": [],
   "source": [
    "f = open(\"demofile.txt\",'rt')  # Open file and cursort at begining of the file"
   ]
  },
  {
   "cell_type": "code",
   "execution_count": 33,
   "id": "a2745b08",
   "metadata": {},
   "outputs": [
    {
     "data": {
      "text/plain": [
       "['Hello! Welcome to demofile.txt\\n',\n",
       " 'This file is for testing purposes.\\n',\n",
       " 'Good Luck!']"
      ]
     },
     "execution_count": 33,
     "metadata": {},
     "output_type": "execute_result"
    }
   ],
   "source": [
    "f.readlines()   # Open file content lines in List format"
   ]
  },
  {
   "cell_type": "code",
   "execution_count": 34,
   "id": "d8571ef2",
   "metadata": {},
   "outputs": [
    {
     "data": {
      "text/plain": [
       "[]"
      ]
     },
     "execution_count": 34,
     "metadata": {},
     "output_type": "execute_result"
    }
   ],
   "source": [
    "f.readlines()"
   ]
  },
  {
   "cell_type": "code",
   "execution_count": 36,
   "id": "593d9cf8",
   "metadata": {},
   "outputs": [],
   "source": [
    "lst1 = f.readlines()"
   ]
  },
  {
   "cell_type": "code",
   "execution_count": 37,
   "id": "5442e8a5",
   "metadata": {},
   "outputs": [
    {
     "data": {
      "text/plain": [
       "['Hello! Welcome to demofile.txt\\n',\n",
       " 'This file is for testing purposes.\\n',\n",
       " 'Good Luck!']"
      ]
     },
     "execution_count": 37,
     "metadata": {},
     "output_type": "execute_result"
    }
   ],
   "source": [
    "lst1"
   ]
  },
  {
   "cell_type": "code",
   "execution_count": 38,
   "id": "d2946262",
   "metadata": {},
   "outputs": [
    {
     "data": {
      "text/plain": [
       "'Hello! Welcome to demofile.txt\\n'"
      ]
     },
     "execution_count": 38,
     "metadata": {},
     "output_type": "execute_result"
    }
   ],
   "source": [
    "lst1[0]"
   ]
  },
  {
   "cell_type": "code",
   "execution_count": 39,
   "id": "cfed6733",
   "metadata": {},
   "outputs": [
    {
     "data": {
      "text/plain": [
       "'This file is for testing purposes.\\n'"
      ]
     },
     "execution_count": 39,
     "metadata": {},
     "output_type": "execute_result"
    }
   ],
   "source": [
    "lst1[1]"
   ]
  },
  {
   "cell_type": "code",
   "execution_count": 40,
   "id": "38877667",
   "metadata": {},
   "outputs": [
    {
     "data": {
      "text/plain": [
       "'Good Luck!'"
      ]
     },
     "execution_count": 40,
     "metadata": {},
     "output_type": "execute_result"
    }
   ],
   "source": [
    "lst1[2]"
   ]
  },
  {
   "cell_type": "markdown",
   "id": "e29f0fae",
   "metadata": {},
   "source": [
    "#### Writing the files using append or write modes"
   ]
  },
  {
   "cell_type": "code",
   "execution_count": 46,
   "id": "4f591de3",
   "metadata": {},
   "outputs": [],
   "source": [
    "f = open(\"demofile.txt\",'at')   # Open file in append mode"
   ]
  },
  {
   "cell_type": "code",
   "execution_count": 47,
   "id": "7e62c75f",
   "metadata": {},
   "outputs": [
    {
     "data": {
      "text/plain": [
       "44"
      ]
     },
     "execution_count": 47,
     "metadata": {},
     "output_type": "execute_result"
    }
   ],
   "source": [
    "f.write(\"\\nThis line is created by my jupyter notebook\")  # Write content to end of the file"
   ]
  },
  {
   "cell_type": "code",
   "execution_count": 48,
   "id": "38226de5",
   "metadata": {},
   "outputs": [],
   "source": [
    "f.close()"
   ]
  },
  {
   "cell_type": "code",
   "execution_count": 49,
   "id": "38c9fc46",
   "metadata": {},
   "outputs": [],
   "source": [
    "f = open(\"demofile.txt\",'rt') # Open file in read mode"
   ]
  },
  {
   "cell_type": "code",
   "execution_count": 50,
   "id": "fb33f0c7",
   "metadata": {},
   "outputs": [
    {
     "name": "stdout",
     "output_type": "stream",
     "text": [
      "Hello! Welcome to demofile.txt\n",
      "This file is for testing purposes.\n",
      "Good Luck!\n",
      "This line is created by my jupyter notebook\n"
     ]
    }
   ],
   "source": [
    "print(f.read())  # print the file content in printable format"
   ]
  },
  {
   "cell_type": "code",
   "execution_count": 51,
   "id": "15b799d7",
   "metadata": {},
   "outputs": [],
   "source": [
    "# open the file with write mode (It overwrites all existing content)"
   ]
  },
  {
   "cell_type": "code",
   "execution_count": 52,
   "id": "11e00fb9",
   "metadata": {},
   "outputs": [],
   "source": [
    "f = open(\"demofile.txt\",'wt')  # Open file in Write mode"
   ]
  },
  {
   "cell_type": "code",
   "execution_count": 53,
   "id": "27a3a2df",
   "metadata": {},
   "outputs": [
    {
     "data": {
      "text/plain": [
       "53"
      ]
     },
     "execution_count": 53,
     "metadata": {},
     "output_type": "execute_result"
    }
   ],
   "source": [
    "f.write(\"This line overwritten entire file by jupyter notebook\")"
   ]
  },
  {
   "cell_type": "code",
   "execution_count": 54,
   "id": "e4a65009",
   "metadata": {},
   "outputs": [],
   "source": [
    "f.close()  # Mandatory task"
   ]
  },
  {
   "cell_type": "code",
   "execution_count": 55,
   "id": "28d27c19",
   "metadata": {},
   "outputs": [],
   "source": [
    "f = open(\"demofile.txt\",'rt') # Open file in Read mode"
   ]
  },
  {
   "cell_type": "code",
   "execution_count": 56,
   "id": "c4ff9075",
   "metadata": {},
   "outputs": [
    {
     "name": "stdout",
     "output_type": "stream",
     "text": [
      "This line overwritten entire file by jupyter notebook\n"
     ]
    }
   ],
   "source": [
    "print(f.read())"
   ]
  },
  {
   "cell_type": "markdown",
   "id": "5b93953e",
   "metadata": {},
   "source": [
    "### Remove files"
   ]
  },
  {
   "cell_type": "code",
   "execution_count": 57,
   "id": "58d15109",
   "metadata": {},
   "outputs": [],
   "source": [
    "f = open(\"demofile1.txt\",'wt')"
   ]
  },
  {
   "cell_type": "code",
   "execution_count": 58,
   "id": "9b32d4b5",
   "metadata": {},
   "outputs": [
    {
     "data": {
      "text/plain": [
       "38"
      ]
     },
     "execution_count": 58,
     "metadata": {},
     "output_type": "execute_result"
    }
   ],
   "source": [
    "f.write(\"This is the demofile1 created recently\")"
   ]
  },
  {
   "cell_type": "code",
   "execution_count": 59,
   "id": "e4333d78",
   "metadata": {},
   "outputs": [],
   "source": [
    "f.close()"
   ]
  },
  {
   "cell_type": "code",
   "execution_count": 60,
   "id": "d79789c6",
   "metadata": {},
   "outputs": [],
   "source": [
    "os.remove(\"demofile1.txt\") # To remove the file"
   ]
  },
  {
   "cell_type": "code",
   "execution_count": 61,
   "id": "b3506443",
   "metadata": {},
   "outputs": [
    {
     "ename": "FileNotFoundError",
     "evalue": "[Errno 2] No such file or directory: 'demofile1.txt'",
     "output_type": "error",
     "traceback": [
      "\u001b[1;31m---------------------------------------------------------------------------\u001b[0m",
      "\u001b[1;31mFileNotFoundError\u001b[0m                         Traceback (most recent call last)",
      "\u001b[1;32m<ipython-input-61-aca46ec31e55>\u001b[0m in \u001b[0;36m<module>\u001b[1;34m\u001b[0m\n\u001b[1;32m----> 1\u001b[1;33m \u001b[0mf\u001b[0m \u001b[1;33m=\u001b[0m \u001b[0mopen\u001b[0m\u001b[1;33m(\u001b[0m\u001b[1;34m\"demofile1.txt\"\u001b[0m\u001b[1;33m,\u001b[0m\u001b[1;34m'rt'\u001b[0m\u001b[1;33m)\u001b[0m\u001b[1;33m\u001b[0m\u001b[1;33m\u001b[0m\u001b[0m\n\u001b[0m",
      "\u001b[1;31mFileNotFoundError\u001b[0m: [Errno 2] No such file or directory: 'demofile1.txt'"
     ]
    }
   ],
   "source": [
    "f = open(\"demofile1.txt\",'rt') # Try to open file which doesn't exist"
   ]
  },
  {
   "cell_type": "code",
   "execution_count": 62,
   "id": "d912a017",
   "metadata": {},
   "outputs": [
    {
     "data": {
      "text/plain": [
       "False"
      ]
     },
     "execution_count": 62,
     "metadata": {},
     "output_type": "execute_result"
    }
   ],
   "source": [
    "os.path.exists(\"demofile1.txt\")"
   ]
  },
  {
   "cell_type": "code",
   "execution_count": 63,
   "id": "c3c24ce7",
   "metadata": {},
   "outputs": [
    {
     "name": "stdout",
     "output_type": "stream",
     "text": [
      "File doesn't exist\n"
     ]
    }
   ],
   "source": [
    "if os.path.exists(\"demofile1.txt\"):\n",
    "    f = open(\"demofile1.txt\",'rt')\n",
    "else:\n",
    "    print(\"File doesn't exist\")"
   ]
  },
  {
   "cell_type": "markdown",
   "id": "36109460",
   "metadata": {},
   "source": [
    "### Method -2 : With open"
   ]
  },
  {
   "cell_type": "code",
   "execution_count": 3,
   "id": "698e8f3b",
   "metadata": {},
   "outputs": [],
   "source": [
    "# with open - The advantage is no need to close when your I/O operation is done"
   ]
  },
  {
   "cell_type": "code",
   "execution_count": 5,
   "id": "0c15b462",
   "metadata": {},
   "outputs": [
    {
     "data": {
      "text/plain": [
       "'C:\\\\Users\\\\mahes\\\\Python - June 2022 Batch'"
      ]
     },
     "execution_count": 5,
     "metadata": {},
     "output_type": "execute_result"
    }
   ],
   "source": [
    "os.getcwd()"
   ]
  },
  {
   "cell_type": "code",
   "execution_count": 8,
   "id": "b481b271",
   "metadata": {},
   "outputs": [],
   "source": [
    "os.chdir(\"C:\\\\Users\\\\mahes\\\\OneDrive\\\\Desktop\")"
   ]
  },
  {
   "cell_type": "code",
   "execution_count": 9,
   "id": "b2f58411",
   "metadata": {},
   "outputs": [
    {
     "data": {
      "text/plain": [
       "'C:\\\\Users\\\\mahes\\\\OneDrive\\\\Desktop'"
      ]
     },
     "execution_count": 9,
     "metadata": {},
     "output_type": "execute_result"
    }
   ],
   "source": [
    "os.getcwd()"
   ]
  },
  {
   "cell_type": "code",
   "execution_count": 10,
   "id": "7387b572",
   "metadata": {},
   "outputs": [
    {
     "ename": "FileNotFoundError",
     "evalue": "[Errno 2] No such file or directory: 'demofile.txt'",
     "output_type": "error",
     "traceback": [
      "\u001b[1;31m---------------------------------------------------------------------------\u001b[0m",
      "\u001b[1;31mFileNotFoundError\u001b[0m                         Traceback (most recent call last)",
      "\u001b[1;32m<ipython-input-10-b88575b74e66>\u001b[0m in \u001b[0;36m<module>\u001b[1;34m\u001b[0m\n\u001b[1;32m----> 1\u001b[1;33m \u001b[1;32mwith\u001b[0m \u001b[0mopen\u001b[0m\u001b[1;33m(\u001b[0m\u001b[1;34m\"demofile.txt\"\u001b[0m\u001b[1;33m,\u001b[0m\u001b[1;34m'rt'\u001b[0m\u001b[1;33m)\u001b[0m \u001b[1;32mas\u001b[0m \u001b[0mf\u001b[0m\u001b[1;33m:\u001b[0m\u001b[1;33m\u001b[0m\u001b[1;33m\u001b[0m\u001b[0m\n\u001b[0m\u001b[0;32m      2\u001b[0m     \u001b[0mf\u001b[0m\u001b[1;33m.\u001b[0m\u001b[0mread\u001b[0m\u001b[1;33m(\u001b[0m\u001b[1;33m)\u001b[0m\u001b[1;33m\u001b[0m\u001b[1;33m\u001b[0m\u001b[0m\n",
      "\u001b[1;31mFileNotFoundError\u001b[0m: [Errno 2] No such file or directory: 'demofile.txt'"
     ]
    }
   ],
   "source": [
    "with open(\"demofile.txt\",'rt') as f:\n",
    "    f.read()"
   ]
  },
  {
   "cell_type": "code",
   "execution_count": 11,
   "id": "de424ee6",
   "metadata": {},
   "outputs": [
    {
     "ename": "NameError",
     "evalue": "name 'f' is not defined",
     "output_type": "error",
     "traceback": [
      "\u001b[1;31m---------------------------------------------------------------------------\u001b[0m",
      "\u001b[1;31mNameError\u001b[0m                                 Traceback (most recent call last)",
      "\u001b[1;32m<ipython-input-11-571e9fb02258>\u001b[0m in \u001b[0;36m<module>\u001b[1;34m\u001b[0m\n\u001b[1;32m----> 1\u001b[1;33m \u001b[0mf\u001b[0m\u001b[1;33m.\u001b[0m\u001b[0mread\u001b[0m\u001b[1;33m(\u001b[0m\u001b[1;33m)\u001b[0m\u001b[1;33m\u001b[0m\u001b[1;33m\u001b[0m\u001b[0m\n\u001b[0m",
      "\u001b[1;31mNameError\u001b[0m: name 'f' is not defined"
     ]
    }
   ],
   "source": [
    "f.read()"
   ]
  },
  {
   "cell_type": "code",
   "execution_count": 12,
   "id": "bd6106f7",
   "metadata": {},
   "outputs": [],
   "source": [
    "with open(\"demofile.txt\",'wt') as f:\n",
    "    f.write(\"Welcome to Python Session\")"
   ]
  },
  {
   "cell_type": "code",
   "execution_count": 13,
   "id": "bf6344a0",
   "metadata": {},
   "outputs": [
    {
     "ename": "ValueError",
     "evalue": "I/O operation on closed file.",
     "output_type": "error",
     "traceback": [
      "\u001b[1;31m---------------------------------------------------------------------------\u001b[0m",
      "\u001b[1;31mValueError\u001b[0m                                Traceback (most recent call last)",
      "\u001b[1;32m<ipython-input-13-571e9fb02258>\u001b[0m in \u001b[0;36m<module>\u001b[1;34m\u001b[0m\n\u001b[1;32m----> 1\u001b[1;33m \u001b[0mf\u001b[0m\u001b[1;33m.\u001b[0m\u001b[0mread\u001b[0m\u001b[1;33m(\u001b[0m\u001b[1;33m)\u001b[0m\u001b[1;33m\u001b[0m\u001b[1;33m\u001b[0m\u001b[0m\n\u001b[0m",
      "\u001b[1;31mValueError\u001b[0m: I/O operation on closed file."
     ]
    }
   ],
   "source": [
    "f.read()"
   ]
  },
  {
   "cell_type": "code",
   "execution_count": 31,
   "id": "431ff8d6",
   "metadata": {},
   "outputs": [],
   "source": [
    "with open(\"demofile.txt\",'r+') as f:\n",
    "    f.write(\"New line added by my jupter notebook\")"
   ]
  },
  {
   "cell_type": "code",
   "execution_count": 32,
   "id": "36899c93",
   "metadata": {},
   "outputs": [
    {
     "name": "stdout",
     "output_type": "stream",
     "text": [
      "New line added by my jupter notebook\n"
     ]
    }
   ],
   "source": [
    "with open(\"demofile.txt\",'rt') as f:\n",
    "    print(f.readline())"
   ]
  },
  {
   "cell_type": "code",
   "execution_count": 33,
   "id": "a6867120",
   "metadata": {},
   "outputs": [
    {
     "name": "stdout",
     "output_type": "stream",
     "text": [
      "New line added by my jupter notebook\n"
     ]
    }
   ],
   "source": [
    "with open(\"demofile.txt\",'rt') as f:\n",
    "    cont=f.readline()\n",
    "    \n",
    "print(cont)"
   ]
  },
  {
   "cell_type": "code",
   "execution_count": 36,
   "id": "1079c362",
   "metadata": {},
   "outputs": [],
   "source": [
    "with open(\"demofile.txt\",'wt') as f:\n",
    "    f.write(\"Welcome to Python Session\\n\")\n",
    "    f.write(\"This line is the second line\\n\")\n",
    "    f.write(\"This is 3rd line\")"
   ]
  },
  {
   "cell_type": "code",
   "execution_count": 37,
   "id": "13511e32",
   "metadata": {},
   "outputs": [
    {
     "name": "stdout",
     "output_type": "stream",
     "text": [
      "Welcome to Python Session\n",
      "This line is the second line\n",
      "This is 3rd line\n"
     ]
    }
   ],
   "source": [
    "with open(\"demofile.txt\",'rt') as f:\n",
    "    cont=f.read()\n",
    "    \n",
    "print(cont)"
   ]
  },
  {
   "cell_type": "code",
   "execution_count": 38,
   "id": "4fdbdc03",
   "metadata": {},
   "outputs": [
    {
     "ename": "ValueError",
     "evalue": "I/O operation on closed file.",
     "output_type": "error",
     "traceback": [
      "\u001b[1;31m---------------------------------------------------------------------------\u001b[0m",
      "\u001b[1;31mValueError\u001b[0m                                Traceback (most recent call last)",
      "\u001b[1;32m<ipython-input-38-571e9fb02258>\u001b[0m in \u001b[0;36m<module>\u001b[1;34m\u001b[0m\n\u001b[1;32m----> 1\u001b[1;33m \u001b[0mf\u001b[0m\u001b[1;33m.\u001b[0m\u001b[0mread\u001b[0m\u001b[1;33m(\u001b[0m\u001b[1;33m)\u001b[0m\u001b[1;33m\u001b[0m\u001b[1;33m\u001b[0m\u001b[0m\n\u001b[0m",
      "\u001b[1;31mValueError\u001b[0m: I/O operation on closed file."
     ]
    }
   ],
   "source": [
    "f.read()"
   ]
  },
  {
   "cell_type": "code",
   "execution_count": null,
   "id": "7c72d93a",
   "metadata": {},
   "outputs": [],
   "source": []
  }
 ],
 "metadata": {
  "kernelspec": {
   "display_name": "Python 3 (ipykernel)",
   "language": "python",
   "name": "python3"
  },
  "language_info": {
   "codemirror_mode": {
    "name": "ipython",
    "version": 3
   },
   "file_extension": ".py",
   "mimetype": "text/x-python",
   "name": "python",
   "nbconvert_exporter": "python",
   "pygments_lexer": "ipython3",
   "version": "3.9.7"
  }
 },
 "nbformat": 4,
 "nbformat_minor": 5
}
