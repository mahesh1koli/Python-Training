{
 "cells": [
  {
   "cell_type": "code",
   "execution_count": 6,
   "id": "04efd1c9",
   "metadata": {},
   "outputs": [],
   "source": [
    "def ownfunc(n):\n",
    "    return n*n # replacing n*n with another function"
   ]
  },
  {
   "cell_type": "code",
   "execution_count": 7,
   "id": "3633364c",
   "metadata": {},
   "outputs": [
    {
     "data": {
      "text/plain": [
       "4"
      ]
     },
     "execution_count": 7,
     "metadata": {},
     "output_type": "execute_result"
    }
   ],
   "source": [
    "ownfunc(2)"
   ]
  },
  {
   "cell_type": "code",
   "execution_count": 11,
   "id": "2b1f697d",
   "metadata": {},
   "outputs": [
    {
     "data": {
      "text/plain": [
       "function"
      ]
     },
     "execution_count": 11,
     "metadata": {},
     "output_type": "execute_result"
    }
   ],
   "source": [
    "type(ownfunc)"
   ]
  },
  {
   "cell_type": "markdown",
   "id": "b9cc6c3f",
   "metadata": {},
   "source": [
    "### Functions with in a Functions"
   ]
  },
  {
   "cell_type": "code",
   "execution_count": 8,
   "id": "922834b6",
   "metadata": {},
   "outputs": [],
   "source": [
    "x = lambda a: a+5"
   ]
  },
  {
   "cell_type": "code",
   "execution_count": 10,
   "id": "f4eb0c6a",
   "metadata": {},
   "outputs": [
    {
     "data": {
      "text/plain": [
       "function"
      ]
     },
     "execution_count": 10,
     "metadata": {},
     "output_type": "execute_result"
    }
   ],
   "source": [
    "type(x)"
   ]
  },
  {
   "cell_type": "code",
   "execution_count": 9,
   "id": "14289aba",
   "metadata": {},
   "outputs": [
    {
     "data": {
      "text/plain": [
       "7"
      ]
     },
     "execution_count": 9,
     "metadata": {},
     "output_type": "execute_result"
    }
   ],
   "source": [
    "x(2)"
   ]
  },
  {
   "cell_type": "code",
   "execution_count": 4,
   "id": "2170eb2c",
   "metadata": {},
   "outputs": [],
   "source": [
    "# def func(n):\n",
    "#     return another function\n",
    "\n",
    "# without modifying the original logic we can create our custom functions on top of it\n",
    "\n",
    "def myfunc(n):\n",
    "    return lambda a : a * n  # small function  (nested functions)"
   ]
  },
  {
   "cell_type": "code",
   "execution_count": 5,
   "id": "f9e6a7c6",
   "metadata": {},
   "outputs": [
    {
     "data": {
      "text/plain": [
       "<function __main__.myfunc.<locals>.<lambda>(a)>"
      ]
     },
     "execution_count": 5,
     "metadata": {},
     "output_type": "execute_result"
    }
   ],
   "source": [
    "myfunc(2)"
   ]
  },
  {
   "cell_type": "code",
   "execution_count": 2,
   "id": "118b6e45",
   "metadata": {},
   "outputs": [],
   "source": [
    "doubler = myfunc(2)"
   ]
  },
  {
   "cell_type": "code",
   "execution_count": 3,
   "id": "4bd3e80c",
   "metadata": {},
   "outputs": [
    {
     "data": {
      "text/plain": [
       "function"
      ]
     },
     "execution_count": 3,
     "metadata": {},
     "output_type": "execute_result"
    }
   ],
   "source": [
    "type(doubler)"
   ]
  },
  {
   "cell_type": "code",
   "execution_count": 12,
   "id": "70d5fc78",
   "metadata": {},
   "outputs": [
    {
     "data": {
      "text/plain": [
       "8"
      ]
     },
     "execution_count": 12,
     "metadata": {},
     "output_type": "execute_result"
    }
   ],
   "source": [
    "doubler(4)  # 4 x 2"
   ]
  },
  {
   "cell_type": "code",
   "execution_count": 13,
   "id": "d533e284",
   "metadata": {},
   "outputs": [
    {
     "data": {
      "text/plain": [
       "10"
      ]
     },
     "execution_count": 13,
     "metadata": {},
     "output_type": "execute_result"
    }
   ],
   "source": [
    "doubler(5)"
   ]
  },
  {
   "cell_type": "code",
   "execution_count": 14,
   "id": "e750b9fa",
   "metadata": {},
   "outputs": [
    {
     "data": {
      "text/plain": [
       "12"
      ]
     },
     "execution_count": 14,
     "metadata": {},
     "output_type": "execute_result"
    }
   ],
   "source": [
    "doubler(6)"
   ]
  },
  {
   "cell_type": "code",
   "execution_count": 15,
   "id": "d583d2fb",
   "metadata": {},
   "outputs": [],
   "source": [
    "tripler = myfunc(3)"
   ]
  },
  {
   "cell_type": "code",
   "execution_count": 16,
   "id": "2d30bf4b",
   "metadata": {},
   "outputs": [
    {
     "data": {
      "text/plain": [
       "9"
      ]
     },
     "execution_count": 16,
     "metadata": {},
     "output_type": "execute_result"
    }
   ],
   "source": [
    "tripler(3)"
   ]
  },
  {
   "cell_type": "code",
   "execution_count": 17,
   "id": "431ef3fa",
   "metadata": {},
   "outputs": [
    {
     "data": {
      "text/plain": [
       "12"
      ]
     },
     "execution_count": 17,
     "metadata": {},
     "output_type": "execute_result"
    }
   ],
   "source": [
    "tripler(4)"
   ]
  },
  {
   "cell_type": "code",
   "execution_count": 18,
   "id": "78d81e44",
   "metadata": {},
   "outputs": [
    {
     "data": {
      "text/plain": [
       "15"
      ]
     },
     "execution_count": 18,
     "metadata": {},
     "output_type": "execute_result"
    }
   ],
   "source": [
    "tripler(5)"
   ]
  },
  {
   "cell_type": "code",
   "execution_count": 19,
   "id": "9b433c37",
   "metadata": {},
   "outputs": [
    {
     "data": {
      "text/plain": [
       "24"
      ]
     },
     "execution_count": 19,
     "metadata": {},
     "output_type": "execute_result"
    }
   ],
   "source": [
    "tripler(8)"
   ]
  },
  {
   "cell_type": "code",
   "execution_count": 20,
   "id": "4484ece0",
   "metadata": {},
   "outputs": [],
   "source": [
    "def filterfunc(n):\n",
    "    if n < 18:\n",
    "        return False\n",
    "    else:\n",
    "        return True"
   ]
  },
  {
   "cell_type": "code",
   "execution_count": 21,
   "id": "824060d1",
   "metadata": {},
   "outputs": [],
   "source": [
    "ages = [15,12,26,29,32,45,47,52,61]"
   ]
  },
  {
   "cell_type": "code",
   "execution_count": 22,
   "id": "f30d9ff1",
   "metadata": {},
   "outputs": [],
   "source": [
    "adults = filter(filterfunc,ages)"
   ]
  },
  {
   "cell_type": "code",
   "execution_count": 23,
   "id": "317e3ddd",
   "metadata": {},
   "outputs": [
    {
     "data": {
      "text/plain": [
       "filter"
      ]
     },
     "execution_count": 23,
     "metadata": {},
     "output_type": "execute_result"
    }
   ],
   "source": [
    "type(adults)"
   ]
  },
  {
   "cell_type": "code",
   "execution_count": 25,
   "id": "a8b02387",
   "metadata": {},
   "outputs": [
    {
     "name": "stdout",
     "output_type": "stream",
     "text": [
      "26\n",
      "29\n",
      "32\n",
      "45\n",
      "47\n",
      "52\n",
      "61\n"
     ]
    }
   ],
   "source": [
    "for i in adults:\n",
    "    print(i)"
   ]
  },
  {
   "cell_type": "code",
   "execution_count": 27,
   "id": "62d9cfdb",
   "metadata": {},
   "outputs": [],
   "source": [
    "def filterevenodd(n):\n",
    "    if n%2 == 0:\n",
    "        return True\n",
    "    else:\n",
    "        return False"
   ]
  },
  {
   "cell_type": "code",
   "execution_count": 28,
   "id": "acc92195",
   "metadata": {},
   "outputs": [],
   "source": [
    "lst1 = [2,6,3,5,12,19,21,27,29]"
   ]
  },
  {
   "cell_type": "code",
   "execution_count": 29,
   "id": "ed1bcd68",
   "metadata": {},
   "outputs": [],
   "source": [
    "even = filter(filterevenodd,lst1)"
   ]
  },
  {
   "cell_type": "code",
   "execution_count": 30,
   "id": "c02ea2d4",
   "metadata": {},
   "outputs": [
    {
     "name": "stdout",
     "output_type": "stream",
     "text": [
      "2\n",
      "6\n",
      "12\n"
     ]
    }
   ],
   "source": [
    "for i in even:\n",
    "    print(i)"
   ]
  },
  {
   "cell_type": "code",
   "execution_count": 31,
   "id": "d656ab28",
   "metadata": {},
   "outputs": [],
   "source": [
    "lst1 = [2,6,3,5,12,19,21,27,29]"
   ]
  },
  {
   "cell_type": "code",
   "execution_count": 32,
   "id": "b1934602",
   "metadata": {},
   "outputs": [
    {
     "name": "stdout",
     "output_type": "stream",
     "text": [
      "2\n",
      "6\n",
      "12\n"
     ]
    }
   ],
   "source": [
    "for i in lst1:\n",
    "    if i%2 == 0:\n",
    "        print(i)"
   ]
  },
  {
   "cell_type": "code",
   "execution_count": 33,
   "id": "e415bd95",
   "metadata": {},
   "outputs": [
    {
     "name": "stdout",
     "output_type": "stream",
     "text": [
      "124\n"
     ]
    }
   ],
   "source": [
    "sum = 0\n",
    "for i in lst1:\n",
    "    sum+=i\n",
    "\n",
    "print(sum)"
   ]
  },
  {
   "cell_type": "code",
   "execution_count": null,
   "id": "1dbc564a",
   "metadata": {},
   "outputs": [],
   "source": []
  }
 ],
 "metadata": {
  "kernelspec": {
   "display_name": "Python 3 (ipykernel)",
   "language": "python",
   "name": "python3"
  },
  "language_info": {
   "codemirror_mode": {
    "name": "ipython",
    "version": 3
   },
   "file_extension": ".py",
   "mimetype": "text/x-python",
   "name": "python",
   "nbconvert_exporter": "python",
   "pygments_lexer": "ipython3",
   "version": "3.9.7"
  }
 },
 "nbformat": 4,
 "nbformat_minor": 5
}
