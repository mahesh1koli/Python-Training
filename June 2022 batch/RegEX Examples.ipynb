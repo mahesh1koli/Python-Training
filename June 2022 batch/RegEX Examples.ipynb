{
 "cells": [
  {
   "cell_type": "markdown",
   "id": "66cecc1a",
   "metadata": {},
   "source": [
    "### RegEx Module Exercises"
   ]
  },
  {
   "cell_type": "code",
   "execution_count": 1,
   "id": "80cd88ef",
   "metadata": {},
   "outputs": [],
   "source": [
    "# Write a program to check the validity of a password (input from users)\n",
    "\n",
    "# Validation:\n",
    "# 1. At least 1 letter between [a-z] and 1 letter between [A-Z]\n",
    "# 2. At least 1 number between [0-9]\n",
    "# 3. At least 1 character from [$#@]\n",
    "# 4. Minumum length of password is 6 chars\n",
    "# 5. Max length of password is 16 chars\n"
   ]
  },
  {
   "cell_type": "code",
   "execution_count": null,
   "id": "6601ccb3",
   "metadata": {},
   "outputs": [],
   "source": [
    "# pattern = re.match([a-zA-Z][0-9][$#@]"
   ]
  },
  {
   "cell_type": "code",
   "execution_count": 3,
   "id": "0cbc372f",
   "metadata": {},
   "outputs": [
    {
     "name": "stdout",
     "output_type": "stream",
     "text": [
      "Enter the password:password1\n",
      "Not a valid Password\n"
     ]
    }
   ],
   "source": [
    "import re\n",
    "p = input(\"Enter the password:\")\n",
    "x = True\n",
    "while x:\n",
    "    if (len(p)<6 or len(p)>16):\n",
    "        break\n",
    "    elif not re.search(\"[a-z]\",p):\n",
    "        break\n",
    "    elif not re.search(\"[A-Z]\",p):\n",
    "        break\n",
    "    elif not re.search(\"[$#@]\",p):\n",
    "        break\n",
    "    elif not re.search(\"[0-9]\",p):\n",
    "        break\n",
    "    elif re.search(\"\\s\",p):\n",
    "        break\n",
    "    else:\n",
    "        print(\"Valid Password\")\n",
    "        x = False\n",
    "        break\n",
    "if x:\n",
    "    print(\"Not a valid Password\")"
   ]
  },
  {
   "cell_type": "code",
   "execution_count": 4,
   "id": "c910068a",
   "metadata": {},
   "outputs": [],
   "source": [
    "# Method 2"
   ]
  },
  {
   "cell_type": "code",
   "execution_count": 7,
   "id": "ff39df77",
   "metadata": {},
   "outputs": [
    {
     "name": "stdout",
     "output_type": "stream",
     "text": [
      "Enter the password:Pa$$w0rd#\n",
      "valid password\n"
     ]
    }
   ],
   "source": [
    "import re\n",
    "p = input(\"Enter the password:\")\n",
    "pattern = \"^(?=.*[a-z])(?=.*[A-Z])(?=.*\\d)(?=.*[@$#])[A-Za-z\\d@$#*?]{6,16}$\"\n",
    "\n",
    "#Complie regex pattern\n",
    "match_re = re.compile(pattern)\n",
    "\n",
    "#search regex pattern\n",
    "output = re.search(match_re,p)\n",
    "\n",
    "# validate condition\n",
    "if output:\n",
    "    print(\"valid password\")\n",
    "else:\n",
    "    print(\"Not a Valid password\")"
   ]
  },
  {
   "cell_type": "code",
   "execution_count": 8,
   "id": "c00d97a3",
   "metadata": {},
   "outputs": [],
   "source": [
    "#2. Write a program to remove leading zeros from an IP address\n",
    "\n",
    "# 216.09.022.192 -> 216.9.22.192\n",
    "# Replacement re.sub"
   ]
  },
  {
   "cell_type": "code",
   "execution_count": 20,
   "id": "7f36e24e",
   "metadata": {},
   "outputs": [
    {
     "name": "stdout",
     "output_type": "stream",
     "text": [
      "Enter IP Address:192.168.001.1\n",
      "192.168.1.1\n"
     ]
    }
   ],
   "source": [
    "ip_addr = input(\"Enter IP Address:\")\n",
    "pattern = '\\.[0]*'\n",
    "final_output = re.sub(pattern,'.',ip_addr)\n",
    "print(final_output)"
   ]
  },
  {
   "cell_type": "code",
   "execution_count": 21,
   "id": "7f8c31b8",
   "metadata": {},
   "outputs": [],
   "source": [
    "#Write a program to extract year, month and date from a url\n",
    "# Url \n",
    "#\"https://www.washingtonpost.com/news/football-insider/wp/2016/09/02/odell-beckhams-fame-rests-on-one-stupid-little-ball-josh-norman-tells-author/\""
   ]
  },
  {
   "cell_type": "code",
   "execution_count": 30,
   "id": "c031a2e8",
   "metadata": {},
   "outputs": [],
   "source": [
    "url1 = \"https://www.washingtonpost.com/news/football-insider/wp/2016/09/02/odell-beckhams-fame-rests-on-one-stupid-little-ball-josh-norman-tells-author/\"\n",
    "pattern = '(\\d{4}/(\\d{1,2})/(\\d{1,2}))/'\n",
    "res = re.findall(pattern,url1)"
   ]
  },
  {
   "cell_type": "code",
   "execution_count": 31,
   "id": "c4b3acb6",
   "metadata": {},
   "outputs": [
    {
     "name": "stdout",
     "output_type": "stream",
     "text": [
      "[('2016/09/02', '09', '02')]\n"
     ]
    }
   ],
   "source": [
    "print(res)"
   ]
  },
  {
   "cell_type": "code",
   "execution_count": 32,
   "id": "c4cc90f4",
   "metadata": {},
   "outputs": [],
   "source": [
    "# write a program to extract urls from the given html string\n",
    "# <p>Contents :</p><a href=\"https://w3resource.com\">Python Examples</a><a href=\"http://github.com\">Even More Examples</a>"
   ]
  },
  {
   "cell_type": "code",
   "execution_count": 33,
   "id": "5c4e1130",
   "metadata": {},
   "outputs": [],
   "source": [
    "string = '<p>Contents :</p><a href=\"https://w3resource.com\">Python Examples</a><a href=\"http://github.com\">Even More Examples</a>'"
   ]
  },
  {
   "cell_type": "code",
   "execution_count": 34,
   "id": "4420103c",
   "metadata": {},
   "outputs": [
    {
     "data": {
      "text/plain": [
       "'<p>Contents :</p><a href=\"https://w3resource.com\">Python Examples</a><a href=\"http://github.com\">Even More Examples</a>'"
      ]
     },
     "execution_count": 34,
     "metadata": {},
     "output_type": "execute_result"
    }
   ],
   "source": [
    "string"
   ]
  },
  {
   "cell_type": "code",
   "execution_count": 35,
   "id": "714df160",
   "metadata": {},
   "outputs": [
    {
     "name": "stdout",
     "output_type": "stream",
     "text": [
      "['https://w3resource.com', 'http://github.com']\n"
     ]
    }
   ],
   "source": [
    "pattern = 'http[s]?://(?:[a-zA-Z]|[0-9]|[$-_@.&+]|[!*\\(\\),]|(?:%[0-9a-fA-F][0-9a-fA-F]))+'\n",
    "urls = re.findall(pattern,string)\n",
    "print(urls)"
   ]
  },
  {
   "cell_type": "code",
   "execution_count": null,
   "id": "0c287a48",
   "metadata": {},
   "outputs": [],
   "source": []
  }
 ],
 "metadata": {
  "kernelspec": {
   "display_name": "Python 3 (ipykernel)",
   "language": "python",
   "name": "python3"
  },
  "language_info": {
   "codemirror_mode": {
    "name": "ipython",
    "version": 3
   },
   "file_extension": ".py",
   "mimetype": "text/x-python",
   "name": "python",
   "nbconvert_exporter": "python",
   "pygments_lexer": "ipython3",
   "version": "3.9.7"
  }
 },
 "nbformat": 4,
 "nbformat_minor": 5
}
