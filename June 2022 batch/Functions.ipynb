{
 "cells": [
  {
   "cell_type": "markdown",
   "id": "585a85bc",
   "metadata": {},
   "source": [
    "### Functions"
   ]
  },
  {
   "cell_type": "code",
   "execution_count": 2,
   "id": "992d1f97",
   "metadata": {},
   "outputs": [],
   "source": [
    "# Write a function to add numbers provided"
   ]
  },
  {
   "cell_type": "code",
   "execution_count": 3,
   "id": "de60ddd8",
   "metadata": {},
   "outputs": [],
   "source": [
    "def addition(a,b):\n",
    "    c=a+b\n",
    "    print(\"Addition of Numbers\",c)"
   ]
  },
  {
   "cell_type": "code",
   "execution_count": 4,
   "id": "f9ef51bb",
   "metadata": {},
   "outputs": [
    {
     "name": "stdout",
     "output_type": "stream",
     "text": [
      "Addition of Numbers 5\n"
     ]
    }
   ],
   "source": [
    "addition(2,3)"
   ]
  },
  {
   "cell_type": "code",
   "execution_count": 5,
   "id": "e8f042ff",
   "metadata": {},
   "outputs": [
    {
     "name": "stdout",
     "output_type": "stream",
     "text": [
      "Addition of Numbers 300\n"
     ]
    }
   ],
   "source": [
    "addition(100,200)"
   ]
  },
  {
   "cell_type": "code",
   "execution_count": 6,
   "id": "5c9b40c2",
   "metadata": {},
   "outputs": [],
   "source": [
    "# Function should return the results"
   ]
  },
  {
   "cell_type": "code",
   "execution_count": 7,
   "id": "4baa4cfd",
   "metadata": {},
   "outputs": [],
   "source": [
    "def add1(a,b):\n",
    "    return a+b"
   ]
  },
  {
   "cell_type": "code",
   "execution_count": 8,
   "id": "37a61260",
   "metadata": {},
   "outputs": [
    {
     "data": {
      "text/plain": [
       "6"
      ]
     },
     "execution_count": 8,
     "metadata": {},
     "output_type": "execute_result"
    }
   ],
   "source": [
    "add1(2,4)"
   ]
  },
  {
   "cell_type": "code",
   "execution_count": 9,
   "id": "dc0f04aa",
   "metadata": {},
   "outputs": [
    {
     "data": {
      "text/plain": [
       "775"
      ]
     },
     "execution_count": 9,
     "metadata": {},
     "output_type": "execute_result"
    }
   ],
   "source": [
    "add1(443,332)"
   ]
  },
  {
   "cell_type": "code",
   "execution_count": 11,
   "id": "4d3308d7",
   "metadata": {},
   "outputs": [],
   "source": [
    "def add1(a=2,b=3):\n",
    "    return a+b"
   ]
  },
  {
   "cell_type": "code",
   "execution_count": 12,
   "id": "a911c409",
   "metadata": {},
   "outputs": [
    {
     "data": {
      "text/plain": [
       "5"
      ]
     },
     "execution_count": 12,
     "metadata": {},
     "output_type": "execute_result"
    }
   ],
   "source": [
    "add1()"
   ]
  },
  {
   "cell_type": "code",
   "execution_count": 13,
   "id": "c543eedd",
   "metadata": {},
   "outputs": [
    {
     "data": {
      "text/plain": [
       "9"
      ]
     },
     "execution_count": 13,
     "metadata": {},
     "output_type": "execute_result"
    }
   ],
   "source": [
    "add1(4,5)"
   ]
  },
  {
   "cell_type": "code",
   "execution_count": 14,
   "id": "bf619005",
   "metadata": {},
   "outputs": [
    {
     "name": "stdout",
     "output_type": "stream",
     "text": [
      "Emil Refsnes\n"
     ]
    }
   ],
   "source": [
    "def my_function(fname, lname):\n",
    "  print(fname + \" \" + lname)\n",
    "\n",
    "my_function(\"Emil\", \"Refsnes\")"
   ]
  },
  {
   "cell_type": "code",
   "execution_count": 15,
   "id": "52612570",
   "metadata": {},
   "outputs": [
    {
     "ename": "TypeError",
     "evalue": "my_function() missing 1 required positional argument: 'lname'",
     "output_type": "error",
     "traceback": [
      "\u001b[1;31m---------------------------------------------------------------------------\u001b[0m",
      "\u001b[1;31mTypeError\u001b[0m                                 Traceback (most recent call last)",
      "\u001b[1;32m<ipython-input-15-8e274d4711ea>\u001b[0m in \u001b[0;36m<module>\u001b[1;34m\u001b[0m\n\u001b[1;32m----> 1\u001b[1;33m \u001b[0mmy_function\u001b[0m\u001b[1;33m(\u001b[0m\u001b[1;34m\"Emil\"\u001b[0m\u001b[1;33m)\u001b[0m\u001b[1;33m\u001b[0m\u001b[1;33m\u001b[0m\u001b[0m\n\u001b[0m",
      "\u001b[1;31mTypeError\u001b[0m: my_function() missing 1 required positional argument: 'lname'"
     ]
    }
   ],
   "source": [
    "# input parameters missing\n",
    "my_function(\"Emil\")"
   ]
  },
  {
   "cell_type": "code",
   "execution_count": 16,
   "id": "a11c61fd",
   "metadata": {},
   "outputs": [
    {
     "name": "stdout",
     "output_type": "stream",
     "text": [
      "The youngest child is Linus\n"
     ]
    }
   ],
   "source": [
    "def my_function(*kids):\n",
    "    print(\"The youngest child is \" + kids[2])\n",
    "\n",
    "my_function(\"Emil\", \"Tobias\", \"Linus\")"
   ]
  },
  {
   "cell_type": "code",
   "execution_count": 27,
   "id": "1d79f6e7",
   "metadata": {},
   "outputs": [
    {
     "name": "stdout",
     "output_type": "stream",
     "text": [
      "The youngest child is i\n",
      "The First name is: ('Tobias', 'Linus')\n"
     ]
    }
   ],
   "source": [
    "def my_function(kids,*fname):\n",
    "    print(\"The youngest child is \" + kids[2])\n",
    "    print(\"The First name is:\", fname)\n",
    "\n",
    "my_function(\"Emil\", \"Tobias\", \"Linus\")"
   ]
  },
  {
   "cell_type": "code",
   "execution_count": 28,
   "id": "492523cf",
   "metadata": {},
   "outputs": [
    {
     "name": "stdout",
     "output_type": "stream",
     "text": [
      "The youngest child is Linus\n"
     ]
    }
   ],
   "source": [
    "def my_function(child3, child2, child1):\n",
    "  print(\"The youngest child is \" + child3)\n",
    "\n",
    "my_function(child1 = \"Emil\", child2 = \"Tobias\", child3 = \"Linus\")"
   ]
  },
  {
   "cell_type": "code",
   "execution_count": 29,
   "id": "bf6aed70",
   "metadata": {},
   "outputs": [
    {
     "name": "stdout",
     "output_type": "stream",
     "text": [
      "His last name is Refsnes\n"
     ]
    }
   ],
   "source": [
    "def my_function(**kid):\n",
    "  print(\"His last name is \" + kid[\"lname\"])\n",
    "\n",
    "my_function(fname = \"Tobias\", lname = \"Refsnes\")"
   ]
  },
  {
   "cell_type": "code",
   "execution_count": 54,
   "id": "056606ea",
   "metadata": {},
   "outputs": [],
   "source": [
    "def add_func(**a):\n",
    "    return a"
   ]
  },
  {
   "cell_type": "code",
   "execution_count": 51,
   "id": "d75c36e9",
   "metadata": {},
   "outputs": [
    {
     "data": {
      "text/plain": [
       "{'Name': 'Student1', 'Age': 33, 'Profession': 'Software'}"
      ]
     },
     "execution_count": 51,
     "metadata": {},
     "output_type": "execute_result"
    }
   ],
   "source": [
    "add_func(Name='Student1',Age=33,Profession='Software')"
   ]
  },
  {
   "cell_type": "code",
   "execution_count": 74,
   "id": "6ffbcb56",
   "metadata": {},
   "outputs": [],
   "source": [
    "def add_func1(*a):\n",
    "    sum = 0\n",
    "    for i in a:\n",
    "        sum = sum+i\n",
    "    return(sum)"
   ]
  },
  {
   "cell_type": "code",
   "execution_count": 80,
   "id": "1923b127",
   "metadata": {},
   "outputs": [
    {
     "data": {
      "text/plain": [
       "3881"
      ]
     },
     "execution_count": 80,
     "metadata": {},
     "output_type": "execute_result"
    }
   ],
   "source": [
    "add_func1(2,3,4,6,533,3333)"
   ]
  },
  {
   "cell_type": "code",
   "execution_count": 98,
   "id": "4ac4ac6d",
   "metadata": {},
   "outputs": [],
   "source": [
    "def add_func1(*a):\n",
    "    global sum1\n",
    "    sum1 = 0\n",
    "    for i in a:\n",
    "        sum1 = sum1+i\n",
    "    print(\"The sum of input sequence is:\",sum1)"
   ]
  },
  {
   "cell_type": "code",
   "execution_count": 97,
   "id": "0ab24dc2",
   "metadata": {},
   "outputs": [
    {
     "name": "stdout",
     "output_type": "stream",
     "text": [
      "The sum of input sequence is: 3881\n"
     ]
    }
   ],
   "source": [
    "add_func1(2,3,4,6,533,3333)"
   ]
  },
  {
   "cell_type": "code",
   "execution_count": 83,
   "id": "7efec0c8",
   "metadata": {},
   "outputs": [
    {
     "name": "stdout",
     "output_type": "stream",
     "text": [
      "The sum of input sequence is: 9\n"
     ]
    }
   ],
   "source": [
    "add_func1(4,5)"
   ]
  },
  {
   "cell_type": "code",
   "execution_count": 84,
   "id": "cab54f41",
   "metadata": {},
   "outputs": [
    {
     "name": "stdout",
     "output_type": "stream",
     "text": [
      "The sum of input sequence is: 30919\n"
     ]
    }
   ],
   "source": [
    "add_func1(43,455,322,4555,3322,22222)"
   ]
  },
  {
   "cell_type": "code",
   "execution_count": 99,
   "id": "a637fbb9",
   "metadata": {},
   "outputs": [
    {
     "name": "stdout",
     "output_type": "stream",
     "text": [
      "3881\n"
     ]
    }
   ],
   "source": [
    "# Access global variable outside the function\n",
    "print(sum1)"
   ]
  },
  {
   "cell_type": "code",
   "execution_count": 101,
   "id": "b08deb90",
   "metadata": {},
   "outputs": [
    {
     "name": "stdout",
     "output_type": "stream",
     "text": [
      "apple\n",
      "banana\n",
      "cherry\n"
     ]
    }
   ],
   "source": [
    "def my_function(food):\n",
    "    for x in food:\n",
    "        print(x)\n",
    "\n",
    "fruits = [\"apple\", \"banana\", \"cherry\"]\n",
    "\n",
    "my_function(fruits)"
   ]
  },
  {
   "cell_type": "code",
   "execution_count": 102,
   "id": "9d9f7672",
   "metadata": {},
   "outputs": [],
   "source": [
    "def my_function(x):\n",
    "    return 5 * x"
   ]
  },
  {
   "cell_type": "code",
   "execution_count": 105,
   "id": "04f7ef37",
   "metadata": {},
   "outputs": [
    {
     "data": {
      "text/plain": [
       "30"
      ]
     },
     "execution_count": 105,
     "metadata": {},
     "output_type": "execute_result"
    }
   ],
   "source": [
    "my_function(6)"
   ]
  },
  {
   "cell_type": "code",
   "execution_count": 108,
   "id": "7f294dec",
   "metadata": {},
   "outputs": [],
   "source": [
    "if 2>3:\n",
    "    print(\"greater\")\n",
    "else:\n",
    "    pass"
   ]
  },
  {
   "cell_type": "code",
   "execution_count": 109,
   "id": "8f32e957",
   "metadata": {},
   "outputs": [
    {
     "name": "stdout",
     "output_type": "stream",
     "text": [
      "greater\n"
     ]
    }
   ],
   "source": [
    "if 2<3:\n",
    "    print(\"greater\")\n",
    "else:\n",
    "    pass"
   ]
  },
  {
   "cell_type": "code",
   "execution_count": 114,
   "id": "39c1684d",
   "metadata": {},
   "outputs": [],
   "source": [
    "def myfunction1():\n",
    "    pass"
   ]
  },
  {
   "cell_type": "code",
   "execution_count": 111,
   "id": "6ca2820e",
   "metadata": {},
   "outputs": [],
   "source": [
    "myfunction1()"
   ]
  },
  {
   "cell_type": "code",
   "execution_count": 115,
   "id": "e92c31e4",
   "metadata": {},
   "outputs": [
    {
     "name": "stdout",
     "output_type": "stream",
     "text": [
      "\n",
      "\n",
      "Recursion Example Results\n",
      "1\n",
      "3\n",
      "6\n",
      "10\n",
      "15\n",
      "21\n"
     ]
    },
    {
     "data": {
      "text/plain": [
       "21"
      ]
     },
     "execution_count": 115,
     "metadata": {},
     "output_type": "execute_result"
    }
   ],
   "source": [
    "# call same function with in the function itself\n",
    "def tri_recursion(k):\n",
    "  if(k > 0):\n",
    "    result = k + tri_recursion(k - 1)\n",
    "    print(result)\n",
    "  else:\n",
    "    result = 0\n",
    "  return result\n",
    "\n",
    "print(\"\\n\\nRecursion Example Results\")\n",
    "tri_recursion(6)"
   ]
  },
  {
   "cell_type": "code",
   "execution_count": 120,
   "id": "30bad366",
   "metadata": {},
   "outputs": [
    {
     "name": "stdout",
     "output_type": "stream",
     "text": [
      "1\n"
     ]
    },
    {
     "data": {
      "text/plain": [
       "1"
      ]
     },
     "execution_count": 120,
     "metadata": {},
     "output_type": "execute_result"
    }
   ],
   "source": [
    "tri_recursion(1)"
   ]
  },
  {
   "cell_type": "code",
   "execution_count": 122,
   "id": "7a5b6262",
   "metadata": {},
   "outputs": [
    {
     "name": "stdout",
     "output_type": "stream",
     "text": [
      "7\n"
     ]
    },
    {
     "data": {
      "text/plain": [
       "7"
      ]
     },
     "execution_count": 122,
     "metadata": {},
     "output_type": "execute_result"
    }
   ],
   "source": [
    "tri_recursion(4)"
   ]
  },
  {
   "cell_type": "code",
   "execution_count": 123,
   "id": "f1bfba4f",
   "metadata": {},
   "outputs": [],
   "source": [
    "# 4\n",
    "# 4+3\n",
    "# 5\n",
    "# 5+4\n",
    "# 6\n",
    "# 6+5"
   ]
  },
  {
   "cell_type": "code",
   "execution_count": 125,
   "id": "956831c2",
   "metadata": {},
   "outputs": [],
   "source": [
    "# 1\n",
    "# 2+1\n",
    "# 3+2+1\n",
    "# 4+3+2+1\n",
    "# ..."
   ]
  },
  {
   "cell_type": "code",
   "execution_count": null,
   "id": "f5888677",
   "metadata": {},
   "outputs": [],
   "source": []
  }
 ],
 "metadata": {
  "kernelspec": {
   "display_name": "Python 3 (ipykernel)",
   "language": "python",
   "name": "python3"
  },
  "language_info": {
   "codemirror_mode": {
    "name": "ipython",
    "version": 3
   },
   "file_extension": ".py",
   "mimetype": "text/x-python",
   "name": "python",
   "nbconvert_exporter": "python",
   "pygments_lexer": "ipython3",
   "version": "3.9.7"
  }
 },
 "nbformat": 4,
 "nbformat_minor": 5
}
