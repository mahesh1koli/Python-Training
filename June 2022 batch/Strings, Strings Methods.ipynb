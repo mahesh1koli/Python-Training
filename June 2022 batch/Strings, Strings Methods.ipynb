{
 "cells": [
  {
   "cell_type": "code",
   "execution_count": 1,
   "id": "fefd26b9",
   "metadata": {},
   "outputs": [],
   "source": [
    "str = \"Good Morning\""
   ]
  },
  {
   "cell_type": "code",
   "execution_count": 2,
   "id": "20f5132f",
   "metadata": {},
   "outputs": [
    {
     "data": {
      "text/plain": [
       "'g'"
      ]
     },
     "execution_count": 2,
     "metadata": {},
     "output_type": "execute_result"
    }
   ],
   "source": [
    "str[-1]"
   ]
  },
  {
   "cell_type": "code",
   "execution_count": 3,
   "id": "df6241de",
   "metadata": {},
   "outputs": [
    {
     "data": {
      "text/plain": [
       "'d'"
      ]
     },
     "execution_count": 3,
     "metadata": {},
     "output_type": "execute_result"
    }
   ],
   "source": [
    "str[3]"
   ]
  },
  {
   "cell_type": "code",
   "execution_count": 4,
   "id": "c4bdbbbe",
   "metadata": {},
   "outputs": [
    {
     "data": {
      "text/plain": [
       "'o'"
      ]
     },
     "execution_count": 4,
     "metadata": {},
     "output_type": "execute_result"
    }
   ],
   "source": [
    "str[1]"
   ]
  },
  {
   "cell_type": "code",
   "execution_count": 5,
   "id": "306c0af6",
   "metadata": {},
   "outputs": [
    {
     "data": {
      "text/plain": [
       "'o'"
      ]
     },
     "execution_count": 5,
     "metadata": {},
     "output_type": "execute_result"
    }
   ],
   "source": [
    "str[2]"
   ]
  },
  {
   "cell_type": "code",
   "execution_count": 6,
   "id": "91a58b1a",
   "metadata": {},
   "outputs": [],
   "source": [
    "# Slicing"
   ]
  },
  {
   "cell_type": "code",
   "execution_count": 7,
   "id": "d0bb2bbd",
   "metadata": {},
   "outputs": [
    {
     "data": {
      "text/plain": [
       "'Good'"
      ]
     },
     "execution_count": 7,
     "metadata": {},
     "output_type": "execute_result"
    }
   ],
   "source": [
    "str[0:4]"
   ]
  },
  {
   "cell_type": "code",
   "execution_count": 13,
   "id": "f498442d",
   "metadata": {},
   "outputs": [
    {
     "data": {
      "text/plain": [
       "'Morning'"
      ]
     },
     "execution_count": 13,
     "metadata": {},
     "output_type": "execute_result"
    }
   ],
   "source": [
    "str[5:12]"
   ]
  },
  {
   "cell_type": "code",
   "execution_count": 14,
   "id": "11c18af5",
   "metadata": {},
   "outputs": [
    {
     "data": {
      "text/plain": [
       "'Morning'"
      ]
     },
     "execution_count": 14,
     "metadata": {},
     "output_type": "execute_result"
    }
   ],
   "source": [
    "str[5:]"
   ]
  },
  {
   "cell_type": "code",
   "execution_count": 15,
   "id": "d48d367b",
   "metadata": {},
   "outputs": [
    {
     "data": {
      "text/plain": [
       "'Good'"
      ]
     },
     "execution_count": 15,
     "metadata": {},
     "output_type": "execute_result"
    }
   ],
   "source": [
    "str[:4]"
   ]
  },
  {
   "cell_type": "code",
   "execution_count": 16,
   "id": "a85093e7",
   "metadata": {},
   "outputs": [
    {
     "data": {
      "text/plain": [
       "'g'"
      ]
     },
     "execution_count": 16,
     "metadata": {},
     "output_type": "execute_result"
    }
   ],
   "source": [
    "str[-1:]"
   ]
  },
  {
   "cell_type": "code",
   "execution_count": 17,
   "id": "1b490d1e",
   "metadata": {},
   "outputs": [
    {
     "data": {
      "text/plain": [
       "'gninroM dooG'"
      ]
     },
     "execution_count": 17,
     "metadata": {},
     "output_type": "execute_result"
    }
   ],
   "source": [
    "# Reversing the string\n",
    "str[::-1]"
   ]
  },
  {
   "cell_type": "code",
   "execution_count": 18,
   "id": "278b7e63",
   "metadata": {},
   "outputs": [
    {
     "data": {
      "text/plain": [
       "'Morning'"
      ]
     },
     "execution_count": 18,
     "metadata": {},
     "output_type": "execute_result"
    }
   ],
   "source": [
    "str[5:]"
   ]
  },
  {
   "cell_type": "code",
   "execution_count": 19,
   "id": "b1869c01",
   "metadata": {},
   "outputs": [
    {
     "data": {
      "text/plain": [
       "12"
      ]
     },
     "execution_count": 19,
     "metadata": {},
     "output_type": "execute_result"
    }
   ],
   "source": [
    "# Find the length of the string\n",
    "len(str)"
   ]
  },
  {
   "cell_type": "code",
   "execution_count": 20,
   "id": "b501553f",
   "metadata": {},
   "outputs": [
    {
     "data": {
      "text/plain": [
       "True"
      ]
     },
     "execution_count": 20,
     "metadata": {},
     "output_type": "execute_result"
    }
   ],
   "source": [
    "\"M\" in str"
   ]
  },
  {
   "cell_type": "code",
   "execution_count": 21,
   "id": "b94b1951",
   "metadata": {},
   "outputs": [
    {
     "data": {
      "text/plain": [
       "False"
      ]
     },
     "execution_count": 21,
     "metadata": {},
     "output_type": "execute_result"
    }
   ],
   "source": [
    "\"x\" in str"
   ]
  },
  {
   "cell_type": "code",
   "execution_count": 22,
   "id": "04e550a3",
   "metadata": {},
   "outputs": [
    {
     "data": {
      "text/plain": [
       "False"
      ]
     },
     "execution_count": 22,
     "metadata": {},
     "output_type": "execute_result"
    }
   ],
   "source": [
    "\"m\" in str"
   ]
  },
  {
   "cell_type": "code",
   "execution_count": 23,
   "id": "efadce3a",
   "metadata": {},
   "outputs": [
    {
     "data": {
      "text/plain": [
       "False"
      ]
     },
     "execution_count": 23,
     "metadata": {},
     "output_type": "execute_result"
    }
   ],
   "source": [
    "\"hello\" > \"hexxo\""
   ]
  },
  {
   "cell_type": "code",
   "execution_count": 24,
   "id": "b908c910",
   "metadata": {},
   "outputs": [
    {
     "data": {
      "text/plain": [
       "False"
      ]
     },
     "execution_count": 24,
     "metadata": {},
     "output_type": "execute_result"
    }
   ],
   "source": [
    "\"hello\" < \"hello\""
   ]
  },
  {
   "cell_type": "code",
   "execution_count": 25,
   "id": "eca22181",
   "metadata": {},
   "outputs": [
    {
     "data": {
      "text/plain": [
       "True"
      ]
     },
     "execution_count": 25,
     "metadata": {},
     "output_type": "execute_result"
    }
   ],
   "source": [
    "\"hello\" == \"hello\"  # Equality comparision"
   ]
  },
  {
   "cell_type": "code",
   "execution_count": 26,
   "id": "855c6981",
   "metadata": {},
   "outputs": [
    {
     "ename": "SyntaxError",
     "evalue": "cannot assign to literal (<ipython-input-26-b39db39f6efc>, line 1)",
     "output_type": "error",
     "traceback": [
      "\u001b[1;36m  File \u001b[1;32m\"<ipython-input-26-b39db39f6efc>\"\u001b[1;36m, line \u001b[1;32m1\u001b[0m\n\u001b[1;33m    2 = 3\u001b[0m\n\u001b[1;37m    ^\u001b[0m\n\u001b[1;31mSyntaxError\u001b[0m\u001b[1;31m:\u001b[0m cannot assign to literal\n"
     ]
    }
   ],
   "source": [
    "2 = 3"
   ]
  },
  {
   "cell_type": "code",
   "execution_count": 27,
   "id": "a43429b1",
   "metadata": {},
   "outputs": [
    {
     "data": {
      "text/plain": [
       "False"
      ]
     },
     "execution_count": 27,
     "metadata": {},
     "output_type": "execute_result"
    }
   ],
   "source": [
    "2 == 3"
   ]
  },
  {
   "cell_type": "code",
   "execution_count": 28,
   "id": "4578a951",
   "metadata": {},
   "outputs": [
    {
     "data": {
      "text/plain": [
       "True"
      ]
     },
     "execution_count": 28,
     "metadata": {},
     "output_type": "execute_result"
    }
   ],
   "source": [
    "3 == 3"
   ]
  },
  {
   "cell_type": "code",
   "execution_count": 29,
   "id": "c0f85fbb",
   "metadata": {},
   "outputs": [
    {
     "data": {
      "text/plain": [
       "False"
      ]
     },
     "execution_count": 29,
     "metadata": {},
     "output_type": "execute_result"
    }
   ],
   "source": [
    "3 != 3"
   ]
  },
  {
   "cell_type": "code",
   "execution_count": 30,
   "id": "a709c019",
   "metadata": {},
   "outputs": [
    {
     "data": {
      "text/plain": [
       "True"
      ]
     },
     "execution_count": 30,
     "metadata": {},
     "output_type": "execute_result"
    }
   ],
   "source": [
    "2 != 3"
   ]
  },
  {
   "cell_type": "code",
   "execution_count": 31,
   "id": "6a519910",
   "metadata": {},
   "outputs": [],
   "source": [
    "# String Methods - Python has some internal functions developed for string operations"
   ]
  },
  {
   "cell_type": "code",
   "execution_count": 32,
   "id": "22781507",
   "metadata": {},
   "outputs": [
    {
     "data": {
      "text/plain": [
       "'Good Morning'"
      ]
     },
     "execution_count": 32,
     "metadata": {},
     "output_type": "execute_result"
    }
   ],
   "source": [
    "str"
   ]
  },
  {
   "cell_type": "code",
   "execution_count": 33,
   "id": "f65c5c22",
   "metadata": {},
   "outputs": [],
   "source": [
    "# <Module>.<function> # To access string Methods"
   ]
  },
  {
   "cell_type": "code",
   "execution_count": 34,
   "id": "4f8a1fb2",
   "metadata": {},
   "outputs": [
    {
     "data": {
      "text/plain": [
       "'GOOD MORNING'"
      ]
     },
     "execution_count": 34,
     "metadata": {},
     "output_type": "execute_result"
    }
   ],
   "source": [
    "str.upper()"
   ]
  },
  {
   "cell_type": "code",
   "execution_count": 35,
   "id": "0d432234",
   "metadata": {},
   "outputs": [
    {
     "data": {
      "text/plain": [
       "'good morning'"
      ]
     },
     "execution_count": 35,
     "metadata": {},
     "output_type": "execute_result"
    }
   ],
   "source": [
    "str.lower()"
   ]
  },
  {
   "cell_type": "code",
   "execution_count": 36,
   "id": "b0a219e1",
   "metadata": {},
   "outputs": [
    {
     "data": {
      "text/plain": [
       "'Good morning'"
      ]
     },
     "execution_count": 36,
     "metadata": {},
     "output_type": "execute_result"
    }
   ],
   "source": [
    "str.capitalize()"
   ]
  },
  {
   "cell_type": "code",
   "execution_count": 38,
   "id": "c5fc7ac4",
   "metadata": {},
   "outputs": [
    {
     "data": {
      "text/plain": [
       "3"
      ]
     },
     "execution_count": 38,
     "metadata": {},
     "output_type": "execute_result"
    }
   ],
   "source": [
    "str.count('o')"
   ]
  },
  {
   "cell_type": "code",
   "execution_count": 39,
   "id": "5c21a6f5",
   "metadata": {},
   "outputs": [
    {
     "data": {
      "text/plain": [
       "1"
      ]
     },
     "execution_count": 39,
     "metadata": {},
     "output_type": "execute_result"
    }
   ],
   "source": [
    "str.count('d')"
   ]
  },
  {
   "cell_type": "code",
   "execution_count": 40,
   "id": "8f8a8dfe",
   "metadata": {},
   "outputs": [
    {
     "data": {
      "text/plain": [
       "5"
      ]
     },
     "execution_count": 40,
     "metadata": {},
     "output_type": "execute_result"
    }
   ],
   "source": [
    "str.index('M')"
   ]
  },
  {
   "cell_type": "code",
   "execution_count": 41,
   "id": "54dc5e6f",
   "metadata": {},
   "outputs": [
    {
     "data": {
      "text/plain": [
       "1"
      ]
     },
     "execution_count": 41,
     "metadata": {},
     "output_type": "execute_result"
    }
   ],
   "source": [
    "str.index('o')  # only the first one index will be given in output"
   ]
  },
  {
   "cell_type": "code",
   "execution_count": 44,
   "id": "3bfaf63a",
   "metadata": {},
   "outputs": [
    {
     "data": {
      "text/plain": [
       "'    Good Morning    '"
      ]
     },
     "execution_count": 44,
     "metadata": {},
     "output_type": "execute_result"
    }
   ],
   "source": [
    "str.center(20)"
   ]
  },
  {
   "cell_type": "code",
   "execution_count": 160,
   "id": "03cfd015",
   "metadata": {},
   "outputs": [
    {
     "name": "stdout",
     "output_type": "stream",
     "text": [
      "********************************************************************************\n",
      "                         This is begining of the script                         \n",
      "********************************************************************************\n"
     ]
    }
   ],
   "source": [
    "str = \"This is begining of the script\"\n",
    "print(\"*\"*80)\n",
    "print(str.center(80))\n",
    "print(\"*\"*80)"
   ]
  },
  {
   "cell_type": "code",
   "execution_count": 161,
   "id": "84fded69",
   "metadata": {},
   "outputs": [
    {
     "name": "stdout",
     "output_type": "stream",
     "text": [
      "*****************************************\n",
      "     This is my begining of script         \n",
      "*****************************************\n"
     ]
    }
   ],
   "source": [
    "print(\"*****************************************\")\n",
    "print(\"     This is my begining of script         \")\n",
    "print(\"*****************************************\")"
   ]
  },
  {
   "cell_type": "code",
   "execution_count": 162,
   "id": "7e15b3c1",
   "metadata": {},
   "outputs": [
    {
     "name": "stdout",
     "output_type": "stream",
     "text": [
      "This is new\n",
      "This is second line\n"
     ]
    }
   ],
   "source": [
    "print(\"This is new\" \"\\n\" \"This is second line\")"
   ]
  },
  {
   "cell_type": "code",
   "execution_count": 163,
   "id": "dd626563",
   "metadata": {},
   "outputs": [
    {
     "name": "stdout",
     "output_type": "stream",
     "text": [
      "******************************************************************************** \n",
      "                          This is begining of the script                          \n",
      " ********************************************************************************\n"
     ]
    }
   ],
   "source": [
    "print(\"*\"*80, \"\\n\",str.center(80),\"\\n\", \"*\"*80)"
   ]
  },
  {
   "cell_type": "code",
   "execution_count": 87,
   "id": "536fa8e1",
   "metadata": {},
   "outputs": [],
   "source": [
    "a = \"\"\"Lorem ipsum dolor sit amet,\n",
    "consectetur adipiscing elit,\n",
    "sed do eiusmod tempor incididunt\n",
    "ut labore et dolore magna aliqua.\"\"\""
   ]
  },
  {
   "cell_type": "code",
   "execution_count": 88,
   "id": "fe6e4a27",
   "metadata": {},
   "outputs": [
    {
     "data": {
      "text/plain": [
       "'Lorem ipsum dolor sit amet,\\nconsectetur adipiscing elit,\\nsed do eiusmod tempor incididunt\\nut labore et dolore magna aliqua.'"
      ]
     },
     "execution_count": 88,
     "metadata": {},
     "output_type": "execute_result"
    }
   ],
   "source": [
    "a"
   ]
  },
  {
   "cell_type": "code",
   "execution_count": 89,
   "id": "95a922ff",
   "metadata": {},
   "outputs": [],
   "source": [
    "welcome = \"Good Morning\""
   ]
  },
  {
   "cell_type": "code",
   "execution_count": 90,
   "id": "4df5f584",
   "metadata": {},
   "outputs": [
    {
     "data": {
      "text/plain": [
       "'Good'"
      ]
     },
     "execution_count": 90,
     "metadata": {},
     "output_type": "execute_result"
    }
   ],
   "source": [
    "welcome[-12:-8]"
   ]
  },
  {
   "cell_type": "code",
   "execution_count": 91,
   "id": "59345c8d",
   "metadata": {},
   "outputs": [],
   "source": [
    "a =  \"         Hello\""
   ]
  },
  {
   "cell_type": "code",
   "execution_count": 92,
   "id": "d3f8d068",
   "metadata": {},
   "outputs": [
    {
     "data": {
      "text/plain": [
       "'Hello'"
      ]
     },
     "execution_count": 92,
     "metadata": {},
     "output_type": "execute_result"
    }
   ],
   "source": [
    "a.strip()"
   ]
  },
  {
   "cell_type": "code",
   "execution_count": 93,
   "id": "71f11906",
   "metadata": {},
   "outputs": [],
   "source": [
    "b = \"         Hello           \""
   ]
  },
  {
   "cell_type": "code",
   "execution_count": 94,
   "id": "fcdb4799",
   "metadata": {},
   "outputs": [
    {
     "data": {
      "text/plain": [
       "'Hello'"
      ]
     },
     "execution_count": 94,
     "metadata": {},
     "output_type": "execute_result"
    }
   ],
   "source": [
    "b.strip()"
   ]
  },
  {
   "cell_type": "code",
   "execution_count": 95,
   "id": "bb9d7511",
   "metadata": {},
   "outputs": [
    {
     "name": "stdout",
     "output_type": "stream",
     "text": [
      "HelloWorld\n"
     ]
    }
   ],
   "source": [
    "a = \"Hello\"\n",
    "b = \"World\"\n",
    "c = a + b\n",
    "print(c)"
   ]
  },
  {
   "cell_type": "code",
   "execution_count": 96,
   "id": "31d7eb61",
   "metadata": {},
   "outputs": [
    {
     "name": "stdout",
     "output_type": "stream",
     "text": [
      "Hello World\n"
     ]
    }
   ],
   "source": [
    "a = \"Hello\"\n",
    "b = \"World\"\n",
    "c = a + \" \" + b\n",
    "print(c)"
   ]
  },
  {
   "cell_type": "code",
   "execution_count": 103,
   "id": "e244192f",
   "metadata": {},
   "outputs": [],
   "source": [
    "age = 36\n",
    "txt = \"My name is John, I am \"\n",
    "# txt = \"My name is John, I am \" + age\n",
    "# print(txt)"
   ]
  },
  {
   "cell_type": "code",
   "execution_count": 101,
   "id": "a427d7ec",
   "metadata": {},
   "outputs": [
    {
     "data": {
      "text/plain": [
       "int"
      ]
     },
     "execution_count": 101,
     "metadata": {},
     "output_type": "execute_result"
    }
   ],
   "source": [
    "type(age)"
   ]
  },
  {
   "cell_type": "code",
   "execution_count": 104,
   "id": "0d4228f7",
   "metadata": {},
   "outputs": [
    {
     "data": {
      "text/plain": [
       "str"
      ]
     },
     "execution_count": 104,
     "metadata": {},
     "output_type": "execute_result"
    }
   ],
   "source": [
    "type(txt)"
   ]
  },
  {
   "cell_type": "code",
   "execution_count": 121,
   "id": "53f9f7f0",
   "metadata": {},
   "outputs": [],
   "source": [
    "a = 35"
   ]
  },
  {
   "cell_type": "code",
   "execution_count": 122,
   "id": "957cbda4",
   "metadata": {},
   "outputs": [
    {
     "data": {
      "text/plain": [
       "35"
      ]
     },
     "execution_count": 122,
     "metadata": {},
     "output_type": "execute_result"
    }
   ],
   "source": [
    "int(a)"
   ]
  },
  {
   "cell_type": "code",
   "execution_count": 123,
   "id": "880bb073",
   "metadata": {},
   "outputs": [
    {
     "data": {
      "text/plain": [
       "35.0"
      ]
     },
     "execution_count": 123,
     "metadata": {},
     "output_type": "execute_result"
    }
   ],
   "source": [
    "float(a)"
   ]
  },
  {
   "cell_type": "code",
   "execution_count": 127,
   "id": "7b80c7d8",
   "metadata": {},
   "outputs": [],
   "source": [
    "a = '35'"
   ]
  },
  {
   "cell_type": "code",
   "execution_count": 128,
   "id": "bcf94361",
   "metadata": {},
   "outputs": [
    {
     "data": {
      "text/plain": [
       "str"
      ]
     },
     "execution_count": 128,
     "metadata": {},
     "output_type": "execute_result"
    }
   ],
   "source": [
    "type(a)"
   ]
  },
  {
   "cell_type": "code",
   "execution_count": 134,
   "id": "652818ef",
   "metadata": {},
   "outputs": [],
   "source": [
    "age = '36'\n",
    "txt = \"My name is John, I am \""
   ]
  },
  {
   "cell_type": "code",
   "execution_count": 135,
   "id": "e40a5747",
   "metadata": {},
   "outputs": [
    {
     "name": "stdout",
     "output_type": "stream",
     "text": [
      "My name is John, I am 36\n"
     ]
    }
   ],
   "source": [
    "print(txt+age)"
   ]
  },
  {
   "cell_type": "markdown",
   "id": "1ba33470",
   "metadata": {},
   "source": [
    "## Format function to overcome the problem with concatinating integer with string type"
   ]
  },
  {
   "cell_type": "code",
   "execution_count": 137,
   "id": "77427468",
   "metadata": {},
   "outputs": [
    {
     "name": "stdout",
     "output_type": "stream",
     "text": [
      "My name is John, I am 36\n"
     ]
    }
   ],
   "source": [
    "age = 36\n",
    "txt = \"My name is John, I am {}\"\n",
    "print(txt.format(age))"
   ]
  },
  {
   "cell_type": "code",
   "execution_count": 138,
   "id": "ced28781",
   "metadata": {},
   "outputs": [
    {
     "data": {
      "text/plain": [
       "int"
      ]
     },
     "execution_count": 138,
     "metadata": {},
     "output_type": "execute_result"
    }
   ],
   "source": [
    "type(age)"
   ]
  },
  {
   "cell_type": "code",
   "execution_count": 139,
   "id": "642bc32d",
   "metadata": {},
   "outputs": [
    {
     "data": {
      "text/plain": [
       "str"
      ]
     },
     "execution_count": 139,
     "metadata": {},
     "output_type": "execute_result"
    }
   ],
   "source": [
    "type(txt)"
   ]
  },
  {
   "cell_type": "code",
   "execution_count": 140,
   "id": "3db6548a",
   "metadata": {},
   "outputs": [],
   "source": [
    "welcome = \"Good Morning\""
   ]
  },
  {
   "cell_type": "code",
   "execution_count": 143,
   "id": "fee07a8a",
   "metadata": {},
   "outputs": [
    {
     "data": {
      "text/plain": [
       "'Good Morning'"
      ]
     },
     "execution_count": 143,
     "metadata": {},
     "output_type": "execute_result"
    }
   ],
   "source": [
    "welcome[-12:]"
   ]
  },
  {
   "cell_type": "code",
   "execution_count": 145,
   "id": "facbfe09",
   "metadata": {},
   "outputs": [
    {
     "data": {
      "text/plain": [
       "False"
      ]
     },
     "execution_count": 145,
     "metadata": {},
     "output_type": "execute_result"
    }
   ],
   "source": [
    "welcome.isdigit()"
   ]
  },
  {
   "cell_type": "code",
   "execution_count": 146,
   "id": "9f736779",
   "metadata": {},
   "outputs": [
    {
     "data": {
      "text/plain": [
       "False"
      ]
     },
     "execution_count": 146,
     "metadata": {},
     "output_type": "execute_result"
    }
   ],
   "source": [
    "welcome.isalnum()"
   ]
  },
  {
   "cell_type": "code",
   "execution_count": 147,
   "id": "ba511d95",
   "metadata": {},
   "outputs": [
    {
     "data": {
      "text/plain": [
       "False"
      ]
     },
     "execution_count": 147,
     "metadata": {},
     "output_type": "execute_result"
    }
   ],
   "source": [
    "welcome.isdecimal()"
   ]
  },
  {
   "cell_type": "code",
   "execution_count": 148,
   "id": "1bf54262",
   "metadata": {},
   "outputs": [
    {
     "data": {
      "text/plain": [
       "False"
      ]
     },
     "execution_count": 148,
     "metadata": {},
     "output_type": "execute_result"
    }
   ],
   "source": [
    "welcome.endswith('n')"
   ]
  },
  {
   "cell_type": "code",
   "execution_count": 149,
   "id": "62a38d15",
   "metadata": {},
   "outputs": [
    {
     "data": {
      "text/plain": [
       "True"
      ]
     },
     "execution_count": 149,
     "metadata": {},
     "output_type": "execute_result"
    }
   ],
   "source": [
    "welcome.endswith('g')"
   ]
  },
  {
   "cell_type": "code",
   "execution_count": 152,
   "id": "e86adf5f",
   "metadata": {},
   "outputs": [
    {
     "data": {
      "text/plain": [
       "False"
      ]
     },
     "execution_count": 152,
     "metadata": {},
     "output_type": "execute_result"
    }
   ],
   "source": [
    "welcome.isspace()"
   ]
  },
  {
   "cell_type": "code",
   "execution_count": 153,
   "id": "d596e41c",
   "metadata": {},
   "outputs": [],
   "source": [
    "a = \"        Hello      \""
   ]
  },
  {
   "cell_type": "code",
   "execution_count": 154,
   "id": "0a795422",
   "metadata": {},
   "outputs": [
    {
     "data": {
      "text/plain": [
       "'Hello      '"
      ]
     },
     "execution_count": 154,
     "metadata": {},
     "output_type": "execute_result"
    }
   ],
   "source": [
    "a.lstrip()"
   ]
  },
  {
   "cell_type": "code",
   "execution_count": 155,
   "id": "3f3c2930",
   "metadata": {},
   "outputs": [
    {
     "data": {
      "text/plain": [
       "'        Hello'"
      ]
     },
     "execution_count": 155,
     "metadata": {},
     "output_type": "execute_result"
    }
   ],
   "source": [
    "a.rstrip()"
   ]
  },
  {
   "cell_type": "code",
   "execution_count": 156,
   "id": "413d6381",
   "metadata": {},
   "outputs": [
    {
     "data": {
      "text/plain": [
       "'Good Morning'"
      ]
     },
     "execution_count": 156,
     "metadata": {},
     "output_type": "execute_result"
    }
   ],
   "source": [
    "welcome.title()"
   ]
  },
  {
   "cell_type": "code",
   "execution_count": 157,
   "id": "a15bd916",
   "metadata": {},
   "outputs": [],
   "source": [
    "welcome = 'good morning'"
   ]
  },
  {
   "cell_type": "code",
   "execution_count": 158,
   "id": "7a9e576d",
   "metadata": {},
   "outputs": [
    {
     "data": {
      "text/plain": [
       "'Good Morning'"
      ]
     },
     "execution_count": 158,
     "metadata": {},
     "output_type": "execute_result"
    }
   ],
   "source": [
    "welcome.title()"
   ]
  },
  {
   "cell_type": "code",
   "execution_count": 4,
   "id": "0378ea5b",
   "metadata": {},
   "outputs": [
    {
     "name": "stdout",
     "output_type": "stream",
     "text": [
      "I want 3 pieces of item 567 for 49.95 dollars.\n"
     ]
    }
   ],
   "source": [
    "quantity = 3\n",
    "itemno = 567\n",
    "price = 49.95\n",
    "myorder = \"I want {} pieces of item {} for {} dollars.\"\n",
    "print(myorder.format(quantity, itemno, price))"
   ]
  },
  {
   "cell_type": "code",
   "execution_count": 5,
   "id": "087b64b0",
   "metadata": {},
   "outputs": [
    {
     "name": "stdout",
     "output_type": "stream",
     "text": [
      "I want 567 pieces of item 3 for 49.95 dollars.\n"
     ]
    }
   ],
   "source": [
    "quantity = 3\n",
    "itemno = 567\n",
    "price = 49.95\n",
    "myorder = \"I want {1} pieces of item {0} for {2} dollars.\"\n",
    "print(myorder.format(quantity, itemno, price))"
   ]
  },
  {
   "cell_type": "code",
   "execution_count": 6,
   "id": "62e5d62c",
   "metadata": {},
   "outputs": [
    {
     "ename": "SyntaxError",
     "evalue": "invalid syntax (<ipython-input-6-56cdf4283a8e>, line 1)",
     "output_type": "error",
     "traceback": [
      "\u001b[1;36m  File \u001b[1;32m\"<ipython-input-6-56cdf4283a8e>\"\u001b[1;36m, line \u001b[1;32m1\u001b[0m\n\u001b[1;33m    txt = \"We are the so-called \"Vikings\" from the north.\"\u001b[0m\n\u001b[1;37m                                 ^\u001b[0m\n\u001b[1;31mSyntaxError\u001b[0m\u001b[1;31m:\u001b[0m invalid syntax\n"
     ]
    }
   ],
   "source": [
    "txt = \"We are the so-called \"Vikings\" from the north.\""
   ]
  },
  {
   "cell_type": "code",
   "execution_count": 7,
   "id": "131b53a4",
   "metadata": {},
   "outputs": [],
   "source": [
    "txt = \"We are the so-called 'Vikings' from the north.\""
   ]
  },
  {
   "cell_type": "code",
   "execution_count": 8,
   "id": "f0740e22",
   "metadata": {},
   "outputs": [
    {
     "data": {
      "text/plain": [
       "\"We are the so-called 'Vikings' from the north.\""
      ]
     },
     "execution_count": 8,
     "metadata": {},
     "output_type": "execute_result"
    }
   ],
   "source": [
    "txt"
   ]
  },
  {
   "cell_type": "code",
   "execution_count": 23,
   "id": "37e2ca41",
   "metadata": {},
   "outputs": [],
   "source": [
    "txt = \"We are the so-called \\\"Vikings\\\" from the north.\"   # Escape character before \"\""
   ]
  },
  {
   "cell_type": "code",
   "execution_count": 24,
   "id": "3ed58840",
   "metadata": {},
   "outputs": [
    {
     "name": "stdout",
     "output_type": "stream",
     "text": [
      "We are the so-called \"Vikings\" from the north.\n"
     ]
    }
   ],
   "source": [
    "print(txt)"
   ]
  },
  {
   "cell_type": "code",
   "execution_count": 13,
   "id": "93b1785f",
   "metadata": {},
   "outputs": [],
   "source": [
    "text = \"We are the so-called \\\\\""
   ]
  },
  {
   "cell_type": "code",
   "execution_count": 14,
   "id": "165c8aaa",
   "metadata": {},
   "outputs": [
    {
     "data": {
      "text/plain": [
       "'We are the so-called \\\\'"
      ]
     },
     "execution_count": 14,
     "metadata": {},
     "output_type": "execute_result"
    }
   ],
   "source": [
    "text"
   ]
  },
  {
   "cell_type": "code",
   "execution_count": 27,
   "id": "770eba07",
   "metadata": {},
   "outputs": [],
   "source": [
    "txt = \"This will insert one \\\\ (backslash).\""
   ]
  },
  {
   "cell_type": "code",
   "execution_count": 28,
   "id": "bd31c524",
   "metadata": {},
   "outputs": [
    {
     "name": "stdout",
     "output_type": "stream",
     "text": [
      "This will insert one \\ (backslash).\n"
     ]
    }
   ],
   "source": [
    "print(txt)"
   ]
  },
  {
   "cell_type": "code",
   "execution_count": 29,
   "id": "1df3fb98",
   "metadata": {},
   "outputs": [
    {
     "data": {
      "text/plain": [
       "'This will insert one \\\\ (backslash).'"
      ]
     },
     "execution_count": 29,
     "metadata": {},
     "output_type": "execute_result"
    }
   ],
   "source": [
    "txt"
   ]
  },
  {
   "cell_type": "code",
   "execution_count": 30,
   "id": "fa60fb69",
   "metadata": {},
   "outputs": [],
   "source": [
    "txt1 = \"Hello\\nWorld\""
   ]
  },
  {
   "cell_type": "code",
   "execution_count": 31,
   "id": "ac6f090c",
   "metadata": {},
   "outputs": [
    {
     "data": {
      "text/plain": [
       "'Hello\\nWorld'"
      ]
     },
     "execution_count": 31,
     "metadata": {},
     "output_type": "execute_result"
    }
   ],
   "source": [
    "txt1"
   ]
  },
  {
   "cell_type": "code",
   "execution_count": 32,
   "id": "3242c671",
   "metadata": {},
   "outputs": [
    {
     "name": "stdout",
     "output_type": "stream",
     "text": [
      "Hello\n",
      "World\n"
     ]
    }
   ],
   "source": [
    "print(txt1)"
   ]
  },
  {
   "cell_type": "code",
   "execution_count": 33,
   "id": "20760829",
   "metadata": {},
   "outputs": [
    {
     "name": "stdout",
     "output_type": "stream",
     "text": [
      "banana               is my favorite fruit.\n"
     ]
    }
   ],
   "source": [
    "txt = \"banana\"\n",
    "\n",
    "x = txt.ljust(20)\n",
    "\n",
    "print(x, \"is my favorite fruit.\")"
   ]
  },
  {
   "cell_type": "code",
   "execution_count": 34,
   "id": "a4eb8e64",
   "metadata": {},
   "outputs": [
    {
     "name": "stdout",
     "output_type": "stream",
     "text": [
      "              banana is my favorite fruit.\n"
     ]
    }
   ],
   "source": [
    "txt = \"banana\"\n",
    "\n",
    "x = txt.rjust(20)\n",
    "\n",
    "print(x, \"is my favorite fruit.\")"
   ]
  },
  {
   "cell_type": "code",
   "execution_count": 37,
   "id": "2a02c851",
   "metadata": {},
   "outputs": [
    {
     "data": {
      "text/plain": [
       "'************************************* RAM **************************************'"
      ]
     },
     "execution_count": 37,
     "metadata": {},
     "output_type": "execute_result"
    }
   ],
   "source": [
    "str3 = \" RAM \"\n",
    "str3.center(80,\"*\")"
   ]
  },
  {
   "cell_type": "code",
   "execution_count": 36,
   "id": "c361d56d",
   "metadata": {},
   "outputs": [
    {
     "data": {
      "text/plain": [
       "'                                      RAM                                       '"
      ]
     },
     "execution_count": 36,
     "metadata": {},
     "output_type": "execute_result"
    }
   ],
   "source": [
    "str4 = \"RAM\"\n",
    "str4.center(80)"
   ]
  },
  {
   "cell_type": "code",
   "execution_count": 44,
   "id": "431a95d3",
   "metadata": {},
   "outputs": [
    {
     "name": "stdout",
     "output_type": "stream",
     "text": [
      "True\n",
      "True\n"
     ]
    }
   ],
   "source": [
    "print(bool(\"Hello\"))\n",
    "print(bool(\"**\\(\\)\"))"
   ]
  },
  {
   "cell_type": "code",
   "execution_count": 45,
   "id": "4349a020",
   "metadata": {},
   "outputs": [],
   "source": [
    "b = \"**\\(\\)\""
   ]
  },
  {
   "cell_type": "code",
   "execution_count": 46,
   "id": "0a28dbbe",
   "metadata": {},
   "outputs": [
    {
     "data": {
      "text/plain": [
       "str"
      ]
     },
     "execution_count": 46,
     "metadata": {},
     "output_type": "execute_result"
    }
   ],
   "source": [
    "type(b)"
   ]
  },
  {
   "cell_type": "code",
   "execution_count": 47,
   "id": "a9c424f4",
   "metadata": {},
   "outputs": [
    {
     "data": {
      "text/plain": [
       "False"
      ]
     },
     "execution_count": 47,
     "metadata": {},
     "output_type": "execute_result"
    }
   ],
   "source": [
    "bool(0)"
   ]
  },
  {
   "cell_type": "code",
   "execution_count": 48,
   "id": "6285a314",
   "metadata": {},
   "outputs": [
    {
     "data": {
      "text/plain": [
       "False"
      ]
     },
     "execution_count": 48,
     "metadata": {},
     "output_type": "execute_result"
    }
   ],
   "source": [
    "bool()"
   ]
  },
  {
   "cell_type": "code",
   "execution_count": 49,
   "id": "cdb26df6",
   "metadata": {},
   "outputs": [
    {
     "data": {
      "text/plain": [
       "False"
      ]
     },
     "execution_count": 49,
     "metadata": {},
     "output_type": "execute_result"
    }
   ],
   "source": [
    "bool([])"
   ]
  },
  {
   "cell_type": "code",
   "execution_count": 50,
   "id": "2a2035fd",
   "metadata": {},
   "outputs": [
    {
     "data": {
      "text/plain": [
       "False"
      ]
     },
     "execution_count": 50,
     "metadata": {},
     "output_type": "execute_result"
    }
   ],
   "source": [
    "bool(())"
   ]
  },
  {
   "cell_type": "code",
   "execution_count": 51,
   "id": "d86578fe",
   "metadata": {},
   "outputs": [],
   "source": [
    "# Divison of 5/2 ?? I want output with qutionet, Reminder"
   ]
  },
  {
   "cell_type": "code",
   "execution_count": 52,
   "id": "d46938ee",
   "metadata": {},
   "outputs": [
    {
     "data": {
      "text/plain": [
       "2.5"
      ]
     },
     "execution_count": 52,
     "metadata": {},
     "output_type": "execute_result"
    }
   ],
   "source": [
    "5/2  # / gives you Quotient"
   ]
  },
  {
   "cell_type": "code",
   "execution_count": 53,
   "id": "fec6b09e",
   "metadata": {},
   "outputs": [
    {
     "data": {
      "text/plain": [
       "1"
      ]
     },
     "execution_count": 53,
     "metadata": {},
     "output_type": "execute_result"
    }
   ],
   "source": [
    "5%2  # % gives you reminder"
   ]
  },
  {
   "cell_type": "code",
   "execution_count": 54,
   "id": "e2019b9e",
   "metadata": {},
   "outputs": [
    {
     "data": {
      "text/plain": [
       "2"
      ]
     },
     "execution_count": 54,
     "metadata": {},
     "output_type": "execute_result"
    }
   ],
   "source": [
    "5//2  # Rounded of quotient"
   ]
  },
  {
   "cell_type": "code",
   "execution_count": 55,
   "id": "ef5f926c",
   "metadata": {},
   "outputs": [
    {
     "data": {
      "text/plain": [
       "8"
      ]
     },
     "execution_count": 55,
     "metadata": {},
     "output_type": "execute_result"
    }
   ],
   "source": [
    "2 ** 3 # ** is power"
   ]
  },
  {
   "cell_type": "code",
   "execution_count": 56,
   "id": "c334e5d0",
   "metadata": {},
   "outputs": [],
   "source": [
    "a = 2\n",
    "b = 3"
   ]
  },
  {
   "cell_type": "code",
   "execution_count": 57,
   "id": "b49a040a",
   "metadata": {},
   "outputs": [
    {
     "data": {
      "text/plain": [
       "False"
      ]
     },
     "execution_count": 57,
     "metadata": {},
     "output_type": "execute_result"
    }
   ],
   "source": [
    "a is b"
   ]
  },
  {
   "cell_type": "code",
   "execution_count": 58,
   "id": "a03f4767",
   "metadata": {},
   "outputs": [
    {
     "data": {
      "text/plain": [
       "True"
      ]
     },
     "execution_count": 58,
     "metadata": {},
     "output_type": "execute_result"
    }
   ],
   "source": [
    "a is not b"
   ]
  },
  {
   "cell_type": "code",
   "execution_count": 59,
   "id": "056b1967",
   "metadata": {},
   "outputs": [
    {
     "data": {
      "text/plain": [
       "False"
      ]
     },
     "execution_count": 59,
     "metadata": {},
     "output_type": "execute_result"
    }
   ],
   "source": [
    "a == b"
   ]
  },
  {
   "cell_type": "code",
   "execution_count": 60,
   "id": "b7adb8b2",
   "metadata": {},
   "outputs": [
    {
     "data": {
      "text/plain": [
       "True"
      ]
     },
     "execution_count": 60,
     "metadata": {},
     "output_type": "execute_result"
    }
   ],
   "source": [
    "a != b"
   ]
  },
  {
   "cell_type": "code",
   "execution_count": 61,
   "id": "3830a8f4",
   "metadata": {},
   "outputs": [],
   "source": [
    "str2 = \"This is the 4th Python class\""
   ]
  },
  {
   "cell_type": "code",
   "execution_count": 62,
   "id": "8db72414",
   "metadata": {},
   "outputs": [
    {
     "data": {
      "text/plain": [
       "True"
      ]
     },
     "execution_count": 62,
     "metadata": {},
     "output_type": "execute_result"
    }
   ],
   "source": [
    "\"4\" in str2"
   ]
  },
  {
   "cell_type": "code",
   "execution_count": 63,
   "id": "95cc633b",
   "metadata": {},
   "outputs": [
    {
     "data": {
      "text/plain": [
       "False"
      ]
     },
     "execution_count": 63,
     "metadata": {},
     "output_type": "execute_result"
    }
   ],
   "source": [
    "\"hello\" in str2"
   ]
  },
  {
   "cell_type": "code",
   "execution_count": 64,
   "id": "4f38cbcb",
   "metadata": {},
   "outputs": [
    {
     "data": {
      "text/plain": [
       "True"
      ]
     },
     "execution_count": 64,
     "metadata": {},
     "output_type": "execute_result"
    }
   ],
   "source": [
    "\"hello\" not in str2"
   ]
  },
  {
   "cell_type": "code",
   "execution_count": 65,
   "id": "6382dddb",
   "metadata": {},
   "outputs": [
    {
     "data": {
      "text/plain": [
       "1"
      ]
     },
     "execution_count": 65,
     "metadata": {},
     "output_type": "execute_result"
    }
   ],
   "source": [
    "5 & 3"
   ]
  },
  {
   "cell_type": "code",
   "execution_count": 66,
   "id": "a01e8cae",
   "metadata": {},
   "outputs": [
    {
     "data": {
      "text/plain": [
       "7"
      ]
     },
     "execution_count": 66,
     "metadata": {},
     "output_type": "execute_result"
    }
   ],
   "source": [
    "5 | 3"
   ]
  },
  {
   "cell_type": "code",
   "execution_count": null,
   "id": "c2236b12",
   "metadata": {},
   "outputs": [],
   "source": []
  }
 ],
 "metadata": {
  "kernelspec": {
   "display_name": "Python 3 (ipykernel)",
   "language": "python",
   "name": "python3"
  },
  "language_info": {
   "codemirror_mode": {
    "name": "ipython",
    "version": 3
   },
   "file_extension": ".py",
   "mimetype": "text/x-python",
   "name": "python",
   "nbconvert_exporter": "python",
   "pygments_lexer": "ipython3",
   "version": "3.9.7"
  }
 },
 "nbformat": 4,
 "nbformat_minor": 5
}
